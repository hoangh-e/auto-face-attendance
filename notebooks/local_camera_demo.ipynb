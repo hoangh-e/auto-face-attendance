{
 "cells": [
  {
   "cell_type": "markdown",
   "metadata": {
    "vscode": {
     "languageId": "raw"
    }
   },
   "source": [
    "# 🎥 AI Attendance System - Local Camera Demo\n",
    "\n",
    "**Real-time Camera Processing with Employee Folder Auto-Detection**\n",
    "\n",
    "Pipeline V1: SCRFD Detection + ArcFace Recognition + SQLite Database\n",
    "\n",
    "---\n",
    "\n",
    "## 🌟 Features\n",
    "\n",
    "✅ **Zero-Clone Setup**: Direct pip install, no git operations needed  \n",
    "✅ **Smart Employee Detection**: Auto-scan employee folders with face validation  \n",
    "✅ **Real-time Dashboard**: Live processing with performance overlay  \n",
    "✅ **Instant Notifications**: Local popup notifications for attendance events  \n",
    "✅ **Persistent Storage**: Local database with backup options  \n",
    "\n",
    "---\n"
   ]
  },
  {
   "cell_type": "markdown",
   "metadata": {
    "vscode": {
     "languageId": "raw"
    }
   },
   "source": [
    "## Cell 1: ⚡ Lightning Setup (No Git Required)\n",
    "\n",
    "**Direct pip install from PyPI/GitHub with automatic dependency resolution**\n"
   ]
  },
  {
   "cell_type": "code",
   "execution_count": 1,
   "metadata": {},
   "outputs": [
    {
     "name": "stdout",
     "output_type": "stream",
     "text": [
      "⚡ AI ATTENDANCE SYSTEM - LOCAL CAMERA DEMO\n",
      "==================================================\n",
      "🔍 ENVIRONMENT DETECTION:\n",
      "├─ Platform: Windows 11\n",
      "├─ Python: 3.12.8\n",
      "├─ Working Directory: k:\\Workspace\\BHK Research\\auto-face-attendance\\notebooks\n",
      "└─ Architecture: AMD64\n",
      "\n",
      "🚀 GPU DETECTION:\n",
      "├─ Status: ⚠️ CPU Only\n",
      "└─ Note: Install CUDA for better performance\n",
      "\n",
      "📦 INSTALLING DEPENDENCIES:\n",
      "├─ ✅ numpy (already installed)\n",
      "├─ ✅ pillow (already installed)\n",
      "├─ ✅ matplotlib (already installed)\n",
      "├─ ✅ pandas (already installed)\n",
      "├─ ✅ tqdm (already installed)\n",
      "├─ ✅ psutil (already installed)\n",
      "├─ ✅ ipywidgets (already installed)\n",
      "├─ ✅ plotly (already installed)\n",
      "├─ ✅ opencv-python (already installed)\n",
      "├─ ✅ scikit-learn (already installed)\n",
      "├─ ✅ torch (already installed)\n",
      "├─ ✅ torchvision (already installed)\n",
      "├─ ✅ insightface (already installed)\n",
      "\n",
      "📊 INSTALLATION SUMMARY:\n",
      "├─ Successful: 13/13\n",
      "├─ Failed: 0\n",
      "\n",
      "📂 DIRECTORY STRUCTURE:\n",
      "├─ Employees: k:\\Workspace\\BHK Research\\auto-face-attendance\\notebooks\\employees\n",
      "├─ Data: k:\\Workspace\\BHK Research\\auto-face-attendance\\notebooks\\data\n",
      "├─ Snapshots: k:\\Workspace\\BHK Research\\auto-face-attendance\\notebooks\\snapshots\n",
      "├─ Exports: k:\\Workspace\\BHK Research\\auto-face-attendance\\notebooks\\exports\n",
      "├─ Logs: k:\\Workspace\\BHK Research\\auto-face-attendance\\notebooks\\logs\n",
      "\n",
      "🎉 SETUP COMPLETED!\n",
      "├─ Installation success rate: 100.0%\n",
      "├─ Status: ✅ All packages installed successfully\n",
      "└─ Ready for AI processing!\n",
      "\n",
      "💡 NEXT STEPS:\n",
      "1. Add employee photos to employees/ folder\n",
      "2. Run Cell 2 to initialize AI system\n",
      "3. Restart kernel if you encounter import errors\n",
      "==================================================\n"
     ]
    }
   ],
   "source": [
    "# Cell 1: ⚡ Lightning Setup - IMPROVED VERSION\n",
    "# AI Attendance System - Local Camera Demo\n",
    "# Lightning Setup with Better Error Handling\n",
    "\n",
    "import sys\n",
    "import subprocess\n",
    "import time\n",
    "import os\n",
    "from pathlib import Path\n",
    "import platform\n",
    "import importlib\n",
    "import warnings\n",
    "warnings.filterwarnings('ignore')\n",
    "\n",
    "print(\"⚡ AI ATTENDANCE SYSTEM - LOCAL CAMERA DEMO\")\n",
    "print(\"=\" * 50)\n",
    "\n",
    "# Environment Detection\n",
    "print(\"🔍 ENVIRONMENT DETECTION:\")\n",
    "print(f\"├─ Platform: {platform.system()} {platform.release()}\")\n",
    "print(f\"├─ Python: {sys.version.split()[0]}\")\n",
    "print(f\"├─ Working Directory: {os.getcwd()}\")\n",
    "print(f\"└─ Architecture: {platform.machine()}\")\n",
    "\n",
    "# Function to install and verify packages\n",
    "def install_and_verify_package(package_name, import_name=None, timeout=120):\n",
    "    \"\"\"Install package and verify it can be imported\"\"\"\n",
    "    if import_name is None:\n",
    "        import_name = package_name.replace('-', '_')\n",
    "    \n",
    "    try:\n",
    "        # Try to import first\n",
    "        importlib.import_module(import_name)\n",
    "        print(f\"├─ ✅ {package_name} (already installed)\")\n",
    "        return True\n",
    "    except ImportError:\n",
    "        pass\n",
    "    \n",
    "    try:\n",
    "        # Install package\n",
    "        print(f\"├─ 🔄 Installing {package_name}...\")\n",
    "        result = subprocess.run([\n",
    "            sys.executable, '-m', 'pip', 'install', package_name, '-q', '--upgrade'\n",
    "        ], timeout=timeout, capture_output=True, text=True)\n",
    "        \n",
    "        if result.returncode == 0:\n",
    "            # Verify import after installation\n",
    "            try:\n",
    "                importlib.import_module(import_name)\n",
    "                print(f\"├─ ✅ {package_name} (installed successfully)\")\n",
    "                return True\n",
    "            except ImportError:\n",
    "                print(f\"├─ ⚠️ {package_name} (installed but import failed)\")\n",
    "                return False\n",
    "        else:\n",
    "            print(f\"├─ ❌ {package_name} (installation failed)\")\n",
    "            return False\n",
    "            \n",
    "    except subprocess.TimeoutExpired:\n",
    "        print(f\"├─ ⏰ {package_name} (timeout - may still be installing)\")\n",
    "        return False\n",
    "    except Exception as e:\n",
    "        print(f\"├─ ❌ {package_name} (error: {str(e)[:50]})\")\n",
    "        return False\n",
    "\n",
    "# GPU Detection\n",
    "print(\"\\n🚀 GPU DETECTION:\")\n",
    "try:\n",
    "    import torch\n",
    "    gpu_available = torch.cuda.is_available()\n",
    "    if gpu_available:\n",
    "        print(f\"├─ Status: ✅ CUDA Available\")\n",
    "        print(f\"├─ Device: {torch.cuda.get_device_name(0)}\")\n",
    "        print(f\"└─ Memory: {torch.cuda.get_device_properties(0).total_memory / 1024**3:.1f}GB\")\n",
    "    else:\n",
    "        print(f\"├─ Status: ⚠️ CPU Only\")\n",
    "        print(f\"└─ Note: Install CUDA for better performance\")\n",
    "except ImportError:\n",
    "    print(f\"├─ Status: 🔄 PyTorch not yet installed\")\n",
    "    gpu_available = False\n",
    "\n",
    "# Install packages with verification\n",
    "print(\"\\n📦 INSTALLING DEPENDENCIES:\")\n",
    "\n",
    "# Core packages for local demo - FIXED ORDER\n",
    "packages_to_install = [\n",
    "    # Basic packages first\n",
    "    ('numpy', 'numpy'),\n",
    "    ('pillow', 'PIL'),\n",
    "    ('matplotlib', 'matplotlib'),\n",
    "    ('pandas', 'pandas'),\n",
    "    ('tqdm', 'tqdm'),\n",
    "    ('psutil', 'psutil'),\n",
    "    ('ipywidgets', 'ipywidgets'),\n",
    "    ('plotly', 'plotly'),\n",
    "    \n",
    "    # Computer vision packages\n",
    "    ('opencv-python', 'cv2'),\n",
    "    ('scikit-learn', 'sklearn'),\n",
    "    \n",
    "    # AI/ML packages\n",
    "    ('torch', 'torch'),\n",
    "    ('torchvision', 'torchvision'),\n",
    "    ('insightface', 'insightface'),\n",
    "]\n",
    "\n",
    "successful_installations = 0\n",
    "failed_packages = []\n",
    "\n",
    "for package_name, import_name in packages_to_install:\n",
    "    if install_and_verify_package(package_name, import_name):\n",
    "        successful_installations += 1\n",
    "    else:\n",
    "        failed_packages.append(package_name)\n",
    "\n",
    "print(f\"\\n📊 INSTALLATION SUMMARY:\")\n",
    "print(f\"├─ Successful: {successful_installations}/{len(packages_to_install)}\")\n",
    "print(f\"├─ Failed: {len(failed_packages)}\")\n",
    "if failed_packages:\n",
    "    print(f\"└─ Failed packages: {', '.join(failed_packages)}\")\n",
    "\n",
    "# Create directory structure\n",
    "base_dir = Path.cwd()\n",
    "directories = {\n",
    "    'employees': base_dir / 'employees',\n",
    "    'data': base_dir / 'data', \n",
    "    'snapshots': base_dir / 'snapshots',\n",
    "    'exports': base_dir / 'exports',\n",
    "    'logs': base_dir / 'logs'\n",
    "}\n",
    "\n",
    "print(f\"\\n📂 DIRECTORY STRUCTURE:\")\n",
    "for name, path in directories.items():\n",
    "    path.mkdir(exist_ok=True)\n",
    "    print(f\"├─ {name.title()}: {path}\")\n",
    "\n",
    "# Create sample employee folder structure\n",
    "sample_employees_dir = directories['employees'] / \"_sample_structure\"\n",
    "sample_employees_dir.mkdir(exist_ok=True)\n",
    "\n",
    "readme_content = \"\"\"# Employee Registration Setup\n",
    "\n",
    "## Folder Structure:\n",
    "- employees/John_Doe/photo1.jpg, photo2.jpg, photo3.jpg\n",
    "- employees/Jane_Smith/image1.png, image2.png\n",
    "- employees/Michael_Johnson/face1.jpg, face2.jpg\n",
    "\n",
    "## Requirements:\n",
    "- 1-5 clear face photos per employee\n",
    "- Good lighting and frontal face view\n",
    "- Supported formats: .jpg, .jpeg, .png\n",
    "- Minimum resolution: 200x200 pixels\n",
    "\n",
    "## Naming Convention:\n",
    "- Folder name = Employee name with underscores\n",
    "- Examples: John_Doe, Jane_Smith, Michael_Johnson\n",
    "\"\"\"\n",
    "\n",
    "with open(sample_employees_dir / \"README.md\", \"w\") as f:\n",
    "    f.write(readme_content)\n",
    "\n",
    "print(f\"\\n🎉 SETUP COMPLETED!\")\n",
    "print(f\"├─ Installation success rate: {successful_installations/len(packages_to_install)*100:.1f}%\")\n",
    "\n",
    "if len(failed_packages) == 0:\n",
    "    print(f\"├─ Status: ✅ All packages installed successfully\")\n",
    "    print(f\"└─ Ready for AI processing!\")\n",
    "else:\n",
    "    print(f\"├─ Status: ⚠️ Some packages failed - system may still work\")\n",
    "    print(f\"└─ Manual install failed packages: pip install {' '.join(failed_packages)}\")\n",
    "\n",
    "print(\"\\n💡 NEXT STEPS:\")\n",
    "print(\"1. Add employee photos to employees/ folder\")\n",
    "print(\"2. Run Cell 2 to initialize AI system\")\n",
    "print(\"3. Restart kernel if you encounter import errors\")\n",
    "print(\"=\" * 50)"
   ]
  },
  {
   "cell_type": "markdown",
   "metadata": {
    "vscode": {
     "languageId": "raw"
    }
   },
   "source": [
    "## Cell 2: 🤖 AI System & Database Setup\n",
    "\n",
    "**Initialize AI models and local database for employee management**\n"
   ]
  },
  {
   "cell_type": "code",
   "execution_count": 2,
   "metadata": {},
   "outputs": [
    {
     "name": "stdout",
     "output_type": "stream",
     "text": [
      "🤖 AI SYSTEM & DATABASE SETUP\n",
      "===================================\n",
      "📦 LOADING REQUIRED MODULES:\n",
      "├─ ✅ Jupyter widgets\n",
      "├─ ✅ Plotly\n",
      "├─ ✅ InsightFace\n",
      "├─ ✅ Scikit-learn\n",
      "├─ ✅ PSUtil\n",
      "✅ Core modules loaded successfully\n",
      "\n",
      "🔄 INITIALIZING SYSTEMS:\n",
      "🔄 Initializing Local AI System...\n",
      "💻 CPU Mode: Slower but functional\n",
      "📦 Loading buffalo_s model pack...\n",
      "Applied providers: ['CPUExecutionProvider'], with options: {'CPUExecutionProvider': {}}\n",
      "find model: C:\\Users\\hoang/.insightface\\models\\buffalo_s\\1k3d68.onnx landmark_3d_68 ['None', 3, 192, 192] 0.0 1.0\n",
      "Applied providers: ['CPUExecutionProvider'], with options: {'CPUExecutionProvider': {}}\n",
      "find model: C:\\Users\\hoang/.insightface\\models\\buffalo_s\\2d106det.onnx landmark_2d_106 ['None', 3, 192, 192] 0.0 1.0\n",
      "Applied providers: ['CPUExecutionProvider'], with options: {'CPUExecutionProvider': {}}\n",
      "find model: C:\\Users\\hoang/.insightface\\models\\buffalo_s\\det_500m.onnx detection [1, 3, '?', '?'] 127.5 128.0\n",
      "Applied providers: ['CPUExecutionProvider'], with options: {'CPUExecutionProvider': {}}\n",
      "find model: C:\\Users\\hoang/.insightface\\models\\buffalo_s\\genderage.onnx genderage ['None', 3, 96, 96] 0.0 1.0\n",
      "Applied providers: ['CPUExecutionProvider'], with options: {'CPUExecutionProvider': {}}\n",
      "find model: C:\\Users\\hoang/.insightface\\models\\buffalo_s\\w600k_mbf.onnx recognition ['None', 3, 112, 112] 127.5 127.5\n",
      "set det-size: (640, 640)\n",
      "✅ buffalo_s loaded successfully!\n",
      "├─ ✅ AI System initialized\n",
      "🗄️ Local database: k:\\Workspace\\BHK Research\\auto-face-attendance\\notebooks\\data\\local_attendance.db\n",
      "├─ ✅ Database initialized\n",
      "└─ ✅ All systems ready!\n",
      "\n",
      "📊 Current Database Statistics:\n",
      "├─ Employees: 0\n",
      "├─ Total Logs: 0\n",
      "└─ Today's Logs: 0\n",
      "\n",
      "💡 EMPLOYEE FOLDER SETUP:\n",
      "1. Create folders in: k:\\Workspace\\BHK Research\\auto-face-attendance\\notebooks\\employees\n",
      "2. Folder structure: employees/John_Doe/photo1.jpg, photo2.jpg, ...\n",
      "3. Run the next cell to auto-scan and register employees\n",
      "===================================\n"
     ]
    }
   ],
   "source": [
    "# Cell 2: 🤖 AI System & Database Setup - IMPROVED VERSION\n",
    "# AI System & Database Setup with Better Error Handling\n",
    "\n",
    "import sys\n",
    "import importlib\n",
    "import warnings\n",
    "warnings.filterwarnings('ignore')\n",
    "\n",
    "print(\"🤖 AI SYSTEM & DATABASE SETUP\")\n",
    "print(\"=\" * 35)\n",
    "\n",
    "# Function to safely import modules\n",
    "def safe_import(module_name, package_name=None):\n",
    "    \"\"\"Safely import module with fallback installation\"\"\"\n",
    "    try:\n",
    "        return importlib.import_module(module_name)\n",
    "    except ImportError as e:\n",
    "        if package_name:\n",
    "            print(f\"⚠️ {module_name} not found, trying to install {package_name}...\")\n",
    "            try:\n",
    "                import subprocess\n",
    "                subprocess.check_call([sys.executable, '-m', 'pip', 'install', package_name, '-q'])\n",
    "                return importlib.import_module(module_name)\n",
    "            except:\n",
    "                print(f\"❌ Failed to install {package_name}\")\n",
    "                return None\n",
    "        else:\n",
    "            print(f\"❌ Failed to import {module_name}: {e}\")\n",
    "            return None\n",
    "\n",
    "# Import required modules with error handling\n",
    "print(\"📦 LOADING REQUIRED MODULES:\")\n",
    "\n",
    "# Core imports\n",
    "cv2 = safe_import('cv2', 'opencv-python')\n",
    "np = safe_import('numpy')\n",
    "pd = safe_import('pandas')\n",
    "plt = safe_import('matplotlib.pyplot')\n",
    "json = safe_import('json')\n",
    "sqlite3 = safe_import('sqlite3')\n",
    "time = safe_import('time')\n",
    "logging = safe_import('logging')\n",
    "\n",
    "# Standard library imports\n",
    "from datetime import datetime\n",
    "from typing import List, Dict, Optional\n",
    "from pathlib import Path\n",
    "from tqdm import tqdm\n",
    "import os\n",
    "\n",
    "# Additional imports\n",
    "try:\n",
    "    import ipywidgets as widgets\n",
    "    from IPython.display import display, clear_output, HTML\n",
    "    print(\"├─ ✅ Jupyter widgets\")\n",
    "except ImportError:\n",
    "    print(\"├─ ⚠️ Jupyter widgets not available\")\n",
    "\n",
    "try:\n",
    "    import plotly.graph_objects as go\n",
    "    import plotly.express as px\n",
    "    from plotly.subplots import make_subplots\n",
    "    print(\"├─ ✅ Plotly\")\n",
    "except ImportError:\n",
    "    print(\"├─ ⚠️ Plotly not available\")\n",
    "\n",
    "# AI and ML imports with fallbacks\n",
    "try:\n",
    "    import insightface\n",
    "    from insightface.app import FaceAnalysis\n",
    "    print(\"├─ ✅ InsightFace\")\n",
    "    INSIGHTFACE_AVAILABLE = True\n",
    "except ImportError:\n",
    "    print(\"├─ ❌ InsightFace not available - using mock system\")\n",
    "    INSIGHTFACE_AVAILABLE = False\n",
    "\n",
    "try:\n",
    "    from sklearn.metrics.pairwise import cosine_similarity\n",
    "    print(\"├─ ✅ Scikit-learn\")\n",
    "    SKLEARN_AVAILABLE = True\n",
    "except ImportError:\n",
    "    print(\"├─ ❌ Scikit-learn not available\")\n",
    "    SKLEARN_AVAILABLE = False\n",
    "\n",
    "try:\n",
    "    import psutil\n",
    "    print(\"├─ ✅ PSUtil\")\n",
    "except ImportError:\n",
    "    print(\"├─ ⚠️ PSUtil not available\")\n",
    "\n",
    "# Check critical dependencies\n",
    "critical_modules = [cv2, np, sqlite3, time]\n",
    "missing_critical = [i for i, module in enumerate(critical_modules) if module is None]\n",
    "\n",
    "if missing_critical:\n",
    "    print(f\"\\n❌ CRITICAL ERROR: Missing essential modules\")\n",
    "    print(\"Please restart kernel and run Cell 1 again, or install manually:\")\n",
    "    print(\"pip install opencv-python numpy\")\n",
    "    raise ImportError(\"Critical dependencies missing\")\n",
    "\n",
    "print(\"✅ Core modules loaded successfully\")\n",
    "\n",
    "# Directory setup\n",
    "base_dir = Path.cwd()\n",
    "employees_dir = base_dir / 'employees'\n",
    "data_dir = base_dir / 'data'\n",
    "snapshots_dir = base_dir / 'snapshots'\n",
    "exports_dir = base_dir / 'exports'\n",
    "\n",
    "# Initialize AI Models for Local Processing\n",
    "class LocalAISystem:\n",
    "    def __init__(self):\n",
    "        print(\"🔄 Initializing Local AI System...\")\n",
    "        self.app = None\n",
    "        self.performance_stats = {\n",
    "            'total_inferences': 0,\n",
    "            'avg_latency_ms': 0.0,\n",
    "            'total_time': 0.0\n",
    "        }\n",
    "        self.mock_mode = not INSIGHTFACE_AVAILABLE\n",
    "        \n",
    "        if self.mock_mode:\n",
    "            print(\"⚠️ Running in MOCK MODE (InsightFace not available)\")\n",
    "            self._init_mock_system()\n",
    "        else:\n",
    "            self._init_models()\n",
    "    \n",
    "    def _init_mock_system(self):\n",
    "        \"\"\"Initialize mock system for testing without InsightFace\"\"\"\n",
    "        print(\"🔧 Mock AI system initialized\")\n",
    "        print(\"├─ Face detection: Simulated\")\n",
    "        print(\"├─ Face recognition: Random embeddings\")\n",
    "        print(\"└─ Performance: Fast but not functional\")\n",
    "    \n",
    "    def _init_models(self):\n",
    "        try:\n",
    "            # Setup providers\n",
    "            try:\n",
    "                import torch\n",
    "                if torch.cuda.is_available():\n",
    "                    providers = ['CUDAExecutionProvider', 'CPUExecutionProvider']\n",
    "                    print(f\"🚀 GPU Mode: {torch.cuda.get_device_name(0)}\")\n",
    "                else:\n",
    "                    providers = ['CPUExecutionProvider']\n",
    "                    print(\"💻 CPU Mode: Slower but functional\")\n",
    "            except ImportError:\n",
    "                providers = ['CPUExecutionProvider']\n",
    "                print(\"💻 CPU Mode: PyTorch not available\")\n",
    "            \n",
    "            # Initialize with lighter model for local demo\n",
    "            model_pack = 'buffalo_s'  # Faster for local processing\n",
    "            print(f\"📦 Loading {model_pack} model pack...\")\n",
    "            \n",
    "            self.app = FaceAnalysis(name=model_pack, providers=providers)\n",
    "            ctx_id = 0 if 'CUDAExecutionProvider' in providers else -1\n",
    "            self.app.prepare(ctx_id=ctx_id, det_size=(640, 640), det_thresh=0.5)\n",
    "            \n",
    "            print(f\"✅ {model_pack} loaded successfully!\")\n",
    "            \n",
    "        except Exception as e:\n",
    "            print(f\"❌ Model loading failed: {e}\")\n",
    "            print(\"🔄 Falling back to mock mode...\")\n",
    "            self.mock_mode = True\n",
    "            self._init_mock_system()\n",
    "    \n",
    "    def detect_and_recognize(self, image):\n",
    "        \"\"\"Process image and return face data\"\"\"\n",
    "        start_time = time.time()\n",
    "        \n",
    "        if self.mock_mode:\n",
    "            # Mock implementation for testing\n",
    "            if image is not None and image.size > 0:\n",
    "                # Return mock face data\n",
    "                height, width = image.shape[:2]\n",
    "                mock_face = {\n",
    "                    'bbox': [width*0.3, height*0.2, width*0.7, height*0.8],\n",
    "                    'det_score': 0.95,\n",
    "                    'landmarks': None,\n",
    "                    'embedding': np.random.randn(512).astype(np.float32),\n",
    "                    'age': np.random.randint(20, 60),\n",
    "                    'gender': np.random.choice(['M', 'F'])\n",
    "                }\n",
    "                results = [mock_face]\n",
    "            else:\n",
    "                results = []\n",
    "        else:\n",
    "            try:\n",
    "                faces = self.app.get(image)\n",
    "                \n",
    "                results = []\n",
    "                for face in faces:\n",
    "                    result = {\n",
    "                        'bbox': face.bbox,\n",
    "                        'det_score': face.det_score,\n",
    "                        'landmarks': getattr(face, 'kps', None),\n",
    "                        'embedding': face.embedding,\n",
    "                        'age': getattr(face, 'age', None),\n",
    "                        'gender': getattr(face, 'gender', None)\n",
    "                    }\n",
    "                    results.append(result)\n",
    "            except Exception as e:\n",
    "                print(f\"AI processing error: {e}\")\n",
    "                results = []\n",
    "        \n",
    "        # Update performance stats\n",
    "        processing_time = (time.time() - start_time) * 1000\n",
    "        self.performance_stats['total_inferences'] += 1\n",
    "        self.performance_stats['total_time'] += processing_time\n",
    "        self.performance_stats['avg_latency_ms'] = (\n",
    "            self.performance_stats['total_time'] / \n",
    "            self.performance_stats['total_inferences']\n",
    "        )\n",
    "        \n",
    "        return results\n",
    "\n",
    "# Initialize Local Database\n",
    "class LocalDatabase:\n",
    "    def __init__(self, db_path=\"local_attendance.db\"):\n",
    "        self.db_path = data_dir / db_path\n",
    "        try:\n",
    "            self.conn = sqlite3.connect(str(self.db_path), check_same_thread=False)\n",
    "            self.conn.row_factory = sqlite3.Row\n",
    "            self._create_tables()\n",
    "            print(f\"🗄️ Local database: {self.db_path}\")\n",
    "        except Exception as e:\n",
    "            print(f\"❌ Database initialization failed: {e}\")\n",
    "            raise\n",
    "    \n",
    "    def _create_tables(self):\n",
    "        cursor = self.conn.cursor()\n",
    "        \n",
    "        # Employees table\n",
    "        cursor.execute(\"\"\"\n",
    "        CREATE TABLE IF NOT EXISTS employees (\n",
    "            id INTEGER PRIMARY KEY AUTOINCREMENT,\n",
    "            employee_code TEXT UNIQUE NOT NULL,\n",
    "            name TEXT NOT NULL,\n",
    "            email TEXT UNIQUE NOT NULL,\n",
    "            department TEXT,\n",
    "            position TEXT,\n",
    "            face_embeddings TEXT,\n",
    "            folder_path TEXT,\n",
    "            face_count INTEGER DEFAULT 0,\n",
    "            avg_quality REAL DEFAULT 0.0,\n",
    "            is_active BOOLEAN DEFAULT 1,\n",
    "            created_at TIMESTAMP DEFAULT CURRENT_TIMESTAMP\n",
    "        )\n",
    "        \"\"\")\n",
    "        \n",
    "        # Attendance logs\n",
    "        cursor.execute(\"\"\"\n",
    "        CREATE TABLE IF NOT EXISTS attendance_logs (\n",
    "            id INTEGER PRIMARY KEY AUTOINCREMENT,\n",
    "            employee_id INTEGER,\n",
    "            event_type TEXT NOT NULL,\n",
    "            timestamp TIMESTAMP NOT NULL,\n",
    "            confidence REAL NOT NULL,\n",
    "            snapshot_path TEXT,\n",
    "            created_at TIMESTAMP DEFAULT CURRENT_TIMESTAMP,\n",
    "            FOREIGN KEY (employee_id) REFERENCES employees (id)\n",
    "        )\n",
    "        \"\"\")\n",
    "        \n",
    "        self.conn.commit()\n",
    "    \n",
    "    def register_employee(self, employee_data, face_embeddings, folder_path):\n",
    "        \"\"\"Register employee with face embeddings\"\"\"\n",
    "        cursor = self.conn.cursor()\n",
    "        \n",
    "        try:\n",
    "            # Calculate average embedding\n",
    "            if face_embeddings:\n",
    "                avg_embedding = np.mean(face_embeddings, axis=0)\n",
    "                avg_quality = np.mean([self._calculate_quality(emb) for emb in face_embeddings])\n",
    "            else:\n",
    "                return None\n",
    "            \n",
    "            cursor.execute(\"\"\"\n",
    "            INSERT INTO employees \n",
    "            (employee_code, name, email, department, position, face_embeddings, \n",
    "             folder_path, face_count, avg_quality)\n",
    "            VALUES (?, ?, ?, ?, ?, ?, ?, ?, ?)\n",
    "            \"\"\", (\n",
    "                employee_data['employee_code'],\n",
    "                employee_data['name'],\n",
    "                employee_data['email'],\n",
    "                employee_data.get('department', ''),\n",
    "                employee_data.get('position', ''),\n",
    "                json.dumps(avg_embedding.tolist()),\n",
    "                str(folder_path),\n",
    "                len(face_embeddings),\n",
    "                avg_quality\n",
    "            ))\n",
    "            \n",
    "            employee_id = cursor.lastrowid\n",
    "            self.conn.commit()\n",
    "            \n",
    "            return employee_id\n",
    "            \n",
    "        except Exception as e:\n",
    "            self.conn.rollback()\n",
    "            print(f\"Registration error: {e}\")\n",
    "            return None\n",
    "    \n",
    "    def _calculate_quality(self, embedding):\n",
    "        \"\"\"Simple embedding quality metric\"\"\"\n",
    "        return min(np.linalg.norm(embedding) / 1.0, 1.0)\n",
    "    \n",
    "    def find_employee_by_embedding(self, query_embedding, threshold=0.65):\n",
    "        \"\"\"Find employee by face embedding\"\"\"\n",
    "        cursor = self.conn.cursor()\n",
    "        \n",
    "        cursor.execute(\"\"\"\n",
    "        SELECT id, employee_code, name, email, face_embeddings\n",
    "        FROM employees WHERE is_active = 1 AND face_embeddings IS NOT NULL\n",
    "        \"\"\")\n",
    "        \n",
    "        best_match = None\n",
    "        best_similarity = 0.0\n",
    "        \n",
    "        for row in cursor.fetchall():\n",
    "            try:\n",
    "                stored_embedding = np.array(json.loads(row['face_embeddings']))\n",
    "                \n",
    "                if SKLEARN_AVAILABLE:\n",
    "                    similarity = cosine_similarity(\n",
    "                        query_embedding.reshape(1, -1),\n",
    "                        stored_embedding.reshape(1, -1)\n",
    "                    )[0][0]\n",
    "                else:\n",
    "                    # Fallback similarity calculation\n",
    "                    similarity = np.dot(query_embedding, stored_embedding) / (\n",
    "                        np.linalg.norm(query_embedding) * np.linalg.norm(stored_embedding)\n",
    "                    )\n",
    "                \n",
    "                if similarity > best_similarity and similarity > threshold:\n",
    "                    best_similarity = similarity\n",
    "                    best_match = {\n",
    "                        'id': row['id'],\n",
    "                        'employee_code': row['employee_code'],\n",
    "                        'name': row['name'],\n",
    "                        'email': row['email'],\n",
    "                        'similarity': similarity\n",
    "                    }\n",
    "            except:\n",
    "                continue\n",
    "        \n",
    "        return best_match\n",
    "    \n",
    "    def record_attendance(self, employee_id, event_type, confidence, snapshot_path=None):\n",
    "        \"\"\"Record attendance event\"\"\"\n",
    "        timestamp = datetime.now().strftime('%Y-%m-%d %H:%M:%S')\n",
    "        \n",
    "        cursor = self.conn.cursor()\n",
    "        cursor.execute(\"\"\"\n",
    "        INSERT INTO attendance_logs (employee_id, event_type, timestamp, confidence, snapshot_path)\n",
    "        VALUES (?, ?, ?, ?, ?)\n",
    "        \"\"\", (employee_id, event_type, timestamp, confidence, snapshot_path))\n",
    "        \n",
    "        self.conn.commit()\n",
    "        return cursor.lastrowid\n",
    "    \n",
    "    def get_statistics(self):\n",
    "        \"\"\"Get database statistics\"\"\"\n",
    "        cursor = self.conn.cursor()\n",
    "        \n",
    "        stats = {}\n",
    "        \n",
    "        cursor.execute(\"SELECT COUNT(*) FROM employees WHERE is_active = 1\")\n",
    "        stats['total_employees'] = cursor.fetchone()[0]\n",
    "        \n",
    "        cursor.execute(\"SELECT COUNT(*) FROM attendance_logs\")\n",
    "        stats['total_logs'] = cursor.fetchone()[0]\n",
    "        \n",
    "        cursor.execute(\"\"\"\n",
    "        SELECT COUNT(*) FROM attendance_logs \n",
    "        WHERE DATE(timestamp) = DATE('now')\n",
    "        \"\"\")\n",
    "        stats['today_logs'] = cursor.fetchone()[0]\n",
    "        \n",
    "        return stats\n",
    "\n",
    "# Initialize systems with error handling\n",
    "print(\"\\n🔄 INITIALIZING SYSTEMS:\")\n",
    "\n",
    "try:\n",
    "    ai_system = LocalAISystem()\n",
    "    print(\"├─ ✅ AI System initialized\")\n",
    "except Exception as e:\n",
    "    print(f\"├─ ❌ AI System failed: {e}\")\n",
    "    ai_system = None\n",
    "\n",
    "try:\n",
    "    db = LocalDatabase()\n",
    "    print(\"├─ ✅ Database initialized\")\n",
    "except Exception as e:\n",
    "    print(f\"├─ ❌ Database failed: {e}\")\n",
    "    db = None\n",
    "\n",
    "if ai_system and db:\n",
    "    print(\"└─ ✅ All systems ready!\")\n",
    "    \n",
    "    print(\"\\n📊 Current Database Statistics:\")\n",
    "    stats = db.get_statistics()\n",
    "    print(f\"├─ Employees: {stats['total_employees']}\")\n",
    "    print(f\"├─ Total Logs: {stats['total_logs']}\")\n",
    "    print(f\"└─ Today's Logs: {stats['today_logs']}\")\n",
    "    \n",
    "    if ai_system.mock_mode:\n",
    "        print(\"\\n⚠️ IMPORTANT: Running in MOCK MODE\")\n",
    "        print(\"├─ Face detection/recognition simulated\")\n",
    "        print(\"├─ Install 'insightface' for real AI functionality\")\n",
    "        print(\"└─ Current setup good for testing workflow\")\n",
    "else:\n",
    "    print(\"└─ ❌ System initialization incomplete\")\n",
    "\n",
    "print(\"\\n💡 EMPLOYEE FOLDER SETUP:\")\n",
    "print(f\"1. Create folders in: {employees_dir}\")\n",
    "print(f\"2. Folder structure: employees/John_Doe/photo1.jpg, photo2.jpg, ...\")\n",
    "print(f\"3. Run the next cell to auto-scan and register employees\")\n",
    "print(\"=\" * 35)"
   ]
  },
  {
   "cell_type": "markdown",
   "metadata": {
    "vscode": {
     "languageId": "raw"
    }
   },
   "source": [
    "## Cell 3: 📁 Employee Registration & Camera Setup\n",
    "\n",
    "**Smart employee folder scanning and camera initialization**\n"
   ]
  },
  {
   "cell_type": "code",
   "execution_count": 3,
   "metadata": {},
   "outputs": [
    {
     "name": "stdout",
     "output_type": "stream",
     "text": [
      "📁 EMPLOYEE REGISTRATION & CAMERA SETUP\n",
      "=============================================\n",
      "\n",
      "🔄 INITIALIZING MANAGERS:\n",
      "├─ ✅ Employee Manager ready\n",
      "├─ ✅ Camera Manager ready\n",
      "└─ Manager initialization completed\n",
      "\n",
      "🎯 AVAILABLE ACTIONS:\n",
      "📁 Employee Management:\n",
      "├─ employee_manager.scan_employee_folders()\n",
      "├─ employee_manager.manual_add_employee('Name', 'path/to/folder')\n",
      "└─ Check employees/ folder structure\n",
      "\n",
      "📷 Camera Management:\n",
      "├─ camera_manager.detect_cameras()\n",
      "├─ camera_manager.initialize_camera(0)\n",
      "├─ camera_manager.test_camera_functionality(0)\n",
      "└─ camera_manager.start_camera_thread()\n",
      "\n",
      "💡 RECOMMENDED WORKFLOW:\n",
      "1. First: employee_manager.scan_employee_folders()\n",
      "2. Then: camera_manager.detect_cameras()\n",
      "3. Finally: Run Cell 4 for real-time processing\n",
      "=============================================\n"
     ]
    }
   ],
   "source": [
    "# Cell 3: 📁 Employee Registration & Camera Setup - IMPROVED VERSION\n",
    "# Employee Registration & Camera Setup with Enhanced Error Handling\n",
    "\n",
    "import os\n",
    "import glob\n",
    "from pathlib import Path\n",
    "import threading\n",
    "import queue\n",
    "import time\n",
    "from collections import defaultdict\n",
    "import platform\n",
    "\n",
    "print(\"📁 EMPLOYEE REGISTRATION & CAMERA SETUP\")\n",
    "print(\"=\" * 45)\n",
    "\n",
    "class LocalEmployeeManager:\n",
    "    \"\"\"Smart employee folder scanning and registration with error handling\"\"\"\n",
    "    \n",
    "    def __init__(self, ai_system, database):\n",
    "        self.ai_system = ai_system\n",
    "        self.db = database\n",
    "        self.registered_employees = {}\n",
    "        self.scan_results = []\n",
    "        \n",
    "        # Check system availability\n",
    "        if ai_system is None or database is None:\n",
    "            print(\"❌ AI System or Database not available\")\n",
    "            print(\"Please run Cell 2 successfully first\")\n",
    "            self.available = False\n",
    "        else:\n",
    "            self.available = True\n",
    "    \n",
    "    def scan_employee_folders(self, auto_register=True):\n",
    "        \"\"\"Scan and optionally auto-register employees from folders\"\"\"\n",
    "        if not self.available:\n",
    "            print(\"❌ System not available - check Cell 2\")\n",
    "            return\n",
    "            \n",
    "        print(f\"🔍 Scanning employee folders in: {employees_dir}\")\n",
    "        \n",
    "        if not employees_dir.exists():\n",
    "            employees_dir.mkdir(parents=True, exist_ok=True)\n",
    "            print(f\"✅ Created employees directory: {employees_dir}\")\n",
    "            self._create_sample_instructions()\n",
    "            return\n",
    "        \n",
    "        # Find employee folders (ignore hidden and sample folders)\n",
    "        employee_folders = [f for f in employees_dir.iterdir() \n",
    "                           if f.is_dir() \n",
    "                           and not f.name.startswith('.') \n",
    "                           and not f.name.startswith('_')]\n",
    "        \n",
    "        if not employee_folders:\n",
    "            print(\"⚠️ No employee folders found\")\n",
    "            self._create_sample_instructions()\n",
    "            return\n",
    "        \n",
    "        print(f\"📁 Found {len(employee_folders)} employee folders:\")\n",
    "        for folder in employee_folders:\n",
    "            print(f\"  ├─ {folder.name}\")\n",
    "        \n",
    "        # Process each folder with progress tracking\n",
    "        total_registered = 0\n",
    "        self.scan_results.clear()\n",
    "        \n",
    "        print(f\"\\n🔄 Processing employee folders...\")\n",
    "        \n",
    "        for folder in tqdm(employee_folders, desc=\"Processing employees\"):\n",
    "            try:\n",
    "                result = self._process_employee_folder(folder, auto_register)\n",
    "                if result:\n",
    "                    self.scan_results.append(result)\n",
    "                    if result['registered']:\n",
    "                        total_registered += 1\n",
    "            except Exception as e:\n",
    "                print(f\"❌ Error processing {folder.name}: {e}\")\n",
    "        \n",
    "        print(f\"\\n✅ Scan completed:\")\n",
    "        print(f\"├─ Folders processed: {len(employee_folders)}\")\n",
    "        print(f\"├─ Successfully registered: {total_registered}\")\n",
    "        print(f\"└─ Database employees: {self.db.get_statistics()['total_employees']}\")\n",
    "        \n",
    "        # Show summary table\n",
    "        if self.scan_results:\n",
    "            self._show_scan_summary()\n",
    "    \n",
    "    def _create_sample_instructions(self):\n",
    "        \"\"\"Create sample folder structure and instructions\"\"\"\n",
    "        print(\"💡 Creating sample employee folder structure...\")\n",
    "        \n",
    "        sample_folders = ['John_Doe', 'Jane_Smith', 'Michael_Johnson']\n",
    "        \n",
    "        for folder_name in sample_folders:\n",
    "            sample_folder = employees_dir / folder_name\n",
    "            sample_folder.mkdir(exist_ok=True)\n",
    "            \n",
    "            # Create README in each folder\n",
    "            readme_content = f\"\"\"# Employee: {folder_name.replace('_', ' ')}\n",
    "\n",
    "## Instructions:\n",
    "1. Add 1-5 clear photos of this employee\n",
    "2. Use formats: .jpg, .jpeg, .png\n",
    "3. Ensure good lighting and clear face view\n",
    "4. Avoid group photos - one person per photo\n",
    "\n",
    "## Example files:\n",
    "- photo1.jpg\n",
    "- photo2.jpg\n",
    "- headshot.png\n",
    "\"\"\"\n",
    "            with open(sample_folder / \"README.md\", \"w\") as f:\n",
    "                f.write(readme_content)\n",
    "        \n",
    "        print(f\"├─ Sample folders created: {', '.join(sample_folders)}\")\n",
    "        print(f\"└─ Add photos to these folders, then run this cell again\")\n",
    "    \n",
    "    def _process_employee_folder(self, folder_path, auto_register=True):\n",
    "        \"\"\"Process single employee folder with comprehensive error handling\"\"\"\n",
    "        employee_name = folder_path.name.replace('_', ' ').title()\n",
    "        \n",
    "        # Find image files\n",
    "        image_extensions = ['*.jpg', '*.jpeg', '*.png', '*.JPG', '*.JPEG', '*.PNG']\n",
    "        image_files = []\n",
    "        \n",
    "        for ext in image_extensions:\n",
    "            image_files.extend(folder_path.glob(ext))\n",
    "        \n",
    "        if not image_files:\n",
    "            print(f\"  ⚠️ {employee_name}: No images found\")\n",
    "            return {\n",
    "                'name': employee_name,\n",
    "                'folder_path': str(folder_path),\n",
    "                'total_images': 0,\n",
    "                'valid_images': 0,\n",
    "                'avg_quality': 0,\n",
    "                'registered': False,\n",
    "                'error': 'No images found'\n",
    "            }\n",
    "        \n",
    "        # Process images with error handling\n",
    "        face_embeddings = []\n",
    "        quality_scores = []\n",
    "        valid_images = 0\n",
    "        processing_errors = []\n",
    "        \n",
    "        for img_file in image_files:\n",
    "            try:\n",
    "                # Load image with error handling\n",
    "                image = cv2.imread(str(img_file))\n",
    "                if image is None:\n",
    "                    processing_errors.append(f\"Cannot read {img_file.name}\")\n",
    "                    continue\n",
    "                \n",
    "                # Check image size\n",
    "                if image.shape[0] < 100 or image.shape[1] < 100:\n",
    "                    processing_errors.append(f\"Image too small: {img_file.name}\")\n",
    "                    continue\n",
    "                \n",
    "                # Detect faces\n",
    "                faces = self.ai_system.detect_and_recognize(image)\n",
    "                \n",
    "                if len(faces) == 1:  # Exactly one face\n",
    "                    face_data = faces[0]\n",
    "                    \n",
    "                    # Quality threshold check\n",
    "                    det_score = face_data['det_score']\n",
    "                    if det_score > 0.6:  # Good quality threshold\n",
    "                        face_embeddings.append(face_data['embedding'])\n",
    "                        quality_scores.append(det_score)\n",
    "                        valid_images += 1\n",
    "                    else:\n",
    "                        processing_errors.append(f\"Low quality face in {img_file.name}\")\n",
    "                elif len(faces) == 0:\n",
    "                    processing_errors.append(f\"No face detected in {img_file.name}\")\n",
    "                else:\n",
    "                    processing_errors.append(f\"Multiple faces in {img_file.name}\")\n",
    "                \n",
    "            except Exception as e:\n",
    "                processing_errors.append(f\"Error processing {img_file.name}: {str(e)}\")\n",
    "                continue\n",
    "        \n",
    "        # Create result summary\n",
    "        result = {\n",
    "            'name': employee_name,\n",
    "            'folder_path': str(folder_path),\n",
    "            'total_images': len(image_files),\n",
    "            'valid_images': valid_images,\n",
    "            'avg_quality': np.mean(quality_scores) if quality_scores else 0,\n",
    "            'registered': False,\n",
    "            'employee_id': None,\n",
    "            'processing_errors': processing_errors\n",
    "        }\n",
    "        \n",
    "        # Auto-register if sufficient quality faces\n",
    "        if auto_register and len(face_embeddings) >= 1:\n",
    "            try:\n",
    "                employee_data = {\n",
    "                    'employee_code': employee_name.upper().replace(' ', '_'),\n",
    "                    'name': employee_name,\n",
    "                    'email': f\"{employee_name.lower().replace(' ', '.')}@company.com\",\n",
    "                    'department': 'Auto-Registered',\n",
    "                    'position': 'Employee'\n",
    "                }\n",
    "                \n",
    "                employee_id = self.db.register_employee(\n",
    "                    employee_data, face_embeddings, folder_path\n",
    "                )\n",
    "                \n",
    "                if employee_id:\n",
    "                    result['registered'] = True\n",
    "                    result['employee_id'] = employee_id\n",
    "                    self.registered_employees[employee_id] = result\n",
    "                    print(f\"  ✅ {employee_name}: Registered ({valid_images} faces, avg quality: {result['avg_quality']:.3f})\")\n",
    "                else:\n",
    "                    result['error'] = 'Database registration failed'\n",
    "                    print(f\"  ❌ {employee_name}: Registration failed\")\n",
    "            except Exception as e:\n",
    "                result['error'] = f'Registration error: {str(e)}'\n",
    "                print(f\"  ❌ {employee_name}: Registration error - {str(e)}\")\n",
    "        else:\n",
    "            reason = f\"Insufficient quality faces ({valid_images})\" if len(face_embeddings) < 1 else \"Auto-register disabled\"\n",
    "            result['error'] = reason\n",
    "            print(f\"  ⚠️ {employee_name}: {reason}\")\n",
    "        \n",
    "        return result\n",
    "    \n",
    "    def _show_scan_summary(self):\n",
    "        \"\"\"Show employee scan summary table\"\"\"\n",
    "        print(f\"\\n📋 EMPLOYEE SCAN SUMMARY\")\n",
    "        print(\"=\" * 80)\n",
    "        \n",
    "        # Create summary data\n",
    "        summary_data = []\n",
    "        for result in self.scan_results:\n",
    "            error_msg = result.get('error', '')\n",
    "            if len(error_msg) > 30:\n",
    "                error_msg = error_msg[:27] + \"...\"\n",
    "            \n",
    "            summary_data.append({\n",
    "                'Employee': result['name'],\n",
    "                'Total Images': result['total_images'],\n",
    "                'Valid Faces': result['valid_images'],\n",
    "                'Avg Quality': f\"{result['avg_quality']:.3f}\",\n",
    "                'Registered': '✅' if result['registered'] else '❌',\n",
    "                'Employee ID': result.get('employee_id') or 'N/A',\n",
    "                'Status': 'Success' if result['registered'] else error_msg\n",
    "            })\n",
    "        \n",
    "        # Display as formatted table\n",
    "        if summary_data:\n",
    "            df = pd.DataFrame(summary_data)\n",
    "            try:\n",
    "                display(HTML(df.to_html(index=False, escape=False)))\n",
    "            except:\n",
    "                # Fallback to simple print if HTML display fails\n",
    "                print(df.to_string(index=False))\n",
    "        \n",
    "        # Show detailed errors if any\n",
    "        error_details = []\n",
    "        for result in self.scan_results:\n",
    "            if result.get('processing_errors'):\n",
    "                error_details.append({\n",
    "                    'employee': result['name'],\n",
    "                    'errors': result['processing_errors']\n",
    "                })\n",
    "        \n",
    "        if error_details:\n",
    "            print(f\"\\n⚠️ DETAILED ERROR REPORT:\")\n",
    "            for detail in error_details:\n",
    "                print(f\"\\n{detail['employee']}:\")\n",
    "                for error in detail['errors']:\n",
    "                    print(f\"  ├─ {error}\")\n",
    "    \n",
    "    def manual_add_employee(self, name, folder_path):\n",
    "        \"\"\"Manually add employee from specific folder\"\"\"\n",
    "        if not self.available:\n",
    "            print(\"❌ System not available\")\n",
    "            return None\n",
    "            \n",
    "        folder = Path(folder_path)\n",
    "        if not folder.exists():\n",
    "            print(f\"❌ Folder not found: {folder_path}\")\n",
    "            return None\n",
    "        \n",
    "        print(f\"👤 Processing: {name}\")\n",
    "        result = self._process_employee_folder(folder, auto_register=True)\n",
    "        \n",
    "        if result and result['registered']:\n",
    "            print(f\"✅ Successfully registered: {name}\")\n",
    "            return result['employee_id']\n",
    "        else:\n",
    "            print(f\"❌ Failed to register: {name}\")\n",
    "            if result and result.get('error'):\n",
    "                print(f\"   Reason: {result['error']}\")\n",
    "            return None\n",
    "\n",
    "class LocalCameraManager:\n",
    "    \"\"\"Enhanced camera management for local demo with better error handling\"\"\"\n",
    "    \n",
    "    def __init__(self):\n",
    "        self.camera = None\n",
    "        self.camera_active = False\n",
    "        self.camera_thread = None\n",
    "        self.frame_queue = queue.Queue(maxsize=10)\n",
    "        self.latest_frame = None\n",
    "        self.camera_stats = {\n",
    "            'frames_captured': 0,\n",
    "            'frames_processed': 0,\n",
    "            'fps': 0,\n",
    "            'last_fps_time': time.time()\n",
    "        }\n",
    "        self.available_cameras = []\n",
    "    \n",
    "    def detect_cameras(self):\n",
    "        \"\"\"Detect available cameras with comprehensive testing\"\"\"\n",
    "        print(\"🔍 Detecting available cameras...\")\n",
    "        \n",
    "        self.available_cameras = []\n",
    "        \n",
    "        # Test different camera indices based on platform\n",
    "        max_cameras = 10 if platform.system() == \"Windows\" else 4\n",
    "        \n",
    "        for i in range(max_cameras):\n",
    "            try:\n",
    "                print(f\"  Testing camera {i}...\", end=\"\")\n",
    "                cap = cv2.VideoCapture(i)\n",
    "                \n",
    "                if cap.isOpened():\n",
    "                    # Try to read a frame\n",
    "                    ret, frame = cap.read()\n",
    "                    if ret and frame is not None and frame.size > 0:\n",
    "                        # Get camera properties\n",
    "                        width = int(cap.get(cv2.CAP_PROP_FRAME_WIDTH))\n",
    "                        height = int(cap.get(cv2.CAP_PROP_FRAME_HEIGHT))\n",
    "                        fps = cap.get(cv2.CAP_PROP_FPS)\n",
    "                        \n",
    "                        camera_info = {\n",
    "                            'index': i,\n",
    "                            'name': f'Camera {i}',\n",
    "                            'resolution': f'{width}x{height}',\n",
    "                            'fps': fps,\n",
    "                            'working': True,\n",
    "                            'test_frame_shape': frame.shape\n",
    "                        }\n",
    "                        \n",
    "                        self.available_cameras.append(camera_info)\n",
    "                        print(f\" ✅ {width}x{height} @ {fps:.1f} FPS\")\n",
    "                    else:\n",
    "                        print(f\" ❌ Cannot capture frame\")\n",
    "                else:\n",
    "                    print(f\" ❌ Cannot open\")\n",
    "                \n",
    "                cap.release()\n",
    "                \n",
    "            except Exception as e:\n",
    "                print(f\" ❌ Error: {str(e)[:30]}\")\n",
    "                continue\n",
    "        \n",
    "        print(f\"\\n📊 Camera Detection Results:\")\n",
    "        if self.available_cameras:\n",
    "            print(f\"├─ Found {len(self.available_cameras)} working cameras\")\n",
    "            for cam in self.available_cameras:\n",
    "                print(f\"├─ Camera {cam['index']}: {cam['resolution']} @ {cam['fps']:.1f} FPS\")\n",
    "            print(f\"└─ Ready for camera initialization\")\n",
    "        else:\n",
    "            print(f\"├─ No working cameras found\")\n",
    "            print(f\"├─ Possible solutions:\")\n",
    "            print(f\"│  ├─ Connect a USB webcam\")\n",
    "            print(f\"│  ├─ Check camera permissions\")\n",
    "            print(f\"│  ├─ Close other applications using camera\")\n",
    "            print(f\"│  └─ Restart computer if camera was recently connected\")\n",
    "            print(f\"└─ You can still test with image files\")\n",
    "        \n",
    "        return self.available_cameras\n",
    "    \n",
    "    def initialize_camera(self, camera_index=0):\n",
    "        \"\"\"Initialize specific camera with enhanced error handling\"\"\"\n",
    "        print(f\"📷 Initializing camera {camera_index}...\")\n",
    "        \n",
    "        # Check if camera was detected\n",
    "        if not any(cam['index'] == camera_index for cam in self.available_cameras):\n",
    "            print(f\"❌ Camera {camera_index} not in detected cameras list\")\n",
    "            print(f\"Available cameras: {[cam['index'] for cam in self.available_cameras]}\")\n",
    "            return False\n",
    "        \n",
    "        try:\n",
    "            # Clean up existing camera\n",
    "            if self.camera:\n",
    "                self.camera.release()\n",
    "            \n",
    "            # Initialize new camera\n",
    "            self.camera = cv2.VideoCapture(camera_index)\n",
    "            \n",
    "            if not self.camera.isOpened():\n",
    "                print(f\"❌ Cannot open camera {camera_index}\")\n",
    "                return False\n",
    "            \n",
    "            # Set optimal settings with error handling\n",
    "            settings = [\n",
    "                (cv2.CAP_PROP_FRAME_WIDTH, 640),\n",
    "                (cv2.CAP_PROP_FRAME_HEIGHT, 480),\n",
    "                (cv2.CAP_PROP_FPS, 30),\n",
    "                (cv2.CAP_PROP_BUFFERSIZE, 1)\n",
    "            ]\n",
    "            \n",
    "            for prop, value in settings:\n",
    "                try:\n",
    "                    self.camera.set(prop, value)\n",
    "                except:\n",
    "                    pass  # Some cameras don't support all properties\n",
    "            \n",
    "            # Test capture with multiple attempts\n",
    "            test_successful = False\n",
    "            for attempt in range(3):\n",
    "                ret, test_frame = self.camera.read()\n",
    "                if ret and test_frame is not None and test_frame.size > 0:\n",
    "                    test_successful = True\n",
    "                    break\n",
    "                time.sleep(0.1)\n",
    "            \n",
    "            if not test_successful:\n",
    "                print(f\"❌ Cannot capture test frame after 3 attempts\")\n",
    "                self.camera.release()\n",
    "                self.camera = None\n",
    "                return False\n",
    "            \n",
    "            # Get actual settings\n",
    "            actual_width = int(self.camera.get(cv2.CAP_PROP_FRAME_WIDTH))\n",
    "            actual_height = int(self.camera.get(cv2.CAP_PROP_FRAME_HEIGHT))\n",
    "            actual_fps = self.camera.get(cv2.CAP_PROP_FPS)\n",
    "            \n",
    "            print(f\"✅ Camera initialized successfully:\")\n",
    "            print(f\"├─ Resolution: {actual_width}x{actual_height}\")\n",
    "            print(f\"├─ Target FPS: {actual_fps}\")\n",
    "            print(f\"├─ Test frame shape: {test_frame.shape}\")\n",
    "            print(f\"└─ Status: Ready for capture\")\n",
    "            \n",
    "            return True\n",
    "            \n",
    "        except Exception as e:\n",
    "            print(f\"❌ Camera initialization error: {e}\")\n",
    "            if self.camera:\n",
    "                self.camera.release()\n",
    "                self.camera = None\n",
    "            return False\n",
    "    \n",
    "    def start_camera_thread(self):\n",
    "        \"\"\"Start threaded camera capture with error handling\"\"\"\n",
    "        if not self.camera or not self.camera.isOpened():\n",
    "            print(\"❌ Camera not initialized\")\n",
    "            return False\n",
    "        \n",
    "        if self.camera_active:\n",
    "            print(\"⚠️ Camera thread already running\")\n",
    "            return True\n",
    "        \n",
    "        try:\n",
    "            self.camera_active = True\n",
    "            self.camera_thread = threading.Thread(target=self._camera_capture_loop, daemon=True)\n",
    "            self.camera_thread.start()\n",
    "            \n",
    "            # Wait a moment and check if thread is working\n",
    "            time.sleep(0.5)\n",
    "            if self.camera_thread.is_alive():\n",
    "                print(\"🎥 Camera thread started successfully\")\n",
    "                return True\n",
    "            else:\n",
    "                print(\"❌ Camera thread failed to start\")\n",
    "                self.camera_active = False\n",
    "                return False\n",
    "                \n",
    "        except Exception as e:\n",
    "            print(f\"❌ Camera thread start error: {e}\")\n",
    "            self.camera_active = False\n",
    "            return False\n",
    "    \n",
    "    def _camera_capture_loop(self):\n",
    "        \"\"\"Camera capture loop with robust error handling\"\"\"\n",
    "        fps_counter = 0\n",
    "        fps_start_time = time.time()\n",
    "        consecutive_failures = 0\n",
    "        max_failures = 10\n",
    "        \n",
    "        print(\"🔄 Camera capture loop started\")\n",
    "        \n",
    "        while self.camera_active and self.camera and self.camera.isOpened():\n",
    "            try:\n",
    "                ret, frame = self.camera.read()\n",
    "                \n",
    "                if ret and frame is not None and frame.size > 0:\n",
    "                    self.latest_frame = frame.copy()\n",
    "                    self.camera_stats['frames_captured'] += 1\n",
    "                    consecutive_failures = 0\n",
    "                    \n",
    "                    # Update frame queue (non-blocking)\n",
    "                    try:\n",
    "                        self.frame_queue.put_nowait(frame)\n",
    "                    except queue.Full:\n",
    "                        # Remove oldest frame if queue is full\n",
    "                        try:\n",
    "                            self.frame_queue.get_nowait()\n",
    "                            self.frame_queue.put_nowait(frame)\n",
    "                        except queue.Empty:\n",
    "                            pass\n",
    "                    \n",
    "                    # Calculate FPS\n",
    "                    fps_counter += 1\n",
    "                    if fps_counter >= 30:  # Update every 30 frames\n",
    "                        current_time = time.time()\n",
    "                        elapsed = current_time - fps_start_time\n",
    "                        if elapsed > 0:\n",
    "                            self.camera_stats['fps'] = fps_counter / elapsed\n",
    "                        fps_counter = 0\n",
    "                        fps_start_time = current_time\n",
    "                \n",
    "                else:\n",
    "                    consecutive_failures += 1\n",
    "                    if consecutive_failures >= max_failures:\n",
    "                        print(f\"❌ Too many consecutive capture failures ({max_failures})\")\n",
    "                        break\n",
    "                \n",
    "                time.sleep(0.001)  # Small delay to prevent busy waiting\n",
    "                \n",
    "            except Exception as e:\n",
    "                consecutive_failures += 1\n",
    "                print(f\"❌ Camera capture error: {e}\")\n",
    "                if consecutive_failures >= max_failures:\n",
    "                    print(f\"❌ Too many capture errors, stopping camera thread\")\n",
    "                    break\n",
    "                time.sleep(0.1)  # Longer delay after error\n",
    "        \n",
    "        print(\"🛑 Camera capture loop ended\")\n",
    "        self.camera_active = False\n",
    "    \n",
    "    def get_latest_frame(self):\n",
    "        \"\"\"Get the most recent frame\"\"\"\n",
    "        return self.latest_frame\n",
    "    \n",
    "    def stop_camera(self):\n",
    "        \"\"\"Stop camera capture with cleanup\"\"\"\n",
    "        print(\"🛑 Stopping camera...\")\n",
    "        self.camera_active = False\n",
    "        \n",
    "        if self.camera_thread and self.camera_thread.is_alive():\n",
    "            self.camera_thread.join(timeout=3.0)\n",
    "            if self.camera_thread.is_alive():\n",
    "                print(\"⚠️ Camera thread did not stop gracefully\")\n",
    "        \n",
    "        if self.camera:\n",
    "            self.camera.release()\n",
    "            self.camera = None\n",
    "        \n",
    "        # Clear frame queue\n",
    "        while not self.frame_queue.empty():\n",
    "            try:\n",
    "                self.frame_queue.get_nowait()\n",
    "            except queue.Empty:\n",
    "                break\n",
    "        \n",
    "        print(\"✅ Camera stopped and cleaned up\")\n",
    "    \n",
    "    def get_camera_stats(self):\n",
    "        \"\"\"Get camera performance statistics\"\"\"\n",
    "        return self.camera_stats.copy()\n",
    "    \n",
    "    def test_camera_functionality(self, camera_index=0, duration_seconds=5):\n",
    "        \"\"\"Test camera functionality comprehensively\"\"\"\n",
    "        print(f\"🧪 Testing camera {camera_index} for {duration_seconds} seconds...\")\n",
    "        \n",
    "        if not self.initialize_camera(camera_index):\n",
    "            return False\n",
    "        \n",
    "        if not self.start_camera_thread():\n",
    "            return False\n",
    "        \n",
    "        start_time = time.time()\n",
    "        last_frame_count = 0\n",
    "        \n",
    "        try:\n",
    "            while time.time() - start_time < duration_seconds:\n",
    "                current_frame_count = self.camera_stats['frames_captured']\n",
    "                current_fps = self.camera_stats['fps']\n",
    "                \n",
    "                print(f\"\\r  Frames: {current_frame_count}, FPS: {current_fps:.1f}\", end=\"\")\n",
    "                time.sleep(0.5)\n",
    "            \n",
    "            final_frames = self.camera_stats['frames_captured']\n",
    "            final_fps = self.camera_stats['fps']\n",
    "            \n",
    "            print(f\"\\n✅ Camera test completed:\")\n",
    "            print(f\"├─ Total frames captured: {final_frames}\")\n",
    "            print(f\"├─ Average FPS: {final_fps:.1f}\")\n",
    "            print(f\"├─ Frame rate: {'Good' if final_fps > 15 else 'Low'}\")\n",
    "            print(f\"└─ Status: {'✅ Working' if final_frames > 10 else '❌ Issues detected'}\")\n",
    "            \n",
    "            return final_frames > 10\n",
    "            \n",
    "        except KeyboardInterrupt:\n",
    "            print(f\"\\n⏹️ Camera test interrupted\")\n",
    "            return False\n",
    "        finally:\n",
    "            self.stop_camera()\n",
    "\n",
    "# Initialize managers with availability checks\n",
    "print(\"\\n🔄 INITIALIZING MANAGERS:\")\n",
    "\n",
    "try:\n",
    "    employee_manager = LocalEmployeeManager(ai_system, db)\n",
    "    if employee_manager.available:\n",
    "        print(\"├─ ✅ Employee Manager ready\")\n",
    "    else:\n",
    "        print(\"├─ ❌ Employee Manager unavailable (check AI system and database)\")\n",
    "except Exception as e:\n",
    "    print(f\"├─ ❌ Employee Manager error: {e}\")\n",
    "    employee_manager = None\n",
    "\n",
    "try:\n",
    "    camera_manager = LocalCameraManager()\n",
    "    print(\"├─ ✅ Camera Manager ready\")\n",
    "except Exception as e:\n",
    "    print(f\"├─ ❌ Camera Manager error: {e}\")\n",
    "    camera_manager = None\n",
    "\n",
    "print(\"└─ Manager initialization completed\")\n",
    "\n",
    "print(\"\\n🎯 AVAILABLE ACTIONS:\")\n",
    "if employee_manager and employee_manager.available:\n",
    "    print(\"📁 Employee Management:\")\n",
    "    print(\"├─ employee_manager.scan_employee_folders()\")\n",
    "    print(\"├─ employee_manager.manual_add_employee('Name', 'path/to/folder')\")\n",
    "    print(\"└─ Check employees/ folder structure\")\n",
    "else:\n",
    "    print(\"❌ Employee management not available\")\n",
    "\n",
    "if camera_manager:\n",
    "    print(\"\\n📷 Camera Management:\")\n",
    "    print(\"├─ camera_manager.detect_cameras()\")\n",
    "    print(\"├─ camera_manager.initialize_camera(0)\")\n",
    "    print(\"├─ camera_manager.test_camera_functionality(0)\")\n",
    "    print(\"└─ camera_manager.start_camera_thread()\")\n",
    "else:\n",
    "    print(\"❌ Camera management not available\")\n",
    "\n",
    "print(\"\\n💡 RECOMMENDED WORKFLOW:\")\n",
    "print(\"1. First: employee_manager.scan_employee_folders()\")\n",
    "print(\"2. Then: camera_manager.detect_cameras()\")\n",
    "print(\"3. Finally: Run Cell 4 for real-time processing\")\n",
    "print(\"=\" * 45)"
   ]
  },
  {
   "cell_type": "markdown",
   "metadata": {
    "vscode": {
     "languageId": "raw"
    }
   },
   "source": [
    "## Cell 4: 🎥 Real-time Camera Processing\n",
    "\n",
    "**Live camera feed with attendance tracking and performance monitoring**\n"
   ]
  },
  {
   "cell_type": "code",
   "execution_count": 4,
   "metadata": {},
   "outputs": [
    {
     "name": "stdout",
     "output_type": "stream",
     "text": [
      "🎥 REAL-TIME CAMERA PROCESSING\n",
      "===================================\n",
      "\n",
      "🔄 INITIALIZING ATTENDANCE PROCESSOR:\n",
      "✅ Attendance Processor initialized\n",
      "✅ Attendance Processor initialized successfully\n",
      "\n",
      "🎯 REAL-TIME PROCESSING OPTIONS:\n",
      "📊 Main Functions:\n",
      "├─ processor.start_real_time_processing(duration_minutes=5)\n",
      "├─ processor.start_real_time_processing(duration_minutes=10, show_annotated_frames=True)\n",
      "├─ processor.stop_processing()\n",
      "└─ processor.export_session_data()\n",
      "\n",
      "📋 Analysis Functions:\n",
      "├─ processor.create_attendance_report()\n",
      "├─ processor.export_session_data(include_debug_info=True)\n",
      "└─ Check exports/ folder for saved data\n",
      "\n",
      "⚙️ Advanced Options:\n",
      "├─ processor.cooldown_period = 10  # Reduce cooldown to 10 seconds\n",
      "├─ processor.process_every_n_frames = 5  # Process every 5th frame\n",
      "└─ processor.display_update_interval = 1.0  # Update display every second\n",
      "\n",
      "💡 QUICK START GUIDE:\n",
      "1. Ensure employees are registered (Cell 3)\n",
      "2. Ensure camera is detected and working\n",
      "3. Run: processor.start_real_time_processing(duration_minutes=2)\n",
      "4. Watch for real-time recognition results\n",
      "5. Export data when finished\n",
      "\n",
      "⚠️ TROUBLESHOOTING:\n",
      "├─ Camera issues: Run camera_manager.detect_cameras()\n",
      "├─ No recognitions: Check employee registration quality\n",
      "├─ High errors: Check system resources and connections\n",
      "└─ Slow processing: Increase process_every_n_frames value\n",
      "===================================\n"
     ]
    }
   ],
   "source": [
    "# Cell 4: 🎥 Real-time Camera Processing - IMPROVED VERSION\n",
    "# Real-time Camera Processing with Enhanced Error Handling and Monitoring\n",
    "\n",
    "import cv2\n",
    "import numpy as np\n",
    "import time\n",
    "from collections import deque, defaultdict\n",
    "from datetime import datetime\n",
    "import threading\n",
    "import queue\n",
    "import json\n",
    "\n",
    "print(\"🎥 REAL-TIME CAMERA PROCESSING\")\n",
    "print(\"=\" * 35)\n",
    "\n",
    "class AttendanceProcessor:\n",
    "    \"\"\"Real-time attendance processing with comprehensive error handling\"\"\"\n",
    "    \n",
    "    def __init__(self, ai_system, database, camera_manager):\n",
    "        self.ai_system = ai_system\n",
    "        self.db = database\n",
    "        self.camera_manager = camera_manager\n",
    "        \n",
    "        # Check system availability\n",
    "        if not all([ai_system, database, camera_manager]):\n",
    "            print(\"❌ Required systems not available\")\n",
    "            self.available = False\n",
    "            return\n",
    "        \n",
    "        if hasattr(ai_system, 'mock_mode') and ai_system.mock_mode:\n",
    "            print(\"⚠️ Running with MOCK AI system - for testing only\")\n",
    "        \n",
    "        self.available = True\n",
    "        \n",
    "        # Processing settings\n",
    "        self.processing_active = False\n",
    "        self.process_every_n_frames = 3  # Process every 3rd frame for performance\n",
    "        self.frame_counter = 0\n",
    "        \n",
    "        # Recognition history and cooldown\n",
    "        self.recognition_history = deque(maxlen=100)\n",
    "        self.employee_cooldowns = {}  # employee_id -> last_recognition_time\n",
    "        self.cooldown_period = 30  # seconds\n",
    "        \n",
    "        # Statistics with error tracking\n",
    "        self.stats = {\n",
    "            'total_frames': 0,\n",
    "            'processed_frames': 0,\n",
    "            'faces_detected': 0,\n",
    "            'employees_recognized': 0,\n",
    "            'processing_times': deque(maxlen=50),\n",
    "            'session_start': time.time(),\n",
    "            'errors': {\n",
    "                'camera_errors': 0,\n",
    "                'ai_errors': 0,\n",
    "                'db_errors': 0,\n",
    "                'general_errors': 0\n",
    "            }\n",
    "        }\n",
    "        \n",
    "        # Attendance events\n",
    "        self.attendance_events = []\n",
    "        \n",
    "        # Display and monitoring\n",
    "        self.last_display_update = 0\n",
    "        self.display_update_interval = 2.0  # seconds\n",
    "        \n",
    "        print(\"✅ Attendance Processor initialized\")\n",
    "    \n",
    "    def start_real_time_processing(self, duration_minutes=5, display_video=False, \n",
    "                                  show_annotated_frames=False):\n",
    "        \"\"\"Start real-time attendance processing with enhanced monitoring\"\"\"\n",
    "        \n",
    "        if not self.available:\n",
    "            print(\"❌ Processor not available - check previous cells\")\n",
    "            return\n",
    "        \n",
    "        print(f\"🚀 Starting real-time processing for {duration_minutes} minutes...\")\n",
    "        \n",
    "        # Initialize camera if needed\n",
    "        if not self._ensure_camera_ready():\n",
    "            return\n",
    "        \n",
    "        # Reset statistics\n",
    "        self._reset_session_stats()\n",
    "        \n",
    "        print(\"📊 Processing started - Press Ctrl+C in notebook to stop early\")\n",
    "        print(\"=\" * 60)\n",
    "        \n",
    "        try:\n",
    "            end_time = time.time() + (duration_minutes * 60)\n",
    "            \n",
    "            while self.processing_active and time.time() < end_time:\n",
    "                try:\n",
    "                    # Get latest frame\n",
    "                    frame = self.camera_manager.get_latest_frame()\n",
    "                    \n",
    "                    if frame is not None:\n",
    "                        self.stats['total_frames'] += 1\n",
    "                        self.frame_counter += 1\n",
    "                        \n",
    "                        # Process frame (skip frames for performance)\n",
    "                        if self.frame_counter % self.process_every_n_frames == 0:\n",
    "                            self._process_frame_safe(frame)\n",
    "                        \n",
    "                        # Show annotated frame if requested\n",
    "                        if show_annotated_frames and hasattr(self, 'last_processed_frame'):\n",
    "                            self._display_annotated_frame()\n",
    "                        \n",
    "                        # Update display periodically\n",
    "                        current_time = time.time()\n",
    "                        if current_time - self.last_display_update >= self.display_update_interval:\n",
    "                            self._update_real_time_display()\n",
    "                            self.last_display_update = current_time\n",
    "                    else:\n",
    "                        # Handle camera disconnection\n",
    "                        self.stats['errors']['camera_errors'] += 1\n",
    "                        if self.stats['errors']['camera_errors'] > 10:\n",
    "                            print(\"❌ Too many camera errors - stopping processing\")\n",
    "                            break\n",
    "                    \n",
    "                    time.sleep(0.01)  # Small delay to prevent excessive CPU usage\n",
    "                    \n",
    "                except KeyboardInterrupt:\n",
    "                    print(\"\\n⏹️ Processing stopped by user (Ctrl+C)\")\n",
    "                    break\n",
    "                except Exception as e:\n",
    "                    self.stats['errors']['general_errors'] += 1\n",
    "                    print(f\"\\n❌ Processing error: {e}\")\n",
    "                    if self.stats['errors']['general_errors'] > 5:\n",
    "                        print(\"❌ Too many general errors - stopping processing\")\n",
    "                        break\n",
    "                    time.sleep(1)  # Brief pause after error\n",
    "            \n",
    "        except Exception as e:\n",
    "            print(f\"\\n❌ Fatal processing error: {e}\")\n",
    "        finally:\n",
    "            self.processing_active = False\n",
    "            self._cleanup_processing()\n",
    "            print(\"\\n📊 PROCESSING SUMMARY\")\n",
    "            self._show_session_summary()\n",
    "    \n",
    "    def _ensure_camera_ready(self):\n",
    "        \"\"\"Ensure camera is ready for processing\"\"\"\n",
    "        try:\n",
    "            # Check if camera is already running\n",
    "            if self.camera_manager.camera_active:\n",
    "                print(\"✅ Camera already active\")\n",
    "                return True\n",
    "            \n",
    "            # Detect cameras if not done\n",
    "            if not self.camera_manager.available_cameras:\n",
    "                print(\"🔍 Detecting cameras...\")\n",
    "                cameras = self.camera_manager.detect_cameras()\n",
    "                if not cameras:\n",
    "                    print(\"❌ No cameras detected\")\n",
    "                    print(\"💡 Connect a camera and run camera_manager.detect_cameras()\")\n",
    "                    return False\n",
    "            \n",
    "            # Initialize camera\n",
    "            if not self.camera_manager.camera:\n",
    "                print(\"📷 Initializing camera...\")\n",
    "                if not self.camera_manager.initialize_camera(0):\n",
    "                    print(\"❌ Camera initialization failed\")\n",
    "                    return False\n",
    "            \n",
    "            # Start camera thread\n",
    "            if not self.camera_manager.camera_active:\n",
    "                print(\"🎥 Starting camera thread...\")\n",
    "                if not self.camera_manager.start_camera_thread():\n",
    "                    print(\"❌ Camera thread start failed\")\n",
    "                    return False\n",
    "            \n",
    "            # Wait for first frame\n",
    "            print(\"⏳ Waiting for camera warm-up...\")\n",
    "            for i in range(10):  # Wait up to 5 seconds\n",
    "                if self.camera_manager.get_latest_frame() is not None:\n",
    "                    print(\"✅ Camera ready!\")\n",
    "                    return True\n",
    "                time.sleep(0.5)\n",
    "            \n",
    "            print(\"❌ Camera warm-up timeout\")\n",
    "            return False\n",
    "            \n",
    "        except Exception as e:\n",
    "            print(f\"❌ Camera setup error: {e}\")\n",
    "            return False\n",
    "    \n",
    "    def _reset_session_stats(self):\n",
    "        \"\"\"Reset statistics for new session\"\"\"\n",
    "        self.processing_active = True\n",
    "        self.stats = {\n",
    "            'total_frames': 0,\n",
    "            'processed_frames': 0,\n",
    "            'faces_detected': 0,\n",
    "            'employees_recognized': 0,\n",
    "            'processing_times': deque(maxlen=50),\n",
    "            'session_start': time.time(),\n",
    "            'errors': {\n",
    "                'camera_errors': 0,\n",
    "                'ai_errors': 0,\n",
    "                'db_errors': 0,\n",
    "                'general_errors': 0\n",
    "            }\n",
    "        }\n",
    "        self.attendance_events.clear()\n",
    "        self.recognition_history.clear()\n",
    "        self.employee_cooldowns.clear()\n",
    "    \n",
    "    def _process_frame_safe(self, frame):\n",
    "        \"\"\"Process frame with comprehensive error handling\"\"\"\n",
    "        start_time = time.time()\n",
    "        \n",
    "        try:\n",
    "            # AI processing with error handling\n",
    "            try:\n",
    "                faces = self.ai_system.detect_and_recognize(frame)\n",
    "                self.stats['processed_frames'] += 1\n",
    "            except Exception as e:\n",
    "                self.stats['errors']['ai_errors'] += 1\n",
    "                print(f\"AI processing error: {e}\")\n",
    "                return\n",
    "            \n",
    "            processing_time = (time.time() - start_time) * 1000\n",
    "            self.stats['processing_times'].append(processing_time)\n",
    "            \n",
    "            if faces:\n",
    "                self.stats['faces_detected'] += 1\n",
    "                \n",
    "                # Store frame for annotation display\n",
    "                self.last_processed_frame = {\n",
    "                    'frame': frame.copy(),\n",
    "                    'faces': faces,\n",
    "                    'timestamp': time.time()\n",
    "                }\n",
    "                \n",
    "                for face in faces:\n",
    "                    self._process_detected_face_safe(face, frame)\n",
    "        \n",
    "        except Exception as e:\n",
    "            self.stats['errors']['general_errors'] += 1\n",
    "            print(f\"Frame processing error: {e}\")\n",
    "    \n",
    "    def _process_detected_face_safe(self, face_data, frame):\n",
    "        \"\"\"Process detected face with database error handling\"\"\"\n",
    "        try:\n",
    "            # Try to recognize employee\n",
    "            employee = self.db.find_employee_by_embedding(\n",
    "                face_data['embedding'], threshold=0.65\n",
    "            )\n",
    "            \n",
    "            current_time = time.time()\n",
    "            \n",
    "            if employee:\n",
    "                employee_id = employee['id']\n",
    "                \n",
    "                # Check cooldown period\n",
    "                last_recognition = self.employee_cooldowns.get(employee_id, 0)\n",
    "                if current_time - last_recognition >= self.cooldown_period:\n",
    "                    \n",
    "                    try:\n",
    "                        # Record attendance\n",
    "                        attendance_id = self.db.record_attendance(\n",
    "                            employee_id, 'camera_checkin', employee['similarity']\n",
    "                        )\n",
    "                        \n",
    "                        # Update cooldown\n",
    "                        self.employee_cooldowns[employee_id] = current_time\n",
    "                        \n",
    "                        # Create attendance event\n",
    "                        event = {\n",
    "                            'attendance_id': attendance_id,\n",
    "                            'employee_id': employee_id,\n",
    "                            'employee_name': employee['name'],\n",
    "                            'timestamp': current_time,\n",
    "                            'confidence': employee['similarity'],\n",
    "                            'bbox': face_data['bbox'],\n",
    "                            'det_score': face_data['det_score']\n",
    "                        }\n",
    "                        \n",
    "                        self.attendance_events.append(event)\n",
    "                        self.stats['employees_recognized'] += 1\n",
    "                        \n",
    "                        # Add to recognition history\n",
    "                        self.recognition_history.append({\n",
    "                            'timestamp': current_time,\n",
    "                            'employee_name': employee['name'],\n",
    "                            'confidence': employee['similarity']\n",
    "                        })\n",
    "                        \n",
    "                        # Show immediate notification\n",
    "                        self._show_recognition_notification(event)\n",
    "                        \n",
    "                    except Exception as e:\n",
    "                        self.stats['errors']['db_errors'] += 1\n",
    "                        print(f\"Database error: {e}\")\n",
    "        \n",
    "        except Exception as e:\n",
    "            self.stats['errors']['db_errors'] += 1\n",
    "            print(f\"Employee recognition error: {e}\")\n",
    "    \n",
    "    def _show_recognition_notification(self, event):\n",
    "        \"\"\"Show immediate recognition notification\"\"\"\n",
    "        timestamp_str = datetime.fromtimestamp(event['timestamp']).strftime('%H:%M:%S')\n",
    "        print(f\"\\n🎉 {timestamp_str} - {event['employee_name']} recognized!\")\n",
    "        print(f\"   Confidence: {event['confidence']:.3f} | ID: {event['attendance_id']}\")\n",
    "    \n",
    "    def _update_real_time_display(self):\n",
    "        \"\"\"Update real-time display with current statistics\"\"\"\n",
    "        # Calculate current stats\n",
    "        session_duration = time.time() - self.stats['session_start']\n",
    "        avg_processing_time = np.mean(self.stats['processing_times']) if self.stats['processing_times'] else 0\n",
    "        processing_fps = 1000 / avg_processing_time if avg_processing_time > 0 else 0\n",
    "        camera_fps = self.camera_manager.get_camera_stats()['fps']\n",
    "        \n",
    "        # Recent recognitions (last 60 seconds)\n",
    "        recent_recognitions = [r for r in self.recognition_history if time.time() - r['timestamp'] < 60]\n",
    "        \n",
    "        # Clear output and display current status\n",
    "        clear_output(wait=True)\n",
    "        print(f\"🎥 REAL-TIME ATTENDANCE PROCESSING\")\n",
    "        print(f\"⏱️ Session Duration: {session_duration/60:.1f} minutes\")\n",
    "        print(\"=\" * 50)\n",
    "        \n",
    "        print(f\"📊 Performance Metrics:\")\n",
    "        print(f\"├─ Camera FPS: {camera_fps:.1f}\")\n",
    "        print(f\"├─ Processing FPS: {processing_fps:.1f}\")\n",
    "        print(f\"├─ Avg Processing Time: {avg_processing_time:.1f}ms\")\n",
    "        print(f\"└─ Frame Skip Ratio: 1:{self.process_every_n_frames}\")\n",
    "        \n",
    "        print(f\"\\n🔍 Detection Statistics:\")\n",
    "        print(f\"├─ Total Frames: {self.stats['total_frames']:,}\")\n",
    "        print(f\"├─ Processed Frames: {self.stats['processed_frames']:,}\")\n",
    "        print(f\"├─ Faces Detected: {self.stats['faces_detected']:,}\")\n",
    "        print(f\"└─ Employees Recognized: {self.stats['employees_recognized']}\")\n",
    "        \n",
    "        # Error summary\n",
    "        total_errors = sum(self.stats['errors'].values())\n",
    "        if total_errors > 0:\n",
    "            print(f\"\\n⚠️ Error Summary:\")\n",
    "            for error_type, count in self.stats['errors'].items():\n",
    "                if count > 0:\n",
    "                    print(f\"├─ {error_type.replace('_', ' ').title()}: {count}\")\n",
    "        \n",
    "        if recent_recognitions:\n",
    "            print(f\"\\n👥 Recent Recognitions (last 60s):\")\n",
    "            for i, rec in enumerate(recent_recognitions[-5:], 1):  # Show last 5\n",
    "                timestamp_str = datetime.fromtimestamp(rec['timestamp']).strftime('%H:%M:%S')\n",
    "                print(f\"├─ {i}. {timestamp_str} - {rec['employee_name']} ({rec['confidence']:.3f})\")\n",
    "        \n",
    "        active_cooldowns = len([c for c in self.employee_cooldowns.values() if time.time() - c < self.cooldown_period])\n",
    "        print(f\"\\n💡 Active Cooldowns: {active_cooldowns}\")\n",
    "        print(\"=\" * 50)\n",
    "    \n",
    "    def _display_annotated_frame(self):\n",
    "        \"\"\"Display annotated frame with face detection results\"\"\"\n",
    "        try:\n",
    "            if hasattr(self, 'last_processed_frame'):\n",
    "                frame_data = self.last_processed_frame\n",
    "                frame = frame_data['frame'].copy()\n",
    "                faces = frame_data['faces']\n",
    "                \n",
    "                # Draw annotations\n",
    "                for face in faces:\n",
    "                    bbox = face['bbox']\n",
    "                    x1, y1, x2, y2 = [int(x) for x in bbox[:4]]\n",
    "                    \n",
    "                    # Draw bounding box\n",
    "                    cv2.rectangle(frame, (x1, y1), (x2, y2), (0, 255, 0), 2)\n",
    "                    \n",
    "                    # Draw confidence score\n",
    "                    conf_text = f\"Det: {face['det_score']:.2f}\"\n",
    "                    cv2.putText(frame, conf_text, (x1, y1-10),\n",
    "                               cv2.FONT_HERSHEY_SIMPLEX, 0.5, (0, 255, 0), 1)\n",
    "                \n",
    "                # Display frame (in Jupyter, you might want to save and show as image)\n",
    "                # For now, we'll skip actual display to avoid issues\n",
    "                pass\n",
    "        except Exception as e:\n",
    "            print(f\"Display error: {e}\")\n",
    "    \n",
    "    def _cleanup_processing(self):\n",
    "        \"\"\"Cleanup after processing session\"\"\"\n",
    "        try:\n",
    "            # Note: We don't stop camera here as it might be used again\n",
    "            print(\"🧹 Processing cleanup completed\")\n",
    "        except Exception as e:\n",
    "            print(f\"Cleanup error: {e}\")\n",
    "    \n",
    "    def _show_session_summary(self):\n",
    "        \"\"\"Show comprehensive session summary with error analysis\"\"\"\n",
    "        session_duration = time.time() - self.stats['session_start']\n",
    "        \n",
    "        print(\"=\" * 60)\n",
    "        print(f\"📈 SESSION SUMMARY\")\n",
    "        print(f\"⏱️ Duration: {session_duration/60:.1f} minutes ({session_duration:.0f} seconds)\")\n",
    "        print(\"-\" * 40)\n",
    "        \n",
    "        print(f\"🎥 Video Processing:\")\n",
    "        print(f\"├─ Total Frames: {self.stats['total_frames']:,}\")\n",
    "        print(f\"├─ Processed Frames: {self.stats['processed_frames']:,}\")\n",
    "        processing_rate = self.stats['processed_frames']/session_duration if session_duration > 0 else 0\n",
    "        print(f\"├─ Processing Rate: {processing_rate:.1f} FPS\")\n",
    "        skip_ratio = self.stats['total_frames']/max(1, self.stats['processed_frames'])\n",
    "        print(f\"└─ Skip Ratio: {skip_ratio:.1f}x\")\n",
    "        \n",
    "        print(f\"\\n🔍 Detection Results:\")\n",
    "        print(f\"├─ Faces Detected: {self.stats['faces_detected']:,}\")\n",
    "        print(f\"├─ Employees Recognized: {self.stats['employees_recognized']}\")\n",
    "        unique_employees = len(set(e['employee_id'] for e in self.attendance_events))\n",
    "        print(f\"├─ Unique Employees: {unique_employees}\")\n",
    "        recognition_rate = self.stats['employees_recognized']/max(1, self.stats['faces_detected'])*100\n",
    "        print(f\"└─ Recognition Rate: {recognition_rate:.1f}%\")\n",
    "        \n",
    "        # Performance analysis\n",
    "        if self.stats['processing_times']:\n",
    "            avg_time = np.mean(self.stats['processing_times'])\n",
    "            min_time = np.min(self.stats['processing_times'])\n",
    "            max_time = np.max(self.stats['processing_times'])\n",
    "            \n",
    "            print(f\"\\n⚡ Performance Analysis:\")\n",
    "            print(f\"├─ Avg Processing Time: {avg_time:.1f}ms\")\n",
    "            print(f\"├─ Min Processing Time: {min_time:.1f}ms\")\n",
    "            print(f\"├─ Max Processing Time: {max_time:.1f}ms\")\n",
    "            print(f\"└─ Theoretical Max FPS: {1000/avg_time:.1f}\")\n",
    "        \n",
    "        # Error analysis\n",
    "        total_errors = sum(self.stats['errors'].values())\n",
    "        if total_errors > 0:\n",
    "            print(f\"\\n❌ Error Analysis:\")\n",
    "            print(f\"├─ Total Errors: {total_errors}\")\n",
    "            for error_type, count in self.stats['errors'].items():\n",
    "                if count > 0:\n",
    "                    percentage = (count / max(1, self.stats['processed_frames'])) * 100\n",
    "                    print(f\"├─ {error_type.replace('_', ' ').title()}: {count} ({percentage:.1f}%)\")\n",
    "            \n",
    "            # Error rate assessment\n",
    "            error_rate = total_errors / max(1, self.stats['processed_frames']) * 100\n",
    "            if error_rate < 1:\n",
    "                print(f\"└─ Error Rate: {error_rate:.2f}% (✅ Excellent)\")\n",
    "            elif error_rate < 5:\n",
    "                print(f\"└─ Error Rate: {error_rate:.1f}% (👍 Good)\")\n",
    "            elif error_rate < 10:\n",
    "                print(f\"└─ Error Rate: {error_rate:.1f}% (⚠️ Needs attention)\")\n",
    "            else:\n",
    "                print(f\"└─ Error Rate: {error_rate:.1f}% (❌ Poor - investigate)\")\n",
    "        \n",
    "        # Attendance events summary\n",
    "        if self.attendance_events:\n",
    "            print(f\"\\n👥 Attendance Events:\")\n",
    "            employee_counts = defaultdict(int)\n",
    "            for event in self.attendance_events:\n",
    "                employee_counts[event['employee_name']] += 1\n",
    "            \n",
    "            for name, count in sorted(employee_counts.items()):\n",
    "                avg_confidence = np.mean([e['confidence'] for e in self.attendance_events \n",
    "                                        if e['employee_name'] == name])\n",
    "                print(f\"├─ {name}: {count} recognition(s) (avg conf: {avg_confidence:.3f})\")\n",
    "        \n",
    "        # Recommendations\n",
    "        print(f\"\\n💡 RECOMMENDATIONS:\")\n",
    "        if recognition_rate < 50:\n",
    "            print(\"├─ Low recognition rate - check employee registration quality\")\n",
    "        if total_errors > self.stats['processed_frames'] * 0.1:\n",
    "            print(\"├─ High error rate - check system stability\")\n",
    "        if processing_rate < 5:\n",
    "            print(\"├─ Low processing rate - consider reducing frame skip ratio\")\n",
    "        if avg_time > 200:\n",
    "            print(\"├─ Slow AI processing - consider lighter model or GPU acceleration\")\n",
    "        \n",
    "        print(\"└─ Session analysis completed\")\n",
    "    \n",
    "    def stop_processing(self):\n",
    "        \"\"\"Stop real-time processing\"\"\"\n",
    "        self.processing_active = False\n",
    "        print(\"⏹️ Processing stop requested\")\n",
    "    \n",
    "    def export_session_data(self, include_debug_info=True):\n",
    "        \"\"\"Export session data with enhanced information\"\"\"\n",
    "        timestamp = datetime.now().strftime('%Y%m%d_%H%M%S')\n",
    "        \n",
    "        try:\n",
    "            # Ensure exports directory exists\n",
    "            exports_dir.mkdir(exist_ok=True)\n",
    "            \n",
    "            # Export attendance events\n",
    "            if self.attendance_events:\n",
    "                events_data = []\n",
    "                for event in self.attendance_events:\n",
    "                    event_copy = event.copy()\n",
    "                    event_copy['timestamp'] = datetime.fromtimestamp(event['timestamp']).isoformat()\n",
    "                    event_copy['bbox'] = [float(x) for x in event['bbox']]  # Ensure JSON serializable\n",
    "                    events_data.append(event_copy)\n",
    "                \n",
    "                events_path = exports_dir / f'attendance_events_{timestamp}.json'\n",
    "                with open(events_path, 'w') as f:\n",
    "                    json.dump(events_data, f, indent=2, default=str)\n",
    "                print(f\"✅ Attendance events exported: {events_path}\")\n",
    "                \n",
    "                # Also export as CSV for easy analysis\n",
    "                import pandas as pd\n",
    "                df_events = pd.DataFrame(events_data)\n",
    "                csv_path = exports_dir / f'attendance_events_{timestamp}.csv'\n",
    "                df_events.to_csv(csv_path, index=False)\n",
    "                print(f\"✅ CSV export: {csv_path}\")\n",
    "            \n",
    "            # Export comprehensive session statistics\n",
    "            session_stats = {\n",
    "                'session_info': {\n",
    "                    'start_time': datetime.fromtimestamp(self.stats['session_start']).isoformat(),\n",
    "                    'duration_minutes': (time.time() - self.stats['session_start']) / 60,\n",
    "                    'total_frames': self.stats['total_frames'],\n",
    "                    'processed_frames': self.stats['processed_frames'],\n",
    "                    'faces_detected': self.stats['faces_detected'],\n",
    "                    'employees_recognized': self.stats['employees_recognized']\n",
    "                },\n",
    "                'performance_metrics': {\n",
    "                    'avg_processing_time_ms': float(np.mean(self.stats['processing_times'])) if self.stats['processing_times'] else 0,\n",
    "                    'min_processing_time_ms': float(np.min(self.stats['processing_times'])) if self.stats['processing_times'] else 0,\n",
    "                    'max_processing_time_ms': float(np.max(self.stats['processing_times'])) if self.stats['processing_times'] else 0,\n",
    "                    'processing_times_history': list(self.stats['processing_times'])\n",
    "                },\n",
    "                'error_analysis': self.stats['errors'],\n",
    "                'camera_stats': self.camera_manager.get_camera_stats(),\n",
    "                'system_info': {\n",
    "                    'ai_system_mock_mode': getattr(self.ai_system, 'mock_mode', False),\n",
    "                    'cooldown_period_seconds': self.cooldown_period,\n",
    "                    'frame_skip_ratio': self.process_every_n_frames\n",
    "                }\n",
    "            }\n",
    "            \n",
    "            if include_debug_info:\n",
    "                session_stats['debug_info'] = {\n",
    "                    'recognition_history': [\n",
    "                        {\n",
    "                            'timestamp': datetime.fromtimestamp(r['timestamp']).isoformat(),\n",
    "                            'employee_name': r['employee_name'],\n",
    "                            'confidence': r['confidence']\n",
    "                        }\n",
    "                        for r in self.recognition_history\n",
    "                    ],\n",
    "                    'active_cooldowns': {\n",
    "                        str(emp_id): datetime.fromtimestamp(last_time).isoformat()\n",
    "                        for emp_id, last_time in self.employee_cooldowns.items()\n",
    "                    }\n",
    "                }\n",
    "            \n",
    "            stats_path = exports_dir / f'session_stats_{timestamp}.json'\n",
    "            with open(stats_path, 'w') as f:\n",
    "                json.dump(session_stats, f, indent=2, default=str)\n",
    "            \n",
    "            print(f\"✅ Session statistics exported: {stats_path}\")\n",
    "            \n",
    "            return {\n",
    "                'events_file': events_path if self.attendance_events else None,\n",
    "                'stats_file': stats_path,\n",
    "                'csv_file': csv_path if self.attendance_events else None\n",
    "            }\n",
    "            \n",
    "        except Exception as e:\n",
    "            print(f\"❌ Export failed: {e}\")\n",
    "            return None\n",
    "    \n",
    "    def create_attendance_report(self):\n",
    "        \"\"\"Create a formatted attendance report\"\"\"\n",
    "        if not self.attendance_events:\n",
    "            print(\"⚠️ No attendance events to report\")\n",
    "            return\n",
    "        \n",
    "        print(f\"\\n📋 ATTENDANCE REPORT\")\n",
    "        print(\"=\" * 50)\n",
    "        print(f\"Report generated: {datetime.now().strftime('%Y-%m-%d %H:%M:%S')}\")\n",
    "        print(f\"Session duration: {(time.time() - self.stats['session_start'])/60:.1f} minutes\")\n",
    "        print(\"-\" * 50)\n",
    "        \n",
    "        # Group events by employee\n",
    "        employee_events = defaultdict(list)\n",
    "        for event in self.attendance_events:\n",
    "            employee_events[event['employee_name']].append(event)\n",
    "        \n",
    "        # Display each employee's activity\n",
    "        for employee_name, events in sorted(employee_events.items()):\n",
    "            print(f\"\\n👤 {employee_name}:\")\n",
    "            print(f\"├─ Total recognitions: {len(events)}\")\n",
    "            \n",
    "            avg_confidence = np.mean([e['confidence'] for e in events])\n",
    "            print(f\"├─ Average confidence: {avg_confidence:.3f}\")\n",
    "            \n",
    "            # Show chronological events\n",
    "            events_sorted = sorted(events, key=lambda x: x['timestamp'])\n",
    "            print(f\"└─ Timeline:\")\n",
    "            \n",
    "            for i, event in enumerate(events_sorted):\n",
    "                timestamp_str = datetime.fromtimestamp(event['timestamp']).strftime('%H:%M:%S')\n",
    "                marker = \"├─\" if i < len(events_sorted) - 1 else \"└─\"\n",
    "                print(f\"   {marker} {timestamp_str} - Confidence: {event['confidence']:.3f}\")\n",
    "\n",
    "# Initialize attendance processor with comprehensive checks\n",
    "print(\"\\n🔄 INITIALIZING ATTENDANCE PROCESSOR:\")\n",
    "\n",
    "try:\n",
    "    # Check if required components are available\n",
    "    if not all([ai_system, db, camera_manager]):\n",
    "        missing_components = []\n",
    "        if not ai_system:\n",
    "            missing_components.append(\"AI System\")\n",
    "        if not db:\n",
    "            missing_components.append(\"Database\")\n",
    "        if not camera_manager:\n",
    "            missing_components.append(\"Camera Manager\")\n",
    "        \n",
    "        print(f\"❌ Missing components: {', '.join(missing_components)}\")\n",
    "        print(\"Please run previous cells successfully first\")\n",
    "        processor = None\n",
    "    else:\n",
    "        processor = AttendanceProcessor(ai_system, db, camera_manager)\n",
    "        if processor.available:\n",
    "            print(\"✅ Attendance Processor initialized successfully\")\n",
    "        else:\n",
    "            print(\"❌ Attendance Processor initialization failed\")\n",
    "            processor = None\n",
    "\n",
    "except Exception as e:\n",
    "    print(f\"❌ Processor initialization error: {e}\")\n",
    "    processor = None\n",
    "\n",
    "# Display usage instructions\n",
    "print(\"\\n🎯 REAL-TIME PROCESSING OPTIONS:\")\n",
    "if processor and processor.available:\n",
    "    print(\"📊 Main Functions:\")\n",
    "    print(\"├─ processor.start_real_time_processing(duration_minutes=5)\")\n",
    "    print(\"├─ processor.start_real_time_processing(duration_minutes=10, show_annotated_frames=True)\")\n",
    "    print(\"├─ processor.stop_processing()\")\n",
    "    print(\"└─ processor.export_session_data()\")\n",
    "    \n",
    "    print(\"\\n📋 Analysis Functions:\")\n",
    "    print(\"├─ processor.create_attendance_report()\")\n",
    "    print(\"├─ processor.export_session_data(include_debug_info=True)\")\n",
    "    print(\"└─ Check exports/ folder for saved data\")\n",
    "    \n",
    "    print(\"\\n⚙️ Advanced Options:\")\n",
    "    print(\"├─ processor.cooldown_period = 10  # Reduce cooldown to 10 seconds\")\n",
    "    print(\"├─ processor.process_every_n_frames = 5  # Process every 5th frame\")\n",
    "    print(\"└─ processor.display_update_interval = 1.0  # Update display every second\")\n",
    "else:\n",
    "    print(\"❌ Processor not available\")\n",
    "\n",
    "print(\"\\n💡 QUICK START GUIDE:\")\n",
    "print(\"1. Ensure employees are registered (Cell 3)\")\n",
    "print(\"2. Ensure camera is detected and working\")\n",
    "print(\"3. Run: processor.start_real_time_processing(duration_minutes=2)\")\n",
    "print(\"4. Watch for real-time recognition results\")\n",
    "print(\"5. Export data when finished\")\n",
    "\n",
    "print(\"\\n⚠️ TROUBLESHOOTING:\")\n",
    "print(\"├─ Camera issues: Run camera_manager.detect_cameras()\")\n",
    "print(\"├─ No recognitions: Check employee registration quality\")\n",
    "print(\"├─ High errors: Check system resources and connections\")\n",
    "print(\"└─ Slow processing: Increase process_every_n_frames value\")\n",
    "\n",
    "print(\"=\" * 35)"
   ]
  },
  {
   "cell_type": "raw",
   "metadata": {
    "vscode": {
     "languageId": "raw"
    }
   },
   "source": [
    "## Cell 5: 📺 Live Camera Visualization with Real-time Inference\n",
    "\n",
    "**Interactive camera feed with face detection, recognition, and performance overlay**\n"
   ]
  },
  {
   "cell_type": "code",
   "execution_count": 5,
   "metadata": {},
   "outputs": [
    {
     "name": "stdout",
     "output_type": "stream",
     "text": [
      "📺 LIVE CAMERA VISUALIZATION SETUP\n",
      "========================================\n",
      "\n",
      "🔄 INITIALIZING LIVE VISUALIZER:\n",
      "✅ Live Camera Visualizer initialized\n",
      "✅ Live Camera Visualizer ready\n",
      "\n",
      "🎯 LIVE VISUALIZATION USAGE:\n",
      "📺 Main Functions:\n",
      "├─ visualizer.start_visualization(duration_minutes=5)\n",
      "├─ visualizer.start_visualization(duration_minutes=10)\n",
      "└─ visualizer.stop_visualization()\n",
      "\n",
      "🎛️ Interactive Features:\n",
      "├─ Real-time camera feed with face detection boxes\n",
      "├─ Employee name and confidence display\n",
      "├─ Performance metrics overlay (FPS, processing time)\n",
      "├─ Interactive controls (start/stop/snapshot)\n",
      "├─ Adjustable recognition threshold\n",
      "└─ Frame skip control for performance tuning\n",
      "\n",
      "🎨 Visual Elements:\n",
      "├─ 🟢 Green box: New employee recognition\n",
      "├─ 🟡 Yellow box: Known employee (cooldown period)\n",
      "├─ 🔴 Red box: Unknown face\n",
      "├─ Real-time FPS and processing metrics\n",
      "└─ Recent recognition history\n",
      "\n",
      "💡 QUICK START:\n",
      "1. Ensure employees are registered\n",
      "2. Run: visualizer.start_visualization(duration_minutes=3)\n",
      "3. Use interactive controls to adjust settings\n",
      "4. Take snapshots of interesting moments\n",
      "5. Stop when finished\n",
      "\n",
      "⚙️ PERFORMANCE TIPS:\n",
      "├─ Increase 'Frame Skip' for better performance\n",
      "├─ Adjust 'Recognition Threshold' for accuracy\n",
      "├─ Toggle display elements to reduce processing\n",
      "└─ Use shorter duration for initial testing\n",
      "========================================\n"
     ]
    }
   ],
   "source": [
    "# Cell 5: 📺 Live Camera Visualization with Real-time Inference\n",
    "# Interactive Camera Feed with Face Detection and Recognition Overlay\n",
    "\n",
    "import cv2\n",
    "import numpy as np\n",
    "import time\n",
    "import threading\n",
    "from datetime import datetime\n",
    "from collections import deque\n",
    "import matplotlib.pyplot as plt\n",
    "from matplotlib.animation import FuncAnimation\n",
    "from IPython.display import display, clear_output, HTML\n",
    "import ipywidgets as widgets\n",
    "from io import BytesIO\n",
    "import base64\n",
    "\n",
    "print(\"📺 LIVE CAMERA VISUALIZATION SETUP\")\n",
    "print(\"=\" * 40)\n",
    "\n",
    "class LiveCameraVisualizer:\n",
    "    \"\"\"Real-time camera visualization with inference overlay\"\"\"\n",
    "    \n",
    "    def __init__(self, ai_system, database, camera_manager):\n",
    "        self.ai_system = ai_system\n",
    "        self.db = database\n",
    "        self.camera_manager = camera_manager\n",
    "        \n",
    "        # Check system availability\n",
    "        if not all([ai_system, database, camera_manager]):\n",
    "            print(\"❌ Required systems not available\")\n",
    "            self.available = False\n",
    "            return\n",
    "        \n",
    "        self.available = True\n",
    "        \n",
    "        # Visualization settings\n",
    "        self.frame_width = 640\n",
    "        self.frame_height = 480\n",
    "        self.show_fps = True\n",
    "        self.show_confidence = True\n",
    "        self.show_employee_info = True\n",
    "        \n",
    "        # Processing control\n",
    "        self.visualization_active = False\n",
    "        self.process_every_n_frames = 2  # Process every 2nd frame\n",
    "        self.frame_counter = 0\n",
    "        \n",
    "        # Recognition tracking\n",
    "        self.recent_recognitions = deque(maxlen=10)\n",
    "        self.employee_cooldowns = {}\n",
    "        self.cooldown_period = 5  # 5 seconds for visualization\n",
    "        \n",
    "        # Performance tracking\n",
    "        self.fps_counter = 0\n",
    "        self.fps_start_time = time.time()\n",
    "        self.current_fps = 0\n",
    "        self.processing_times = deque(maxlen=30)\n",
    "        \n",
    "        # Current frame data\n",
    "        self.current_frame = None\n",
    "        self.current_detections = []\n",
    "        self.frame_lock = threading.Lock()\n",
    "        \n",
    "        print(\"✅ Live Camera Visualizer initialized\")\n",
    "    \n",
    "    def start_visualization(self, duration_minutes=5):\n",
    "        \"\"\"Start live camera visualization with real-time inference\"\"\"\n",
    "        if not self.available:\n",
    "            print(\"❌ Visualizer not available\")\n",
    "            return\n",
    "        \n",
    "        print(f\"🚀 Starting live visualization for {duration_minutes} minutes...\")\n",
    "        \n",
    "        # Ensure camera is ready\n",
    "        if not self._ensure_camera_ready():\n",
    "            print(\"❌ Camera setup failed\")\n",
    "            return\n",
    "        \n",
    "        # First, register employees if not done\n",
    "        print(\"👥 Checking employee registration...\")\n",
    "        stats = self.db.get_statistics()\n",
    "        if stats['total_employees'] == 0:\n",
    "            print(\"📝 No employees found, scanning folders...\")\n",
    "            if hasattr(globals().get('employee_manager'), 'scan_employee_folders'):\n",
    "                employee_manager.scan_employee_folders()\n",
    "                stats = self.db.get_statistics()\n",
    "                print(f\"✅ Registered {stats['total_employees']} employees\")\n",
    "            else:\n",
    "                print(\"⚠️ Employee manager not available\")\n",
    "        else:\n",
    "            print(f\"✅ Found {stats['total_employees']} registered employees\")\n",
    "        \n",
    "        # Setup visualization\n",
    "        self.visualization_active = True\n",
    "        \n",
    "        try:\n",
    "            # Create widgets for interactive control\n",
    "            self._create_control_widgets()\n",
    "            \n",
    "            # Start the main visualization loop\n",
    "            self._visualization_loop(duration_minutes)\n",
    "            \n",
    "        except KeyboardInterrupt:\n",
    "            print(\"\\n⏹️ Visualization stopped by user\")\n",
    "        except Exception as e:\n",
    "            print(f\"\\n❌ Visualization error: {e}\")\n",
    "        finally:\n",
    "            self.visualization_active = False\n",
    "            print(\"🛑 Visualization stopped\")\n",
    "    \n",
    "    def _ensure_camera_ready(self):\n",
    "        \"\"\"Ensure camera is ready for visualization\"\"\"\n",
    "        try:\n",
    "            # Check if camera is already running\n",
    "            if self.camera_manager.camera_active:\n",
    "                print(\"✅ Camera already active\")\n",
    "                return True\n",
    "            \n",
    "            # Detect cameras if not done\n",
    "            if not self.camera_manager.available_cameras:\n",
    "                print(\"🔍 Detecting cameras...\")\n",
    "                cameras = self.camera_manager.detect_cameras()\n",
    "                if not cameras:\n",
    "                    print(\"❌ No cameras detected\")\n",
    "                    return False\n",
    "            \n",
    "            # Initialize camera\n",
    "            if not self.camera_manager.camera:\n",
    "                print(\"📷 Initializing camera...\")\n",
    "                if not self.camera_manager.initialize_camera(0):\n",
    "                    print(\"❌ Camera initialization failed\")\n",
    "                    return False\n",
    "            \n",
    "            # Start camera thread\n",
    "            if not self.camera_manager.camera_active:\n",
    "                print(\"🎥 Starting camera thread...\")\n",
    "                if not self.camera_manager.start_camera_thread():\n",
    "                    print(\"❌ Camera thread start failed\")\n",
    "                    return False\n",
    "            \n",
    "            # Wait for first frame\n",
    "            print(\"⏳ Waiting for camera warm-up...\")\n",
    "            for i in range(10):\n",
    "                if self.camera_manager.get_latest_frame() is not None:\n",
    "                    print(\"✅ Camera ready for visualization!\")\n",
    "                    return True\n",
    "                time.sleep(0.5)\n",
    "            \n",
    "            print(\"❌ Camera warm-up timeout\")\n",
    "            return False\n",
    "            \n",
    "        except Exception as e:\n",
    "            print(f\"❌ Camera setup error: {e}\")\n",
    "            return False\n",
    "    \n",
    "    def _create_control_widgets(self):\n",
    "        \"\"\"Create interactive control widgets\"\"\"\n",
    "        print(\"🎛️ Creating control interface...\")\n",
    "        \n",
    "        # Control buttons\n",
    "        self.start_button = widgets.Button(description=\"▶️ Start\", button_style='success')\n",
    "        self.stop_button = widgets.Button(description=\"⏹️ Stop\", button_style='danger')\n",
    "        self.snapshot_button = widgets.Button(description=\"📸 Snapshot\", button_style='info')\n",
    "        \n",
    "        # Settings sliders\n",
    "        self.fps_slider = widgets.IntSlider(\n",
    "            value=self.process_every_n_frames, min=1, max=10, step=1,\n",
    "            description='Frame Skip:', style={'description_width': 'initial'}\n",
    "        )\n",
    "        \n",
    "        self.confidence_slider = widgets.FloatSlider(\n",
    "            value=0.65, min=0.3, max=0.9, step=0.05,\n",
    "            description='Recognition Threshold:', style={'description_width': 'initial'}\n",
    "        )\n",
    "        \n",
    "        # Display toggles\n",
    "        self.show_fps_toggle = widgets.Checkbox(value=True, description='Show FPS')\n",
    "        self.show_bbox_toggle = widgets.Checkbox(value=True, description='Show Face Boxes')\n",
    "        self.show_names_toggle = widgets.Checkbox(value=True, description='Show Names')\n",
    "        \n",
    "        # Status display\n",
    "        self.status_output = widgets.Output()\n",
    "        \n",
    "        # Layout\n",
    "        controls = widgets.HBox([self.start_button, self.stop_button, self.snapshot_button])\n",
    "        settings = widgets.VBox([\n",
    "            widgets.HBox([self.fps_slider, self.confidence_slider]),\n",
    "            widgets.HBox([self.show_fps_toggle, self.show_bbox_toggle, self.show_names_toggle])\n",
    "        ])\n",
    "        \n",
    "        display(widgets.VBox([controls, settings]))\n",
    "        display(self.status_output)\n",
    "        \n",
    "        # Bind events\n",
    "        self.start_button.on_click(self._on_start_click)\n",
    "        self.stop_button.on_click(self._on_stop_click)\n",
    "        self.snapshot_button.on_click(self._on_snapshot_click)\n",
    "        \n",
    "        print(\"✅ Control interface ready\")\n",
    "    \n",
    "    def _visualization_loop(self, duration_minutes):\n",
    "        \"\"\"Main visualization loop with frame display\"\"\"\n",
    "        print(\"🔄 Starting visualization loop...\")\n",
    "        \n",
    "        end_time = time.time() + (duration_minutes * 60)\n",
    "        last_display_time = 0\n",
    "        display_interval = 0.1  # Update display every 100ms\n",
    "        \n",
    "        try:\n",
    "            while self.visualization_active and time.time() < end_time:\n",
    "                current_time = time.time()\n",
    "                \n",
    "                # Get latest frame\n",
    "                frame = self.camera_manager.get_latest_frame()\n",
    "                \n",
    "                if frame is not None:\n",
    "                    self.frame_counter += 1\n",
    "                    \n",
    "                    # Process frame periodically\n",
    "                    if self.frame_counter % self.process_every_n_frames == 0:\n",
    "                        self._process_frame_for_visualization(frame)\n",
    "                    \n",
    "                    # Update display periodically\n",
    "                    if current_time - last_display_time >= display_interval:\n",
    "                        self._update_frame_display()\n",
    "                        last_display_time = current_time\n",
    "                \n",
    "                time.sleep(0.001)  # Small delay to prevent excessive CPU usage\n",
    "                \n",
    "        except Exception as e:\n",
    "            print(f\"❌ Visualization loop error: {e}\")\n",
    "    \n",
    "    def _process_frame_for_visualization(self, frame):\n",
    "        \"\"\"Process frame for visualization with face detection and recognition\"\"\"\n",
    "        start_time = time.time()\n",
    "        \n",
    "        try:\n",
    "            # AI processing\n",
    "            faces = self.ai_system.detect_and_recognize(frame)\n",
    "            \n",
    "            # Prepare annotated frame\n",
    "            annotated_frame = frame.copy()\n",
    "            current_detections = []\n",
    "            \n",
    "            for face in faces:\n",
    "                # Extract face data\n",
    "                bbox = face['bbox']\n",
    "                confidence = face['det_score']\n",
    "                embedding = face['embedding']\n",
    "                \n",
    "                # Try to recognize employee\n",
    "                employee = self.db.find_employee_by_embedding(\n",
    "                    embedding, threshold=self.confidence_slider.value\n",
    "                )\n",
    "                \n",
    "                # Prepare detection data\n",
    "                detection = {\n",
    "                    'bbox': bbox,\n",
    "                    'confidence': confidence,\n",
    "                    'employee': employee,\n",
    "                    'timestamp': time.time()\n",
    "                }\n",
    "                \n",
    "                # Check cooldown for recognition\n",
    "                if employee:\n",
    "                    employee_id = employee['id']\n",
    "                    last_recognition = self.employee_cooldowns.get(employee_id, 0)\n",
    "                    \n",
    "                    if time.time() - last_recognition >= self.cooldown_period:\n",
    "                        # Record new recognition\n",
    "                        self.employee_cooldowns[employee_id] = time.time()\n",
    "                        \n",
    "                        # Add to recent recognitions\n",
    "                        self.recent_recognitions.append({\n",
    "                            'timestamp': time.time(),\n",
    "                            'employee_name': employee['name'],\n",
    "                            'confidence': employee['similarity']\n",
    "                        })\n",
    "                        \n",
    "                        detection['new_recognition'] = True\n",
    "                    else:\n",
    "                        detection['new_recognition'] = False\n",
    "                else:\n",
    "                    detection['new_recognition'] = False\n",
    "                \n",
    "                current_detections.append(detection)\n",
    "                \n",
    "                # Draw annotations on frame\n",
    "                self._draw_face_annotation(annotated_frame, detection)\n",
    "            \n",
    "            # Update current frame data\n",
    "            with self.frame_lock:\n",
    "                self.current_frame = annotated_frame\n",
    "                self.current_detections = current_detections\n",
    "            \n",
    "            # Update performance metrics\n",
    "            processing_time = (time.time() - start_time) * 1000\n",
    "            self.processing_times.append(processing_time)\n",
    "            \n",
    "            # Update FPS\n",
    "            self.fps_counter += 1\n",
    "            if self.fps_counter >= 30:\n",
    "                current_time = time.time()\n",
    "                elapsed = current_time - self.fps_start_time\n",
    "                if elapsed > 0:\n",
    "                    self.current_fps = self.fps_counter / elapsed\n",
    "                self.fps_counter = 0\n",
    "                self.fps_start_time = current_time\n",
    "                \n",
    "        except Exception as e:\n",
    "            print(f\"Frame processing error: {e}\")\n",
    "    \n",
    "    def _draw_face_annotation(self, frame, detection):\n",
    "        \"\"\"Draw face annotations on frame\"\"\"\n",
    "        if not self.show_bbox_toggle.value:\n",
    "            return\n",
    "        \n",
    "        bbox = detection['bbox']\n",
    "        confidence = detection['confidence']\n",
    "        employee = detection['employee']\n",
    "        new_recognition = detection.get('new_recognition', False)\n",
    "        \n",
    "        # Extract coordinates\n",
    "        x1, y1, x2, y2 = [int(x) for x in bbox[:4]]\n",
    "        \n",
    "        # Choose colors\n",
    "        if employee:\n",
    "            if new_recognition:\n",
    "                color = (0, 255, 0)  # Green for new recognition\n",
    "            else:\n",
    "                color = (0, 255, 255)  # Yellow for known (cooldown)\n",
    "        else:\n",
    "            color = (0, 0, 255)  # Red for unknown\n",
    "        \n",
    "        # Draw bounding box\n",
    "        cv2.rectangle(frame, (x1, y1), (x2, y2), color, 2)\n",
    "        \n",
    "        # Draw detection confidence\n",
    "        if self.show_confidence:\n",
    "            conf_text = f\"Det: {confidence:.2f}\"\n",
    "            cv2.putText(frame, conf_text, (x1, y1-25),\n",
    "                       cv2.FONT_HERSHEY_SIMPLEX, 0.6, color, 2)\n",
    "        \n",
    "        # Draw employee name and recognition confidence\n",
    "        if employee and self.show_names_toggle.value:\n",
    "            name_text = f\"{employee['name']}\"\n",
    "            rec_conf_text = f\"Rec: {employee['similarity']:.3f}\"\n",
    "            \n",
    "            cv2.putText(frame, name_text, (x1, y1-10),\n",
    "                       cv2.FONT_HERSHEY_SIMPLEX, 0.7, color, 2)\n",
    "            cv2.putText(frame, rec_conf_text, (x1, y2+20),\n",
    "                       cv2.FONT_HERSHEY_SIMPLEX, 0.5, color, 1)\n",
    "            \n",
    "            # Draw recognition indicator\n",
    "            if new_recognition:\n",
    "                cv2.putText(frame, \"NEW!\", (x2-50, y1-10),\n",
    "                           cv2.FONT_HERSHEY_SIMPLEX, 0.6, (0, 255, 0), 2)\n",
    "        else:\n",
    "            # Unknown face\n",
    "            cv2.putText(frame, \"Unknown\", (x1, y1-10),\n",
    "                       cv2.FONT_HERSHEY_SIMPLEX, 0.6, color, 2)\n",
    "        \n",
    "        # Draw face center dot\n",
    "        center_x, center_y = int((x1 + x2) / 2), int((y1 + y2) / 2)\n",
    "        cv2.circle(frame, (center_x, center_y), 3, color, -1)\n",
    "    \n",
    "    def _update_frame_display(self):\n",
    "        \"\"\"Update the frame display with current frame and statistics\"\"\"\n",
    "        try:\n",
    "            with self.frame_lock:\n",
    "                if self.current_frame is None:\n",
    "                    return\n",
    "                \n",
    "                display_frame = self.current_frame.copy()\n",
    "                detections_count = len(self.current_detections)\n",
    "                recognized_count = len([d for d in self.current_detections if d['employee']])\n",
    "            \n",
    "            # Add overlay information\n",
    "            if self.show_fps_toggle.value:\n",
    "                # FPS and performance info\n",
    "                fps_text = f\"Camera FPS: {self.current_fps:.1f}\"\n",
    "                if self.processing_times:\n",
    "                    avg_time = np.mean(self.processing_times)\n",
    "                    proc_fps = 1000 / avg_time if avg_time > 0 else 0\n",
    "                    perf_text = f\"Proc: {proc_fps:.1f}FPS ({avg_time:.1f}ms)\"\n",
    "                else:\n",
    "                    perf_text = \"Proc: Starting...\"\n",
    "                \n",
    "                cv2.putText(display_frame, fps_text, (10, 30),\n",
    "                           cv2.FONT_HERSHEY_SIMPLEX, 0.7, (255, 255, 255), 2)\n",
    "                cv2.putText(display_frame, perf_text, (10, 60),\n",
    "                           cv2.FONT_HERSHEY_SIMPLEX, 0.7, (255, 255, 255), 2)\n",
    "            \n",
    "            # Detection summary\n",
    "            summary_text = f\"Faces: {detections_count} | Recognized: {recognized_count}\"\n",
    "            cv2.putText(display_frame, summary_text, (10, display_frame.shape[0] - 20),\n",
    "                       cv2.FONT_HERSHEY_SIMPLEX, 0.7, (255, 255, 255), 2)\n",
    "            \n",
    "            # Convert frame to displayable format\n",
    "            self._display_frame_in_notebook(display_frame)\n",
    "            \n",
    "            # Update status\n",
    "            self._update_status_display()\n",
    "            \n",
    "        except Exception as e:\n",
    "            print(f\"Display update error: {e}\")\n",
    "    \n",
    "    def _display_frame_in_notebook(self, frame):\n",
    "        \"\"\"Display frame in Jupyter notebook\"\"\"\n",
    "        try:\n",
    "            # Convert BGR to RGB\n",
    "            frame_rgb = cv2.cvtColor(frame, cv2.COLOR_BGR2RGB)\n",
    "            \n",
    "            # Resize if needed\n",
    "            if frame_rgb.shape[1] > 800:\n",
    "                scale = 800 / frame_rgb.shape[1]\n",
    "                new_width = int(frame_rgb.shape[1] * scale)\n",
    "                new_height = int(frame_rgb.shape[0] * scale)\n",
    "                frame_rgb = cv2.resize(frame_rgb, (new_width, new_height))\n",
    "            \n",
    "            # Convert to base64 for display\n",
    "            _, buffer = cv2.imencode('.jpg', cv2.cvtColor(frame_rgb, cv2.COLOR_RGB2BGR))\n",
    "            img_str = base64.b64encode(buffer).decode()\n",
    "            \n",
    "            # Clear previous output and display new frame\n",
    "            with self.status_output:\n",
    "                clear_output(wait=True)\n",
    "                display(HTML(f'<img src=\"data:image/jpeg;base64,{img_str}\" style=\"max-width:100%;\">'))\n",
    "                \n",
    "        except Exception as e:\n",
    "            print(f\"Frame display error: {e}\")\n",
    "    \n",
    "    def _update_status_display(self):\n",
    "        \"\"\"Update status information\"\"\"\n",
    "        try:\n",
    "            # Recent recognitions summary\n",
    "            recent_text = \"\"\n",
    "            if self.recent_recognitions:\n",
    "                recent_text = \"Recent recognitions:\\n\"\n",
    "                for rec in list(self.recent_recognitions)[-3:]:  # Last 3\n",
    "                    timestamp_str = datetime.fromtimestamp(rec['timestamp']).strftime('%H:%M:%S')\n",
    "                    recent_text += f\"• {timestamp_str} - {rec['employee_name']} ({rec['confidence']:.3f})\\n\"\n",
    "            \n",
    "            # Print status below image\n",
    "            print(f\"\\\\rProcessing... | Frame: {self.frame_counter} | Recent: {len(self.recent_recognitions)}\", end=\"\")\n",
    "            \n",
    "        except Exception as e:\n",
    "            print(f\"Status update error: {e}\")\n",
    "    \n",
    "    def _on_start_click(self, button):\n",
    "        \"\"\"Handle start button click\"\"\"\n",
    "        self.visualization_active = True\n",
    "        print(\"▶️ Visualization started\")\n",
    "    \n",
    "    def _on_stop_click(self, button):\n",
    "        \"\"\"Handle stop button click\"\"\"\n",
    "        self.visualization_active = False\n",
    "        print(\"⏹️ Visualization stopped\")\n",
    "    \n",
    "    def _on_snapshot_click(self, button):\n",
    "        \"\"\"Handle snapshot button click\"\"\"\n",
    "        try:\n",
    "            if self.current_frame is not None:\n",
    "                timestamp = datetime.now().strftime('%Y%m%d_%H%M%S')\n",
    "                snapshot_path = snapshots_dir / f'snapshot_{timestamp}.jpg'\n",
    "                cv2.imwrite(str(snapshot_path), self.current_frame)\n",
    "                print(f\"📸 Snapshot saved: {snapshot_path}\")\n",
    "            else:\n",
    "                print(\"⚠️ No frame available for snapshot\")\n",
    "        except Exception as e:\n",
    "            print(f\"❌ Snapshot error: {e}\")\n",
    "    \n",
    "    def stop_visualization(self):\n",
    "        \"\"\"Stop the visualization\"\"\"\n",
    "        self.visualization_active = False\n",
    "        print(\"🛑 Visualization stopped\")\n",
    "\n",
    "# Initialize Live Camera Visualizer\n",
    "print(\"\\n🔄 INITIALIZING LIVE VISUALIZER:\")\n",
    "\n",
    "try:\n",
    "    if not all([ai_system, db, camera_manager]):\n",
    "        missing = []\n",
    "        if not ai_system: missing.append(\"AI System\")\n",
    "        if not db: missing.append(\"Database\") \n",
    "        if not camera_manager: missing.append(\"Camera Manager\")\n",
    "        \n",
    "        print(f\"❌ Missing components: {', '.join(missing)}\")\n",
    "        visualizer = None\n",
    "    else:\n",
    "        visualizer = LiveCameraVisualizer(ai_system, db, camera_manager)\n",
    "        if visualizer.available:\n",
    "            print(\"✅ Live Camera Visualizer ready\")\n",
    "        else:\n",
    "            print(\"❌ Visualizer initialization failed\")\n",
    "            visualizer = None\n",
    "\n",
    "except Exception as e:\n",
    "    print(f\"❌ Visualizer initialization error: {e}\")\n",
    "    visualizer = None\n",
    "\n",
    "# Usage instructions\n",
    "print(\"\\n🎯 LIVE VISUALIZATION USAGE:\")\n",
    "if visualizer and visualizer.available:\n",
    "    print(\"📺 Main Functions:\")\n",
    "    print(\"├─ visualizer.start_visualization(duration_minutes=5)\")\n",
    "    print(\"├─ visualizer.start_visualization(duration_minutes=10)\")\n",
    "    print(\"└─ visualizer.stop_visualization()\")\n",
    "    \n",
    "    print(\"\\n🎛️ Interactive Features:\")\n",
    "    print(\"├─ Real-time camera feed with face detection boxes\")\n",
    "    print(\"├─ Employee name and confidence display\")\n",
    "    print(\"├─ Performance metrics overlay (FPS, processing time)\")\n",
    "    print(\"├─ Interactive controls (start/stop/snapshot)\")\n",
    "    print(\"├─ Adjustable recognition threshold\")\n",
    "    print(\"└─ Frame skip control for performance tuning\")\n",
    "    \n",
    "    print(\"\\n🎨 Visual Elements:\")\n",
    "    print(\"├─ 🟢 Green box: New employee recognition\")\n",
    "    print(\"├─ 🟡 Yellow box: Known employee (cooldown period)\")\n",
    "    print(\"├─ 🔴 Red box: Unknown face\")\n",
    "    print(\"├─ Real-time FPS and processing metrics\")\n",
    "    print(\"└─ Recent recognition history\")\n",
    "    \n",
    "else:\n",
    "    print(\"❌ Live visualizer not available\")\n",
    "\n",
    "print(\"\\n💡 QUICK START:\")\n",
    "print(\"1. Ensure employees are registered\")\n",
    "print(\"2. Run: visualizer.start_visualization(duration_minutes=3)\")\n",
    "print(\"3. Use interactive controls to adjust settings\")\n",
    "print(\"4. Take snapshots of interesting moments\")\n",
    "print(\"5. Stop when finished\")\n",
    "\n",
    "print(\"\\n⚙️ PERFORMANCE TIPS:\")\n",
    "print(\"├─ Increase 'Frame Skip' for better performance\")\n",
    "print(\"├─ Adjust 'Recognition Threshold' for accuracy\")\n",
    "print(\"├─ Toggle display elements to reduce processing\")\n",
    "print(\"└─ Use shorter duration for initial testing\")\n",
    "\n",
    "print(\"=\" * 40)\n"
   ]
  },
  {
   "cell_type": "code",
   "execution_count": 6,
   "metadata": {},
   "outputs": [
    {
     "name": "stdout",
     "output_type": "stream",
     "text": [
      "🔍 Scanning employee folders in: k:\\Workspace\\BHK Research\\auto-face-attendance\\notebooks\\employees\n",
      "📁 Found 3 employee folders:\n",
      "  ├─ Trịnh_Việt_Hoàng\n",
      "  ├─ Mạc Đăng Khoa\n",
      "  ├─ Phúc\n",
      "\n",
      "🔄 Processing employee folders...\n"
     ]
    },
    {
     "name": "stderr",
     "output_type": "stream",
     "text": [
      "Processing employees: 100%|██████████| 3/3 [00:00<00:00, 790.93it/s]"
     ]
    },
    {
     "name": "stdout",
     "output_type": "stream",
     "text": [
      "  ⚠️ Trịnh Việt Hoàng: Insufficient quality faces (0)\n",
      "  ⚠️ Mạc Đăng Khoa: No images found\n",
      "  ⚠️ Phúc: No images found\n",
      "\n",
      "✅ Scan completed:\n",
      "├─ Folders processed: 3\n",
      "├─ Successfully registered: 0\n",
      "└─ Database employees: 0\n",
      "\n",
      "📋 EMPLOYEE SCAN SUMMARY\n",
      "================================================================================\n"
     ]
    },
    {
     "name": "stderr",
     "output_type": "stream",
     "text": [
      "\n"
     ]
    },
    {
     "data": {
      "text/html": [
       "<table border=\"1\" class=\"dataframe\">\n",
       "  <thead>\n",
       "    <tr style=\"text-align: right;\">\n",
       "      <th>Employee</th>\n",
       "      <th>Total Images</th>\n",
       "      <th>Valid Faces</th>\n",
       "      <th>Avg Quality</th>\n",
       "      <th>Registered</th>\n",
       "      <th>Employee ID</th>\n",
       "      <th>Status</th>\n",
       "    </tr>\n",
       "  </thead>\n",
       "  <tbody>\n",
       "    <tr>\n",
       "      <td>Trịnh Việt Hoàng</td>\n",
       "      <td>6</td>\n",
       "      <td>0</td>\n",
       "      <td>0.000</td>\n",
       "      <td>❌</td>\n",
       "      <td>N/A</td>\n",
       "      <td>Insufficient quality faces (0)</td>\n",
       "    </tr>\n",
       "    <tr>\n",
       "      <td>Mạc Đăng Khoa</td>\n",
       "      <td>0</td>\n",
       "      <td>0</td>\n",
       "      <td>0.000</td>\n",
       "      <td>❌</td>\n",
       "      <td>N/A</td>\n",
       "      <td>No images found</td>\n",
       "    </tr>\n",
       "    <tr>\n",
       "      <td>Phúc</td>\n",
       "      <td>0</td>\n",
       "      <td>0</td>\n",
       "      <td>0.000</td>\n",
       "      <td>❌</td>\n",
       "      <td>N/A</td>\n",
       "      <td>No images found</td>\n",
       "    </tr>\n",
       "  </tbody>\n",
       "</table>"
      ],
      "text/plain": [
       "<IPython.core.display.HTML object>"
      ]
     },
     "metadata": {},
     "output_type": "display_data"
    },
    {
     "name": "stdout",
     "output_type": "stream",
     "text": [
      "\n",
      "⚠️ DETAILED ERROR REPORT:\n",
      "\n",
      "Trịnh Việt Hoàng:\n",
      "  ├─ Cannot read WIN_20250731_16_03_02_Pro.jpg\n",
      "  ├─ Cannot read WIN_20250731_16_02_59_Pro.jpg\n",
      "  ├─ Cannot read WIN_20250731_16_03_01_Pro.jpg\n",
      "  ├─ Cannot read WIN_20250731_16_03_02_Pro.jpg\n",
      "  ├─ Cannot read WIN_20250731_16_02_59_Pro.jpg\n",
      "  ├─ Cannot read WIN_20250731_16_03_01_Pro.jpg\n",
      "🚀 Starting live visualization for 3 minutes...\n",
      "🔍 Detecting cameras...\n",
      "🔍 Detecting available cameras...\n",
      "  Testing camera 0... ✅ 640x480 @ 0.0 FPS\n",
      "  Testing camera 1... ❌ Cannot open\n",
      "  Testing camera 2... ❌ Cannot open\n",
      "  Testing camera 3... ❌ Cannot open\n",
      "  Testing camera 4... ❌ Cannot open\n",
      "  Testing camera 5... ❌ Cannot open\n",
      "  Testing camera 6... ❌ Cannot open\n",
      "  Testing camera 7... ❌ Cannot open\n",
      "  Testing camera 8... ❌ Cannot open\n",
      "  Testing camera 9... ❌ Cannot open\n",
      "\n",
      "📊 Camera Detection Results:\n",
      "├─ Found 1 working cameras\n",
      "├─ Camera 0: 640x480 @ 0.0 FPS\n",
      "└─ Ready for camera initialization\n",
      "📷 Initializing camera...\n",
      "📷 Initializing camera 0...\n",
      "✅ Camera initialized successfully:\n",
      "├─ Resolution: 640x480\n",
      "├─ Target FPS: 30.00003000003\n",
      "├─ Test frame shape: (480, 640, 3)\n",
      "└─ Status: Ready for capture\n",
      "🎥 Starting camera thread...\n",
      "🔄 Camera capture loop started\n",
      "🎥 Camera thread started successfully\n",
      "⏳ Waiting for camera warm-up...\n",
      "✅ Camera ready for visualization!\n",
      "👥 Checking employee registration...\n",
      "📝 No employees found, scanning folders...\n",
      "🔍 Scanning employee folders in: k:\\Workspace\\BHK Research\\auto-face-attendance\\notebooks\\employees\n",
      "📁 Found 3 employee folders:\n",
      "  ├─ Trịnh_Việt_Hoàng\n",
      "  ├─ Mạc Đăng Khoa\n",
      "  ├─ Phúc\n",
      "\n",
      "🔄 Processing employee folders...\n"
     ]
    },
    {
     "name": "stderr",
     "output_type": "stream",
     "text": [
      "Processing employees: 100%|██████████| 3/3 [00:00<00:00, 997.69it/s]"
     ]
    },
    {
     "name": "stdout",
     "output_type": "stream",
     "text": [
      "  ⚠️ Trịnh Việt Hoàng: Insufficient quality faces (0)\n",
      "  ⚠️ Mạc Đăng Khoa: No images found\n",
      "  ⚠️ Phúc: No images found\n",
      "\n",
      "✅ Scan completed:\n",
      "├─ Folders processed: 3\n",
      "├─ Successfully registered: 0\n",
      "└─ Database employees: 0\n",
      "\n",
      "📋 EMPLOYEE SCAN SUMMARY\n",
      "================================================================================\n"
     ]
    },
    {
     "name": "stderr",
     "output_type": "stream",
     "text": [
      "\n"
     ]
    },
    {
     "data": {
      "text/html": [
       "<table border=\"1\" class=\"dataframe\">\n",
       "  <thead>\n",
       "    <tr style=\"text-align: right;\">\n",
       "      <th>Employee</th>\n",
       "      <th>Total Images</th>\n",
       "      <th>Valid Faces</th>\n",
       "      <th>Avg Quality</th>\n",
       "      <th>Registered</th>\n",
       "      <th>Employee ID</th>\n",
       "      <th>Status</th>\n",
       "    </tr>\n",
       "  </thead>\n",
       "  <tbody>\n",
       "    <tr>\n",
       "      <td>Trịnh Việt Hoàng</td>\n",
       "      <td>6</td>\n",
       "      <td>0</td>\n",
       "      <td>0.000</td>\n",
       "      <td>❌</td>\n",
       "      <td>N/A</td>\n",
       "      <td>Insufficient quality faces (0)</td>\n",
       "    </tr>\n",
       "    <tr>\n",
       "      <td>Mạc Đăng Khoa</td>\n",
       "      <td>0</td>\n",
       "      <td>0</td>\n",
       "      <td>0.000</td>\n",
       "      <td>❌</td>\n",
       "      <td>N/A</td>\n",
       "      <td>No images found</td>\n",
       "    </tr>\n",
       "    <tr>\n",
       "      <td>Phúc</td>\n",
       "      <td>0</td>\n",
       "      <td>0</td>\n",
       "      <td>0.000</td>\n",
       "      <td>❌</td>\n",
       "      <td>N/A</td>\n",
       "      <td>No images found</td>\n",
       "    </tr>\n",
       "  </tbody>\n",
       "</table>"
      ],
      "text/plain": [
       "<IPython.core.display.HTML object>"
      ]
     },
     "metadata": {},
     "output_type": "display_data"
    },
    {
     "name": "stdout",
     "output_type": "stream",
     "text": [
      "\n",
      "⚠️ DETAILED ERROR REPORT:\n",
      "\n",
      "Trịnh Việt Hoàng:\n",
      "  ├─ Cannot read WIN_20250731_16_03_02_Pro.jpg\n",
      "  ├─ Cannot read WIN_20250731_16_02_59_Pro.jpg\n",
      "  ├─ Cannot read WIN_20250731_16_03_01_Pro.jpg\n",
      "  ├─ Cannot read WIN_20250731_16_03_02_Pro.jpg\n",
      "  ├─ Cannot read WIN_20250731_16_02_59_Pro.jpg\n",
      "  ├─ Cannot read WIN_20250731_16_03_01_Pro.jpg\n",
      "✅ Registered 0 employees\n",
      "🎛️ Creating control interface...\n"
     ]
    },
    {
     "data": {
      "application/vnd.jupyter.widget-view+json": {
       "model_id": "dabaca4753204cc5a8f28762e8e7cb35",
       "version_major": 2,
       "version_minor": 0
      },
      "text/plain": [
       "VBox(children=(HBox(children=(Button(button_style='success', description='▶️ Start', style=ButtonStyle()), But…"
      ]
     },
     "metadata": {},
     "output_type": "display_data"
    },
    {
     "data": {
      "application/vnd.jupyter.widget-view+json": {
       "model_id": "d2073f4fe894451997e1f982af87fa9c",
       "version_major": 2,
       "version_minor": 0
      },
      "text/plain": [
       "Output()"
      ]
     },
     "metadata": {},
     "output_type": "display_data"
    },
    {
     "name": "stdout",
     "output_type": "stream",
     "text": [
      "✅ Control interface ready\n",
      "🔄 Starting visualization loop...\n"
     ]
    },
    {
     "name": "stdout",
     "output_type": "stream",
     "text": [
      "\\rProcessing... | Frame: 3 | Recent: 0"
     ]
    },
    {
     "name": "stdout",
     "output_type": "stream",
     "text": [
      "\\rProcessing... | Frame: 5 | Recent: 0"
     ]
    },
    {
     "name": "stdout",
     "output_type": "stream",
     "text": [
      "\\rProcessing... | Frame: 7 | Recent: 0"
     ]
    },
    {
     "name": "stdout",
     "output_type": "stream",
     "text": [
      "\\rProcessing... | Frame: 9 | Recent: 0"
     ]
    },
    {
     "name": "stdout",
     "output_type": "stream",
     "text": [
      "\\rProcessing... | Frame: 11 | Recent: 0"
     ]
    },
    {
     "name": "stdout",
     "output_type": "stream",
     "text": [
      "\\rProcessing... | Frame: 13 | Recent: 0"
     ]
    },
    {
     "name": "stdout",
     "output_type": "stream",
     "text": [
      "\\rProcessing... | Frame: 15 | Recent: 0"
     ]
    },
    {
     "name": "stdout",
     "output_type": "stream",
     "text": [
      "\\rProcessing... | Frame: 17 | Recent: 0"
     ]
    },
    {
     "name": "stdout",
     "output_type": "stream",
     "text": [
      "\\rProcessing... | Frame: 19 | Recent: 0"
     ]
    },
    {
     "name": "stdout",
     "output_type": "stream",
     "text": [
      "\\rProcessing... | Frame: 21 | Recent: 0"
     ]
    },
    {
     "name": "stdout",
     "output_type": "stream",
     "text": [
      "\\rProcessing... | Frame: 23 | Recent: 0"
     ]
    },
    {
     "name": "stdout",
     "output_type": "stream",
     "text": [
      "\\rProcessing... | Frame: 25 | Recent: 0"
     ]
    },
    {
     "name": "stdout",
     "output_type": "stream",
     "text": [
      "\\rProcessing... | Frame: 27 | Recent: 0"
     ]
    },
    {
     "name": "stdout",
     "output_type": "stream",
     "text": [
      "\\rProcessing... | Frame: 29 | Recent: 0"
     ]
    },
    {
     "name": "stdout",
     "output_type": "stream",
     "text": [
      "\\rProcessing... | Frame: 31 | Recent: 0"
     ]
    },
    {
     "name": "stdout",
     "output_type": "stream",
     "text": [
      "\\rProcessing... | Frame: 33 | Recent: 0"
     ]
    },
    {
     "name": "stdout",
     "output_type": "stream",
     "text": [
      "\\rProcessing... | Frame: 35 | Recent: 0"
     ]
    },
    {
     "name": "stdout",
     "output_type": "stream",
     "text": [
      "\\rProcessing... | Frame: 37 | Recent: 0"
     ]
    },
    {
     "name": "stdout",
     "output_type": "stream",
     "text": [
      "\\rProcessing... | Frame: 39 | Recent: 0"
     ]
    },
    {
     "name": "stdout",
     "output_type": "stream",
     "text": [
      "\\rProcessing... | Frame: 41 | Recent: 0"
     ]
    },
    {
     "name": "stdout",
     "output_type": "stream",
     "text": [
      "\\rProcessing... | Frame: 43 | Recent: 0"
     ]
    },
    {
     "name": "stdout",
     "output_type": "stream",
     "text": [
      "\\rProcessing... | Frame: 45 | Recent: 0"
     ]
    },
    {
     "name": "stdout",
     "output_type": "stream",
     "text": [
      "\\rProcessing... | Frame: 47 | Recent: 0"
     ]
    },
    {
     "name": "stdout",
     "output_type": "stream",
     "text": [
      "\\rProcessing... | Frame: 49 | Recent: 0"
     ]
    },
    {
     "name": "stdout",
     "output_type": "stream",
     "text": [
      "\\rProcessing... | Frame: 51 | Recent: 0"
     ]
    },
    {
     "name": "stdout",
     "output_type": "stream",
     "text": [
      "\\rProcessing... | Frame: 53 | Recent: 0"
     ]
    },
    {
     "name": "stdout",
     "output_type": "stream",
     "text": [
      "\\rProcessing... | Frame: 55 | Recent: 0"
     ]
    },
    {
     "name": "stdout",
     "output_type": "stream",
     "text": [
      "\\rProcessing... | Frame: 57 | Recent: 0"
     ]
    },
    {
     "name": "stdout",
     "output_type": "stream",
     "text": [
      "\\rProcessing... | Frame: 59 | Recent: 0"
     ]
    },
    {
     "name": "stdout",
     "output_type": "stream",
     "text": [
      "\\rProcessing... | Frame: 61 | Recent: 0"
     ]
    },
    {
     "name": "stdout",
     "output_type": "stream",
     "text": [
      "\\rProcessing... | Frame: 63 | Recent: 0"
     ]
    },
    {
     "name": "stdout",
     "output_type": "stream",
     "text": [
      "\\rProcessing... | Frame: 65 | Recent: 0"
     ]
    },
    {
     "name": "stdout",
     "output_type": "stream",
     "text": [
      "\\rProcessing... | Frame: 67 | Recent: 0"
     ]
    },
    {
     "name": "stdout",
     "output_type": "stream",
     "text": [
      "\\rProcessing... | Frame: 69 | Recent: 0"
     ]
    },
    {
     "name": "stdout",
     "output_type": "stream",
     "text": [
      "\\rProcessing... | Frame: 71 | Recent: 0"
     ]
    },
    {
     "name": "stdout",
     "output_type": "stream",
     "text": [
      "\\rProcessing... | Frame: 73 | Recent: 0"
     ]
    },
    {
     "name": "stdout",
     "output_type": "stream",
     "text": [
      "\\rProcessing... | Frame: 75 | Recent: 0"
     ]
    },
    {
     "name": "stdout",
     "output_type": "stream",
     "text": [
      "\\rProcessing... | Frame: 77 | Recent: 0"
     ]
    },
    {
     "name": "stdout",
     "output_type": "stream",
     "text": [
      "\\rProcessing... | Frame: 79 | Recent: 0"
     ]
    },
    {
     "name": "stdout",
     "output_type": "stream",
     "text": [
      "\\rProcessing... | Frame: 81 | Recent: 0"
     ]
    },
    {
     "name": "stdout",
     "output_type": "stream",
     "text": [
      "\\rProcessing... | Frame: 83 | Recent: 0"
     ]
    },
    {
     "name": "stdout",
     "output_type": "stream",
     "text": [
      "\\rProcessing... | Frame: 85 | Recent: 0"
     ]
    },
    {
     "name": "stdout",
     "output_type": "stream",
     "text": [
      "\\rProcessing... | Frame: 87 | Recent: 0"
     ]
    },
    {
     "name": "stdout",
     "output_type": "stream",
     "text": [
      "\\rProcessing... | Frame: 89 | Recent: 0"
     ]
    },
    {
     "name": "stdout",
     "output_type": "stream",
     "text": [
      "\\rProcessing... | Frame: 91 | Recent: 0"
     ]
    },
    {
     "name": "stdout",
     "output_type": "stream",
     "text": [
      "\\rProcessing... | Frame: 93 | Recent: 0"
     ]
    },
    {
     "name": "stdout",
     "output_type": "stream",
     "text": [
      "\\rProcessing... | Frame: 95 | Recent: 0"
     ]
    },
    {
     "name": "stdout",
     "output_type": "stream",
     "text": [
      "\\rProcessing... | Frame: 97 | Recent: 0"
     ]
    },
    {
     "name": "stdout",
     "output_type": "stream",
     "text": [
      "\\rProcessing... | Frame: 99 | Recent: 0"
     ]
    },
    {
     "name": "stdout",
     "output_type": "stream",
     "text": [
      "\\rProcessing... | Frame: 101 | Recent: 0"
     ]
    },
    {
     "name": "stdout",
     "output_type": "stream",
     "text": [
      "\\rProcessing... | Frame: 103 | Recent: 0"
     ]
    },
    {
     "name": "stdout",
     "output_type": "stream",
     "text": [
      "\\rProcessing... | Frame: 105 | Recent: 0"
     ]
    },
    {
     "name": "stdout",
     "output_type": "stream",
     "text": [
      "\\rProcessing... | Frame: 107 | Recent: 0"
     ]
    },
    {
     "name": "stdout",
     "output_type": "stream",
     "text": [
      "\\rProcessing... | Frame: 109 | Recent: 0"
     ]
    },
    {
     "name": "stdout",
     "output_type": "stream",
     "text": [
      "\\rProcessing... | Frame: 111 | Recent: 0"
     ]
    },
    {
     "name": "stdout",
     "output_type": "stream",
     "text": [
      "\\rProcessing... | Frame: 113 | Recent: 0"
     ]
    },
    {
     "name": "stdout",
     "output_type": "stream",
     "text": [
      "\\rProcessing... | Frame: 123 | Recent: 0"
     ]
    },
    {
     "name": "stdout",
     "output_type": "stream",
     "text": [
      "\\rProcessing... | Frame: 127 | Recent: 0"
     ]
    },
    {
     "name": "stdout",
     "output_type": "stream",
     "text": [
      "\\rProcessing... | Frame: 129 | Recent: 0"
     ]
    },
    {
     "name": "stdout",
     "output_type": "stream",
     "text": [
      "\\rProcessing... | Frame: 131 | Recent: 0"
     ]
    },
    {
     "name": "stdout",
     "output_type": "stream",
     "text": [
      "\\rProcessing... | Frame: 134 | Recent: 0"
     ]
    },
    {
     "name": "stdout",
     "output_type": "stream",
     "text": [
      "\\rProcessing... | Frame: 135 | Recent: 0"
     ]
    },
    {
     "name": "stdout",
     "output_type": "stream",
     "text": [
      "\\rProcessing... | Frame: 137 | Recent: 0"
     ]
    },
    {
     "name": "stdout",
     "output_type": "stream",
     "text": [
      "\\rProcessing... | Frame: 139 | Recent: 0"
     ]
    },
    {
     "name": "stdout",
     "output_type": "stream",
     "text": [
      "\\rProcessing... | Frame: 141 | Recent: 0"
     ]
    },
    {
     "name": "stdout",
     "output_type": "stream",
     "text": [
      "\\rProcessing... | Frame: 143 | Recent: 0"
     ]
    },
    {
     "name": "stdout",
     "output_type": "stream",
     "text": [
      "\\rProcessing... | Frame: 145 | Recent: 0"
     ]
    },
    {
     "name": "stdout",
     "output_type": "stream",
     "text": [
      "\\rProcessing... | Frame: 147 | Recent: 0"
     ]
    },
    {
     "name": "stdout",
     "output_type": "stream",
     "text": [
      "\\rProcessing... | Frame: 149 | Recent: 0"
     ]
    },
    {
     "name": "stdout",
     "output_type": "stream",
     "text": [
      "\\rProcessing... | Frame: 151 | Recent: 0"
     ]
    },
    {
     "name": "stdout",
     "output_type": "stream",
     "text": [
      "\\rProcessing... | Frame: 153 | Recent: 0"
     ]
    },
    {
     "name": "stdout",
     "output_type": "stream",
     "text": [
      "\\rProcessing... | Frame: 155 | Recent: 0"
     ]
    },
    {
     "name": "stdout",
     "output_type": "stream",
     "text": [
      "\\rProcessing... | Frame: 157 | Recent: 0"
     ]
    },
    {
     "name": "stdout",
     "output_type": "stream",
     "text": [
      "\\rProcessing... | Frame: 159 | Recent: 0"
     ]
    },
    {
     "name": "stdout",
     "output_type": "stream",
     "text": [
      "\\rProcessing... | Frame: 161 | Recent: 0"
     ]
    },
    {
     "name": "stdout",
     "output_type": "stream",
     "text": [
      "\\rProcessing... | Frame: 163 | Recent: 0"
     ]
    },
    {
     "name": "stdout",
     "output_type": "stream",
     "text": [
      "\\rProcessing... | Frame: 167 | Recent: 0"
     ]
    },
    {
     "name": "stdout",
     "output_type": "stream",
     "text": [
      "\\rProcessing... | Frame: 169 | Recent: 0"
     ]
    },
    {
     "name": "stdout",
     "output_type": "stream",
     "text": [
      "\\rProcessing... | Frame: 173 | Recent: 0"
     ]
    },
    {
     "name": "stdout",
     "output_type": "stream",
     "text": [
      "\\rProcessing... | Frame: 175 | Recent: 0"
     ]
    },
    {
     "name": "stdout",
     "output_type": "stream",
     "text": [
      "\\rProcessing... | Frame: 177 | Recent: 0"
     ]
    },
    {
     "name": "stdout",
     "output_type": "stream",
     "text": [
      "\\rProcessing... | Frame: 179 | Recent: 0"
     ]
    },
    {
     "name": "stdout",
     "output_type": "stream",
     "text": [
      "\\rProcessing... | Frame: 181 | Recent: 0"
     ]
    },
    {
     "name": "stdout",
     "output_type": "stream",
     "text": [
      "\\rProcessing... | Frame: 183 | Recent: 0"
     ]
    },
    {
     "name": "stdout",
     "output_type": "stream",
     "text": [
      "\\rProcessing... | Frame: 185 | Recent: 0"
     ]
    },
    {
     "name": "stdout",
     "output_type": "stream",
     "text": [
      "\\rProcessing... | Frame: 187 | Recent: 0"
     ]
    },
    {
     "name": "stdout",
     "output_type": "stream",
     "text": [
      "\\rProcessing... | Frame: 189 | Recent: 0"
     ]
    },
    {
     "name": "stdout",
     "output_type": "stream",
     "text": [
      "\\rProcessing... | Frame: 191 | Recent: 0"
     ]
    },
    {
     "name": "stdout",
     "output_type": "stream",
     "text": [
      "\\rProcessing... | Frame: 193 | Recent: 0"
     ]
    },
    {
     "name": "stdout",
     "output_type": "stream",
     "text": [
      "\\rProcessing... | Frame: 195 | Recent: 0"
     ]
    },
    {
     "name": "stdout",
     "output_type": "stream",
     "text": [
      "\\rProcessing... | Frame: 197 | Recent: 0"
     ]
    },
    {
     "name": "stdout",
     "output_type": "stream",
     "text": [
      "\\rProcessing... | Frame: 199 | Recent: 0"
     ]
    },
    {
     "name": "stdout",
     "output_type": "stream",
     "text": [
      "\\rProcessing... | Frame: 201 | Recent: 0"
     ]
    },
    {
     "name": "stdout",
     "output_type": "stream",
     "text": [
      "\\rProcessing... | Frame: 203 | Recent: 0"
     ]
    },
    {
     "name": "stdout",
     "output_type": "stream",
     "text": [
      "\\rProcessing... | Frame: 205 | Recent: 0"
     ]
    },
    {
     "name": "stdout",
     "output_type": "stream",
     "text": [
      "\\rProcessing... | Frame: 207 | Recent: 0"
     ]
    },
    {
     "name": "stdout",
     "output_type": "stream",
     "text": [
      "\\rProcessing... | Frame: 209 | Recent: 0"
     ]
    },
    {
     "name": "stdout",
     "output_type": "stream",
     "text": [
      "\\rProcessing... | Frame: 211 | Recent: 0"
     ]
    },
    {
     "name": "stdout",
     "output_type": "stream",
     "text": [
      "\\rProcessing... | Frame: 213 | Recent: 0"
     ]
    },
    {
     "name": "stdout",
     "output_type": "stream",
     "text": [
      "\\rProcessing... | Frame: 215 | Recent: 0"
     ]
    },
    {
     "name": "stdout",
     "output_type": "stream",
     "text": [
      "\\rProcessing... | Frame: 217 | Recent: 0"
     ]
    },
    {
     "name": "stdout",
     "output_type": "stream",
     "text": [
      "\\rProcessing... | Frame: 219 | Recent: 0"
     ]
    },
    {
     "name": "stdout",
     "output_type": "stream",
     "text": [
      "\\rProcessing... | Frame: 221 | Recent: 0"
     ]
    },
    {
     "name": "stdout",
     "output_type": "stream",
     "text": [
      "\\rProcessing... | Frame: 223 | Recent: 0"
     ]
    },
    {
     "name": "stdout",
     "output_type": "stream",
     "text": [
      "\\rProcessing... | Frame: 225 | Recent: 0"
     ]
    },
    {
     "name": "stdout",
     "output_type": "stream",
     "text": [
      "\\rProcessing... | Frame: 228 | Recent: 0"
     ]
    },
    {
     "name": "stdout",
     "output_type": "stream",
     "text": [
      "\\rProcessing... | Frame: 229 | Recent: 0"
     ]
    },
    {
     "name": "stdout",
     "output_type": "stream",
     "text": [
      "\\rProcessing... | Frame: 231 | Recent: 0"
     ]
    },
    {
     "name": "stdout",
     "output_type": "stream",
     "text": [
      "\\rProcessing... | Frame: 233 | Recent: 0"
     ]
    },
    {
     "name": "stdout",
     "output_type": "stream",
     "text": [
      "\\rProcessing... | Frame: 235 | Recent: 0"
     ]
    },
    {
     "name": "stdout",
     "output_type": "stream",
     "text": [
      "\\rProcessing... | Frame: 237 | Recent: 0"
     ]
    },
    {
     "name": "stdout",
     "output_type": "stream",
     "text": [
      "\\rProcessing... | Frame: 239 | Recent: 0"
     ]
    },
    {
     "name": "stdout",
     "output_type": "stream",
     "text": [
      "\\rProcessing... | Frame: 241 | Recent: 0"
     ]
    },
    {
     "name": "stdout",
     "output_type": "stream",
     "text": [
      "\\rProcessing... | Frame: 243 | Recent: 0"
     ]
    },
    {
     "name": "stdout",
     "output_type": "stream",
     "text": [
      "\\rProcessing... | Frame: 245 | Recent: 0"
     ]
    },
    {
     "name": "stdout",
     "output_type": "stream",
     "text": [
      "\\rProcessing... | Frame: 247 | Recent: 0"
     ]
    },
    {
     "name": "stdout",
     "output_type": "stream",
     "text": [
      "\\rProcessing... | Frame: 249 | Recent: 0"
     ]
    },
    {
     "name": "stdout",
     "output_type": "stream",
     "text": [
      "\\rProcessing... | Frame: 251 | Recent: 0"
     ]
    },
    {
     "name": "stdout",
     "output_type": "stream",
     "text": [
      "\\rProcessing... | Frame: 253 | Recent: 0"
     ]
    },
    {
     "name": "stdout",
     "output_type": "stream",
     "text": [
      "\\rProcessing... | Frame: 257 | Recent: 0"
     ]
    },
    {
     "name": "stdout",
     "output_type": "stream",
     "text": [
      "\\rProcessing... | Frame: 259 | Recent: 0"
     ]
    },
    {
     "name": "stdout",
     "output_type": "stream",
     "text": [
      "\\rProcessing... | Frame: 261 | Recent: 0"
     ]
    },
    {
     "name": "stdout",
     "output_type": "stream",
     "text": [
      "\\rProcessing... | Frame: 263 | Recent: 0"
     ]
    },
    {
     "name": "stdout",
     "output_type": "stream",
     "text": [
      "\\rProcessing... | Frame: 265 | Recent: 0"
     ]
    },
    {
     "name": "stdout",
     "output_type": "stream",
     "text": [
      "\\rProcessing... | Frame: 267 | Recent: 0"
     ]
    },
    {
     "name": "stdout",
     "output_type": "stream",
     "text": [
      "\\rProcessing... | Frame: 269 | Recent: 0"
     ]
    },
    {
     "name": "stdout",
     "output_type": "stream",
     "text": [
      "\\rProcessing... | Frame: 271 | Recent: 0"
     ]
    },
    {
     "name": "stdout",
     "output_type": "stream",
     "text": [
      "\\rProcessing... | Frame: 273 | Recent: 0"
     ]
    },
    {
     "name": "stdout",
     "output_type": "stream",
     "text": [
      "\\rProcessing... | Frame: 275 | Recent: 0"
     ]
    },
    {
     "name": "stdout",
     "output_type": "stream",
     "text": [
      "\\rProcessing... | Frame: 277 | Recent: 0"
     ]
    },
    {
     "name": "stdout",
     "output_type": "stream",
     "text": [
      "\\rProcessing... | Frame: 279 | Recent: 0"
     ]
    },
    {
     "name": "stdout",
     "output_type": "stream",
     "text": [
      "\\rProcessing... | Frame: 281 | Recent: 0"
     ]
    },
    {
     "name": "stdout",
     "output_type": "stream",
     "text": [
      "\\rProcessing... | Frame: 283 | Recent: 0"
     ]
    },
    {
     "name": "stdout",
     "output_type": "stream",
     "text": [
      "\\rProcessing... | Frame: 285 | Recent: 0"
     ]
    },
    {
     "name": "stdout",
     "output_type": "stream",
     "text": [
      "\\rProcessing... | Frame: 287 | Recent: 0"
     ]
    },
    {
     "name": "stdout",
     "output_type": "stream",
     "text": [
      "\\rProcessing... | Frame: 289 | Recent: 0"
     ]
    },
    {
     "name": "stdout",
     "output_type": "stream",
     "text": [
      "\\rProcessing... | Frame: 291 | Recent: 0"
     ]
    },
    {
     "name": "stdout",
     "output_type": "stream",
     "text": [
      "\\rProcessing... | Frame: 293 | Recent: 0"
     ]
    },
    {
     "name": "stdout",
     "output_type": "stream",
     "text": [
      "\\rProcessing... | Frame: 295 | Recent: 0"
     ]
    },
    {
     "name": "stdout",
     "output_type": "stream",
     "text": [
      "\\rProcessing... | Frame: 297 | Recent: 0"
     ]
    },
    {
     "name": "stdout",
     "output_type": "stream",
     "text": [
      "\\rProcessing... | Frame: 299 | Recent: 0"
     ]
    },
    {
     "name": "stdout",
     "output_type": "stream",
     "text": [
      "\\rProcessing... | Frame: 301 | Recent: 0"
     ]
    },
    {
     "name": "stdout",
     "output_type": "stream",
     "text": [
      "\\rProcessing... | Frame: 304 | Recent: 0"
     ]
    },
    {
     "name": "stdout",
     "output_type": "stream",
     "text": [
      "\\rProcessing... | Frame: 305 | Recent: 0"
     ]
    },
    {
     "name": "stdout",
     "output_type": "stream",
     "text": [
      "\\rProcessing... | Frame: 307 | Recent: 0"
     ]
    },
    {
     "name": "stdout",
     "output_type": "stream",
     "text": [
      "\\rProcessing... | Frame: 309 | Recent: 0"
     ]
    },
    {
     "name": "stdout",
     "output_type": "stream",
     "text": [
      "\\rProcessing... | Frame: 311 | Recent: 0"
     ]
    },
    {
     "name": "stdout",
     "output_type": "stream",
     "text": [
      "\\rProcessing... | Frame: 313 | Recent: 0"
     ]
    },
    {
     "name": "stdout",
     "output_type": "stream",
     "text": [
      "\\rProcessing... | Frame: 315 | Recent: 0"
     ]
    },
    {
     "name": "stdout",
     "output_type": "stream",
     "text": [
      "\\rProcessing... | Frame: 317 | Recent: 0"
     ]
    },
    {
     "name": "stdout",
     "output_type": "stream",
     "text": [
      "\\rProcessing... | Frame: 319 | Recent: 0"
     ]
    },
    {
     "name": "stdout",
     "output_type": "stream",
     "text": [
      "\\rProcessing... | Frame: 321 | Recent: 0"
     ]
    },
    {
     "name": "stdout",
     "output_type": "stream",
     "text": [
      "\\rProcessing... | Frame: 323 | Recent: 0"
     ]
    },
    {
     "name": "stdout",
     "output_type": "stream",
     "text": [
      "\\rProcessing... | Frame: 325 | Recent: 0"
     ]
    },
    {
     "name": "stdout",
     "output_type": "stream",
     "text": [
      "\\rProcessing... | Frame: 327 | Recent: 0"
     ]
    },
    {
     "name": "stdout",
     "output_type": "stream",
     "text": [
      "\\rProcessing... | Frame: 329 | Recent: 0"
     ]
    },
    {
     "name": "stdout",
     "output_type": "stream",
     "text": [
      "\\rProcessing... | Frame: 331 | Recent: 0"
     ]
    },
    {
     "name": "stdout",
     "output_type": "stream",
     "text": [
      "\\rProcessing... | Frame: 333 | Recent: 0"
     ]
    },
    {
     "name": "stdout",
     "output_type": "stream",
     "text": [
      "\\rProcessing... | Frame: 337 | Recent: 0"
     ]
    },
    {
     "name": "stdout",
     "output_type": "stream",
     "text": [
      "\\rProcessing... | Frame: 339 | Recent: 0"
     ]
    },
    {
     "name": "stdout",
     "output_type": "stream",
     "text": [
      "\\rProcessing... | Frame: 341 | Recent: 0"
     ]
    },
    {
     "name": "stdout",
     "output_type": "stream",
     "text": [
      "\\rProcessing... | Frame: 343 | Recent: 0"
     ]
    },
    {
     "name": "stdout",
     "output_type": "stream",
     "text": [
      "\\rProcessing... | Frame: 345 | Recent: 0"
     ]
    },
    {
     "name": "stdout",
     "output_type": "stream",
     "text": [
      "\\rProcessing... | Frame: 347 | Recent: 0"
     ]
    },
    {
     "name": "stdout",
     "output_type": "stream",
     "text": [
      "\\rProcessing... | Frame: 349 | Recent: 0"
     ]
    },
    {
     "name": "stdout",
     "output_type": "stream",
     "text": [
      "\\rProcessing... | Frame: 351 | Recent: 0"
     ]
    },
    {
     "name": "stdout",
     "output_type": "stream",
     "text": [
      "\\rProcessing... | Frame: 353 | Recent: 0"
     ]
    },
    {
     "name": "stdout",
     "output_type": "stream",
     "text": [
      "\\rProcessing... | Frame: 355 | Recent: 0"
     ]
    },
    {
     "name": "stdout",
     "output_type": "stream",
     "text": [
      "\\rProcessing... | Frame: 357 | Recent: 0"
     ]
    },
    {
     "name": "stdout",
     "output_type": "stream",
     "text": [
      "\\rProcessing... | Frame: 359 | Recent: 0"
     ]
    },
    {
     "name": "stdout",
     "output_type": "stream",
     "text": [
      "\\rProcessing... | Frame: 361 | Recent: 0"
     ]
    },
    {
     "name": "stdout",
     "output_type": "stream",
     "text": [
      "\\rProcessing... | Frame: 363 | Recent: 0"
     ]
    },
    {
     "name": "stdout",
     "output_type": "stream",
     "text": [
      "\\rProcessing... | Frame: 365 | Recent: 0"
     ]
    },
    {
     "name": "stdout",
     "output_type": "stream",
     "text": [
      "\\rProcessing... | Frame: 367 | Recent: 0"
     ]
    },
    {
     "name": "stdout",
     "output_type": "stream",
     "text": [
      "\\rProcessing... | Frame: 369 | Recent: 0"
     ]
    },
    {
     "name": "stdout",
     "output_type": "stream",
     "text": [
      "\\rProcessing... | Frame: 371 | Recent: 0"
     ]
    },
    {
     "name": "stdout",
     "output_type": "stream",
     "text": [
      "\\rProcessing... | Frame: 373 | Recent: 0"
     ]
    },
    {
     "name": "stdout",
     "output_type": "stream",
     "text": [
      "\\rProcessing... | Frame: 375 | Recent: 0"
     ]
    },
    {
     "name": "stdout",
     "output_type": "stream",
     "text": [
      "\\rProcessing... | Frame: 377 | Recent: 0"
     ]
    },
    {
     "name": "stdout",
     "output_type": "stream",
     "text": [
      "\\rProcessing... | Frame: 379 | Recent: 0"
     ]
    },
    {
     "name": "stdout",
     "output_type": "stream",
     "text": [
      "\\rProcessing... | Frame: 381 | Recent: 0"
     ]
    },
    {
     "name": "stdout",
     "output_type": "stream",
     "text": [
      "\\rProcessing... | Frame: 383 | Recent: 0"
     ]
    },
    {
     "name": "stdout",
     "output_type": "stream",
     "text": [
      "\\rProcessing... | Frame: 385 | Recent: 0"
     ]
    },
    {
     "name": "stdout",
     "output_type": "stream",
     "text": [
      "\\rProcessing... | Frame: 387 | Recent: 0"
     ]
    },
    {
     "name": "stdout",
     "output_type": "stream",
     "text": [
      "\\rProcessing... | Frame: 389 | Recent: 0"
     ]
    },
    {
     "name": "stdout",
     "output_type": "stream",
     "text": [
      "\\rProcessing... | Frame: 391 | Recent: 0"
     ]
    },
    {
     "name": "stdout",
     "output_type": "stream",
     "text": [
      "\\rProcessing... | Frame: 393 | Recent: 0"
     ]
    },
    {
     "name": "stdout",
     "output_type": "stream",
     "text": [
      "\\rProcessing... | Frame: 395 | Recent: 0"
     ]
    },
    {
     "name": "stdout",
     "output_type": "stream",
     "text": [
      "\\rProcessing... | Frame: 397 | Recent: 0"
     ]
    },
    {
     "name": "stdout",
     "output_type": "stream",
     "text": [
      "\\rProcessing... | Frame: 399 | Recent: 0"
     ]
    },
    {
     "name": "stdout",
     "output_type": "stream",
     "text": [
      "\\rProcessing... | Frame: 401 | Recent: 0"
     ]
    },
    {
     "name": "stdout",
     "output_type": "stream",
     "text": [
      "\\rProcessing... | Frame: 403 | Recent: 0"
     ]
    },
    {
     "name": "stdout",
     "output_type": "stream",
     "text": [
      "\\rProcessing... | Frame: 405 | Recent: 0"
     ]
    },
    {
     "name": "stdout",
     "output_type": "stream",
     "text": [
      "\\rProcessing... | Frame: 407 | Recent: 0"
     ]
    },
    {
     "name": "stdout",
     "output_type": "stream",
     "text": [
      "\\rProcessing... | Frame: 409 | Recent: 0"
     ]
    },
    {
     "name": "stdout",
     "output_type": "stream",
     "text": [
      "\\rProcessing... | Frame: 411 | Recent: 0"
     ]
    },
    {
     "name": "stdout",
     "output_type": "stream",
     "text": [
      "\\rProcessing... | Frame: 413 | Recent: 0"
     ]
    },
    {
     "name": "stdout",
     "output_type": "stream",
     "text": [
      "\\rProcessing... | Frame: 415 | Recent: 0"
     ]
    },
    {
     "name": "stdout",
     "output_type": "stream",
     "text": [
      "\\rProcessing... | Frame: 417 | Recent: 0"
     ]
    },
    {
     "name": "stdout",
     "output_type": "stream",
     "text": [
      "\\rProcessing... | Frame: 419 | Recent: 0"
     ]
    },
    {
     "name": "stdout",
     "output_type": "stream",
     "text": [
      "\\rProcessing... | Frame: 421 | Recent: 0"
     ]
    },
    {
     "name": "stdout",
     "output_type": "stream",
     "text": [
      "\\rProcessing... | Frame: 423 | Recent: 0"
     ]
    },
    {
     "name": "stdout",
     "output_type": "stream",
     "text": [
      "\\rProcessing... | Frame: 425 | Recent: 0"
     ]
    },
    {
     "name": "stdout",
     "output_type": "stream",
     "text": [
      "\\rProcessing... | Frame: 427 | Recent: 0"
     ]
    },
    {
     "name": "stdout",
     "output_type": "stream",
     "text": [
      "\\rProcessing... | Frame: 429 | Recent: 0"
     ]
    },
    {
     "name": "stdout",
     "output_type": "stream",
     "text": [
      "\\rProcessing... | Frame: 431 | Recent: 0"
     ]
    },
    {
     "name": "stdout",
     "output_type": "stream",
     "text": [
      "\\rProcessing... | Frame: 433 | Recent: 0"
     ]
    },
    {
     "name": "stdout",
     "output_type": "stream",
     "text": [
      "\\rProcessing... | Frame: 435 | Recent: 0"
     ]
    },
    {
     "name": "stdout",
     "output_type": "stream",
     "text": [
      "\\rProcessing... | Frame: 437 | Recent: 0"
     ]
    },
    {
     "name": "stdout",
     "output_type": "stream",
     "text": [
      "\\rProcessing... | Frame: 439 | Recent: 0"
     ]
    },
    {
     "name": "stdout",
     "output_type": "stream",
     "text": [
      "\\rProcessing... | Frame: 441 | Recent: 0"
     ]
    },
    {
     "name": "stdout",
     "output_type": "stream",
     "text": [
      "\\rProcessing... | Frame: 443 | Recent: 0"
     ]
    },
    {
     "name": "stdout",
     "output_type": "stream",
     "text": [
      "\\rProcessing... | Frame: 445 | Recent: 0"
     ]
    },
    {
     "name": "stdout",
     "output_type": "stream",
     "text": [
      "\\rProcessing... | Frame: 447 | Recent: 0"
     ]
    },
    {
     "name": "stdout",
     "output_type": "stream",
     "text": [
      "\\rProcessing... | Frame: 449 | Recent: 0"
     ]
    },
    {
     "name": "stdout",
     "output_type": "stream",
     "text": [
      "\\rProcessing... | Frame: 451 | Recent: 0"
     ]
    },
    {
     "name": "stdout",
     "output_type": "stream",
     "text": [
      "\\rProcessing... | Frame: 453 | Recent: 0"
     ]
    },
    {
     "name": "stdout",
     "output_type": "stream",
     "text": [
      "\\rProcessing... | Frame: 455 | Recent: 0"
     ]
    },
    {
     "name": "stdout",
     "output_type": "stream",
     "text": [
      "\\rProcessing... | Frame: 457 | Recent: 0"
     ]
    },
    {
     "name": "stdout",
     "output_type": "stream",
     "text": [
      "\\rProcessing... | Frame: 459 | Recent: 0"
     ]
    },
    {
     "name": "stdout",
     "output_type": "stream",
     "text": [
      "\\rProcessing... | Frame: 461 | Recent: 0"
     ]
    },
    {
     "name": "stdout",
     "output_type": "stream",
     "text": [
      "\\rProcessing... | Frame: 463 | Recent: 0"
     ]
    },
    {
     "name": "stdout",
     "output_type": "stream",
     "text": [
      "\\rProcessing... | Frame: 465 | Recent: 0"
     ]
    },
    {
     "name": "stdout",
     "output_type": "stream",
     "text": [
      "\\rProcessing... | Frame: 467 | Recent: 0"
     ]
    },
    {
     "name": "stdout",
     "output_type": "stream",
     "text": [
      "\\rProcessing... | Frame: 469 | Recent: 0"
     ]
    },
    {
     "name": "stdout",
     "output_type": "stream",
     "text": [
      "\\rProcessing... | Frame: 471 | Recent: 0"
     ]
    },
    {
     "name": "stdout",
     "output_type": "stream",
     "text": [
      "\\rProcessing... | Frame: 473 | Recent: 0"
     ]
    },
    {
     "name": "stdout",
     "output_type": "stream",
     "text": [
      "\\rProcessing... | Frame: 475 | Recent: 0"
     ]
    },
    {
     "name": "stdout",
     "output_type": "stream",
     "text": [
      "\\rProcessing... | Frame: 477 | Recent: 0"
     ]
    },
    {
     "name": "stdout",
     "output_type": "stream",
     "text": [
      "\\rProcessing... | Frame: 479 | Recent: 0"
     ]
    },
    {
     "name": "stdout",
     "output_type": "stream",
     "text": [
      "\\rProcessing... | Frame: 481 | Recent: 0"
     ]
    },
    {
     "name": "stdout",
     "output_type": "stream",
     "text": [
      "\\rProcessing... | Frame: 483 | Recent: 0"
     ]
    },
    {
     "name": "stdout",
     "output_type": "stream",
     "text": [
      "\\rProcessing... | Frame: 485 | Recent: 0"
     ]
    },
    {
     "name": "stdout",
     "output_type": "stream",
     "text": [
      "\\rProcessing... | Frame: 487 | Recent: 0"
     ]
    },
    {
     "name": "stdout",
     "output_type": "stream",
     "text": [
      "\\rProcessing... | Frame: 489 | Recent: 0"
     ]
    },
    {
     "name": "stdout",
     "output_type": "stream",
     "text": [
      "\\rProcessing... | Frame: 491 | Recent: 0"
     ]
    },
    {
     "name": "stdout",
     "output_type": "stream",
     "text": [
      "\\rProcessing... | Frame: 493 | Recent: 0"
     ]
    },
    {
     "name": "stdout",
     "output_type": "stream",
     "text": [
      "\\rProcessing... | Frame: 495 | Recent: 0"
     ]
    },
    {
     "name": "stdout",
     "output_type": "stream",
     "text": [
      "\\rProcessing... | Frame: 497 | Recent: 0"
     ]
    },
    {
     "name": "stdout",
     "output_type": "stream",
     "text": [
      "\\rProcessing... | Frame: 499 | Recent: 0"
     ]
    },
    {
     "name": "stdout",
     "output_type": "stream",
     "text": [
      "\\rProcessing... | Frame: 501 | Recent: 0"
     ]
    },
    {
     "name": "stdout",
     "output_type": "stream",
     "text": [
      "\\rProcessing... | Frame: 503 | Recent: 0"
     ]
    },
    {
     "name": "stdout",
     "output_type": "stream",
     "text": [
      "\\rProcessing... | Frame: 505 | Recent: 0"
     ]
    },
    {
     "name": "stdout",
     "output_type": "stream",
     "text": [
      "\\rProcessing... | Frame: 507 | Recent: 0"
     ]
    },
    {
     "name": "stdout",
     "output_type": "stream",
     "text": [
      "\\rProcessing... | Frame: 509 | Recent: 0"
     ]
    },
    {
     "name": "stdout",
     "output_type": "stream",
     "text": [
      "\\rProcessing... | Frame: 511 | Recent: 0"
     ]
    },
    {
     "name": "stdout",
     "output_type": "stream",
     "text": [
      "\\rProcessing... | Frame: 513 | Recent: 0"
     ]
    },
    {
     "name": "stdout",
     "output_type": "stream",
     "text": [
      "\\rProcessing... | Frame: 515 | Recent: 0"
     ]
    },
    {
     "name": "stdout",
     "output_type": "stream",
     "text": [
      "\\rProcessing... | Frame: 517 | Recent: 0"
     ]
    },
    {
     "name": "stdout",
     "output_type": "stream",
     "text": [
      "\\rProcessing... | Frame: 527 | Recent: 0"
     ]
    },
    {
     "name": "stdout",
     "output_type": "stream",
     "text": [
      "\\rProcessing... | Frame: 535 | Recent: 0"
     ]
    },
    {
     "name": "stdout",
     "output_type": "stream",
     "text": [
      "\\rProcessing... | Frame: 541 | Recent: 0"
     ]
    },
    {
     "name": "stdout",
     "output_type": "stream",
     "text": [
      "\\rProcessing... | Frame: 543 | Recent: 0"
     ]
    },
    {
     "name": "stdout",
     "output_type": "stream",
     "text": [
      "\\rProcessing... | Frame: 553 | Recent: 0"
     ]
    },
    {
     "name": "stdout",
     "output_type": "stream",
     "text": [
      "\\rProcessing... | Frame: 563 | Recent: 0"
     ]
    },
    {
     "name": "stdout",
     "output_type": "stream",
     "text": [
      "\\rProcessing... | Frame: 571 | Recent: 0"
     ]
    },
    {
     "name": "stdout",
     "output_type": "stream",
     "text": [
      "\\rProcessing... | Frame: 573 | Recent: 0"
     ]
    },
    {
     "name": "stdout",
     "output_type": "stream",
     "text": [
      "\\rProcessing... | Frame: 581 | Recent: 0"
     ]
    },
    {
     "name": "stdout",
     "output_type": "stream",
     "text": [
      "\\rProcessing... | Frame: 593 | Recent: 0"
     ]
    },
    {
     "name": "stdout",
     "output_type": "stream",
     "text": [
      "\\rProcessing... | Frame: 605 | Recent: 0"
     ]
    },
    {
     "name": "stdout",
     "output_type": "stream",
     "text": [
      "\\rProcessing... | Frame: 617 | Recent: 0"
     ]
    },
    {
     "name": "stdout",
     "output_type": "stream",
     "text": [
      "\\rProcessing... | Frame: 627 | Recent: 0"
     ]
    },
    {
     "name": "stdout",
     "output_type": "stream",
     "text": [
      "\\rProcessing... | Frame: 637 | Recent: 0"
     ]
    },
    {
     "name": "stdout",
     "output_type": "stream",
     "text": [
      "\\rProcessing... | Frame: 647 | Recent: 0"
     ]
    },
    {
     "name": "stdout",
     "output_type": "stream",
     "text": [
      "\\rProcessing... | Frame: 659 | Recent: 0"
     ]
    },
    {
     "name": "stdout",
     "output_type": "stream",
     "text": [
      "\\rProcessing... | Frame: 669 | Recent: 0"
     ]
    },
    {
     "name": "stdout",
     "output_type": "stream",
     "text": [
      "\\rProcessing... | Frame: 679 | Recent: 0"
     ]
    },
    {
     "name": "stdout",
     "output_type": "stream",
     "text": [
      "\\rProcessing... | Frame: 690 | Recent: 0"
     ]
    },
    {
     "name": "stdout",
     "output_type": "stream",
     "text": [
      "\\rProcessing... | Frame: 699 | Recent: 0"
     ]
    },
    {
     "name": "stdout",
     "output_type": "stream",
     "text": [
      "\\rProcessing... | Frame: 711 | Recent: 0"
     ]
    },
    {
     "name": "stdout",
     "output_type": "stream",
     "text": [
      "\\rProcessing... | Frame: 723 | Recent: 0"
     ]
    },
    {
     "name": "stdout",
     "output_type": "stream",
     "text": [
      "\\rProcessing... | Frame: 733 | Recent: 0"
     ]
    },
    {
     "name": "stdout",
     "output_type": "stream",
     "text": [
      "\\rProcessing... | Frame: 745 | Recent: 0"
     ]
    },
    {
     "name": "stdout",
     "output_type": "stream",
     "text": [
      "\\rProcessing... | Frame: 755 | Recent: 0"
     ]
    },
    {
     "name": "stdout",
     "output_type": "stream",
     "text": [
      "\\rProcessing... | Frame: 765 | Recent: 0"
     ]
    },
    {
     "name": "stdout",
     "output_type": "stream",
     "text": [
      "\\rProcessing... | Frame: 773 | Recent: 0"
     ]
    },
    {
     "name": "stdout",
     "output_type": "stream",
     "text": [
      "\\rProcessing... | Frame: 783 | Recent: 0"
     ]
    },
    {
     "name": "stdout",
     "output_type": "stream",
     "text": [
      "\\rProcessing... | Frame: 793 | Recent: 0"
     ]
    },
    {
     "name": "stdout",
     "output_type": "stream",
     "text": [
      "\\rProcessing... | Frame: 801 | Recent: 0"
     ]
    },
    {
     "name": "stdout",
     "output_type": "stream",
     "text": [
      "\\rProcessing... | Frame: 809 | Recent: 0"
     ]
    },
    {
     "name": "stdout",
     "output_type": "stream",
     "text": [
      "\\rProcessing... | Frame: 819 | Recent: 0"
     ]
    },
    {
     "name": "stdout",
     "output_type": "stream",
     "text": [
      "\\rProcessing... | Frame: 829 | Recent: 0"
     ]
    },
    {
     "name": "stdout",
     "output_type": "stream",
     "text": [
      "\\rProcessing... | Frame: 839 | Recent: 0"
     ]
    },
    {
     "name": "stdout",
     "output_type": "stream",
     "text": [
      "\\rProcessing... | Frame: 849 | Recent: 0"
     ]
    },
    {
     "name": "stdout",
     "output_type": "stream",
     "text": [
      "\\rProcessing... | Frame: 859 | Recent: 0"
     ]
    },
    {
     "name": "stdout",
     "output_type": "stream",
     "text": [
      "\\rProcessing... | Frame: 869 | Recent: 0"
     ]
    },
    {
     "name": "stdout",
     "output_type": "stream",
     "text": [
      "\\rProcessing... | Frame: 871 | Recent: 0"
     ]
    },
    {
     "name": "stdout",
     "output_type": "stream",
     "text": [
      "\\rProcessing... | Frame: 873 | Recent: 0"
     ]
    },
    {
     "name": "stdout",
     "output_type": "stream",
     "text": [
      "\\rProcessing... | Frame: 875 | Recent: 0"
     ]
    },
    {
     "name": "stdout",
     "output_type": "stream",
     "text": [
      "\\rProcessing... | Frame: 877 | Recent: 0"
     ]
    },
    {
     "name": "stdout",
     "output_type": "stream",
     "text": [
      "\\rProcessing... | Frame: 879 | Recent: 0"
     ]
    },
    {
     "name": "stdout",
     "output_type": "stream",
     "text": [
      "\\rProcessing... | Frame: 881 | Recent: 0"
     ]
    },
    {
     "name": "stdout",
     "output_type": "stream",
     "text": [
      "\\rProcessing... | Frame: 883 | Recent: 0"
     ]
    },
    {
     "name": "stdout",
     "output_type": "stream",
     "text": [
      "\\rProcessing... | Frame: 885 | Recent: 0"
     ]
    },
    {
     "name": "stdout",
     "output_type": "stream",
     "text": [
      "\\rProcessing... | Frame: 887 | Recent: 0"
     ]
    },
    {
     "name": "stdout",
     "output_type": "stream",
     "text": [
      "\\rProcessing... | Frame: 889 | Recent: 0"
     ]
    },
    {
     "name": "stdout",
     "output_type": "stream",
     "text": [
      "\\rProcessing... | Frame: 891 | Recent: 0"
     ]
    },
    {
     "name": "stdout",
     "output_type": "stream",
     "text": [
      "\\rProcessing... | Frame: 893 | Recent: 0"
     ]
    },
    {
     "name": "stdout",
     "output_type": "stream",
     "text": [
      "\\rProcessing... | Frame: 895 | Recent: 0"
     ]
    },
    {
     "name": "stdout",
     "output_type": "stream",
     "text": [
      "\\rProcessing... | Frame: 897 | Recent: 0"
     ]
    },
    {
     "name": "stdout",
     "output_type": "stream",
     "text": [
      "\\rProcessing... | Frame: 899 | Recent: 0"
     ]
    },
    {
     "name": "stdout",
     "output_type": "stream",
     "text": [
      "\\rProcessing... | Frame: 901 | Recent: 0"
     ]
    },
    {
     "name": "stdout",
     "output_type": "stream",
     "text": [
      "\\rProcessing... | Frame: 903 | Recent: 0"
     ]
    },
    {
     "name": "stdout",
     "output_type": "stream",
     "text": [
      "\\rProcessing... | Frame: 905 | Recent: 0"
     ]
    },
    {
     "name": "stdout",
     "output_type": "stream",
     "text": [
      "\\rProcessing... | Frame: 907 | Recent: 0"
     ]
    },
    {
     "name": "stdout",
     "output_type": "stream",
     "text": [
      "\\rProcessing... | Frame: 909 | Recent: 0"
     ]
    },
    {
     "name": "stdout",
     "output_type": "stream",
     "text": [
      "\\rProcessing... | Frame: 911 | Recent: 0"
     ]
    },
    {
     "name": "stdout",
     "output_type": "stream",
     "text": [
      "\\rProcessing... | Frame: 913 | Recent: 0"
     ]
    },
    {
     "name": "stdout",
     "output_type": "stream",
     "text": [
      "\\rProcessing... | Frame: 915 | Recent: 0"
     ]
    },
    {
     "name": "stdout",
     "output_type": "stream",
     "text": [
      "\\rProcessing... | Frame: 917 | Recent: 0"
     ]
    },
    {
     "name": "stdout",
     "output_type": "stream",
     "text": [
      "\\rProcessing... | Frame: 919 | Recent: 0"
     ]
    },
    {
     "name": "stdout",
     "output_type": "stream",
     "text": [
      "\\rProcessing... | Frame: 921 | Recent: 0"
     ]
    },
    {
     "name": "stdout",
     "output_type": "stream",
     "text": [
      "\\rProcessing... | Frame: 923 | Recent: 0"
     ]
    },
    {
     "name": "stdout",
     "output_type": "stream",
     "text": [
      "\\rProcessing... | Frame: 925 | Recent: 0"
     ]
    },
    {
     "name": "stdout",
     "output_type": "stream",
     "text": [
      "\\rProcessing... | Frame: 927 | Recent: 0"
     ]
    },
    {
     "name": "stdout",
     "output_type": "stream",
     "text": [
      "\\rProcessing... | Frame: 929 | Recent: 0"
     ]
    },
    {
     "name": "stdout",
     "output_type": "stream",
     "text": [
      "\\rProcessing... | Frame: 931 | Recent: 0"
     ]
    },
    {
     "name": "stdout",
     "output_type": "stream",
     "text": [
      "\\rProcessing... | Frame: 933 | Recent: 0"
     ]
    },
    {
     "name": "stdout",
     "output_type": "stream",
     "text": [
      "\\rProcessing... | Frame: 935 | Recent: 0"
     ]
    },
    {
     "name": "stdout",
     "output_type": "stream",
     "text": [
      "\\rProcessing... | Frame: 937 | Recent: 0"
     ]
    },
    {
     "name": "stdout",
     "output_type": "stream",
     "text": [
      "\\rProcessing... | Frame: 939 | Recent: 0"
     ]
    },
    {
     "name": "stdout",
     "output_type": "stream",
     "text": [
      "\\rProcessing... | Frame: 941 | Recent: 0"
     ]
    },
    {
     "name": "stdout",
     "output_type": "stream",
     "text": [
      "\\rProcessing... | Frame: 943 | Recent: 0"
     ]
    },
    {
     "name": "stdout",
     "output_type": "stream",
     "text": [
      "\\rProcessing... | Frame: 945 | Recent: 0"
     ]
    },
    {
     "name": "stdout",
     "output_type": "stream",
     "text": [
      "\\rProcessing... | Frame: 947 | Recent: 0"
     ]
    },
    {
     "name": "stdout",
     "output_type": "stream",
     "text": [
      "\\rProcessing... | Frame: 949 | Recent: 0"
     ]
    },
    {
     "name": "stdout",
     "output_type": "stream",
     "text": [
      "\\rProcessing... | Frame: 951 | Recent: 0"
     ]
    },
    {
     "name": "stdout",
     "output_type": "stream",
     "text": [
      "\\rProcessing... | Frame: 953 | Recent: 0"
     ]
    },
    {
     "name": "stdout",
     "output_type": "stream",
     "text": [
      "\\rProcessing... | Frame: 955 | Recent: 0"
     ]
    },
    {
     "name": "stdout",
     "output_type": "stream",
     "text": [
      "\\rProcessing... | Frame: 957 | Recent: 0"
     ]
    },
    {
     "name": "stdout",
     "output_type": "stream",
     "text": [
      "\\rProcessing... | Frame: 959 | Recent: 0"
     ]
    },
    {
     "name": "stdout",
     "output_type": "stream",
     "text": [
      "\\rProcessing... | Frame: 961 | Recent: 0"
     ]
    },
    {
     "name": "stdout",
     "output_type": "stream",
     "text": [
      "\\rProcessing... | Frame: 963 | Recent: 0"
     ]
    },
    {
     "name": "stdout",
     "output_type": "stream",
     "text": [
      "\\rProcessing... | Frame: 965 | Recent: 0"
     ]
    },
    {
     "name": "stdout",
     "output_type": "stream",
     "text": [
      "\\rProcessing... | Frame: 967 | Recent: 0"
     ]
    },
    {
     "name": "stdout",
     "output_type": "stream",
     "text": [
      "\\rProcessing... | Frame: 969 | Recent: 0"
     ]
    },
    {
     "name": "stdout",
     "output_type": "stream",
     "text": [
      "\\rProcessing... | Frame: 971 | Recent: 0"
     ]
    },
    {
     "name": "stdout",
     "output_type": "stream",
     "text": [
      "\\rProcessing... | Frame: 973 | Recent: 0"
     ]
    },
    {
     "name": "stdout",
     "output_type": "stream",
     "text": [
      "\\rProcessing... | Frame: 975 | Recent: 0"
     ]
    },
    {
     "name": "stdout",
     "output_type": "stream",
     "text": [
      "\\rProcessing... | Frame: 977 | Recent: 0"
     ]
    },
    {
     "name": "stdout",
     "output_type": "stream",
     "text": [
      "\\rProcessing... | Frame: 979 | Recent: 0"
     ]
    },
    {
     "name": "stdout",
     "output_type": "stream",
     "text": [
      "\\rProcessing... | Frame: 981 | Recent: 0"
     ]
    },
    {
     "name": "stdout",
     "output_type": "stream",
     "text": [
      "\\rProcessing... | Frame: 983 | Recent: 0"
     ]
    },
    {
     "name": "stdout",
     "output_type": "stream",
     "text": [
      "\\rProcessing... | Frame: 985 | Recent: 0"
     ]
    },
    {
     "name": "stdout",
     "output_type": "stream",
     "text": [
      "\\rProcessing... | Frame: 987 | Recent: 0"
     ]
    },
    {
     "name": "stdout",
     "output_type": "stream",
     "text": [
      "\\rProcessing... | Frame: 989 | Recent: 0"
     ]
    },
    {
     "name": "stdout",
     "output_type": "stream",
     "text": [
      "\\rProcessing... | Frame: 991 | Recent: 0"
     ]
    },
    {
     "name": "stdout",
     "output_type": "stream",
     "text": [
      "\\rProcessing... | Frame: 993 | Recent: 0"
     ]
    },
    {
     "name": "stdout",
     "output_type": "stream",
     "text": [
      "\\rProcessing... | Frame: 995 | Recent: 0"
     ]
    },
    {
     "name": "stdout",
     "output_type": "stream",
     "text": [
      "\\rProcessing... | Frame: 997 | Recent: 0"
     ]
    },
    {
     "name": "stdout",
     "output_type": "stream",
     "text": [
      "\\rProcessing... | Frame: 999 | Recent: 0"
     ]
    },
    {
     "name": "stdout",
     "output_type": "stream",
     "text": [
      "\\rProcessing... | Frame: 1001 | Recent: 0"
     ]
    },
    {
     "name": "stdout",
     "output_type": "stream",
     "text": [
      "\\rProcessing... | Frame: 1003 | Recent: 0"
     ]
    },
    {
     "name": "stdout",
     "output_type": "stream",
     "text": [
      "\\rProcessing... | Frame: 1005 | Recent: 0"
     ]
    },
    {
     "name": "stdout",
     "output_type": "stream",
     "text": [
      "\\rProcessing... | Frame: 1007 | Recent: 0"
     ]
    },
    {
     "name": "stdout",
     "output_type": "stream",
     "text": [
      "\\rProcessing... | Frame: 1009 | Recent: 0"
     ]
    },
    {
     "name": "stdout",
     "output_type": "stream",
     "text": [
      "\\rProcessing... | Frame: 1011 | Recent: 0"
     ]
    },
    {
     "name": "stdout",
     "output_type": "stream",
     "text": [
      "\\rProcessing... | Frame: 1013 | Recent: 0"
     ]
    },
    {
     "name": "stdout",
     "output_type": "stream",
     "text": [
      "\\rProcessing... | Frame: 1015 | Recent: 0"
     ]
    },
    {
     "name": "stdout",
     "output_type": "stream",
     "text": [
      "\\rProcessing... | Frame: 1017 | Recent: 0"
     ]
    },
    {
     "name": "stdout",
     "output_type": "stream",
     "text": [
      "\\rProcessing... | Frame: 1019 | Recent: 0"
     ]
    },
    {
     "name": "stdout",
     "output_type": "stream",
     "text": [
      "\\rProcessing... | Frame: 1021 | Recent: 0"
     ]
    },
    {
     "name": "stdout",
     "output_type": "stream",
     "text": [
      "\\rProcessing... | Frame: 1023 | Recent: 0"
     ]
    },
    {
     "name": "stdout",
     "output_type": "stream",
     "text": [
      "\\rProcessing... | Frame: 1025 | Recent: 0"
     ]
    },
    {
     "name": "stdout",
     "output_type": "stream",
     "text": [
      "\\rProcessing... | Frame: 1027 | Recent: 0"
     ]
    },
    {
     "name": "stdout",
     "output_type": "stream",
     "text": [
      "\\rProcessing... | Frame: 1029 | Recent: 0"
     ]
    },
    {
     "name": "stdout",
     "output_type": "stream",
     "text": [
      "\\rProcessing... | Frame: 1031 | Recent: 0"
     ]
    },
    {
     "name": "stdout",
     "output_type": "stream",
     "text": [
      "\\rProcessing... | Frame: 1033 | Recent: 0"
     ]
    },
    {
     "name": "stdout",
     "output_type": "stream",
     "text": [
      "\\rProcessing... | Frame: 1035 | Recent: 0"
     ]
    },
    {
     "name": "stdout",
     "output_type": "stream",
     "text": [
      "\\rProcessing... | Frame: 1037 | Recent: 0"
     ]
    },
    {
     "name": "stdout",
     "output_type": "stream",
     "text": [
      "\\rProcessing... | Frame: 1039 | Recent: 0"
     ]
    },
    {
     "name": "stdout",
     "output_type": "stream",
     "text": [
      "\\rProcessing... | Frame: 1041 | Recent: 0"
     ]
    },
    {
     "name": "stdout",
     "output_type": "stream",
     "text": [
      "\\rProcessing... | Frame: 1043 | Recent: 0"
     ]
    },
    {
     "name": "stdout",
     "output_type": "stream",
     "text": [
      "\\rProcessing... | Frame: 1046 | Recent: 0"
     ]
    },
    {
     "name": "stdout",
     "output_type": "stream",
     "text": [
      "\\rProcessing... | Frame: 1047 | Recent: 0"
     ]
    },
    {
     "name": "stdout",
     "output_type": "stream",
     "text": [
      "\\rProcessing... | Frame: 1049 | Recent: 0"
     ]
    },
    {
     "name": "stdout",
     "output_type": "stream",
     "text": [
      "\\rProcessing... | Frame: 1051 | Recent: 0"
     ]
    },
    {
     "name": "stdout",
     "output_type": "stream",
     "text": [
      "\\rProcessing... | Frame: 1053 | Recent: 0"
     ]
    },
    {
     "name": "stdout",
     "output_type": "stream",
     "text": [
      "\\rProcessing... | Frame: 1055 | Recent: 0"
     ]
    },
    {
     "name": "stdout",
     "output_type": "stream",
     "text": [
      "\\rProcessing... | Frame: 1057 | Recent: 0"
     ]
    },
    {
     "name": "stdout",
     "output_type": "stream",
     "text": [
      "\\rProcessing... | Frame: 1060 | Recent: 0"
     ]
    },
    {
     "name": "stdout",
     "output_type": "stream",
     "text": [
      "\\rProcessing... | Frame: 1061 | Recent: 0"
     ]
    },
    {
     "name": "stdout",
     "output_type": "stream",
     "text": [
      "\\rProcessing... | Frame: 1063 | Recent: 0"
     ]
    },
    {
     "name": "stdout",
     "output_type": "stream",
     "text": [
      "\\rProcessing... | Frame: 1065 | Recent: 0"
     ]
    },
    {
     "name": "stdout",
     "output_type": "stream",
     "text": [
      "\\rProcessing... | Frame: 1067 | Recent: 0"
     ]
    },
    {
     "name": "stdout",
     "output_type": "stream",
     "text": [
      "\\rProcessing... | Frame: 1069 | Recent: 0"
     ]
    },
    {
     "name": "stdout",
     "output_type": "stream",
     "text": [
      "\\rProcessing... | Frame: 1071 | Recent: 0"
     ]
    },
    {
     "name": "stdout",
     "output_type": "stream",
     "text": [
      "\\rProcessing... | Frame: 1073 | Recent: 0"
     ]
    },
    {
     "name": "stdout",
     "output_type": "stream",
     "text": [
      "\\rProcessing... | Frame: 1075 | Recent: 0"
     ]
    },
    {
     "name": "stdout",
     "output_type": "stream",
     "text": [
      "\\rProcessing... | Frame: 1077 | Recent: 0"
     ]
    },
    {
     "name": "stdout",
     "output_type": "stream",
     "text": [
      "\\rProcessing... | Frame: 1079 | Recent: 0"
     ]
    },
    {
     "name": "stdout",
     "output_type": "stream",
     "text": [
      "\\rProcessing... | Frame: 1081 | Recent: 0"
     ]
    },
    {
     "name": "stdout",
     "output_type": "stream",
     "text": [
      "\\rProcessing... | Frame: 1083 | Recent: 0"
     ]
    },
    {
     "name": "stdout",
     "output_type": "stream",
     "text": [
      "\\rProcessing... | Frame: 1085 | Recent: 0"
     ]
    },
    {
     "name": "stdout",
     "output_type": "stream",
     "text": [
      "\\rProcessing... | Frame: 1087 | Recent: 0"
     ]
    },
    {
     "name": "stdout",
     "output_type": "stream",
     "text": [
      "\\rProcessing... | Frame: 1089 | Recent: 0"
     ]
    },
    {
     "name": "stdout",
     "output_type": "stream",
     "text": [
      "\\rProcessing... | Frame: 1091 | Recent: 0"
     ]
    },
    {
     "name": "stdout",
     "output_type": "stream",
     "text": [
      "\\rProcessing... | Frame: 1093 | Recent: 0"
     ]
    },
    {
     "name": "stdout",
     "output_type": "stream",
     "text": [
      "\\rProcessing... | Frame: 1095 | Recent: 0"
     ]
    },
    {
     "name": "stdout",
     "output_type": "stream",
     "text": [
      "\\rProcessing... | Frame: 1097 | Recent: 0"
     ]
    },
    {
     "name": "stdout",
     "output_type": "stream",
     "text": [
      "\\rProcessing... | Frame: 1099 | Recent: 0"
     ]
    },
    {
     "name": "stdout",
     "output_type": "stream",
     "text": [
      "\\rProcessing... | Frame: 1101 | Recent: 0"
     ]
    },
    {
     "name": "stdout",
     "output_type": "stream",
     "text": [
      "\\rProcessing... | Frame: 1103 | Recent: 0"
     ]
    },
    {
     "name": "stdout",
     "output_type": "stream",
     "text": [
      "\\rProcessing... | Frame: 1105 | Recent: 0"
     ]
    },
    {
     "name": "stdout",
     "output_type": "stream",
     "text": [
      "\\rProcessing... | Frame: 1107 | Recent: 0"
     ]
    },
    {
     "name": "stdout",
     "output_type": "stream",
     "text": [
      "\\rProcessing... | Frame: 1109 | Recent: 0"
     ]
    },
    {
     "name": "stdout",
     "output_type": "stream",
     "text": [
      "\\rProcessing... | Frame: 1111 | Recent: 0"
     ]
    },
    {
     "name": "stdout",
     "output_type": "stream",
     "text": [
      "\\rProcessing... | Frame: 1113 | Recent: 0"
     ]
    },
    {
     "name": "stdout",
     "output_type": "stream",
     "text": [
      "\\rProcessing... | Frame: 1115 | Recent: 0"
     ]
    },
    {
     "name": "stdout",
     "output_type": "stream",
     "text": [
      "\\rProcessing... | Frame: 1117 | Recent: 0"
     ]
    },
    {
     "name": "stdout",
     "output_type": "stream",
     "text": [
      "\\rProcessing... | Frame: 1119 | Recent: 0"
     ]
    },
    {
     "name": "stdout",
     "output_type": "stream",
     "text": [
      "\\rProcessing... | Frame: 1121 | Recent: 0"
     ]
    },
    {
     "name": "stdout",
     "output_type": "stream",
     "text": [
      "\\rProcessing... | Frame: 1123 | Recent: 0"
     ]
    },
    {
     "name": "stdout",
     "output_type": "stream",
     "text": [
      "\\rProcessing... | Frame: 1125 | Recent: 0"
     ]
    },
    {
     "name": "stdout",
     "output_type": "stream",
     "text": [
      "\\rProcessing... | Frame: 1127 | Recent: 0"
     ]
    },
    {
     "name": "stdout",
     "output_type": "stream",
     "text": [
      "\\rProcessing... | Frame: 1129 | Recent: 0"
     ]
    },
    {
     "name": "stdout",
     "output_type": "stream",
     "text": [
      "\\rProcessing... | Frame: 1131 | Recent: 0"
     ]
    },
    {
     "name": "stdout",
     "output_type": "stream",
     "text": [
      "\\rProcessing... | Frame: 1133 | Recent: 0"
     ]
    },
    {
     "name": "stdout",
     "output_type": "stream",
     "text": [
      "\\rProcessing... | Frame: 1135 | Recent: 0"
     ]
    },
    {
     "name": "stdout",
     "output_type": "stream",
     "text": [
      "\\rProcessing... | Frame: 1137 | Recent: 0"
     ]
    },
    {
     "name": "stdout",
     "output_type": "stream",
     "text": [
      "\\rProcessing... | Frame: 1139 | Recent: 0"
     ]
    },
    {
     "name": "stdout",
     "output_type": "stream",
     "text": [
      "\\rProcessing... | Frame: 1141 | Recent: 0"
     ]
    },
    {
     "name": "stdout",
     "output_type": "stream",
     "text": [
      "\\rProcessing... | Frame: 1143 | Recent: 0"
     ]
    },
    {
     "name": "stdout",
     "output_type": "stream",
     "text": [
      "\\rProcessing... | Frame: 1145 | Recent: 0"
     ]
    },
    {
     "name": "stdout",
     "output_type": "stream",
     "text": [
      "\\rProcessing... | Frame: 1147 | Recent: 0"
     ]
    },
    {
     "name": "stdout",
     "output_type": "stream",
     "text": [
      "\\rProcessing... | Frame: 1149 | Recent: 0"
     ]
    },
    {
     "name": "stdout",
     "output_type": "stream",
     "text": [
      "\\rProcessing... | Frame: 1151 | Recent: 0"
     ]
    },
    {
     "name": "stdout",
     "output_type": "stream",
     "text": [
      "\\rProcessing... | Frame: 1153 | Recent: 0"
     ]
    },
    {
     "name": "stdout",
     "output_type": "stream",
     "text": [
      "\\rProcessing... | Frame: 1155 | Recent: 0"
     ]
    },
    {
     "name": "stdout",
     "output_type": "stream",
     "text": [
      "\\rProcessing... | Frame: 1157 | Recent: 0"
     ]
    },
    {
     "name": "stdout",
     "output_type": "stream",
     "text": [
      "\\rProcessing... | Frame: 1159 | Recent: 0"
     ]
    },
    {
     "name": "stdout",
     "output_type": "stream",
     "text": [
      "\\rProcessing... | Frame: 1161 | Recent: 0"
     ]
    },
    {
     "name": "stdout",
     "output_type": "stream",
     "text": [
      "\\rProcessing... | Frame: 1163 | Recent: 0"
     ]
    },
    {
     "name": "stdout",
     "output_type": "stream",
     "text": [
      "\\rProcessing... | Frame: 1165 | Recent: 0"
     ]
    },
    {
     "name": "stdout",
     "output_type": "stream",
     "text": [
      "\\rProcessing... | Frame: 1167 | Recent: 0"
     ]
    },
    {
     "name": "stdout",
     "output_type": "stream",
     "text": [
      "\\rProcessing... | Frame: 1169 | Recent: 0"
     ]
    },
    {
     "name": "stdout",
     "output_type": "stream",
     "text": [
      "\\rProcessing... | Frame: 1171 | Recent: 0"
     ]
    },
    {
     "name": "stdout",
     "output_type": "stream",
     "text": [
      "\\rProcessing... | Frame: 1173 | Recent: 0"
     ]
    },
    {
     "name": "stdout",
     "output_type": "stream",
     "text": [
      "\\rProcessing... | Frame: 1175 | Recent: 0"
     ]
    },
    {
     "name": "stdout",
     "output_type": "stream",
     "text": [
      "\\rProcessing... | Frame: 1177 | Recent: 0"
     ]
    },
    {
     "name": "stdout",
     "output_type": "stream",
     "text": [
      "\\rProcessing... | Frame: 1179 | Recent: 0"
     ]
    },
    {
     "name": "stdout",
     "output_type": "stream",
     "text": [
      "\\rProcessing... | Frame: 1181 | Recent: 0"
     ]
    },
    {
     "name": "stdout",
     "output_type": "stream",
     "text": [
      "\\rProcessing... | Frame: 1183 | Recent: 0"
     ]
    },
    {
     "name": "stdout",
     "output_type": "stream",
     "text": [
      "\\rProcessing... | Frame: 1185 | Recent: 0"
     ]
    },
    {
     "name": "stdout",
     "output_type": "stream",
     "text": [
      "\\rProcessing... | Frame: 1187 | Recent: 0"
     ]
    },
    {
     "name": "stdout",
     "output_type": "stream",
     "text": [
      "\\rProcessing... | Frame: 1189 | Recent: 0"
     ]
    },
    {
     "name": "stdout",
     "output_type": "stream",
     "text": [
      "\\rProcessing... | Frame: 1191 | Recent: 0"
     ]
    },
    {
     "name": "stdout",
     "output_type": "stream",
     "text": [
      "\\rProcessing... | Frame: 1193 | Recent: 0"
     ]
    },
    {
     "name": "stdout",
     "output_type": "stream",
     "text": [
      "\\rProcessing... | Frame: 1195 | Recent: 0"
     ]
    },
    {
     "name": "stdout",
     "output_type": "stream",
     "text": [
      "\\rProcessing... | Frame: 1197 | Recent: 0"
     ]
    },
    {
     "name": "stdout",
     "output_type": "stream",
     "text": [
      "\\rProcessing... | Frame: 1199 | Recent: 0"
     ]
    },
    {
     "name": "stdout",
     "output_type": "stream",
     "text": [
      "\\rProcessing... | Frame: 1201 | Recent: 0"
     ]
    },
    {
     "name": "stdout",
     "output_type": "stream",
     "text": [
      "\\rProcessing... | Frame: 1203 | Recent: 0"
     ]
    },
    {
     "name": "stdout",
     "output_type": "stream",
     "text": [
      "\\rProcessing... | Frame: 1205 | Recent: 0"
     ]
    },
    {
     "name": "stdout",
     "output_type": "stream",
     "text": [
      "\\rProcessing... | Frame: 1207 | Recent: 0"
     ]
    },
    {
     "name": "stdout",
     "output_type": "stream",
     "text": [
      "\\rProcessing... | Frame: 1209 | Recent: 0"
     ]
    },
    {
     "name": "stdout",
     "output_type": "stream",
     "text": [
      "\\rProcessing... | Frame: 1211 | Recent: 0"
     ]
    },
    {
     "name": "stdout",
     "output_type": "stream",
     "text": [
      "\\rProcessing... | Frame: 1213 | Recent: 0"
     ]
    },
    {
     "name": "stdout",
     "output_type": "stream",
     "text": [
      "\\rProcessing... | Frame: 1215 | Recent: 0"
     ]
    },
    {
     "name": "stdout",
     "output_type": "stream",
     "text": [
      "\\rProcessing... | Frame: 1217 | Recent: 0"
     ]
    },
    {
     "name": "stdout",
     "output_type": "stream",
     "text": [
      "\\rProcessing... | Frame: 1219 | Recent: 0"
     ]
    },
    {
     "name": "stdout",
     "output_type": "stream",
     "text": [
      "\\rProcessing... | Frame: 1223 | Recent: 0"
     ]
    },
    {
     "name": "stdout",
     "output_type": "stream",
     "text": [
      "\\rProcessing... | Frame: 1225 | Recent: 0"
     ]
    },
    {
     "name": "stdout",
     "output_type": "stream",
     "text": [
      "\\rProcessing... | Frame: 1227 | Recent: 0"
     ]
    },
    {
     "name": "stdout",
     "output_type": "stream",
     "text": [
      "\\rProcessing... | Frame: 1229 | Recent: 0"
     ]
    },
    {
     "name": "stdout",
     "output_type": "stream",
     "text": [
      "\\rProcessing... | Frame: 1231 | Recent: 0"
     ]
    },
    {
     "name": "stdout",
     "output_type": "stream",
     "text": [
      "\\rProcessing... | Frame: 1233 | Recent: 0"
     ]
    },
    {
     "name": "stdout",
     "output_type": "stream",
     "text": [
      "\\rProcessing... | Frame: 1235 | Recent: 0"
     ]
    },
    {
     "name": "stdout",
     "output_type": "stream",
     "text": [
      "\\rProcessing... | Frame: 1237 | Recent: 0"
     ]
    },
    {
     "name": "stdout",
     "output_type": "stream",
     "text": [
      "\\rProcessing... | Frame: 1239 | Recent: 0"
     ]
    },
    {
     "name": "stdout",
     "output_type": "stream",
     "text": [
      "\\rProcessing... | Frame: 1241 | Recent: 0"
     ]
    },
    {
     "name": "stdout",
     "output_type": "stream",
     "text": [
      "\\rProcessing... | Frame: 1243 | Recent: 0"
     ]
    },
    {
     "name": "stdout",
     "output_type": "stream",
     "text": [
      "\\rProcessing... | Frame: 1245 | Recent: 0"
     ]
    },
    {
     "name": "stdout",
     "output_type": "stream",
     "text": [
      "\\rProcessing... | Frame: 1251 | Recent: 0"
     ]
    },
    {
     "name": "stdout",
     "output_type": "stream",
     "text": [
      "\\rProcessing... | Frame: 1253 | Recent: 0"
     ]
    },
    {
     "name": "stdout",
     "output_type": "stream",
     "text": [
      "\\rProcessing... | Frame: 1255 | Recent: 0"
     ]
    },
    {
     "name": "stdout",
     "output_type": "stream",
     "text": [
      "\\rProcessing... | Frame: 1261 | Recent: 0"
     ]
    },
    {
     "name": "stdout",
     "output_type": "stream",
     "text": [
      "\\rProcessing... | Frame: 1271 | Recent: 0"
     ]
    },
    {
     "name": "stdout",
     "output_type": "stream",
     "text": [
      "\\rProcessing... | Frame: 1281 | Recent: 0"
     ]
    },
    {
     "name": "stdout",
     "output_type": "stream",
     "text": [
      "\\rProcessing... | Frame: 1291 | Recent: 0"
     ]
    },
    {
     "name": "stdout",
     "output_type": "stream",
     "text": [
      "\\rProcessing... | Frame: 1303 | Recent: 0"
     ]
    },
    {
     "name": "stdout",
     "output_type": "stream",
     "text": [
      "\\rProcessing... | Frame: 1311 | Recent: 0"
     ]
    },
    {
     "name": "stdout",
     "output_type": "stream",
     "text": [
      "\\rProcessing... | Frame: 1313 | Recent: 0"
     ]
    },
    {
     "name": "stdout",
     "output_type": "stream",
     "text": [
      "\\rProcessing... | Frame: 1315 | Recent: 0"
     ]
    },
    {
     "name": "stdout",
     "output_type": "stream",
     "text": [
      "\\rProcessing... | Frame: 1317 | Recent: 0"
     ]
    },
    {
     "name": "stdout",
     "output_type": "stream",
     "text": [
      "\\rProcessing... | Frame: 1319 | Recent: 0"
     ]
    },
    {
     "name": "stdout",
     "output_type": "stream",
     "text": [
      "\\rProcessing... | Frame: 1321 | Recent: 0"
     ]
    },
    {
     "name": "stdout",
     "output_type": "stream",
     "text": [
      "\\rProcessing... | Frame: 1323 | Recent: 0"
     ]
    },
    {
     "name": "stdout",
     "output_type": "stream",
     "text": [
      "\\rProcessing... | Frame: 1325 | Recent: 0"
     ]
    },
    {
     "name": "stdout",
     "output_type": "stream",
     "text": [
      "\\rProcessing... | Frame: 1327 | Recent: 0"
     ]
    },
    {
     "name": "stdout",
     "output_type": "stream",
     "text": [
      "\\rProcessing... | Frame: 1329 | Recent: 0"
     ]
    },
    {
     "name": "stdout",
     "output_type": "stream",
     "text": [
      "\\rProcessing... | Frame: 1331 | Recent: 0"
     ]
    },
    {
     "name": "stdout",
     "output_type": "stream",
     "text": [
      "\\rProcessing... | Frame: 1333 | Recent: 0"
     ]
    },
    {
     "name": "stdout",
     "output_type": "stream",
     "text": [
      "\\rProcessing... | Frame: 1335 | Recent: 0"
     ]
    },
    {
     "name": "stdout",
     "output_type": "stream",
     "text": [
      "\\rProcessing... | Frame: 1337 | Recent: 0"
     ]
    },
    {
     "name": "stdout",
     "output_type": "stream",
     "text": [
      "\\rProcessing... | Frame: 1339 | Recent: 0"
     ]
    },
    {
     "name": "stdout",
     "output_type": "stream",
     "text": [
      "\\rProcessing... | Frame: 1341 | Recent: 0"
     ]
    },
    {
     "name": "stdout",
     "output_type": "stream",
     "text": [
      "\\rProcessing... | Frame: 1343 | Recent: 0"
     ]
    },
    {
     "name": "stdout",
     "output_type": "stream",
     "text": [
      "\\rProcessing... | Frame: 1345 | Recent: 0"
     ]
    },
    {
     "name": "stdout",
     "output_type": "stream",
     "text": [
      "\\rProcessing... | Frame: 1347 | Recent: 0"
     ]
    },
    {
     "name": "stdout",
     "output_type": "stream",
     "text": [
      "\\rProcessing... | Frame: 1349 | Recent: 0"
     ]
    },
    {
     "name": "stdout",
     "output_type": "stream",
     "text": [
      "\\rProcessing... | Frame: 1351 | Recent: 0"
     ]
    },
    {
     "name": "stdout",
     "output_type": "stream",
     "text": [
      "\\rProcessing... | Frame: 1353 | Recent: 0"
     ]
    },
    {
     "name": "stdout",
     "output_type": "stream",
     "text": [
      "\\rProcessing... | Frame: 1355 | Recent: 0"
     ]
    },
    {
     "name": "stdout",
     "output_type": "stream",
     "text": [
      "\\rProcessing... | Frame: 1357 | Recent: 0"
     ]
    },
    {
     "name": "stdout",
     "output_type": "stream",
     "text": [
      "\\rProcessing... | Frame: 1359 | Recent: 0"
     ]
    },
    {
     "name": "stdout",
     "output_type": "stream",
     "text": [
      "\\rProcessing... | Frame: 1361 | Recent: 0"
     ]
    },
    {
     "name": "stdout",
     "output_type": "stream",
     "text": [
      "\\rProcessing... | Frame: 1363 | Recent: 0"
     ]
    },
    {
     "name": "stdout",
     "output_type": "stream",
     "text": [
      "\\rProcessing... | Frame: 1365 | Recent: 0"
     ]
    },
    {
     "name": "stdout",
     "output_type": "stream",
     "text": [
      "\\rProcessing... | Frame: 1367 | Recent: 0"
     ]
    },
    {
     "name": "stdout",
     "output_type": "stream",
     "text": [
      "\\rProcessing... | Frame: 1369 | Recent: 0"
     ]
    },
    {
     "name": "stdout",
     "output_type": "stream",
     "text": [
      "\\rProcessing... | Frame: 1371 | Recent: 0"
     ]
    },
    {
     "name": "stdout",
     "output_type": "stream",
     "text": [
      "\\rProcessing... | Frame: 1373 | Recent: 0"
     ]
    },
    {
     "name": "stdout",
     "output_type": "stream",
     "text": [
      "\\rProcessing... | Frame: 1375 | Recent: 0"
     ]
    },
    {
     "name": "stdout",
     "output_type": "stream",
     "text": [
      "\\rProcessing... | Frame: 1377 | Recent: 0"
     ]
    },
    {
     "name": "stdout",
     "output_type": "stream",
     "text": [
      "\\rProcessing... | Frame: 1379 | Recent: 0"
     ]
    },
    {
     "name": "stdout",
     "output_type": "stream",
     "text": [
      "\\rProcessing... | Frame: 1381 | Recent: 0"
     ]
    },
    {
     "name": "stdout",
     "output_type": "stream",
     "text": [
      "\\rProcessing... | Frame: 1383 | Recent: 0"
     ]
    },
    {
     "name": "stdout",
     "output_type": "stream",
     "text": [
      "\\rProcessing... | Frame: 1385 | Recent: 0"
     ]
    },
    {
     "name": "stdout",
     "output_type": "stream",
     "text": [
      "\\rProcessing... | Frame: 1387 | Recent: 0"
     ]
    },
    {
     "name": "stdout",
     "output_type": "stream",
     "text": [
      "\\rProcessing... | Frame: 1389 | Recent: 0"
     ]
    },
    {
     "name": "stdout",
     "output_type": "stream",
     "text": [
      "\\rProcessing... | Frame: 1391 | Recent: 0"
     ]
    },
    {
     "name": "stdout",
     "output_type": "stream",
     "text": [
      "\\rProcessing... | Frame: 1393 | Recent: 0"
     ]
    },
    {
     "name": "stdout",
     "output_type": "stream",
     "text": [
      "\\rProcessing... | Frame: 1395 | Recent: 0"
     ]
    },
    {
     "name": "stdout",
     "output_type": "stream",
     "text": [
      "\\rProcessing... | Frame: 1397 | Recent: 0"
     ]
    },
    {
     "name": "stdout",
     "output_type": "stream",
     "text": [
      "\\rProcessing... | Frame: 1399 | Recent: 0"
     ]
    },
    {
     "name": "stdout",
     "output_type": "stream",
     "text": [
      "\\rProcessing... | Frame: 1401 | Recent: 0"
     ]
    },
    {
     "name": "stdout",
     "output_type": "stream",
     "text": [
      "\\rProcessing... | Frame: 1403 | Recent: 0"
     ]
    },
    {
     "name": "stdout",
     "output_type": "stream",
     "text": [
      "\\rProcessing... | Frame: 1405 | Recent: 0"
     ]
    },
    {
     "name": "stdout",
     "output_type": "stream",
     "text": [
      "\\rProcessing... | Frame: 1407 | Recent: 0"
     ]
    },
    {
     "name": "stdout",
     "output_type": "stream",
     "text": [
      "\\rProcessing... | Frame: 1409 | Recent: 0"
     ]
    },
    {
     "name": "stdout",
     "output_type": "stream",
     "text": [
      "\\rProcessing... | Frame: 1411 | Recent: 0"
     ]
    },
    {
     "name": "stdout",
     "output_type": "stream",
     "text": [
      "\\rProcessing... | Frame: 1413 | Recent: 0"
     ]
    },
    {
     "name": "stdout",
     "output_type": "stream",
     "text": [
      "\\rProcessing... | Frame: 1415 | Recent: 0"
     ]
    },
    {
     "name": "stdout",
     "output_type": "stream",
     "text": [
      "\\rProcessing... | Frame: 1417 | Recent: 0"
     ]
    },
    {
     "name": "stdout",
     "output_type": "stream",
     "text": [
      "\\rProcessing... | Frame: 1419 | Recent: 0"
     ]
    },
    {
     "name": "stdout",
     "output_type": "stream",
     "text": [
      "\\rProcessing... | Frame: 1421 | Recent: 0"
     ]
    },
    {
     "name": "stdout",
     "output_type": "stream",
     "text": [
      "\\rProcessing... | Frame: 1423 | Recent: 0"
     ]
    },
    {
     "name": "stdout",
     "output_type": "stream",
     "text": [
      "\\rProcessing... | Frame: 1425 | Recent: 0"
     ]
    },
    {
     "name": "stdout",
     "output_type": "stream",
     "text": [
      "\\rProcessing... | Frame: 1427 | Recent: 0"
     ]
    },
    {
     "name": "stdout",
     "output_type": "stream",
     "text": [
      "\\rProcessing... | Frame: 1429 | Recent: 0"
     ]
    },
    {
     "name": "stdout",
     "output_type": "stream",
     "text": [
      "\\rProcessing... | Frame: 1431 | Recent: 0"
     ]
    },
    {
     "name": "stdout",
     "output_type": "stream",
     "text": [
      "\\rProcessing... | Frame: 1433 | Recent: 0"
     ]
    },
    {
     "name": "stdout",
     "output_type": "stream",
     "text": [
      "\\rProcessing... | Frame: 1435 | Recent: 0"
     ]
    },
    {
     "name": "stdout",
     "output_type": "stream",
     "text": [
      "\\rProcessing... | Frame: 1437 | Recent: 0"
     ]
    },
    {
     "name": "stdout",
     "output_type": "stream",
     "text": [
      "\\rProcessing... | Frame: 1439 | Recent: 0"
     ]
    },
    {
     "name": "stdout",
     "output_type": "stream",
     "text": [
      "\\rProcessing... | Frame: 1441 | Recent: 0"
     ]
    },
    {
     "name": "stdout",
     "output_type": "stream",
     "text": [
      "\\rProcessing... | Frame: 1443 | Recent: 0"
     ]
    },
    {
     "name": "stdout",
     "output_type": "stream",
     "text": [
      "\\rProcessing... | Frame: 1445 | Recent: 0"
     ]
    },
    {
     "name": "stdout",
     "output_type": "stream",
     "text": [
      "\\rProcessing... | Frame: 1447 | Recent: 0"
     ]
    },
    {
     "name": "stdout",
     "output_type": "stream",
     "text": [
      "\\rProcessing... | Frame: 1449 | Recent: 0"
     ]
    },
    {
     "name": "stdout",
     "output_type": "stream",
     "text": [
      "\\rProcessing... | Frame: 1451 | Recent: 0"
     ]
    },
    {
     "name": "stdout",
     "output_type": "stream",
     "text": [
      "\\rProcessing... | Frame: 1453 | Recent: 0"
     ]
    },
    {
     "name": "stdout",
     "output_type": "stream",
     "text": [
      "\\rProcessing... | Frame: 1455 | Recent: 0"
     ]
    },
    {
     "name": "stdout",
     "output_type": "stream",
     "text": [
      "\\rProcessing... | Frame: 1457 | Recent: 0"
     ]
    },
    {
     "name": "stdout",
     "output_type": "stream",
     "text": [
      "\\rProcessing... | Frame: 1459 | Recent: 0"
     ]
    },
    {
     "name": "stdout",
     "output_type": "stream",
     "text": [
      "\\rProcessing... | Frame: 1461 | Recent: 0"
     ]
    },
    {
     "name": "stdout",
     "output_type": "stream",
     "text": [
      "\\rProcessing... | Frame: 1463 | Recent: 0"
     ]
    },
    {
     "name": "stdout",
     "output_type": "stream",
     "text": [
      "\\rProcessing... | Frame: 1465 | Recent: 0"
     ]
    },
    {
     "name": "stdout",
     "output_type": "stream",
     "text": [
      "\\rProcessing... | Frame: 1467 | Recent: 0"
     ]
    },
    {
     "name": "stdout",
     "output_type": "stream",
     "text": [
      "\\rProcessing... | Frame: 1469 | Recent: 0"
     ]
    },
    {
     "name": "stdout",
     "output_type": "stream",
     "text": [
      "\\rProcessing... | Frame: 1471 | Recent: 0"
     ]
    },
    {
     "name": "stdout",
     "output_type": "stream",
     "text": [
      "\\rProcessing... | Frame: 1473 | Recent: 0"
     ]
    },
    {
     "name": "stdout",
     "output_type": "stream",
     "text": [
      "\\rProcessing... | Frame: 1475 | Recent: 0"
     ]
    },
    {
     "name": "stdout",
     "output_type": "stream",
     "text": [
      "\\rProcessing... | Frame: 1477 | Recent: 0"
     ]
    },
    {
     "name": "stdout",
     "output_type": "stream",
     "text": [
      "\\rProcessing... | Frame: 1479 | Recent: 0"
     ]
    },
    {
     "name": "stdout",
     "output_type": "stream",
     "text": [
      "\\rProcessing... | Frame: 1481 | Recent: 0"
     ]
    },
    {
     "name": "stdout",
     "output_type": "stream",
     "text": [
      "\\rProcessing... | Frame: 1483 | Recent: 0"
     ]
    },
    {
     "name": "stdout",
     "output_type": "stream",
     "text": [
      "\\rProcessing... | Frame: 1485 | Recent: 0"
     ]
    },
    {
     "name": "stdout",
     "output_type": "stream",
     "text": [
      "\\rProcessing... | Frame: 1487 | Recent: 0"
     ]
    },
    {
     "name": "stdout",
     "output_type": "stream",
     "text": [
      "\\rProcessing... | Frame: 1489 | Recent: 0"
     ]
    },
    {
     "name": "stdout",
     "output_type": "stream",
     "text": [
      "\\rProcessing... | Frame: 1491 | Recent: 0"
     ]
    },
    {
     "name": "stdout",
     "output_type": "stream",
     "text": [
      "\\rProcessing... | Frame: 1493 | Recent: 0"
     ]
    },
    {
     "name": "stdout",
     "output_type": "stream",
     "text": [
      "\\rProcessing... | Frame: 1495 | Recent: 0"
     ]
    },
    {
     "name": "stdout",
     "output_type": "stream",
     "text": [
      "\\rProcessing... | Frame: 1497 | Recent: 0"
     ]
    },
    {
     "name": "stdout",
     "output_type": "stream",
     "text": [
      "\\rProcessing... | Frame: 1499 | Recent: 0"
     ]
    },
    {
     "name": "stdout",
     "output_type": "stream",
     "text": [
      "\\rProcessing... | Frame: 1501 | Recent: 0"
     ]
    },
    {
     "name": "stdout",
     "output_type": "stream",
     "text": [
      "\\rProcessing... | Frame: 1503 | Recent: 0"
     ]
    },
    {
     "name": "stdout",
     "output_type": "stream",
     "text": [
      "\\rProcessing... | Frame: 1505 | Recent: 0"
     ]
    },
    {
     "name": "stdout",
     "output_type": "stream",
     "text": [
      "\\rProcessing... | Frame: 1507 | Recent: 0"
     ]
    },
    {
     "name": "stdout",
     "output_type": "stream",
     "text": [
      "\\rProcessing... | Frame: 1509 | Recent: 0"
     ]
    },
    {
     "name": "stdout",
     "output_type": "stream",
     "text": [
      "\\rProcessing... | Frame: 1511 | Recent: 0"
     ]
    },
    {
     "name": "stdout",
     "output_type": "stream",
     "text": [
      "\\rProcessing... | Frame: 1513 | Recent: 0"
     ]
    },
    {
     "name": "stdout",
     "output_type": "stream",
     "text": [
      "\\rProcessing... | Frame: 1515 | Recent: 0"
     ]
    },
    {
     "name": "stdout",
     "output_type": "stream",
     "text": [
      "\\rProcessing... | Frame: 1517 | Recent: 0"
     ]
    },
    {
     "name": "stdout",
     "output_type": "stream",
     "text": [
      "\\rProcessing... | Frame: 1519 | Recent: 0"
     ]
    },
    {
     "name": "stdout",
     "output_type": "stream",
     "text": [
      "\\rProcessing... | Frame: 1521 | Recent: 0"
     ]
    },
    {
     "name": "stdout",
     "output_type": "stream",
     "text": [
      "\\rProcessing... | Frame: 1523 | Recent: 0"
     ]
    },
    {
     "name": "stdout",
     "output_type": "stream",
     "text": [
      "\\rProcessing... | Frame: 1525 | Recent: 0"
     ]
    },
    {
     "name": "stdout",
     "output_type": "stream",
     "text": [
      "\\rProcessing... | Frame: 1527 | Recent: 0"
     ]
    },
    {
     "name": "stdout",
     "output_type": "stream",
     "text": [
      "\\rProcessing... | Frame: 1529 | Recent: 0"
     ]
    },
    {
     "name": "stdout",
     "output_type": "stream",
     "text": [
      "\\rProcessing... | Frame: 1531 | Recent: 0"
     ]
    },
    {
     "name": "stdout",
     "output_type": "stream",
     "text": [
      "\\rProcessing... | Frame: 1533 | Recent: 0"
     ]
    },
    {
     "name": "stdout",
     "output_type": "stream",
     "text": [
      "\\rProcessing... | Frame: 1535 | Recent: 0"
     ]
    },
    {
     "name": "stdout",
     "output_type": "stream",
     "text": [
      "\\rProcessing... | Frame: 1537 | Recent: 0"
     ]
    },
    {
     "name": "stdout",
     "output_type": "stream",
     "text": [
      "\\rProcessing... | Frame: 1539 | Recent: 0"
     ]
    },
    {
     "name": "stdout",
     "output_type": "stream",
     "text": [
      "\\rProcessing... | Frame: 1541 | Recent: 0"
     ]
    },
    {
     "name": "stdout",
     "output_type": "stream",
     "text": [
      "\\rProcessing... | Frame: 1543 | Recent: 0"
     ]
    },
    {
     "name": "stdout",
     "output_type": "stream",
     "text": [
      "\\rProcessing... | Frame: 1547 | Recent: 0"
     ]
    },
    {
     "name": "stdout",
     "output_type": "stream",
     "text": [
      "\\rProcessing... | Frame: 1549 | Recent: 0"
     ]
    },
    {
     "name": "stdout",
     "output_type": "stream",
     "text": [
      "\\rProcessing... | Frame: 1551 | Recent: 0"
     ]
    },
    {
     "name": "stdout",
     "output_type": "stream",
     "text": [
      "\\rProcessing... | Frame: 1553 | Recent: 0"
     ]
    },
    {
     "name": "stdout",
     "output_type": "stream",
     "text": [
      "\\rProcessing... | Frame: 1555 | Recent: 0"
     ]
    },
    {
     "name": "stdout",
     "output_type": "stream",
     "text": [
      "\\rProcessing... | Frame: 1557 | Recent: 0"
     ]
    },
    {
     "name": "stdout",
     "output_type": "stream",
     "text": [
      "\\rProcessing... | Frame: 1559 | Recent: 0"
     ]
    },
    {
     "name": "stdout",
     "output_type": "stream",
     "text": [
      "\\rProcessing... | Frame: 1563 | Recent: 0"
     ]
    },
    {
     "name": "stdout",
     "output_type": "stream",
     "text": [
      "\\rProcessing... | Frame: 1565 | Recent: 0"
     ]
    },
    {
     "name": "stdout",
     "output_type": "stream",
     "text": [
      "\\rProcessing... | Frame: 1567 | Recent: 0"
     ]
    },
    {
     "name": "stdout",
     "output_type": "stream",
     "text": [
      "\\rProcessing... | Frame: 1569 | Recent: 0"
     ]
    },
    {
     "name": "stdout",
     "output_type": "stream",
     "text": [
      "\\rProcessing... | Frame: 1571 | Recent: 0"
     ]
    },
    {
     "name": "stdout",
     "output_type": "stream",
     "text": [
      "\\rProcessing... | Frame: 1575 | Recent: 0"
     ]
    },
    {
     "name": "stdout",
     "output_type": "stream",
     "text": [
      "\\rProcessing... | Frame: 1577 | Recent: 0"
     ]
    },
    {
     "name": "stdout",
     "output_type": "stream",
     "text": [
      "\\rProcessing... | Frame: 1579 | Recent: 0"
     ]
    },
    {
     "name": "stdout",
     "output_type": "stream",
     "text": [
      "\\rProcessing... | Frame: 1581 | Recent: 0"
     ]
    },
    {
     "name": "stdout",
     "output_type": "stream",
     "text": [
      "\\rProcessing... | Frame: 1583 | Recent: 0"
     ]
    },
    {
     "name": "stdout",
     "output_type": "stream",
     "text": [
      "\\rProcessing... | Frame: 1585 | Recent: 0"
     ]
    },
    {
     "name": "stdout",
     "output_type": "stream",
     "text": [
      "\\rProcessing... | Frame: 1587 | Recent: 0"
     ]
    },
    {
     "name": "stdout",
     "output_type": "stream",
     "text": [
      "\\rProcessing... | Frame: 1589 | Recent: 0"
     ]
    },
    {
     "name": "stdout",
     "output_type": "stream",
     "text": [
      "\\rProcessing... | Frame: 1591 | Recent: 0"
     ]
    },
    {
     "name": "stdout",
     "output_type": "stream",
     "text": [
      "\\rProcessing... | Frame: 1593 | Recent: 0"
     ]
    },
    {
     "name": "stdout",
     "output_type": "stream",
     "text": [
      "\\rProcessing... | Frame: 1595 | Recent: 0"
     ]
    },
    {
     "name": "stdout",
     "output_type": "stream",
     "text": [
      "\\rProcessing... | Frame: 1597 | Recent: 0"
     ]
    },
    {
     "name": "stdout",
     "output_type": "stream",
     "text": [
      "\\rProcessing... | Frame: 1599 | Recent: 0"
     ]
    },
    {
     "name": "stdout",
     "output_type": "stream",
     "text": [
      "\\rProcessing... | Frame: 1603 | Recent: 0"
     ]
    },
    {
     "name": "stdout",
     "output_type": "stream",
     "text": [
      "\\rProcessing... | Frame: 1605 | Recent: 0"
     ]
    },
    {
     "name": "stdout",
     "output_type": "stream",
     "text": [
      "\\rProcessing... | Frame: 1607 | Recent: 0"
     ]
    },
    {
     "name": "stdout",
     "output_type": "stream",
     "text": [
      "\\rProcessing... | Frame: 1609 | Recent: 0"
     ]
    },
    {
     "name": "stdout",
     "output_type": "stream",
     "text": [
      "\\rProcessing... | Frame: 1612 | Recent: 0"
     ]
    },
    {
     "name": "stdout",
     "output_type": "stream",
     "text": [
      "\\rProcessing... | Frame: 1613 | Recent: 0"
     ]
    },
    {
     "name": "stdout",
     "output_type": "stream",
     "text": [
      "\\rProcessing... | Frame: 1615 | Recent: 0"
     ]
    },
    {
     "name": "stdout",
     "output_type": "stream",
     "text": [
      "\\rProcessing... | Frame: 1617 | Recent: 0"
     ]
    },
    {
     "name": "stdout",
     "output_type": "stream",
     "text": [
      "\\rProcessing... | Frame: 1619 | Recent: 0"
     ]
    },
    {
     "name": "stdout",
     "output_type": "stream",
     "text": [
      "\\rProcessing... | Frame: 1621 | Recent: 0"
     ]
    },
    {
     "name": "stdout",
     "output_type": "stream",
     "text": [
      "\\rProcessing... | Frame: 1623 | Recent: 0"
     ]
    },
    {
     "name": "stdout",
     "output_type": "stream",
     "text": [
      "\\rProcessing... | Frame: 1625 | Recent: 0"
     ]
    },
    {
     "name": "stdout",
     "output_type": "stream",
     "text": [
      "\\rProcessing... | Frame: 1628 | Recent: 0"
     ]
    },
    {
     "name": "stdout",
     "output_type": "stream",
     "text": [
      "\\rProcessing... | Frame: 1629 | Recent: 0"
     ]
    },
    {
     "name": "stdout",
     "output_type": "stream",
     "text": [
      "\\rProcessing... | Frame: 1631 | Recent: 0"
     ]
    },
    {
     "name": "stdout",
     "output_type": "stream",
     "text": [
      "\\rProcessing... | Frame: 1633 | Recent: 0"
     ]
    },
    {
     "name": "stdout",
     "output_type": "stream",
     "text": [
      "\\rProcessing... | Frame: 1635 | Recent: 0"
     ]
    },
    {
     "name": "stdout",
     "output_type": "stream",
     "text": [
      "\\rProcessing... | Frame: 1638 | Recent: 0"
     ]
    },
    {
     "name": "stdout",
     "output_type": "stream",
     "text": [
      "\\rProcessing... | Frame: 1639 | Recent: 0"
     ]
    },
    {
     "name": "stdout",
     "output_type": "stream",
     "text": [
      "\\rProcessing... | Frame: 1641 | Recent: 0"
     ]
    },
    {
     "name": "stdout",
     "output_type": "stream",
     "text": [
      "\\rProcessing... | Frame: 1643 | Recent: 0"
     ]
    },
    {
     "name": "stdout",
     "output_type": "stream",
     "text": [
      "\\rProcessing... | Frame: 1645 | Recent: 0"
     ]
    },
    {
     "name": "stdout",
     "output_type": "stream",
     "text": [
      "\\rProcessing... | Frame: 1647 | Recent: 0"
     ]
    },
    {
     "name": "stdout",
     "output_type": "stream",
     "text": [
      "\\rProcessing... | Frame: 1649 | Recent: 0"
     ]
    },
    {
     "name": "stdout",
     "output_type": "stream",
     "text": [
      "\\rProcessing... | Frame: 1653 | Recent: 0"
     ]
    },
    {
     "name": "stdout",
     "output_type": "stream",
     "text": [
      "\\rProcessing... | Frame: 1655 | Recent: 0"
     ]
    },
    {
     "name": "stdout",
     "output_type": "stream",
     "text": [
      "\\rProcessing... | Frame: 1657 | Recent: 0"
     ]
    },
    {
     "name": "stdout",
     "output_type": "stream",
     "text": [
      "\\rProcessing... | Frame: 1659 | Recent: 0"
     ]
    },
    {
     "name": "stdout",
     "output_type": "stream",
     "text": [
      "\\rProcessing... | Frame: 1661 | Recent: 0"
     ]
    },
    {
     "name": "stdout",
     "output_type": "stream",
     "text": [
      "\\rProcessing... | Frame: 1663 | Recent: 0"
     ]
    },
    {
     "name": "stdout",
     "output_type": "stream",
     "text": [
      "\\rProcessing... | Frame: 1665 | Recent: 0"
     ]
    },
    {
     "name": "stdout",
     "output_type": "stream",
     "text": [
      "\\rProcessing... | Frame: 1667 | Recent: 0"
     ]
    },
    {
     "name": "stdout",
     "output_type": "stream",
     "text": [
      "\\rProcessing... | Frame: 1669 | Recent: 0"
     ]
    },
    {
     "name": "stdout",
     "output_type": "stream",
     "text": [
      "\\rProcessing... | Frame: 1671 | Recent: 0"
     ]
    },
    {
     "name": "stdout",
     "output_type": "stream",
     "text": [
      "\\rProcessing... | Frame: 1673 | Recent: 0"
     ]
    },
    {
     "name": "stdout",
     "output_type": "stream",
     "text": [
      "\\rProcessing... | Frame: 1675 | Recent: 0"
     ]
    },
    {
     "name": "stdout",
     "output_type": "stream",
     "text": [
      "\\rProcessing... | Frame: 1677 | Recent: 0"
     ]
    },
    {
     "name": "stdout",
     "output_type": "stream",
     "text": [
      "\\rProcessing... | Frame: 1680 | Recent: 0"
     ]
    },
    {
     "name": "stdout",
     "output_type": "stream",
     "text": [
      "\\rProcessing... | Frame: 1681 | Recent: 0"
     ]
    },
    {
     "name": "stdout",
     "output_type": "stream",
     "text": [
      "\\rProcessing... | Frame: 1683 | Recent: 0"
     ]
    },
    {
     "name": "stdout",
     "output_type": "stream",
     "text": [
      "\\rProcessing... | Frame: 1685 | Recent: 0"
     ]
    },
    {
     "name": "stdout",
     "output_type": "stream",
     "text": [
      "\\rProcessing... | Frame: 1687 | Recent: 0"
     ]
    },
    {
     "name": "stdout",
     "output_type": "stream",
     "text": [
      "\\rProcessing... | Frame: 1689 | Recent: 0"
     ]
    },
    {
     "name": "stdout",
     "output_type": "stream",
     "text": [
      "\\rProcessing... | Frame: 1691 | Recent: 0"
     ]
    },
    {
     "name": "stdout",
     "output_type": "stream",
     "text": [
      "\\rProcessing... | Frame: 1693 | Recent: 0"
     ]
    },
    {
     "name": "stdout",
     "output_type": "stream",
     "text": [
      "\\rProcessing... | Frame: 1697 | Recent: 0"
     ]
    },
    {
     "name": "stdout",
     "output_type": "stream",
     "text": [
      "\\rProcessing... | Frame: 1699 | Recent: 0"
     ]
    },
    {
     "name": "stdout",
     "output_type": "stream",
     "text": [
      "\\rProcessing... | Frame: 1701 | Recent: 0"
     ]
    },
    {
     "name": "stdout",
     "output_type": "stream",
     "text": [
      "\\rProcessing... | Frame: 1703 | Recent: 0"
     ]
    },
    {
     "name": "stdout",
     "output_type": "stream",
     "text": [
      "\\rProcessing... | Frame: 1705 | Recent: 0"
     ]
    },
    {
     "name": "stdout",
     "output_type": "stream",
     "text": [
      "\\rProcessing... | Frame: 1707 | Recent: 0"
     ]
    },
    {
     "name": "stdout",
     "output_type": "stream",
     "text": [
      "\\rProcessing... | Frame: 1709 | Recent: 0"
     ]
    },
    {
     "name": "stdout",
     "output_type": "stream",
     "text": [
      "\\rProcessing... | Frame: 1711 | Recent: 0"
     ]
    },
    {
     "name": "stdout",
     "output_type": "stream",
     "text": [
      "\\rProcessing... | Frame: 1715 | Recent: 0"
     ]
    },
    {
     "name": "stdout",
     "output_type": "stream",
     "text": [
      "\\rProcessing... | Frame: 1718 | Recent: 0"
     ]
    },
    {
     "name": "stdout",
     "output_type": "stream",
     "text": [
      "\\rProcessing... | Frame: 1719 | Recent: 0"
     ]
    },
    {
     "name": "stdout",
     "output_type": "stream",
     "text": [
      "\\rProcessing... | Frame: 1721 | Recent: 0"
     ]
    },
    {
     "name": "stdout",
     "output_type": "stream",
     "text": [
      "\\rProcessing... | Frame: 1723 | Recent: 0"
     ]
    },
    {
     "name": "stdout",
     "output_type": "stream",
     "text": [
      "\\rProcessing... | Frame: 1725 | Recent: 0"
     ]
    },
    {
     "name": "stdout",
     "output_type": "stream",
     "text": [
      "\\rProcessing... | Frame: 1729 | Recent: 0"
     ]
    },
    {
     "name": "stdout",
     "output_type": "stream",
     "text": [
      "\\rProcessing... | Frame: 1732 | Recent: 0"
     ]
    },
    {
     "name": "stdout",
     "output_type": "stream",
     "text": [
      "\\rProcessing... | Frame: 1733 | Recent: 0"
     ]
    },
    {
     "name": "stdout",
     "output_type": "stream",
     "text": [
      "\\rProcessing... | Frame: 1735 | Recent: 0"
     ]
    },
    {
     "name": "stdout",
     "output_type": "stream",
     "text": [
      "\\rProcessing... | Frame: 1737 | Recent: 0"
     ]
    },
    {
     "name": "stdout",
     "output_type": "stream",
     "text": [
      "\\rProcessing... | Frame: 1739 | Recent: 0"
     ]
    },
    {
     "name": "stdout",
     "output_type": "stream",
     "text": [
      "\\rProcessing... | Frame: 1741 | Recent: 0"
     ]
    },
    {
     "name": "stdout",
     "output_type": "stream",
     "text": [
      "\\rProcessing... | Frame: 1743 | Recent: 0"
     ]
    },
    {
     "name": "stdout",
     "output_type": "stream",
     "text": [
      "\\rProcessing... | Frame: 1745 | Recent: 0"
     ]
    },
    {
     "name": "stdout",
     "output_type": "stream",
     "text": [
      "\\rProcessing... | Frame: 1747 | Recent: 0"
     ]
    },
    {
     "name": "stdout",
     "output_type": "stream",
     "text": [
      "\\rProcessing... | Frame: 1749 | Recent: 0"
     ]
    },
    {
     "name": "stdout",
     "output_type": "stream",
     "text": [
      "\\rProcessing... | Frame: 1751 | Recent: 0"
     ]
    },
    {
     "name": "stdout",
     "output_type": "stream",
     "text": [
      "\\rProcessing... | Frame: 1754 | Recent: 0"
     ]
    },
    {
     "name": "stdout",
     "output_type": "stream",
     "text": [
      "\\rProcessing... | Frame: 1755 | Recent: 0"
     ]
    },
    {
     "name": "stdout",
     "output_type": "stream",
     "text": [
      "\\rProcessing... | Frame: 1759 | Recent: 0"
     ]
    },
    {
     "name": "stdout",
     "output_type": "stream",
     "text": [
      "\\rProcessing... | Frame: 1761 | Recent: 0"
     ]
    },
    {
     "name": "stdout",
     "output_type": "stream",
     "text": [
      "\\rProcessing... | Frame: 1763 | Recent: 0"
     ]
    },
    {
     "name": "stdout",
     "output_type": "stream",
     "text": [
      "\\rProcessing... | Frame: 1767 | Recent: 0"
     ]
    },
    {
     "name": "stdout",
     "output_type": "stream",
     "text": [
      "\\rProcessing... | Frame: 1769 | Recent: 0"
     ]
    },
    {
     "name": "stdout",
     "output_type": "stream",
     "text": [
      "\\rProcessing... | Frame: 1771 | Recent: 0"
     ]
    },
    {
     "name": "stdout",
     "output_type": "stream",
     "text": [
      "\\rProcessing... | Frame: 1773 | Recent: 0"
     ]
    },
    {
     "name": "stdout",
     "output_type": "stream",
     "text": [
      "\\rProcessing... | Frame: 1775 | Recent: 0"
     ]
    },
    {
     "name": "stdout",
     "output_type": "stream",
     "text": [
      "\\rProcessing... | Frame: 1777 | Recent: 0"
     ]
    },
    {
     "name": "stdout",
     "output_type": "stream",
     "text": [
      "\\rProcessing... | Frame: 1779 | Recent: 0"
     ]
    },
    {
     "name": "stdout",
     "output_type": "stream",
     "text": [
      "\\rProcessing... | Frame: 1783 | Recent: 0"
     ]
    },
    {
     "name": "stdout",
     "output_type": "stream",
     "text": [
      "\\rProcessing... | Frame: 1786 | Recent: 0"
     ]
    },
    {
     "name": "stdout",
     "output_type": "stream",
     "text": [
      "\\rProcessing... | Frame: 1787 | Recent: 0"
     ]
    },
    {
     "name": "stdout",
     "output_type": "stream",
     "text": [
      "\\rProcessing... | Frame: 1789 | Recent: 0"
     ]
    },
    {
     "name": "stdout",
     "output_type": "stream",
     "text": [
      "\\rProcessing... | Frame: 1791 | Recent: 0"
     ]
    },
    {
     "name": "stdout",
     "output_type": "stream",
     "text": [
      "\\rProcessing... | Frame: 1795 | Recent: 0"
     ]
    },
    {
     "name": "stdout",
     "output_type": "stream",
     "text": [
      "\\rProcessing... | Frame: 1797 | Recent: 0"
     ]
    },
    {
     "name": "stdout",
     "output_type": "stream",
     "text": [
      "\\rProcessing... | Frame: 1800 | Recent: 0"
     ]
    },
    {
     "name": "stdout",
     "output_type": "stream",
     "text": [
      "\\rProcessing... | Frame: 1801 | Recent: 0"
     ]
    },
    {
     "name": "stdout",
     "output_type": "stream",
     "text": [
      "\\rProcessing... | Frame: 1804 | Recent: 0"
     ]
    },
    {
     "name": "stdout",
     "output_type": "stream",
     "text": [
      "\\rProcessing... | Frame: 1805 | Recent: 0"
     ]
    },
    {
     "name": "stdout",
     "output_type": "stream",
     "text": [
      "\\rProcessing... | Frame: 1808 | Recent: 0"
     ]
    },
    {
     "name": "stdout",
     "output_type": "stream",
     "text": [
      "\\rProcessing... | Frame: 1809 | Recent: 0"
     ]
    },
    {
     "name": "stdout",
     "output_type": "stream",
     "text": [
      "\\rProcessing... | Frame: 1811 | Recent: 0"
     ]
    },
    {
     "name": "stdout",
     "output_type": "stream",
     "text": [
      "\\rProcessing... | Frame: 1813 | Recent: 0"
     ]
    },
    {
     "name": "stdout",
     "output_type": "stream",
     "text": [
      "\\rProcessing... | Frame: 1815 | Recent: 0"
     ]
    },
    {
     "name": "stdout",
     "output_type": "stream",
     "text": [
      "\\rProcessing... | Frame: 1817 | Recent: 0"
     ]
    },
    {
     "name": "stdout",
     "output_type": "stream",
     "text": [
      "\\rProcessing... | Frame: 1819 | Recent: 0"
     ]
    },
    {
     "name": "stdout",
     "output_type": "stream",
     "text": [
      "\\rProcessing... | Frame: 1823 | Recent: 0"
     ]
    },
    {
     "name": "stdout",
     "output_type": "stream",
     "text": [
      "\\rProcessing... | Frame: 1825 | Recent: 0"
     ]
    },
    {
     "name": "stdout",
     "output_type": "stream",
     "text": [
      "\\rProcessing... | Frame: 1827 | Recent: 0"
     ]
    },
    {
     "name": "stdout",
     "output_type": "stream",
     "text": [
      "\\rProcessing... | Frame: 1829 | Recent: 0"
     ]
    },
    {
     "name": "stdout",
     "output_type": "stream",
     "text": [
      "\\rProcessing... | Frame: 1831 | Recent: 0"
     ]
    },
    {
     "name": "stdout",
     "output_type": "stream",
     "text": [
      "\\rProcessing... | Frame: 1833 | Recent: 0"
     ]
    },
    {
     "name": "stdout",
     "output_type": "stream",
     "text": [
      "\\rProcessing... | Frame: 1835 | Recent: 0"
     ]
    },
    {
     "name": "stdout",
     "output_type": "stream",
     "text": [
      "\\rProcessing... | Frame: 1837 | Recent: 0"
     ]
    },
    {
     "name": "stdout",
     "output_type": "stream",
     "text": [
      "\\rProcessing... | Frame: 1839 | Recent: 0"
     ]
    },
    {
     "name": "stdout",
     "output_type": "stream",
     "text": [
      "\\rProcessing... | Frame: 1841 | Recent: 0"
     ]
    },
    {
     "name": "stdout",
     "output_type": "stream",
     "text": [
      "\\rProcessing... | Frame: 1844 | Recent: 0"
     ]
    },
    {
     "name": "stdout",
     "output_type": "stream",
     "text": [
      "\\rProcessing... | Frame: 1845 | Recent: 0"
     ]
    },
    {
     "name": "stdout",
     "output_type": "stream",
     "text": [
      "\\rProcessing... | Frame: 1847 | Recent: 0"
     ]
    },
    {
     "name": "stdout",
     "output_type": "stream",
     "text": [
      "\\rProcessing... | Frame: 1849 | Recent: 0"
     ]
    },
    {
     "name": "stdout",
     "output_type": "stream",
     "text": [
      "\\rProcessing... | Frame: 1851 | Recent: 0"
     ]
    },
    {
     "name": "stdout",
     "output_type": "stream",
     "text": [
      "\\rProcessing... | Frame: 1853 | Recent: 0"
     ]
    },
    {
     "name": "stdout",
     "output_type": "stream",
     "text": [
      "\\rProcessing... | Frame: 1856 | Recent: 0"
     ]
    },
    {
     "name": "stdout",
     "output_type": "stream",
     "text": [
      "\\rProcessing... | Frame: 1857 | Recent: 0"
     ]
    },
    {
     "name": "stdout",
     "output_type": "stream",
     "text": [
      "\\rProcessing... | Frame: 1859 | Recent: 0"
     ]
    },
    {
     "name": "stdout",
     "output_type": "stream",
     "text": [
      "\\rProcessing... | Frame: 1861 | Recent: 0"
     ]
    },
    {
     "name": "stdout",
     "output_type": "stream",
     "text": [
      "\\rProcessing... | Frame: 1863 | Recent: 0"
     ]
    },
    {
     "name": "stdout",
     "output_type": "stream",
     "text": [
      "\\rProcessing... | Frame: 1865 | Recent: 0"
     ]
    },
    {
     "name": "stdout",
     "output_type": "stream",
     "text": [
      "\\rProcessing... | Frame: 1867 | Recent: 0"
     ]
    },
    {
     "name": "stdout",
     "output_type": "stream",
     "text": [
      "\\rProcessing... | Frame: 1869 | Recent: 0"
     ]
    },
    {
     "name": "stdout",
     "output_type": "stream",
     "text": [
      "\\rProcessing... | Frame: 1873 | Recent: 0"
     ]
    },
    {
     "name": "stdout",
     "output_type": "stream",
     "text": [
      "\\rProcessing... | Frame: 1875 | Recent: 0"
     ]
    },
    {
     "name": "stdout",
     "output_type": "stream",
     "text": [
      "\\rProcessing... | Frame: 1877 | Recent: 0"
     ]
    },
    {
     "name": "stdout",
     "output_type": "stream",
     "text": [
      "\\rProcessing... | Frame: 1879 | Recent: 0"
     ]
    },
    {
     "name": "stdout",
     "output_type": "stream",
     "text": [
      "\\rProcessing... | Frame: 1881 | Recent: 0"
     ]
    },
    {
     "name": "stdout",
     "output_type": "stream",
     "text": [
      "\\rProcessing... | Frame: 1883 | Recent: 0"
     ]
    },
    {
     "name": "stdout",
     "output_type": "stream",
     "text": [
      "\\rProcessing... | Frame: 1885 | Recent: 0"
     ]
    },
    {
     "name": "stdout",
     "output_type": "stream",
     "text": [
      "\\rProcessing... | Frame: 1887 | Recent: 0"
     ]
    },
    {
     "name": "stdout",
     "output_type": "stream",
     "text": [
      "\\rProcessing... | Frame: 1889 | Recent: 0"
     ]
    },
    {
     "name": "stdout",
     "output_type": "stream",
     "text": [
      "\\rProcessing... | Frame: 1891 | Recent: 0"
     ]
    },
    {
     "name": "stdout",
     "output_type": "stream",
     "text": [
      "\\rProcessing... | Frame: 1893 | Recent: 0"
     ]
    },
    {
     "name": "stdout",
     "output_type": "stream",
     "text": [
      "\\rProcessing... | Frame: 1895 | Recent: 0"
     ]
    },
    {
     "name": "stdout",
     "output_type": "stream",
     "text": [
      "\\rProcessing... | Frame: 1897 | Recent: 0"
     ]
    },
    {
     "name": "stdout",
     "output_type": "stream",
     "text": [
      "\\rProcessing... | Frame: 1899 | Recent: 0"
     ]
    },
    {
     "name": "stdout",
     "output_type": "stream",
     "text": [
      "\\rProcessing... | Frame: 1901 | Recent: 0"
     ]
    },
    {
     "name": "stdout",
     "output_type": "stream",
     "text": [
      "\\rProcessing... | Frame: 1903 | Recent: 0"
     ]
    },
    {
     "name": "stdout",
     "output_type": "stream",
     "text": [
      "\\rProcessing... | Frame: 1905 | Recent: 0"
     ]
    },
    {
     "name": "stdout",
     "output_type": "stream",
     "text": [
      "\\rProcessing... | Frame: 1907 | Recent: 0"
     ]
    },
    {
     "name": "stdout",
     "output_type": "stream",
     "text": [
      "\\rProcessing... | Frame: 1909 | Recent: 0"
     ]
    },
    {
     "name": "stdout",
     "output_type": "stream",
     "text": [
      "\\rProcessing... | Frame: 1911 | Recent: 0"
     ]
    },
    {
     "name": "stdout",
     "output_type": "stream",
     "text": [
      "\\rProcessing... | Frame: 1913 | Recent: 0"
     ]
    },
    {
     "name": "stdout",
     "output_type": "stream",
     "text": [
      "\\rProcessing... | Frame: 1915 | Recent: 0"
     ]
    },
    {
     "name": "stdout",
     "output_type": "stream",
     "text": [
      "\\rProcessing... | Frame: 1918 | Recent: 0"
     ]
    },
    {
     "name": "stdout",
     "output_type": "stream",
     "text": [
      "\\rProcessing... | Frame: 1919 | Recent: 0"
     ]
    },
    {
     "name": "stdout",
     "output_type": "stream",
     "text": [
      "\\rProcessing... | Frame: 1921 | Recent: 0"
     ]
    },
    {
     "name": "stdout",
     "output_type": "stream",
     "text": [
      "\\rProcessing... | Frame: 1923 | Recent: 0"
     ]
    },
    {
     "name": "stdout",
     "output_type": "stream",
     "text": [
      "\\rProcessing... | Frame: 1925 | Recent: 0"
     ]
    },
    {
     "name": "stdout",
     "output_type": "stream",
     "text": [
      "\\rProcessing... | Frame: 1927 | Recent: 0"
     ]
    },
    {
     "name": "stdout",
     "output_type": "stream",
     "text": [
      "\\rProcessing... | Frame: 1929 | Recent: 0"
     ]
    },
    {
     "name": "stdout",
     "output_type": "stream",
     "text": [
      "\\rProcessing... | Frame: 1933 | Recent: 0"
     ]
    },
    {
     "name": "stdout",
     "output_type": "stream",
     "text": [
      "\\rProcessing... | Frame: 1935 | Recent: 0"
     ]
    },
    {
     "name": "stdout",
     "output_type": "stream",
     "text": [
      "\\rProcessing... | Frame: 1937 | Recent: 0"
     ]
    },
    {
     "name": "stdout",
     "output_type": "stream",
     "text": [
      "\\rProcessing... | Frame: 1939 | Recent: 0"
     ]
    },
    {
     "name": "stdout",
     "output_type": "stream",
     "text": [
      "\\rProcessing... | Frame: 1943 | Recent: 0"
     ]
    },
    {
     "name": "stdout",
     "output_type": "stream",
     "text": [
      "\\rProcessing... | Frame: 1945 | Recent: 0"
     ]
    },
    {
     "name": "stdout",
     "output_type": "stream",
     "text": [
      "\\rProcessing... | Frame: 1949 | Recent: 0"
     ]
    },
    {
     "name": "stdout",
     "output_type": "stream",
     "text": [
      "\\rProcessing... | Frame: 1951 | Recent: 0"
     ]
    },
    {
     "name": "stdout",
     "output_type": "stream",
     "text": [
      "\\rProcessing... | Frame: 1953 | Recent: 0"
     ]
    },
    {
     "name": "stdout",
     "output_type": "stream",
     "text": [
      "\\rProcessing... | Frame: 1955 | Recent: 0"
     ]
    },
    {
     "name": "stdout",
     "output_type": "stream",
     "text": [
      "\\rProcessing... | Frame: 1957 | Recent: 0"
     ]
    },
    {
     "name": "stdout",
     "output_type": "stream",
     "text": [
      "\\rProcessing... | Frame: 1959 | Recent: 0"
     ]
    },
    {
     "name": "stdout",
     "output_type": "stream",
     "text": [
      "\\rProcessing... | Frame: 1961 | Recent: 0"
     ]
    },
    {
     "name": "stdout",
     "output_type": "stream",
     "text": [
      "\\rProcessing... | Frame: 1965 | Recent: 0"
     ]
    },
    {
     "name": "stdout",
     "output_type": "stream",
     "text": [
      "\\rProcessing... | Frame: 1967 | Recent: 0"
     ]
    },
    {
     "name": "stdout",
     "output_type": "stream",
     "text": [
      "\\rProcessing... | Frame: 1971 | Recent: 0"
     ]
    },
    {
     "name": "stdout",
     "output_type": "stream",
     "text": [
      "\\rProcessing... | Frame: 1973 | Recent: 0"
     ]
    },
    {
     "name": "stdout",
     "output_type": "stream",
     "text": [
      "\\rProcessing... | Frame: 1975 | Recent: 0"
     ]
    },
    {
     "name": "stdout",
     "output_type": "stream",
     "text": [
      "\\rProcessing... | Frame: 1977 | Recent: 0"
     ]
    },
    {
     "name": "stdout",
     "output_type": "stream",
     "text": [
      "\\rProcessing... | Frame: 1979 | Recent: 0"
     ]
    },
    {
     "name": "stdout",
     "output_type": "stream",
     "text": [
      "\\rProcessing... | Frame: 1981 | Recent: 0"
     ]
    },
    {
     "name": "stdout",
     "output_type": "stream",
     "text": [
      "\\rProcessing... | Frame: 1983 | Recent: 0"
     ]
    },
    {
     "name": "stdout",
     "output_type": "stream",
     "text": [
      "\\rProcessing... | Frame: 1985 | Recent: 0"
     ]
    },
    {
     "name": "stdout",
     "output_type": "stream",
     "text": [
      "\\rProcessing... | Frame: 1989 | Recent: 0"
     ]
    },
    {
     "name": "stdout",
     "output_type": "stream",
     "text": [
      "\\rProcessing... | Frame: 1991 | Recent: 0"
     ]
    },
    {
     "name": "stdout",
     "output_type": "stream",
     "text": [
      "\\rProcessing... | Frame: 1993 | Recent: 0"
     ]
    },
    {
     "name": "stdout",
     "output_type": "stream",
     "text": [
      "\\rProcessing... | Frame: 1995 | Recent: 0"
     ]
    },
    {
     "name": "stdout",
     "output_type": "stream",
     "text": [
      "\\rProcessing... | Frame: 1997 | Recent: 0"
     ]
    },
    {
     "name": "stdout",
     "output_type": "stream",
     "text": [
      "\\rProcessing... | Frame: 1999 | Recent: 0"
     ]
    },
    {
     "name": "stdout",
     "output_type": "stream",
     "text": [
      "\\rProcessing... | Frame: 2002 | Recent: 0"
     ]
    },
    {
     "name": "stdout",
     "output_type": "stream",
     "text": [
      "\\rProcessing... | Frame: 2003 | Recent: 0"
     ]
    },
    {
     "name": "stdout",
     "output_type": "stream",
     "text": [
      "\\rProcessing... | Frame: 2005 | Recent: 0"
     ]
    },
    {
     "name": "stdout",
     "output_type": "stream",
     "text": [
      "\\rProcessing... | Frame: 2008 | Recent: 0"
     ]
    },
    {
     "name": "stdout",
     "output_type": "stream",
     "text": [
      "\\rProcessing... | Frame: 2009 | Recent: 0"
     ]
    },
    {
     "name": "stdout",
     "output_type": "stream",
     "text": [
      "\\rProcessing... | Frame: 2011 | Recent: 0"
     ]
    },
    {
     "name": "stdout",
     "output_type": "stream",
     "text": [
      "\\rProcessing... | Frame: 2013 | Recent: 0"
     ]
    },
    {
     "name": "stdout",
     "output_type": "stream",
     "text": [
      "\\rProcessing... | Frame: 2015 | Recent: 0"
     ]
    },
    {
     "name": "stdout",
     "output_type": "stream",
     "text": [
      "\\rProcessing... | Frame: 2017 | Recent: 0"
     ]
    },
    {
     "name": "stdout",
     "output_type": "stream",
     "text": [
      "\\rProcessing... | Frame: 2020 | Recent: 0"
     ]
    },
    {
     "name": "stdout",
     "output_type": "stream",
     "text": [
      "\\rProcessing... | Frame: 2021 | Recent: 0"
     ]
    },
    {
     "name": "stdout",
     "output_type": "stream",
     "text": [
      "\\rProcessing... | Frame: 2025 | Recent: 0"
     ]
    },
    {
     "name": "stdout",
     "output_type": "stream",
     "text": [
      "\\rProcessing... | Frame: 2027 | Recent: 0"
     ]
    },
    {
     "name": "stdout",
     "output_type": "stream",
     "text": [
      "\\rProcessing... | Frame: 2029 | Recent: 0"
     ]
    },
    {
     "name": "stdout",
     "output_type": "stream",
     "text": [
      "\\rProcessing... | Frame: 2031 | Recent: 0"
     ]
    },
    {
     "name": "stdout",
     "output_type": "stream",
     "text": [
      "\\rProcessing... | Frame: 2033 | Recent: 0"
     ]
    },
    {
     "name": "stdout",
     "output_type": "stream",
     "text": [
      "\\rProcessing... | Frame: 2035 | Recent: 0"
     ]
    },
    {
     "name": "stdout",
     "output_type": "stream",
     "text": [
      "\\rProcessing... | Frame: 2037 | Recent: 0"
     ]
    },
    {
     "name": "stdout",
     "output_type": "stream",
     "text": [
      "\\rProcessing... | Frame: 2039 | Recent: 0"
     ]
    },
    {
     "name": "stdout",
     "output_type": "stream",
     "text": [
      "\\rProcessing... | Frame: 2043 | Recent: 0"
     ]
    },
    {
     "name": "stdout",
     "output_type": "stream",
     "text": [
      "\\rProcessing... | Frame: 2045 | Recent: 0"
     ]
    },
    {
     "name": "stdout",
     "output_type": "stream",
     "text": [
      "\\rProcessing... | Frame: 2048 | Recent: 0"
     ]
    },
    {
     "name": "stdout",
     "output_type": "stream",
     "text": [
      "\\rProcessing... | Frame: 2049 | Recent: 0"
     ]
    },
    {
     "name": "stdout",
     "output_type": "stream",
     "text": [
      "\\rProcessing... | Frame: 2051 | Recent: 0"
     ]
    },
    {
     "name": "stdout",
     "output_type": "stream",
     "text": [
      "\\rProcessing... | Frame: 2055 | Recent: 0"
     ]
    },
    {
     "name": "stdout",
     "output_type": "stream",
     "text": [
      "\\rProcessing... | Frame: 2057 | Recent: 0"
     ]
    },
    {
     "name": "stdout",
     "output_type": "stream",
     "text": [
      "\\rProcessing... | Frame: 2059 | Recent: 0"
     ]
    },
    {
     "name": "stdout",
     "output_type": "stream",
     "text": [
      "\\rProcessing... | Frame: 2061 | Recent: 0"
     ]
    },
    {
     "name": "stdout",
     "output_type": "stream",
     "text": [
      "\\rProcessing... | Frame: 2063 | Recent: 0"
     ]
    },
    {
     "name": "stdout",
     "output_type": "stream",
     "text": [
      "\\rProcessing... | Frame: 2067 | Recent: 0"
     ]
    },
    {
     "name": "stdout",
     "output_type": "stream",
     "text": [
      "\\rProcessing... | Frame: 2069 | Recent: 0"
     ]
    },
    {
     "name": "stdout",
     "output_type": "stream",
     "text": [
      "\\rProcessing... | Frame: 2077 | Recent: 0"
     ]
    },
    {
     "name": "stdout",
     "output_type": "stream",
     "text": [
      "\\rProcessing... | Frame: 2087 | Recent: 0"
     ]
    },
    {
     "name": "stdout",
     "output_type": "stream",
     "text": [
      "\\rProcessing... | Frame: 2097 | Recent: 0"
     ]
    },
    {
     "name": "stdout",
     "output_type": "stream",
     "text": [
      "\\rProcessing... | Frame: 2105 | Recent: 0"
     ]
    },
    {
     "name": "stdout",
     "output_type": "stream",
     "text": [
      "\\rProcessing... | Frame: 2114 | Recent: 0"
     ]
    },
    {
     "name": "stdout",
     "output_type": "stream",
     "text": [
      "\\rProcessing... | Frame: 2123 | Recent: 0"
     ]
    },
    {
     "name": "stdout",
     "output_type": "stream",
     "text": [
      "\\rProcessing... | Frame: 2132 | Recent: 0"
     ]
    },
    {
     "name": "stdout",
     "output_type": "stream",
     "text": [
      "\\rProcessing... | Frame: 2141 | Recent: 0"
     ]
    },
    {
     "name": "stdout",
     "output_type": "stream",
     "text": [
      "\\rProcessing... | Frame: 2151 | Recent: 0"
     ]
    },
    {
     "name": "stdout",
     "output_type": "stream",
     "text": [
      "\\rProcessing... | Frame: 2159 | Recent: 0"
     ]
    },
    {
     "name": "stdout",
     "output_type": "stream",
     "text": [
      "\\rProcessing... | Frame: 2167 | Recent: 0"
     ]
    },
    {
     "name": "stdout",
     "output_type": "stream",
     "text": [
      "\\rProcessing... | Frame: 2175 | Recent: 0"
     ]
    },
    {
     "name": "stdout",
     "output_type": "stream",
     "text": [
      "\\rProcessing... | Frame: 2183 | Recent: 0"
     ]
    },
    {
     "name": "stdout",
     "output_type": "stream",
     "text": [
      "\\rProcessing... | Frame: 2193 | Recent: 0"
     ]
    },
    {
     "name": "stdout",
     "output_type": "stream",
     "text": [
      "\\rProcessing... | Frame: 2203 | Recent: 0"
     ]
    },
    {
     "name": "stdout",
     "output_type": "stream",
     "text": [
      "\\rProcessing... | Frame: 2213 | Recent: 0"
     ]
    },
    {
     "name": "stdout",
     "output_type": "stream",
     "text": [
      "\\rProcessing... | Frame: 2223 | Recent: 0"
     ]
    },
    {
     "name": "stdout",
     "output_type": "stream",
     "text": [
      "\\rProcessing... | Frame: 2231 | Recent: 0"
     ]
    },
    {
     "name": "stdout",
     "output_type": "stream",
     "text": [
      "\\rProcessing... | Frame: 2239 | Recent: 0"
     ]
    },
    {
     "name": "stdout",
     "output_type": "stream",
     "text": [
      "\\rProcessing... | Frame: 2249 | Recent: 0"
     ]
    },
    {
     "name": "stdout",
     "output_type": "stream",
     "text": [
      "\\rProcessing... | Frame: 2259 | Recent: 0"
     ]
    },
    {
     "name": "stdout",
     "output_type": "stream",
     "text": [
      "\\rProcessing... | Frame: 2269 | Recent: 0"
     ]
    },
    {
     "name": "stdout",
     "output_type": "stream",
     "text": [
      "\\rProcessing... | Frame: 2279 | Recent: 0"
     ]
    },
    {
     "name": "stdout",
     "output_type": "stream",
     "text": [
      "\\rProcessing... | Frame: 2288 | Recent: 0"
     ]
    },
    {
     "name": "stdout",
     "output_type": "stream",
     "text": [
      "\\rProcessing... | Frame: 2295 | Recent: 0"
     ]
    },
    {
     "name": "stdout",
     "output_type": "stream",
     "text": [
      "\\rProcessing... | Frame: 2303 | Recent: 0"
     ]
    },
    {
     "name": "stdout",
     "output_type": "stream",
     "text": [
      "\\rProcessing... | Frame: 2311 | Recent: 0"
     ]
    },
    {
     "name": "stdout",
     "output_type": "stream",
     "text": [
      "\\rProcessing... | Frame: 2319 | Recent: 0"
     ]
    },
    {
     "name": "stdout",
     "output_type": "stream",
     "text": [
      "\\rProcessing... | Frame: 2329 | Recent: 0"
     ]
    },
    {
     "name": "stdout",
     "output_type": "stream",
     "text": [
      "\\rProcessing... | Frame: 2339 | Recent: 0"
     ]
    },
    {
     "name": "stdout",
     "output_type": "stream",
     "text": [
      "\\rProcessing... | Frame: 2347 | Recent: 0"
     ]
    },
    {
     "name": "stdout",
     "output_type": "stream",
     "text": [
      "\\rProcessing... | Frame: 2356 | Recent: 0"
     ]
    },
    {
     "name": "stdout",
     "output_type": "stream",
     "text": [
      "\\rProcessing... | Frame: 2363 | Recent: 0"
     ]
    },
    {
     "name": "stdout",
     "output_type": "stream",
     "text": [
      "\\rProcessing... | Frame: 2372 | Recent: 0"
     ]
    },
    {
     "name": "stdout",
     "output_type": "stream",
     "text": [
      "\\rProcessing... | Frame: 2381 | Recent: 0"
     ]
    },
    {
     "name": "stdout",
     "output_type": "stream",
     "text": [
      "\\rProcessing... | Frame: 2391 | Recent: 0"
     ]
    },
    {
     "name": "stdout",
     "output_type": "stream",
     "text": [
      "\\rProcessing... | Frame: 2401 | Recent: 0"
     ]
    },
    {
     "name": "stdout",
     "output_type": "stream",
     "text": [
      "\\rProcessing... | Frame: 2411 | Recent: 0"
     ]
    },
    {
     "name": "stdout",
     "output_type": "stream",
     "text": [
      "\\rProcessing... | Frame: 2419 | Recent: 0"
     ]
    },
    {
     "name": "stdout",
     "output_type": "stream",
     "text": [
      "\\rProcessing... | Frame: 2427 | Recent: 0"
     ]
    },
    {
     "name": "stdout",
     "output_type": "stream",
     "text": [
      "\\rProcessing... | Frame: 2437 | Recent: 0"
     ]
    },
    {
     "name": "stdout",
     "output_type": "stream",
     "text": [
      "\\rProcessing... | Frame: 2447 | Recent: 0"
     ]
    },
    {
     "name": "stdout",
     "output_type": "stream",
     "text": [
      "\\rProcessing... | Frame: 2457 | Recent: 0"
     ]
    },
    {
     "name": "stdout",
     "output_type": "stream",
     "text": [
      "\\rProcessing... | Frame: 2467 | Recent: 0"
     ]
    },
    {
     "name": "stdout",
     "output_type": "stream",
     "text": [
      "\\rProcessing... | Frame: 2476 | Recent: 0"
     ]
    },
    {
     "name": "stdout",
     "output_type": "stream",
     "text": [
      "\\rProcessing... | Frame: 2485 | Recent: 0"
     ]
    },
    {
     "name": "stdout",
     "output_type": "stream",
     "text": [
      "\\rProcessing... | Frame: 2493 | Recent: 0"
     ]
    },
    {
     "name": "stdout",
     "output_type": "stream",
     "text": [
      "\\rProcessing... | Frame: 2503 | Recent: 0"
     ]
    },
    {
     "name": "stdout",
     "output_type": "stream",
     "text": [
      "\\rProcessing... | Frame: 2513 | Recent: 0"
     ]
    },
    {
     "name": "stdout",
     "output_type": "stream",
     "text": [
      "\\rProcessing... | Frame: 2523 | Recent: 0"
     ]
    },
    {
     "name": "stdout",
     "output_type": "stream",
     "text": [
      "\\rProcessing... | Frame: 2533 | Recent: 0"
     ]
    },
    {
     "name": "stdout",
     "output_type": "stream",
     "text": [
      "\\rProcessing... | Frame: 2542 | Recent: 0"
     ]
    },
    {
     "name": "stdout",
     "output_type": "stream",
     "text": [
      "\\rProcessing... | Frame: 2549 | Recent: 0"
     ]
    },
    {
     "name": "stdout",
     "output_type": "stream",
     "text": [
      "\\rProcessing... | Frame: 2559 | Recent: 0"
     ]
    },
    {
     "name": "stdout",
     "output_type": "stream",
     "text": [
      "\\rProcessing... | Frame: 2569 | Recent: 0"
     ]
    },
    {
     "name": "stdout",
     "output_type": "stream",
     "text": [
      "\\rProcessing... | Frame: 2579 | Recent: 0"
     ]
    },
    {
     "name": "stdout",
     "output_type": "stream",
     "text": [
      "\\rProcessing... | Frame: 2587 | Recent: 0"
     ]
    },
    {
     "name": "stdout",
     "output_type": "stream",
     "text": [
      "\\rProcessing... | Frame: 2595 | Recent: 0"
     ]
    },
    {
     "name": "stdout",
     "output_type": "stream",
     "text": [
      "\\rProcessing... | Frame: 2604 | Recent: 0"
     ]
    },
    {
     "name": "stdout",
     "output_type": "stream",
     "text": [
      "\\rProcessing... | Frame: 2613 | Recent: 0"
     ]
    },
    {
     "name": "stdout",
     "output_type": "stream",
     "text": [
      "\\rProcessing... | Frame: 2623 | Recent: 0"
     ]
    },
    {
     "name": "stdout",
     "output_type": "stream",
     "text": [
      "\\rProcessing... | Frame: 2633 | Recent: 0"
     ]
    },
    {
     "name": "stdout",
     "output_type": "stream",
     "text": [
      "\\rProcessing... | Frame: 2643 | Recent: 0"
     ]
    },
    {
     "name": "stdout",
     "output_type": "stream",
     "text": [
      "\\rProcessing... | Frame: 2653 | Recent: 0"
     ]
    },
    {
     "name": "stdout",
     "output_type": "stream",
     "text": [
      "\\rProcessing... | Frame: 2661 | Recent: 0"
     ]
    },
    {
     "name": "stdout",
     "output_type": "stream",
     "text": [
      "\\rProcessing... | Frame: 2671 | Recent: 0"
     ]
    },
    {
     "name": "stdout",
     "output_type": "stream",
     "text": [
      "\\rProcessing... | Frame: 2681 | Recent: 0"
     ]
    },
    {
     "name": "stdout",
     "output_type": "stream",
     "text": [
      "\\rProcessing... | Frame: 2691 | Recent: 0"
     ]
    },
    {
     "name": "stdout",
     "output_type": "stream",
     "text": [
      "\\rProcessing... | Frame: 2701 | Recent: 0"
     ]
    },
    {
     "name": "stdout",
     "output_type": "stream",
     "text": [
      "\\rProcessing... | Frame: 2711 | Recent: 0"
     ]
    },
    {
     "name": "stdout",
     "output_type": "stream",
     "text": [
      "\\rProcessing... | Frame: 2721 | Recent: 0"
     ]
    },
    {
     "name": "stdout",
     "output_type": "stream",
     "text": [
      "\\rProcessing... | Frame: 2731 | Recent: 0"
     ]
    },
    {
     "name": "stdout",
     "output_type": "stream",
     "text": [
      "\\rProcessing... | Frame: 2741 | Recent: 0"
     ]
    },
    {
     "name": "stdout",
     "output_type": "stream",
     "text": [
      "\\rProcessing... | Frame: 2751 | Recent: 0"
     ]
    },
    {
     "name": "stdout",
     "output_type": "stream",
     "text": [
      "\\rProcessing... | Frame: 2761 | Recent: 0"
     ]
    },
    {
     "name": "stdout",
     "output_type": "stream",
     "text": [
      "\\rProcessing... | Frame: 2771 | Recent: 0"
     ]
    },
    {
     "name": "stdout",
     "output_type": "stream",
     "text": [
      "\\rProcessing... | Frame: 2781 | Recent: 0"
     ]
    },
    {
     "name": "stdout",
     "output_type": "stream",
     "text": [
      "\\rProcessing... | Frame: 2791 | Recent: 0"
     ]
    },
    {
     "name": "stdout",
     "output_type": "stream",
     "text": [
      "\\rProcessing... | Frame: 2801 | Recent: 0"
     ]
    },
    {
     "name": "stdout",
     "output_type": "stream",
     "text": [
      "\\rProcessing... | Frame: 2811 | Recent: 0"
     ]
    },
    {
     "name": "stdout",
     "output_type": "stream",
     "text": [
      "\\rProcessing... | Frame: 2821 | Recent: 0"
     ]
    },
    {
     "name": "stdout",
     "output_type": "stream",
     "text": [
      "\\rProcessing... | Frame: 2831 | Recent: 0"
     ]
    },
    {
     "name": "stdout",
     "output_type": "stream",
     "text": [
      "\\rProcessing... | Frame: 2839 | Recent: 0"
     ]
    },
    {
     "name": "stdout",
     "output_type": "stream",
     "text": [
      "\\rProcessing... | Frame: 2847 | Recent: 0"
     ]
    },
    {
     "name": "stdout",
     "output_type": "stream",
     "text": [
      "\\rProcessing... | Frame: 2855 | Recent: 0"
     ]
    },
    {
     "name": "stdout",
     "output_type": "stream",
     "text": [
      "\\rProcessing... | Frame: 2864 | Recent: 0"
     ]
    },
    {
     "name": "stdout",
     "output_type": "stream",
     "text": [
      "\\rProcessing... | Frame: 2873 | Recent: 0"
     ]
    },
    {
     "name": "stdout",
     "output_type": "stream",
     "text": [
      "\\rProcessing... | Frame: 2883 | Recent: 0"
     ]
    },
    {
     "name": "stdout",
     "output_type": "stream",
     "text": [
      "\\rProcessing... | Frame: 2892 | Recent: 0"
     ]
    },
    {
     "name": "stdout",
     "output_type": "stream",
     "text": [
      "\\rProcessing... | Frame: 2899 | Recent: 0"
     ]
    },
    {
     "name": "stdout",
     "output_type": "stream",
     "text": [
      "\\rProcessing... | Frame: 2907 | Recent: 0"
     ]
    },
    {
     "name": "stdout",
     "output_type": "stream",
     "text": [
      "\\rProcessing... | Frame: 2917 | Recent: 0"
     ]
    },
    {
     "name": "stdout",
     "output_type": "stream",
     "text": [
      "\\rProcessing... | Frame: 2927 | Recent: 0"
     ]
    },
    {
     "name": "stdout",
     "output_type": "stream",
     "text": [
      "\\rProcessing... | Frame: 2937 | Recent: 0"
     ]
    },
    {
     "name": "stdout",
     "output_type": "stream",
     "text": [
      "\\rProcessing... | Frame: 2947 | Recent: 0"
     ]
    },
    {
     "name": "stdout",
     "output_type": "stream",
     "text": [
      "\\rProcessing... | Frame: 2957 | Recent: 0"
     ]
    },
    {
     "name": "stdout",
     "output_type": "stream",
     "text": [
      "\\rProcessing... | Frame: 2965 | Recent: 0"
     ]
    },
    {
     "name": "stdout",
     "output_type": "stream",
     "text": [
      "\\rProcessing... | Frame: 2975 | Recent: 0"
     ]
    },
    {
     "name": "stdout",
     "output_type": "stream",
     "text": [
      "\\rProcessing... | Frame: 2985 | Recent: 0"
     ]
    },
    {
     "name": "stdout",
     "output_type": "stream",
     "text": [
      "\\rProcessing... | Frame: 2995 | Recent: 0"
     ]
    },
    {
     "name": "stdout",
     "output_type": "stream",
     "text": [
      "\\rProcessing... | Frame: 3005 | Recent: 0"
     ]
    },
    {
     "name": "stdout",
     "output_type": "stream",
     "text": [
      "\\rProcessing... | Frame: 3015 | Recent: 0"
     ]
    },
    {
     "name": "stdout",
     "output_type": "stream",
     "text": [
      "\\rProcessing... | Frame: 3024 | Recent: 0"
     ]
    },
    {
     "name": "stdout",
     "output_type": "stream",
     "text": [
      "\\rProcessing... | Frame: 3033 | Recent: 0"
     ]
    },
    {
     "name": "stdout",
     "output_type": "stream",
     "text": [
      "\\rProcessing... | Frame: 3043 | Recent: 0"
     ]
    },
    {
     "name": "stdout",
     "output_type": "stream",
     "text": [
      "\\rProcessing... | Frame: 3053 | Recent: 0"
     ]
    },
    {
     "name": "stdout",
     "output_type": "stream",
     "text": [
      "\\rProcessing... | Frame: 3063 | Recent: 0"
     ]
    },
    {
     "name": "stdout",
     "output_type": "stream",
     "text": [
      "\\rProcessing... | Frame: 3071 | Recent: 0"
     ]
    },
    {
     "name": "stdout",
     "output_type": "stream",
     "text": [
      "\\rProcessing... | Frame: 3079 | Recent: 0"
     ]
    },
    {
     "name": "stdout",
     "output_type": "stream",
     "text": [
      "\\rProcessing... | Frame: 3088 | Recent: 0"
     ]
    },
    {
     "name": "stdout",
     "output_type": "stream",
     "text": [
      "\\rProcessing... | Frame: 3097 | Recent: 0"
     ]
    },
    {
     "name": "stdout",
     "output_type": "stream",
     "text": [
      "\\rProcessing... | Frame: 3107 | Recent: 0"
     ]
    },
    {
     "name": "stdout",
     "output_type": "stream",
     "text": [
      "\\rProcessing... | Frame: 3117 | Recent: 0"
     ]
    },
    {
     "name": "stdout",
     "output_type": "stream",
     "text": [
      "\\rProcessing... | Frame: 3127 | Recent: 0"
     ]
    },
    {
     "name": "stdout",
     "output_type": "stream",
     "text": [
      "\\rProcessing... | Frame: 3136 | Recent: 0"
     ]
    },
    {
     "name": "stdout",
     "output_type": "stream",
     "text": [
      "\\rProcessing... | Frame: 3144 | Recent: 0"
     ]
    },
    {
     "name": "stdout",
     "output_type": "stream",
     "text": [
      "\\rProcessing... | Frame: 3153 | Recent: 0"
     ]
    },
    {
     "name": "stdout",
     "output_type": "stream",
     "text": [
      "\\rProcessing... | Frame: 3163 | Recent: 0"
     ]
    },
    {
     "name": "stdout",
     "output_type": "stream",
     "text": [
      "\\rProcessing... | Frame: 3173 | Recent: 0"
     ]
    },
    {
     "name": "stdout",
     "output_type": "stream",
     "text": [
      "\\rProcessing... | Frame: 3183 | Recent: 0"
     ]
    },
    {
     "name": "stdout",
     "output_type": "stream",
     "text": [
      "\\rProcessing... | Frame: 3193 | Recent: 0"
     ]
    },
    {
     "name": "stdout",
     "output_type": "stream",
     "text": [
      "\\rProcessing... | Frame: 3203 | Recent: 0"
     ]
    },
    {
     "name": "stdout",
     "output_type": "stream",
     "text": [
      "\\rProcessing... | Frame: 3213 | Recent: 0"
     ]
    },
    {
     "name": "stdout",
     "output_type": "stream",
     "text": [
      "\\rProcessing... | Frame: 3223 | Recent: 0"
     ]
    },
    {
     "name": "stdout",
     "output_type": "stream",
     "text": [
      "\\rProcessing... | Frame: 3233 | Recent: 0"
     ]
    },
    {
     "name": "stdout",
     "output_type": "stream",
     "text": [
      "\\rProcessing... | Frame: 3243 | Recent: 0"
     ]
    },
    {
     "name": "stdout",
     "output_type": "stream",
     "text": [
      "\\rProcessing... | Frame: 3253 | Recent: 0"
     ]
    },
    {
     "name": "stdout",
     "output_type": "stream",
     "text": [
      "\\rProcessing... | Frame: 3263 | Recent: 0"
     ]
    },
    {
     "name": "stdout",
     "output_type": "stream",
     "text": [
      "\\rProcessing... | Frame: 3272 | Recent: 0"
     ]
    },
    {
     "name": "stdout",
     "output_type": "stream",
     "text": [
      "\\rProcessing... | Frame: 3281 | Recent: 0"
     ]
    },
    {
     "name": "stdout",
     "output_type": "stream",
     "text": [
      "\\rProcessing... | Frame: 3291 | Recent: 0"
     ]
    },
    {
     "name": "stdout",
     "output_type": "stream",
     "text": [
      "\\rProcessing... | Frame: 3301 | Recent: 0"
     ]
    },
    {
     "name": "stdout",
     "output_type": "stream",
     "text": [
      "\\rProcessing... | Frame: 3311 | Recent: 0"
     ]
    },
    {
     "name": "stdout",
     "output_type": "stream",
     "text": [
      "\\rProcessing... | Frame: 3321 | Recent: 0"
     ]
    },
    {
     "name": "stdout",
     "output_type": "stream",
     "text": [
      "\\rProcessing... | Frame: 3329 | Recent: 0"
     ]
    },
    {
     "name": "stdout",
     "output_type": "stream",
     "text": [
      "\\rProcessing... | Frame: 3338 | Recent: 0"
     ]
    },
    {
     "name": "stdout",
     "output_type": "stream",
     "text": [
      "\\rProcessing... | Frame: 3347 | Recent: 0"
     ]
    },
    {
     "name": "stdout",
     "output_type": "stream",
     "text": [
      "\\rProcessing... | Frame: 3357 | Recent: 0"
     ]
    },
    {
     "name": "stdout",
     "output_type": "stream",
     "text": [
      "\\rProcessing... | Frame: 3367 | Recent: 0"
     ]
    },
    {
     "name": "stdout",
     "output_type": "stream",
     "text": [
      "\\rProcessing... | Frame: 3377 | Recent: 0"
     ]
    },
    {
     "name": "stdout",
     "output_type": "stream",
     "text": [
      "\\rProcessing... | Frame: 3385 | Recent: 0"
     ]
    },
    {
     "name": "stdout",
     "output_type": "stream",
     "text": [
      "\\rProcessing... | Frame: 3395 | Recent: 0"
     ]
    },
    {
     "name": "stdout",
     "output_type": "stream",
     "text": [
      "\\rProcessing... | Frame: 3405 | Recent: 0"
     ]
    },
    {
     "name": "stdout",
     "output_type": "stream",
     "text": [
      "\\rProcessing... | Frame: 3415 | Recent: 0"
     ]
    },
    {
     "name": "stdout",
     "output_type": "stream",
     "text": [
      "\\rProcessing... | Frame: 3425 | Recent: 0"
     ]
    },
    {
     "name": "stdout",
     "output_type": "stream",
     "text": [
      "\\rProcessing... | Frame: 3435 | Recent: 0"
     ]
    },
    {
     "name": "stdout",
     "output_type": "stream",
     "text": [
      "\\rProcessing... | Frame: 3445 | Recent: 0"
     ]
    },
    {
     "name": "stdout",
     "output_type": "stream",
     "text": [
      "\\rProcessing... | Frame: 3453 | Recent: 0"
     ]
    },
    {
     "name": "stdout",
     "output_type": "stream",
     "text": [
      "\\rProcessing... | Frame: 3461 | Recent: 0"
     ]
    },
    {
     "name": "stdout",
     "output_type": "stream",
     "text": [
      "\\rProcessing... | Frame: 3469 | Recent: 0"
     ]
    },
    {
     "name": "stdout",
     "output_type": "stream",
     "text": [
      "\\rProcessing... | Frame: 3477 | Recent: 0"
     ]
    },
    {
     "name": "stdout",
     "output_type": "stream",
     "text": [
      "\\rProcessing... | Frame: 3485 | Recent: 0"
     ]
    },
    {
     "name": "stdout",
     "output_type": "stream",
     "text": [
      "\\rProcessing... | Frame: 3494 | Recent: 0"
     ]
    },
    {
     "name": "stdout",
     "output_type": "stream",
     "text": [
      "\\rProcessing... | Frame: 3503 | Recent: 0"
     ]
    },
    {
     "name": "stdout",
     "output_type": "stream",
     "text": [
      "\\rProcessing... | Frame: 3513 | Recent: 0"
     ]
    },
    {
     "name": "stdout",
     "output_type": "stream",
     "text": [
      "\\rProcessing... | Frame: 3521 | Recent: 0"
     ]
    },
    {
     "name": "stdout",
     "output_type": "stream",
     "text": [
      "\\rProcessing... | Frame: 3529 | Recent: 0"
     ]
    },
    {
     "name": "stdout",
     "output_type": "stream",
     "text": [
      "\\rProcessing... | Frame: 3539 | Recent: 0"
     ]
    },
    {
     "name": "stdout",
     "output_type": "stream",
     "text": [
      "\\rProcessing... | Frame: 3549 | Recent: 0"
     ]
    },
    {
     "name": "stdout",
     "output_type": "stream",
     "text": [
      "\\rProcessing... | Frame: 3559 | Recent: 0"
     ]
    },
    {
     "name": "stdout",
     "output_type": "stream",
     "text": [
      "\\rProcessing... | Frame: 3569 | Recent: 0"
     ]
    },
    {
     "name": "stdout",
     "output_type": "stream",
     "text": [
      "\\rProcessing... | Frame: 3579 | Recent: 0"
     ]
    },
    {
     "name": "stdout",
     "output_type": "stream",
     "text": [
      "\\rProcessing... | Frame: 3587 | Recent: 0"
     ]
    },
    {
     "name": "stdout",
     "output_type": "stream",
     "text": [
      "\\rProcessing... | Frame: 3595 | Recent: 0"
     ]
    },
    {
     "name": "stdout",
     "output_type": "stream",
     "text": [
      "\\rProcessing... | Frame: 3604 | Recent: 0"
     ]
    },
    {
     "name": "stdout",
     "output_type": "stream",
     "text": [
      "\\rProcessing... | Frame: 3613 | Recent: 0"
     ]
    },
    {
     "name": "stdout",
     "output_type": "stream",
     "text": [
      "\\rProcessing... | Frame: 3623 | Recent: 0"
     ]
    },
    {
     "name": "stdout",
     "output_type": "stream",
     "text": [
      "\\rProcessing... | Frame: 3633 | Recent: 0"
     ]
    },
    {
     "name": "stdout",
     "output_type": "stream",
     "text": [
      "\\rProcessing... | Frame: 3643 | Recent: 0"
     ]
    },
    {
     "name": "stdout",
     "output_type": "stream",
     "text": [
      "\\rProcessing... | Frame: 3653 | Recent: 0"
     ]
    },
    {
     "name": "stdout",
     "output_type": "stream",
     "text": [
      "\\rProcessing... | Frame: 3662 | Recent: 0"
     ]
    },
    {
     "name": "stdout",
     "output_type": "stream",
     "text": [
      "\\rProcessing... | Frame: 3670 | Recent: 0"
     ]
    },
    {
     "name": "stdout",
     "output_type": "stream",
     "text": [
      "\\rProcessing... | Frame: 3679 | Recent: 0"
     ]
    },
    {
     "name": "stdout",
     "output_type": "stream",
     "text": [
      "\\rProcessing... | Frame: 3687 | Recent: 0"
     ]
    },
    {
     "name": "stdout",
     "output_type": "stream",
     "text": [
      "\\rProcessing... | Frame: 3695 | Recent: 0"
     ]
    },
    {
     "name": "stdout",
     "output_type": "stream",
     "text": [
      "\\rProcessing... | Frame: 3703 | Recent: 0"
     ]
    },
    {
     "name": "stdout",
     "output_type": "stream",
     "text": [
      "\\rProcessing... | Frame: 3711 | Recent: 0"
     ]
    },
    {
     "name": "stdout",
     "output_type": "stream",
     "text": [
      "\\rProcessing... | Frame: 3720 | Recent: 0"
     ]
    },
    {
     "name": "stdout",
     "output_type": "stream",
     "text": [
      "\\rProcessing... | Frame: 3727 | Recent: 0"
     ]
    },
    {
     "name": "stdout",
     "output_type": "stream",
     "text": [
      "\\rProcessing... | Frame: 3735 | Recent: 0"
     ]
    },
    {
     "name": "stdout",
     "output_type": "stream",
     "text": [
      "\\rProcessing... | Frame: 3745 | Recent: 0"
     ]
    },
    {
     "name": "stdout",
     "output_type": "stream",
     "text": [
      "\\rProcessing... | Frame: 3755 | Recent: 0"
     ]
    },
    {
     "name": "stdout",
     "output_type": "stream",
     "text": [
      "\\rProcessing... | Frame: 3765 | Recent: 0"
     ]
    },
    {
     "name": "stdout",
     "output_type": "stream",
     "text": [
      "\\rProcessing... | Frame: 3775 | Recent: 0"
     ]
    },
    {
     "name": "stdout",
     "output_type": "stream",
     "text": [
      "\\rProcessing... | Frame: 3785 | Recent: 0"
     ]
    },
    {
     "name": "stdout",
     "output_type": "stream",
     "text": [
      "\\rProcessing... | Frame: 3793 | Recent: 0"
     ]
    },
    {
     "name": "stdout",
     "output_type": "stream",
     "text": [
      "\\rProcessing... | Frame: 3803 | Recent: 0"
     ]
    },
    {
     "name": "stdout",
     "output_type": "stream",
     "text": [
      "\\rProcessing... | Frame: 3813 | Recent: 0"
     ]
    },
    {
     "name": "stdout",
     "output_type": "stream",
     "text": [
      "\\rProcessing... | Frame: 3823 | Recent: 0"
     ]
    },
    {
     "name": "stdout",
     "output_type": "stream",
     "text": [
      "\\rProcessing... | Frame: 3833 | Recent: 0"
     ]
    },
    {
     "name": "stdout",
     "output_type": "stream",
     "text": [
      "\\rProcessing... | Frame: 3843 | Recent: 0"
     ]
    },
    {
     "name": "stdout",
     "output_type": "stream",
     "text": [
      "\\rProcessing... | Frame: 3853 | Recent: 0"
     ]
    },
    {
     "name": "stdout",
     "output_type": "stream",
     "text": [
      "\\rProcessing... | Frame: 3863 | Recent: 0"
     ]
    },
    {
     "name": "stdout",
     "output_type": "stream",
     "text": [
      "\\rProcessing... | Frame: 3873 | Recent: 0"
     ]
    },
    {
     "name": "stdout",
     "output_type": "stream",
     "text": [
      "\\rProcessing... | Frame: 3883 | Recent: 0"
     ]
    },
    {
     "name": "stdout",
     "output_type": "stream",
     "text": [
      "\\rProcessing... | Frame: 3893 | Recent: 0"
     ]
    },
    {
     "name": "stdout",
     "output_type": "stream",
     "text": [
      "\\rProcessing... | Frame: 3903 | Recent: 0"
     ]
    },
    {
     "name": "stdout",
     "output_type": "stream",
     "text": [
      "\\rProcessing... | Frame: 3913 | Recent: 0"
     ]
    },
    {
     "name": "stdout",
     "output_type": "stream",
     "text": [
      "\\rProcessing... | Frame: 3923 | Recent: 0"
     ]
    },
    {
     "name": "stdout",
     "output_type": "stream",
     "text": [
      "\\rProcessing... | Frame: 3931 | Recent: 0"
     ]
    },
    {
     "name": "stdout",
     "output_type": "stream",
     "text": [
      "\\rProcessing... | Frame: 3939 | Recent: 0"
     ]
    },
    {
     "name": "stdout",
     "output_type": "stream",
     "text": [
      "\\rProcessing... | Frame: 3949 | Recent: 0"
     ]
    },
    {
     "name": "stdout",
     "output_type": "stream",
     "text": [
      "\\rProcessing... | Frame: 3959 | Recent: 0"
     ]
    },
    {
     "name": "stdout",
     "output_type": "stream",
     "text": [
      "\\rProcessing... | Frame: 3969 | Recent: 0"
     ]
    },
    {
     "name": "stdout",
     "output_type": "stream",
     "text": [
      "\\rProcessing... | Frame: 3979 | Recent: 0"
     ]
    },
    {
     "name": "stdout",
     "output_type": "stream",
     "text": [
      "\\rProcessing... | Frame: 3988 | Recent: 0"
     ]
    },
    {
     "name": "stdout",
     "output_type": "stream",
     "text": [
      "\\rProcessing... | Frame: 3997 | Recent: 0"
     ]
    },
    {
     "name": "stdout",
     "output_type": "stream",
     "text": [
      "\\rProcessing... | Frame: 4007 | Recent: 0"
     ]
    },
    {
     "name": "stdout",
     "output_type": "stream",
     "text": [
      "\\rProcessing... | Frame: 4017 | Recent: 0"
     ]
    },
    {
     "name": "stdout",
     "output_type": "stream",
     "text": [
      "\\rProcessing... | Frame: 4027 | Recent: 0"
     ]
    },
    {
     "name": "stdout",
     "output_type": "stream",
     "text": [
      "\\rProcessing... | Frame: 4037 | Recent: 0"
     ]
    },
    {
     "name": "stdout",
     "output_type": "stream",
     "text": [
      "\\rProcessing... | Frame: 4045 | Recent: 0"
     ]
    },
    {
     "name": "stdout",
     "output_type": "stream",
     "text": [
      "\\rProcessing... | Frame: 4054 | Recent: 0"
     ]
    },
    {
     "name": "stdout",
     "output_type": "stream",
     "text": [
      "\\rProcessing... | Frame: 4063 | Recent: 0"
     ]
    },
    {
     "name": "stdout",
     "output_type": "stream",
     "text": [
      "\\rProcessing... | Frame: 4073 | Recent: 0"
     ]
    },
    {
     "name": "stdout",
     "output_type": "stream",
     "text": [
      "\\rProcessing... | Frame: 4083 | Recent: 0"
     ]
    },
    {
     "name": "stdout",
     "output_type": "stream",
     "text": [
      "\\rProcessing... | Frame: 4091 | Recent: 0"
     ]
    },
    {
     "name": "stdout",
     "output_type": "stream",
     "text": [
      "\\rProcessing... | Frame: 4097 | Recent: 0"
     ]
    },
    {
     "name": "stdout",
     "output_type": "stream",
     "text": [
      "\\rProcessing... | Frame: 4107 | Recent: 0"
     ]
    },
    {
     "name": "stdout",
     "output_type": "stream",
     "text": [
      "\\rProcessing... | Frame: 4117 | Recent: 0"
     ]
    },
    {
     "name": "stdout",
     "output_type": "stream",
     "text": [
      "\\rProcessing... | Frame: 4127 | Recent: 0"
     ]
    },
    {
     "name": "stdout",
     "output_type": "stream",
     "text": [
      "\\rProcessing... | Frame: 4137 | Recent: 0"
     ]
    },
    {
     "name": "stdout",
     "output_type": "stream",
     "text": [
      "\\rProcessing... | Frame: 4147 | Recent: 0"
     ]
    },
    {
     "name": "stdout",
     "output_type": "stream",
     "text": [
      "\\rProcessing... | Frame: 4157 | Recent: 0"
     ]
    },
    {
     "name": "stdout",
     "output_type": "stream",
     "text": [
      "\\rProcessing... | Frame: 4167 | Recent: 0"
     ]
    },
    {
     "name": "stdout",
     "output_type": "stream",
     "text": [
      "\\rProcessing... | Frame: 4177 | Recent: 0"
     ]
    },
    {
     "name": "stdout",
     "output_type": "stream",
     "text": [
      "\\rProcessing... | Frame: 4187 | Recent: 0"
     ]
    },
    {
     "name": "stdout",
     "output_type": "stream",
     "text": [
      "\\rProcessing... | Frame: 4197 | Recent: 0"
     ]
    },
    {
     "name": "stdout",
     "output_type": "stream",
     "text": [
      "\\rProcessing... | Frame: 4205 | Recent: 0"
     ]
    },
    {
     "name": "stdout",
     "output_type": "stream",
     "text": [
      "\\rProcessing... | Frame: 4215 | Recent: 0"
     ]
    },
    {
     "name": "stdout",
     "output_type": "stream",
     "text": [
      "\\rProcessing... | Frame: 4225 | Recent: 0"
     ]
    },
    {
     "name": "stdout",
     "output_type": "stream",
     "text": [
      "\\rProcessing... | Frame: 4235 | Recent: 0"
     ]
    },
    {
     "name": "stdout",
     "output_type": "stream",
     "text": [
      "\\rProcessing... | Frame: 4245 | Recent: 0"
     ]
    },
    {
     "name": "stdout",
     "output_type": "stream",
     "text": [
      "\\rProcessing... | Frame: 4255 | Recent: 0"
     ]
    },
    {
     "name": "stdout",
     "output_type": "stream",
     "text": [
      "\\rProcessing... | Frame: 4265 | Recent: 0"
     ]
    },
    {
     "name": "stdout",
     "output_type": "stream",
     "text": [
      "\\rProcessing... | Frame: 4275 | Recent: 0"
     ]
    },
    {
     "name": "stdout",
     "output_type": "stream",
     "text": [
      "\\rProcessing... | Frame: 4285 | Recent: 0"
     ]
    },
    {
     "name": "stdout",
     "output_type": "stream",
     "text": [
      "\\rProcessing... | Frame: 4295 | Recent: 0"
     ]
    },
    {
     "name": "stdout",
     "output_type": "stream",
     "text": [
      "\\rProcessing... | Frame: 4305 | Recent: 0"
     ]
    },
    {
     "name": "stdout",
     "output_type": "stream",
     "text": [
      "\\rProcessing... | Frame: 4315 | Recent: 0"
     ]
    },
    {
     "name": "stdout",
     "output_type": "stream",
     "text": [
      "\\rProcessing... | Frame: 4325 | Recent: 0"
     ]
    },
    {
     "name": "stdout",
     "output_type": "stream",
     "text": [
      "\\rProcessing... | Frame: 4335 | Recent: 0"
     ]
    },
    {
     "name": "stdout",
     "output_type": "stream",
     "text": [
      "\\rProcessing... | Frame: 4339 | Recent: 0"
     ]
    },
    {
     "name": "stdout",
     "output_type": "stream",
     "text": [
      "\\rProcessing... | Frame: 4341 | Recent: 0"
     ]
    },
    {
     "name": "stdout",
     "output_type": "stream",
     "text": [
      "\\rProcessing... | Frame: 4343 | Recent: 0"
     ]
    },
    {
     "name": "stdout",
     "output_type": "stream",
     "text": [
      "\\rProcessing... | Frame: 4345 | Recent: 0"
     ]
    },
    {
     "name": "stdout",
     "output_type": "stream",
     "text": [
      "\\rProcessing... | Frame: 4347 | Recent: 0"
     ]
    },
    {
     "name": "stdout",
     "output_type": "stream",
     "text": [
      "\\rProcessing... | Frame: 4349 | Recent: 0"
     ]
    },
    {
     "name": "stdout",
     "output_type": "stream",
     "text": [
      "\\rProcessing... | Frame: 4351 | Recent: 0"
     ]
    },
    {
     "name": "stdout",
     "output_type": "stream",
     "text": [
      "\\rProcessing... | Frame: 4353 | Recent: 0"
     ]
    },
    {
     "name": "stdout",
     "output_type": "stream",
     "text": [
      "\\rProcessing... | Frame: 4355 | Recent: 0"
     ]
    },
    {
     "name": "stdout",
     "output_type": "stream",
     "text": [
      "\\rProcessing... | Frame: 4357 | Recent: 0"
     ]
    },
    {
     "name": "stdout",
     "output_type": "stream",
     "text": [
      "\\rProcessing... | Frame: 4359 | Recent: 0"
     ]
    },
    {
     "name": "stdout",
     "output_type": "stream",
     "text": [
      "\\rProcessing... | Frame: 4361 | Recent: 0"
     ]
    },
    {
     "name": "stdout",
     "output_type": "stream",
     "text": [
      "\\rProcessing... | Frame: 4363 | Recent: 0"
     ]
    },
    {
     "name": "stdout",
     "output_type": "stream",
     "text": [
      "\\rProcessing... | Frame: 4365 | Recent: 0"
     ]
    },
    {
     "name": "stdout",
     "output_type": "stream",
     "text": [
      "\\rProcessing... | Frame: 4367 | Recent: 0"
     ]
    },
    {
     "name": "stdout",
     "output_type": "stream",
     "text": [
      "\\rProcessing... | Frame: 4369 | Recent: 0"
     ]
    },
    {
     "name": "stdout",
     "output_type": "stream",
     "text": [
      "\\rProcessing... | Frame: 4371 | Recent: 0"
     ]
    },
    {
     "name": "stdout",
     "output_type": "stream",
     "text": [
      "\\rProcessing... | Frame: 4373 | Recent: 0"
     ]
    },
    {
     "name": "stdout",
     "output_type": "stream",
     "text": [
      "\\rProcessing... | Frame: 4375 | Recent: 0"
     ]
    },
    {
     "name": "stdout",
     "output_type": "stream",
     "text": [
      "\\rProcessing... | Frame: 4377 | Recent: 0"
     ]
    },
    {
     "name": "stdout",
     "output_type": "stream",
     "text": [
      "\\rProcessing... | Frame: 4379 | Recent: 0"
     ]
    },
    {
     "name": "stdout",
     "output_type": "stream",
     "text": [
      "\\rProcessing... | Frame: 4381 | Recent: 0"
     ]
    },
    {
     "name": "stdout",
     "output_type": "stream",
     "text": [
      "\\rProcessing... | Frame: 4383 | Recent: 0"
     ]
    },
    {
     "name": "stdout",
     "output_type": "stream",
     "text": [
      "\\rProcessing... | Frame: 4385 | Recent: 0"
     ]
    },
    {
     "name": "stdout",
     "output_type": "stream",
     "text": [
      "\\rProcessing... | Frame: 4387 | Recent: 0"
     ]
    },
    {
     "name": "stdout",
     "output_type": "stream",
     "text": [
      "\\rProcessing... | Frame: 4389 | Recent: 0"
     ]
    },
    {
     "name": "stdout",
     "output_type": "stream",
     "text": [
      "\\rProcessing... | Frame: 4391 | Recent: 0"
     ]
    },
    {
     "name": "stdout",
     "output_type": "stream",
     "text": [
      "\\rProcessing... | Frame: 4393 | Recent: 0"
     ]
    },
    {
     "name": "stdout",
     "output_type": "stream",
     "text": [
      "\\rProcessing... | Frame: 4395 | Recent: 0"
     ]
    },
    {
     "name": "stdout",
     "output_type": "stream",
     "text": [
      "\\rProcessing... | Frame: 4397 | Recent: 0"
     ]
    },
    {
     "name": "stdout",
     "output_type": "stream",
     "text": [
      "\\rProcessing... | Frame: 4399 | Recent: 0"
     ]
    },
    {
     "name": "stdout",
     "output_type": "stream",
     "text": [
      "\\rProcessing... | Frame: 4401 | Recent: 0"
     ]
    },
    {
     "name": "stdout",
     "output_type": "stream",
     "text": [
      "\\rProcessing... | Frame: 4403 | Recent: 0"
     ]
    },
    {
     "name": "stdout",
     "output_type": "stream",
     "text": [
      "\\rProcessing... | Frame: 4405 | Recent: 0"
     ]
    },
    {
     "name": "stdout",
     "output_type": "stream",
     "text": [
      "\\rProcessing... | Frame: 4407 | Recent: 0"
     ]
    },
    {
     "name": "stdout",
     "output_type": "stream",
     "text": [
      "\\rProcessing... | Frame: 4409 | Recent: 0"
     ]
    },
    {
     "name": "stdout",
     "output_type": "stream",
     "text": [
      "\\rProcessing... | Frame: 4411 | Recent: 0"
     ]
    },
    {
     "name": "stdout",
     "output_type": "stream",
     "text": [
      "\\rProcessing... | Frame: 4413 | Recent: 0"
     ]
    },
    {
     "name": "stdout",
     "output_type": "stream",
     "text": [
      "\\rProcessing... | Frame: 4415 | Recent: 0"
     ]
    },
    {
     "name": "stdout",
     "output_type": "stream",
     "text": [
      "\\rProcessing... | Frame: 4417 | Recent: 0"
     ]
    },
    {
     "name": "stdout",
     "output_type": "stream",
     "text": [
      "\\rProcessing... | Frame: 4419 | Recent: 0"
     ]
    },
    {
     "name": "stdout",
     "output_type": "stream",
     "text": [
      "\\rProcessing... | Frame: 4421 | Recent: 0"
     ]
    },
    {
     "name": "stdout",
     "output_type": "stream",
     "text": [
      "\\rProcessing... | Frame: 4423 | Recent: 0"
     ]
    },
    {
     "name": "stdout",
     "output_type": "stream",
     "text": [
      "\\rProcessing... | Frame: 4425 | Recent: 0"
     ]
    },
    {
     "name": "stdout",
     "output_type": "stream",
     "text": [
      "\\rProcessing... | Frame: 4427 | Recent: 0"
     ]
    },
    {
     "name": "stdout",
     "output_type": "stream",
     "text": [
      "\\rProcessing... | Frame: 4429 | Recent: 0"
     ]
    },
    {
     "name": "stdout",
     "output_type": "stream",
     "text": [
      "\\rProcessing... | Frame: 4431 | Recent: 0"
     ]
    },
    {
     "name": "stdout",
     "output_type": "stream",
     "text": [
      "\\rProcessing... | Frame: 4433 | Recent: 0"
     ]
    },
    {
     "name": "stdout",
     "output_type": "stream",
     "text": [
      "\\rProcessing... | Frame: 4435 | Recent: 0"
     ]
    },
    {
     "name": "stdout",
     "output_type": "stream",
     "text": [
      "\\rProcessing... | Frame: 4437 | Recent: 0"
     ]
    },
    {
     "name": "stdout",
     "output_type": "stream",
     "text": [
      "\\rProcessing... | Frame: 4439 | Recent: 0"
     ]
    },
    {
     "name": "stdout",
     "output_type": "stream",
     "text": [
      "\\rProcessing... | Frame: 4441 | Recent: 0"
     ]
    },
    {
     "name": "stdout",
     "output_type": "stream",
     "text": [
      "\\rProcessing... | Frame: 4443 | Recent: 0"
     ]
    },
    {
     "name": "stdout",
     "output_type": "stream",
     "text": [
      "\\rProcessing... | Frame: 4445 | Recent: 0"
     ]
    },
    {
     "name": "stdout",
     "output_type": "stream",
     "text": [
      "\\rProcessing... | Frame: 4447 | Recent: 0"
     ]
    },
    {
     "name": "stdout",
     "output_type": "stream",
     "text": [
      "\\rProcessing... | Frame: 4449 | Recent: 0"
     ]
    },
    {
     "name": "stdout",
     "output_type": "stream",
     "text": [
      "\\rProcessing... | Frame: 4451 | Recent: 0"
     ]
    },
    {
     "name": "stdout",
     "output_type": "stream",
     "text": [
      "\\rProcessing... | Frame: 4453 | Recent: 0"
     ]
    },
    {
     "name": "stdout",
     "output_type": "stream",
     "text": [
      "\\rProcessing... | Frame: 4455 | Recent: 0"
     ]
    },
    {
     "name": "stdout",
     "output_type": "stream",
     "text": [
      "\\rProcessing... | Frame: 4457 | Recent: 0"
     ]
    },
    {
     "name": "stdout",
     "output_type": "stream",
     "text": [
      "\\rProcessing... | Frame: 4459 | Recent: 0"
     ]
    },
    {
     "name": "stdout",
     "output_type": "stream",
     "text": [
      "\\rProcessing... | Frame: 4461 | Recent: 0"
     ]
    },
    {
     "name": "stdout",
     "output_type": "stream",
     "text": [
      "\\rProcessing... | Frame: 4463 | Recent: 0"
     ]
    },
    {
     "name": "stdout",
     "output_type": "stream",
     "text": [
      "\\rProcessing... | Frame: 4465 | Recent: 0"
     ]
    },
    {
     "name": "stdout",
     "output_type": "stream",
     "text": [
      "\\rProcessing... | Frame: 4467 | Recent: 0"
     ]
    },
    {
     "name": "stdout",
     "output_type": "stream",
     "text": [
      "\\rProcessing... | Frame: 4469 | Recent: 0"
     ]
    },
    {
     "name": "stdout",
     "output_type": "stream",
     "text": [
      "\\rProcessing... | Frame: 4471 | Recent: 0"
     ]
    },
    {
     "name": "stdout",
     "output_type": "stream",
     "text": [
      "\\rProcessing... | Frame: 4473 | Recent: 0"
     ]
    },
    {
     "name": "stdout",
     "output_type": "stream",
     "text": [
      "\\rProcessing... | Frame: 4475 | Recent: 0"
     ]
    },
    {
     "name": "stdout",
     "output_type": "stream",
     "text": [
      "\\rProcessing... | Frame: 4477 | Recent: 0"
     ]
    },
    {
     "name": "stdout",
     "output_type": "stream",
     "text": [
      "\\rProcessing... | Frame: 4479 | Recent: 0"
     ]
    },
    {
     "name": "stdout",
     "output_type": "stream",
     "text": [
      "\\rProcessing... | Frame: 4481 | Recent: 0"
     ]
    },
    {
     "name": "stdout",
     "output_type": "stream",
     "text": [
      "\\rProcessing... | Frame: 4483 | Recent: 0"
     ]
    },
    {
     "name": "stdout",
     "output_type": "stream",
     "text": [
      "\\rProcessing... | Frame: 4485 | Recent: 0"
     ]
    },
    {
     "name": "stdout",
     "output_type": "stream",
     "text": [
      "\\rProcessing... | Frame: 4487 | Recent: 0"
     ]
    },
    {
     "name": "stdout",
     "output_type": "stream",
     "text": [
      "\\rProcessing... | Frame: 4489 | Recent: 0"
     ]
    },
    {
     "name": "stdout",
     "output_type": "stream",
     "text": [
      "\\rProcessing... | Frame: 4491 | Recent: 0"
     ]
    },
    {
     "name": "stdout",
     "output_type": "stream",
     "text": [
      "\\rProcessing... | Frame: 4493 | Recent: 0"
     ]
    },
    {
     "name": "stdout",
     "output_type": "stream",
     "text": [
      "\\rProcessing... | Frame: 4495 | Recent: 0"
     ]
    },
    {
     "name": "stdout",
     "output_type": "stream",
     "text": [
      "\\rProcessing... | Frame: 4497 | Recent: 0"
     ]
    },
    {
     "name": "stdout",
     "output_type": "stream",
     "text": [
      "\\rProcessing... | Frame: 4499 | Recent: 0"
     ]
    },
    {
     "name": "stdout",
     "output_type": "stream",
     "text": [
      "\\rProcessing... | Frame: 4501 | Recent: 0"
     ]
    },
    {
     "name": "stdout",
     "output_type": "stream",
     "text": [
      "\\rProcessing... | Frame: 4503 | Recent: 0"
     ]
    },
    {
     "name": "stdout",
     "output_type": "stream",
     "text": [
      "\\rProcessing... | Frame: 4505 | Recent: 0"
     ]
    },
    {
     "name": "stdout",
     "output_type": "stream",
     "text": [
      "\\rProcessing... | Frame: 4507 | Recent: 0"
     ]
    },
    {
     "name": "stdout",
     "output_type": "stream",
     "text": [
      "\\rProcessing... | Frame: 4509 | Recent: 0"
     ]
    },
    {
     "name": "stdout",
     "output_type": "stream",
     "text": [
      "\\rProcessing... | Frame: 4511 | Recent: 0"
     ]
    },
    {
     "name": "stdout",
     "output_type": "stream",
     "text": [
      "\\rProcessing... | Frame: 4513 | Recent: 0"
     ]
    },
    {
     "name": "stdout",
     "output_type": "stream",
     "text": [
      "\\rProcessing... | Frame: 4515 | Recent: 0"
     ]
    },
    {
     "name": "stdout",
     "output_type": "stream",
     "text": [
      "\\rProcessing... | Frame: 4517 | Recent: 0"
     ]
    },
    {
     "name": "stdout",
     "output_type": "stream",
     "text": [
      "\\rProcessing... | Frame: 4519 | Recent: 0"
     ]
    },
    {
     "name": "stdout",
     "output_type": "stream",
     "text": [
      "\\rProcessing... | Frame: 4521 | Recent: 0"
     ]
    },
    {
     "name": "stdout",
     "output_type": "stream",
     "text": [
      "\\rProcessing... | Frame: 4525 | Recent: 0"
     ]
    },
    {
     "name": "stdout",
     "output_type": "stream",
     "text": [
      "\\rProcessing... | Frame: 4527 | Recent: 0"
     ]
    },
    {
     "name": "stdout",
     "output_type": "stream",
     "text": [
      "\\rProcessing... | Frame: 4529 | Recent: 0"
     ]
    },
    {
     "name": "stdout",
     "output_type": "stream",
     "text": [
      "\\rProcessing... | Frame: 4531 | Recent: 0"
     ]
    },
    {
     "name": "stdout",
     "output_type": "stream",
     "text": [
      "\\rProcessing... | Frame: 4533 | Recent: 0"
     ]
    },
    {
     "name": "stdout",
     "output_type": "stream",
     "text": [
      "\\rProcessing... | Frame: 4535 | Recent: 0"
     ]
    },
    {
     "name": "stdout",
     "output_type": "stream",
     "text": [
      "\\rProcessing... | Frame: 4537 | Recent: 0"
     ]
    },
    {
     "name": "stdout",
     "output_type": "stream",
     "text": [
      "\\rProcessing... | Frame: 4539 | Recent: 0"
     ]
    },
    {
     "name": "stdout",
     "output_type": "stream",
     "text": [
      "\\rProcessing... | Frame: 4541 | Recent: 0"
     ]
    },
    {
     "name": "stdout",
     "output_type": "stream",
     "text": [
      "\\rProcessing... | Frame: 4543 | Recent: 0"
     ]
    },
    {
     "name": "stdout",
     "output_type": "stream",
     "text": [
      "\\rProcessing... | Frame: 4545 | Recent: 0"
     ]
    },
    {
     "name": "stdout",
     "output_type": "stream",
     "text": [
      "\\rProcessing... | Frame: 4547 | Recent: 0"
     ]
    },
    {
     "name": "stdout",
     "output_type": "stream",
     "text": [
      "\\rProcessing... | Frame: 4549 | Recent: 0"
     ]
    },
    {
     "name": "stdout",
     "output_type": "stream",
     "text": [
      "\\rProcessing... | Frame: 4551 | Recent: 0"
     ]
    },
    {
     "name": "stdout",
     "output_type": "stream",
     "text": [
      "\\rProcessing... | Frame: 4555 | Recent: 0"
     ]
    },
    {
     "name": "stdout",
     "output_type": "stream",
     "text": [
      "\\rProcessing... | Frame: 4559 | Recent: 0"
     ]
    },
    {
     "name": "stdout",
     "output_type": "stream",
     "text": [
      "\\rProcessing... | Frame: 4565 | Recent: 0"
     ]
    },
    {
     "name": "stdout",
     "output_type": "stream",
     "text": [
      "\\rProcessing... | Frame: 4571 | Recent: 0"
     ]
    },
    {
     "name": "stdout",
     "output_type": "stream",
     "text": [
      "\\rProcessing... | Frame: 4573 | Recent: 0"
     ]
    },
    {
     "name": "stdout",
     "output_type": "stream",
     "text": [
      "\\rProcessing... | Frame: 4575 | Recent: 0"
     ]
    },
    {
     "name": "stdout",
     "output_type": "stream",
     "text": [
      "\\rProcessing... | Frame: 4581 | Recent: 0"
     ]
    },
    {
     "name": "stdout",
     "output_type": "stream",
     "text": [
      "\\rProcessing... | Frame: 4587 | Recent: 0"
     ]
    },
    {
     "name": "stdout",
     "output_type": "stream",
     "text": [
      "\\rProcessing... | Frame: 4593 | Recent: 0"
     ]
    },
    {
     "name": "stdout",
     "output_type": "stream",
     "text": [
      "\\rProcessing... | Frame: 4601 | Recent: 0"
     ]
    },
    {
     "name": "stdout",
     "output_type": "stream",
     "text": [
      "\\rProcessing... | Frame: 4609 | Recent: 0"
     ]
    },
    {
     "name": "stdout",
     "output_type": "stream",
     "text": [
      "\\rProcessing... | Frame: 4615 | Recent: 0"
     ]
    },
    {
     "name": "stdout",
     "output_type": "stream",
     "text": [
      "\\rProcessing... | Frame: 4623 | Recent: 0"
     ]
    },
    {
     "name": "stdout",
     "output_type": "stream",
     "text": [
      "\\rProcessing... | Frame: 4631 | Recent: 0"
     ]
    },
    {
     "name": "stdout",
     "output_type": "stream",
     "text": [
      "\\rProcessing... | Frame: 4639 | Recent: 0"
     ]
    },
    {
     "name": "stdout",
     "output_type": "stream",
     "text": [
      "\\rProcessing... | Frame: 4647 | Recent: 0"
     ]
    },
    {
     "name": "stdout",
     "output_type": "stream",
     "text": [
      "\\rProcessing... | Frame: 4655 | Recent: 0"
     ]
    },
    {
     "name": "stdout",
     "output_type": "stream",
     "text": [
      "\\rProcessing... | Frame: 4663 | Recent: 0"
     ]
    },
    {
     "name": "stdout",
     "output_type": "stream",
     "text": [
      "\\rProcessing... | Frame: 4671 | Recent: 0"
     ]
    },
    {
     "name": "stdout",
     "output_type": "stream",
     "text": [
      "\\rProcessing... | Frame: 4679 | Recent: 0"
     ]
    },
    {
     "name": "stdout",
     "output_type": "stream",
     "text": [
      "\\rProcessing... | Frame: 4687 | Recent: 0"
     ]
    },
    {
     "name": "stdout",
     "output_type": "stream",
     "text": [
      "\\rProcessing... | Frame: 4693 | Recent: 0"
     ]
    },
    {
     "name": "stdout",
     "output_type": "stream",
     "text": [
      "\\rProcessing... | Frame: 4701 | Recent: 0"
     ]
    },
    {
     "name": "stdout",
     "output_type": "stream",
     "text": [
      "\\rProcessing... | Frame: 4707 | Recent: 0"
     ]
    },
    {
     "name": "stdout",
     "output_type": "stream",
     "text": [
      "\\rProcessing... | Frame: 4711 | Recent: 0"
     ]
    },
    {
     "name": "stdout",
     "output_type": "stream",
     "text": [
      "\\rProcessing... | Frame: 4719 | Recent: 0"
     ]
    },
    {
     "name": "stdout",
     "output_type": "stream",
     "text": [
      "\\rProcessing... | Frame: 4725 | Recent: 0"
     ]
    },
    {
     "name": "stdout",
     "output_type": "stream",
     "text": [
      "\\rProcessing... | Frame: 4731 | Recent: 0"
     ]
    },
    {
     "name": "stdout",
     "output_type": "stream",
     "text": [
      "\\rProcessing... | Frame: 4739 | Recent: 0"
     ]
    },
    {
     "name": "stdout",
     "output_type": "stream",
     "text": [
      "\\rProcessing... | Frame: 4741 | Recent: 0"
     ]
    },
    {
     "name": "stdout",
     "output_type": "stream",
     "text": [
      "\\rProcessing... | Frame: 4743 | Recent: 0"
     ]
    },
    {
     "name": "stdout",
     "output_type": "stream",
     "text": [
      "\\rProcessing... | Frame: 4745 | Recent: 0"
     ]
    },
    {
     "name": "stdout",
     "output_type": "stream",
     "text": [
      "\\rProcessing... | Frame: 4751 | Recent: 0"
     ]
    },
    {
     "name": "stdout",
     "output_type": "stream",
     "text": [
      "\\rProcessing... | Frame: 4758 | Recent: 0"
     ]
    },
    {
     "name": "stdout",
     "output_type": "stream",
     "text": [
      "\\rProcessing... | Frame: 4763 | Recent: 0"
     ]
    },
    {
     "name": "stdout",
     "output_type": "stream",
     "text": [
      "\\rProcessing... | Frame: 4769 | Recent: 0"
     ]
    },
    {
     "name": "stdout",
     "output_type": "stream",
     "text": [
      "\\rProcessing... | Frame: 4775 | Recent: 0"
     ]
    },
    {
     "name": "stdout",
     "output_type": "stream",
     "text": [
      "\\rProcessing... | Frame: 4781 | Recent: 0"
     ]
    },
    {
     "name": "stdout",
     "output_type": "stream",
     "text": [
      "\\rProcessing... | Frame: 4785 | Recent: 0"
     ]
    },
    {
     "name": "stdout",
     "output_type": "stream",
     "text": [
      "\\rProcessing... | Frame: 4789 | Recent: 0"
     ]
    },
    {
     "name": "stdout",
     "output_type": "stream",
     "text": [
      "\\rProcessing... | Frame: 4797 | Recent: 0"
     ]
    },
    {
     "name": "stdout",
     "output_type": "stream",
     "text": [
      "\\rProcessing... | Frame: 4805 | Recent: 0"
     ]
    },
    {
     "name": "stdout",
     "output_type": "stream",
     "text": [
      "\\rProcessing... | Frame: 4813 | Recent: 0"
     ]
    },
    {
     "name": "stdout",
     "output_type": "stream",
     "text": [
      "\\rProcessing... | Frame: 4821 | Recent: 0"
     ]
    },
    {
     "name": "stdout",
     "output_type": "stream",
     "text": [
      "\\rProcessing... | Frame: 4829 | Recent: 0"
     ]
    },
    {
     "name": "stdout",
     "output_type": "stream",
     "text": [
      "\\rProcessing... | Frame: 4837 | Recent: 0"
     ]
    },
    {
     "name": "stdout",
     "output_type": "stream",
     "text": [
      "\\rProcessing... | Frame: 4845 | Recent: 0"
     ]
    },
    {
     "name": "stdout",
     "output_type": "stream",
     "text": [
      "\\rProcessing... | Frame: 4853 | Recent: 0"
     ]
    },
    {
     "name": "stdout",
     "output_type": "stream",
     "text": [
      "\\rProcessing... | Frame: 4861 | Recent: 0"
     ]
    },
    {
     "name": "stdout",
     "output_type": "stream",
     "text": [
      "\\rProcessing... | Frame: 4869 | Recent: 0"
     ]
    },
    {
     "name": "stdout",
     "output_type": "stream",
     "text": [
      "\\rProcessing... | Frame: 4877 | Recent: 0"
     ]
    },
    {
     "name": "stdout",
     "output_type": "stream",
     "text": [
      "\\rProcessing... | Frame: 4885 | Recent: 0"
     ]
    },
    {
     "name": "stdout",
     "output_type": "stream",
     "text": [
      "\\rProcessing... | Frame: 4893 | Recent: 0"
     ]
    },
    {
     "name": "stdout",
     "output_type": "stream",
     "text": [
      "\\rProcessing... | Frame: 4901 | Recent: 0"
     ]
    },
    {
     "name": "stdout",
     "output_type": "stream",
     "text": [
      "\\rProcessing... | Frame: 4909 | Recent: 0"
     ]
    },
    {
     "name": "stdout",
     "output_type": "stream",
     "text": [
      "\\rProcessing... | Frame: 4917 | Recent: 0"
     ]
    },
    {
     "name": "stdout",
     "output_type": "stream",
     "text": [
      "\\rProcessing... | Frame: 4925 | Recent: 0"
     ]
    },
    {
     "name": "stdout",
     "output_type": "stream",
     "text": [
      "\\rProcessing... | Frame: 4933 | Recent: 0"
     ]
    },
    {
     "name": "stdout",
     "output_type": "stream",
     "text": [
      "\\rProcessing... | Frame: 4941 | Recent: 0"
     ]
    },
    {
     "name": "stdout",
     "output_type": "stream",
     "text": [
      "\\rProcessing... | Frame: 4949 | Recent: 0"
     ]
    },
    {
     "name": "stdout",
     "output_type": "stream",
     "text": [
      "\\rProcessing... | Frame: 4957 | Recent: 0"
     ]
    },
    {
     "name": "stdout",
     "output_type": "stream",
     "text": [
      "\\rProcessing... | Frame: 4965 | Recent: 0"
     ]
    },
    {
     "name": "stdout",
     "output_type": "stream",
     "text": [
      "\\rProcessing... | Frame: 4973 | Recent: 0"
     ]
    },
    {
     "name": "stdout",
     "output_type": "stream",
     "text": [
      "\\rProcessing... | Frame: 4981 | Recent: 0"
     ]
    },
    {
     "name": "stdout",
     "output_type": "stream",
     "text": [
      "\\rProcessing... | Frame: 4989 | Recent: 0"
     ]
    },
    {
     "name": "stdout",
     "output_type": "stream",
     "text": [
      "\\rProcessing... | Frame: 4997 | Recent: 0"
     ]
    },
    {
     "name": "stdout",
     "output_type": "stream",
     "text": [
      "\\rProcessing... | Frame: 5005 | Recent: 0"
     ]
    },
    {
     "name": "stdout",
     "output_type": "stream",
     "text": [
      "\\rProcessing... | Frame: 5013 | Recent: 0"
     ]
    },
    {
     "name": "stdout",
     "output_type": "stream",
     "text": [
      "\\rProcessing... | Frame: 5015 | Recent: 0"
     ]
    },
    {
     "name": "stdout",
     "output_type": "stream",
     "text": [
      "\\rProcessing... | Frame: 5019 | Recent: 0"
     ]
    },
    {
     "name": "stdout",
     "output_type": "stream",
     "text": [
      "\\rProcessing... | Frame: 5027 | Recent: 0"
     ]
    },
    {
     "name": "stdout",
     "output_type": "stream",
     "text": [
      "\\rProcessing... | Frame: 5035 | Recent: 0"
     ]
    },
    {
     "name": "stdout",
     "output_type": "stream",
     "text": [
      "\\rProcessing... | Frame: 5043 | Recent: 0"
     ]
    },
    {
     "name": "stdout",
     "output_type": "stream",
     "text": [
      "\\rProcessing... | Frame: 5051 | Recent: 0"
     ]
    },
    {
     "name": "stdout",
     "output_type": "stream",
     "text": [
      "\\rProcessing... | Frame: 5059 | Recent: 0"
     ]
    },
    {
     "name": "stdout",
     "output_type": "stream",
     "text": [
      "\\rProcessing... | Frame: 5067 | Recent: 0"
     ]
    },
    {
     "name": "stdout",
     "output_type": "stream",
     "text": [
      "\\rProcessing... | Frame: 5075 | Recent: 0"
     ]
    },
    {
     "name": "stdout",
     "output_type": "stream",
     "text": [
      "\\rProcessing... | Frame: 5083 | Recent: 0"
     ]
    },
    {
     "name": "stdout",
     "output_type": "stream",
     "text": [
      "\\rProcessing... | Frame: 5091 | Recent: 0"
     ]
    },
    {
     "name": "stdout",
     "output_type": "stream",
     "text": [
      "\\rProcessing... | Frame: 5099 | Recent: 0"
     ]
    },
    {
     "name": "stdout",
     "output_type": "stream",
     "text": [
      "\\rProcessing... | Frame: 5107 | Recent: 0"
     ]
    },
    {
     "name": "stdout",
     "output_type": "stream",
     "text": [
      "\\rProcessing... | Frame: 5115 | Recent: 0"
     ]
    },
    {
     "name": "stdout",
     "output_type": "stream",
     "text": [
      "\\rProcessing... | Frame: 5123 | Recent: 0"
     ]
    },
    {
     "name": "stdout",
     "output_type": "stream",
     "text": [
      "\\rProcessing... | Frame: 5131 | Recent: 0"
     ]
    },
    {
     "name": "stdout",
     "output_type": "stream",
     "text": [
      "\\rProcessing... | Frame: 5139 | Recent: 0"
     ]
    },
    {
     "name": "stdout",
     "output_type": "stream",
     "text": [
      "\\rProcessing... | Frame: 5147 | Recent: 0"
     ]
    },
    {
     "name": "stdout",
     "output_type": "stream",
     "text": [
      "\\rProcessing... | Frame: 5155 | Recent: 0"
     ]
    },
    {
     "name": "stdout",
     "output_type": "stream",
     "text": [
      "\\rProcessing... | Frame: 5163 | Recent: 0"
     ]
    },
    {
     "name": "stdout",
     "output_type": "stream",
     "text": [
      "\\rProcessing... | Frame: 5171 | Recent: 0"
     ]
    },
    {
     "name": "stdout",
     "output_type": "stream",
     "text": [
      "\\rProcessing... | Frame: 5179 | Recent: 0"
     ]
    },
    {
     "name": "stdout",
     "output_type": "stream",
     "text": [
      "\\rProcessing... | Frame: 5187 | Recent: 0"
     ]
    },
    {
     "name": "stdout",
     "output_type": "stream",
     "text": [
      "\\rProcessing... | Frame: 5195 | Recent: 0"
     ]
    },
    {
     "name": "stdout",
     "output_type": "stream",
     "text": [
      "\\rProcessing... | Frame: 5203 | Recent: 0"
     ]
    },
    {
     "name": "stdout",
     "output_type": "stream",
     "text": [
      "\\rProcessing... | Frame: 5211 | Recent: 0"
     ]
    },
    {
     "name": "stdout",
     "output_type": "stream",
     "text": [
      "\\rProcessing... | Frame: 5219 | Recent: 0"
     ]
    },
    {
     "name": "stdout",
     "output_type": "stream",
     "text": [
      "\\rProcessing... | Frame: 5227 | Recent: 0"
     ]
    },
    {
     "name": "stdout",
     "output_type": "stream",
     "text": [
      "\\rProcessing... | Frame: 5235 | Recent: 0🛑 Visualization stopped\n"
     ]
    }
   ],
   "source": [
    "# Bước 1: Đăng ký nhân viên Hoang trước\n",
    "employee_manager.scan_employee_folders()\n",
    "\n",
    "# Bước 2: Start live visualization\n",
    "visualizer.start_visualization(duration_minutes=3)"
   ]
  },
  {
   "cell_type": "code",
   "execution_count": null,
   "metadata": {},
   "outputs": [],
   "source": []
  }
 ],
 "metadata": {
  "kernelspec": {
   "display_name": "venv",
   "language": "python",
   "name": "python3"
  },
  "language_info": {
   "codemirror_mode": {
    "name": "ipython",
    "version": 3
   },
   "file_extension": ".py",
   "mimetype": "text/x-python",
   "name": "python",
   "nbconvert_exporter": "python",
   "pygments_lexer": "ipython3",
   "version": "3.12.8"
  }
 },
 "nbformat": 4,
 "nbformat_minor": 2
}
