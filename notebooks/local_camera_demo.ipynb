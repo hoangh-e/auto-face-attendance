{
 "cells": [
  {
   "cell_type": "markdown",
   "metadata": {
    "vscode": {
     "languageId": "raw"
    }
   },
   "source": [
    "# 🎥 AI Attendance System - Local Camera Demo\n",
    "\n",
    "**Real-time Camera Processing with Employee Folder Auto-Detection**\n",
    "\n",
    "Pipeline V1: SCRFD Detection + ArcFace Recognition + SQLite Database\n",
    "\n",
    "---\n",
    "\n",
    "## 🌟 Features\n",
    "\n",
    "✅ **Zero-Clone Setup**: Direct pip install, no git operations needed  \n",
    "✅ **Smart Employee Detection**: Auto-scan employee folders with face validation  \n",
    "✅ **Real-time Dashboard**: Live processing with performance overlay  \n",
    "✅ **Instant Notifications**: Local popup notifications for attendance events  \n",
    "✅ **Persistent Storage**: Local database with backup options  \n",
    "\n",
    "---\n"
   ]
  },
  {
   "cell_type": "markdown",
   "metadata": {
    "vscode": {
     "languageId": "raw"
    }
   },
   "source": [
    "## Cell 1: ⚡ Lightning Setup (No Git Required)\n",
    "\n",
    "**Direct pip install from PyPI/GitHub with automatic dependency resolution**\n"
   ]
  },
  {
   "cell_type": "code",
   "execution_count": 1,
   "metadata": {},
   "outputs": [
    {
     "name": "stdout",
     "output_type": "stream",
     "text": [
      "⚡ AI ATTENDANCE SYSTEM - LOCAL CAMERA DEMO\n",
      "==================================================\n",
      "🔍 ENVIRONMENT DETECTION:\n",
      "├─ Platform: Windows 11\n",
      "├─ Python: 3.12.8\n",
      "├─ Working Directory: k:\\Workspace\\BHK Research\\auto-face-attendance\\notebooks\n",
      "└─ Architecture: AMD64\n",
      "\n",
      "🚀 GPU DETECTION:\n",
      "├─ Status: ⚠️ CPU Only\n",
      "└─ Note: Install CUDA for better performance\n",
      "\n",
      "📦 INSTALLING DEPENDENCIES:\n",
      "├─ ✅ numpy (already installed)\n",
      "├─ ✅ pillow (already installed)\n",
      "├─ ✅ matplotlib (already installed)\n",
      "├─ ✅ pandas (already installed)\n",
      "├─ ✅ tqdm (already installed)\n",
      "├─ ✅ psutil (already installed)\n",
      "├─ ✅ ipywidgets (already installed)\n",
      "├─ ✅ plotly (already installed)\n",
      "├─ ✅ opencv-python (already installed)\n",
      "├─ ✅ scikit-learn (already installed)\n",
      "├─ ✅ torch (already installed)\n",
      "├─ ✅ torchvision (already installed)\n",
      "├─ ✅ insightface (already installed)\n",
      "\n",
      "📊 INSTALLATION SUMMARY:\n",
      "├─ Successful: 13/13\n",
      "├─ Failed: 0\n",
      "\n",
      "📂 DIRECTORY STRUCTURE:\n",
      "├─ Employees: k:\\Workspace\\BHK Research\\auto-face-attendance\\notebooks\\employees\n",
      "├─ Data: k:\\Workspace\\BHK Research\\auto-face-attendance\\notebooks\\data\n",
      "├─ Snapshots: k:\\Workspace\\BHK Research\\auto-face-attendance\\notebooks\\snapshots\n",
      "├─ Exports: k:\\Workspace\\BHK Research\\auto-face-attendance\\notebooks\\exports\n",
      "├─ Logs: k:\\Workspace\\BHK Research\\auto-face-attendance\\notebooks\\logs\n",
      "\n",
      "🎉 SETUP COMPLETED!\n",
      "├─ Installation success rate: 100.0%\n",
      "├─ Status: ✅ All packages installed successfully\n",
      "└─ Ready for AI processing!\n",
      "\n",
      "💡 NEXT STEPS:\n",
      "1. Add employee photos to employees/ folder\n",
      "2. Run Cell 2 to initialize AI system\n",
      "3. Restart kernel if you encounter import errors\n",
      "==================================================\n"
     ]
    }
   ],
   "source": [
    "# Cell 1: ⚡ Lightning Setup - IMPROVED VERSION\n",
    "# AI Attendance System - Local Camera Demo\n",
    "# Lightning Setup with Better Error Handling\n",
    "\n",
    "import sys\n",
    "import subprocess\n",
    "import time\n",
    "import os\n",
    "from pathlib import Path\n",
    "import platform\n",
    "import importlib\n",
    "import warnings\n",
    "warnings.filterwarnings('ignore')\n",
    "\n",
    "print(\"⚡ AI ATTENDANCE SYSTEM - LOCAL CAMERA DEMO\")\n",
    "print(\"=\" * 50)\n",
    "\n",
    "# Environment Detection\n",
    "print(\"🔍 ENVIRONMENT DETECTION:\")\n",
    "print(f\"├─ Platform: {platform.system()} {platform.release()}\")\n",
    "print(f\"├─ Python: {sys.version.split()[0]}\")\n",
    "print(f\"├─ Working Directory: {os.getcwd()}\")\n",
    "print(f\"└─ Architecture: {platform.machine()}\")\n",
    "\n",
    "# Function to install and verify packages\n",
    "def install_and_verify_package(package_name, import_name=None, timeout=120):\n",
    "    \"\"\"Install package and verify it can be imported\"\"\"\n",
    "    if import_name is None:\n",
    "        import_name = package_name.replace('-', '_')\n",
    "    \n",
    "    try:\n",
    "        # Try to import first\n",
    "        importlib.import_module(import_name)\n",
    "        print(f\"├─ ✅ {package_name} (already installed)\")\n",
    "        return True\n",
    "    except ImportError:\n",
    "        pass\n",
    "    \n",
    "    try:\n",
    "        # Install package\n",
    "        print(f\"├─ 🔄 Installing {package_name}...\")\n",
    "        result = subprocess.run([\n",
    "            sys.executable, '-m', 'pip', 'install', package_name, '-q', '--upgrade'\n",
    "        ], timeout=timeout, capture_output=True, text=True)\n",
    "        \n",
    "        if result.returncode == 0:\n",
    "            # Verify import after installation\n",
    "            try:\n",
    "                importlib.import_module(import_name)\n",
    "                print(f\"├─ ✅ {package_name} (installed successfully)\")\n",
    "                return True\n",
    "            except ImportError:\n",
    "                print(f\"├─ ⚠️ {package_name} (installed but import failed)\")\n",
    "                return False\n",
    "        else:\n",
    "            print(f\"├─ ❌ {package_name} (installation failed)\")\n",
    "            return False\n",
    "            \n",
    "    except subprocess.TimeoutExpired:\n",
    "        print(f\"├─ ⏰ {package_name} (timeout - may still be installing)\")\n",
    "        return False\n",
    "    except Exception as e:\n",
    "        print(f\"├─ ❌ {package_name} (error: {str(e)[:50]})\")\n",
    "        return False\n",
    "\n",
    "# GPU Detection\n",
    "print(\"\\n🚀 GPU DETECTION:\")\n",
    "try:\n",
    "    import torch\n",
    "    gpu_available = torch.cuda.is_available()\n",
    "    if gpu_available:\n",
    "        print(f\"├─ Status: ✅ CUDA Available\")\n",
    "        print(f\"├─ Device: {torch.cuda.get_device_name(0)}\")\n",
    "        print(f\"└─ Memory: {torch.cuda.get_device_properties(0).total_memory / 1024**3:.1f}GB\")\n",
    "    else:\n",
    "        print(f\"├─ Status: ⚠️ CPU Only\")\n",
    "        print(f\"└─ Note: Install CUDA for better performance\")\n",
    "except ImportError:\n",
    "    print(f\"├─ Status: 🔄 PyTorch not yet installed\")\n",
    "    gpu_available = False\n",
    "\n",
    "# Install packages with verification\n",
    "print(\"\\n📦 INSTALLING DEPENDENCIES:\")\n",
    "\n",
    "# Core packages for local demo - FIXED ORDER\n",
    "packages_to_install = [\n",
    "    # Basic packages first\n",
    "    ('numpy', 'numpy'),\n",
    "    ('pillow', 'PIL'),\n",
    "    ('matplotlib', 'matplotlib'),\n",
    "    ('pandas', 'pandas'),\n",
    "    ('tqdm', 'tqdm'),\n",
    "    ('psutil', 'psutil'),\n",
    "    ('ipywidgets', 'ipywidgets'),\n",
    "    ('plotly', 'plotly'),\n",
    "    \n",
    "    # Computer vision packages\n",
    "    ('opencv-python', 'cv2'),\n",
    "    ('scikit-learn', 'sklearn'),\n",
    "    \n",
    "    # AI/ML packages\n",
    "    ('torch', 'torch'),\n",
    "    ('torchvision', 'torchvision'),\n",
    "    ('insightface', 'insightface'),\n",
    "]\n",
    "\n",
    "successful_installations = 0\n",
    "failed_packages = []\n",
    "\n",
    "for package_name, import_name in packages_to_install:\n",
    "    if install_and_verify_package(package_name, import_name):\n",
    "        successful_installations += 1\n",
    "    else:\n",
    "        failed_packages.append(package_name)\n",
    "\n",
    "print(f\"\\n📊 INSTALLATION SUMMARY:\")\n",
    "print(f\"├─ Successful: {successful_installations}/{len(packages_to_install)}\")\n",
    "print(f\"├─ Failed: {len(failed_packages)}\")\n",
    "if failed_packages:\n",
    "    print(f\"└─ Failed packages: {', '.join(failed_packages)}\")\n",
    "\n",
    "# Create directory structure\n",
    "base_dir = Path.cwd()\n",
    "directories = {\n",
    "    'employees': base_dir / 'employees',\n",
    "    'data': base_dir / 'data', \n",
    "    'snapshots': base_dir / 'snapshots',\n",
    "    'exports': base_dir / 'exports',\n",
    "    'logs': base_dir / 'logs'\n",
    "}\n",
    "\n",
    "print(f\"\\n📂 DIRECTORY STRUCTURE:\")\n",
    "for name, path in directories.items():\n",
    "    path.mkdir(exist_ok=True)\n",
    "    print(f\"├─ {name.title()}: {path}\")\n",
    "\n",
    "# Create sample employee folder structure\n",
    "sample_employees_dir = directories['employees'] / \"_sample_structure\"\n",
    "sample_employees_dir.mkdir(exist_ok=True)\n",
    "\n",
    "readme_content = \"\"\"# Employee Registration Setup\n",
    "\n",
    "## Folder Structure:\n",
    "- employees/John_Doe/photo1.jpg, photo2.jpg, photo3.jpg\n",
    "- employees/Jane_Smith/image1.png, image2.png\n",
    "- employees/Michael_Johnson/face1.jpg, face2.jpg\n",
    "\n",
    "## Requirements:\n",
    "- 1-5 clear face photos per employee\n",
    "- Good lighting and frontal face view\n",
    "- Supported formats: .jpg, .jpeg, .png\n",
    "- Minimum resolution: 200x200 pixels\n",
    "\n",
    "## Naming Convention:\n",
    "- Folder name = Employee name with underscores\n",
    "- Examples: John_Doe, Jane_Smith, Michael_Johnson\n",
    "\"\"\"\n",
    "\n",
    "with open(sample_employees_dir / \"README.md\", \"w\") as f:\n",
    "    f.write(readme_content)\n",
    "\n",
    "print(f\"\\n🎉 SETUP COMPLETED!\")\n",
    "print(f\"├─ Installation success rate: {successful_installations/len(packages_to_install)*100:.1f}%\")\n",
    "\n",
    "if len(failed_packages) == 0:\n",
    "    print(f\"├─ Status: ✅ All packages installed successfully\")\n",
    "    print(f\"└─ Ready for AI processing!\")\n",
    "else:\n",
    "    print(f\"├─ Status: ⚠️ Some packages failed - system may still work\")\n",
    "    print(f\"└─ Manual install failed packages: pip install {' '.join(failed_packages)}\")\n",
    "\n",
    "print(\"\\n💡 NEXT STEPS:\")\n",
    "print(\"1. Add employee photos to employees/ folder\")\n",
    "print(\"2. Run Cell 2 to initialize AI system\")\n",
    "print(\"3. Restart kernel if you encounter import errors\")\n",
    "print(\"=\" * 50)"
   ]
  },
  {
   "cell_type": "markdown",
   "metadata": {
    "vscode": {
     "languageId": "raw"
    }
   },
   "source": [
    "## Cell 2: 🤖 AI System & Database Setup\n",
    "\n",
    "**Initialize AI models and local database for employee management**\n"
   ]
  },
  {
   "cell_type": "code",
   "execution_count": 2,
   "metadata": {},
   "outputs": [
    {
     "name": "stdout",
     "output_type": "stream",
     "text": [
      "🤖 AI SYSTEM & DATABASE SETUP\n",
      "===================================\n",
      "📦 LOADING REQUIRED MODULES:\n",
      "├─ ✅ Jupyter widgets\n",
      "├─ ✅ Plotly\n",
      "├─ ✅ InsightFace\n",
      "├─ ✅ Scikit-learn\n",
      "├─ ✅ PSUtil\n",
      "✅ Core modules loaded successfully\n",
      "\n",
      "🔄 INITIALIZING SYSTEMS:\n",
      "🔄 Initializing Local AI System...\n",
      "💻 CPU Mode: Slower but functional\n",
      "📦 Loading buffalo_s model pack...\n",
      "Applied providers: ['CPUExecutionProvider'], with options: {'CPUExecutionProvider': {}}\n",
      "find model: C:\\Users\\hoang/.insightface\\models\\buffalo_s\\1k3d68.onnx landmark_3d_68 ['None', 3, 192, 192] 0.0 1.0\n",
      "Applied providers: ['CPUExecutionProvider'], with options: {'CPUExecutionProvider': {}}\n",
      "find model: C:\\Users\\hoang/.insightface\\models\\buffalo_s\\2d106det.onnx landmark_2d_106 ['None', 3, 192, 192] 0.0 1.0\n",
      "Applied providers: ['CPUExecutionProvider'], with options: {'CPUExecutionProvider': {}}\n",
      "find model: C:\\Users\\hoang/.insightface\\models\\buffalo_s\\det_500m.onnx detection [1, 3, '?', '?'] 127.5 128.0\n",
      "Applied providers: ['CPUExecutionProvider'], with options: {'CPUExecutionProvider': {}}\n",
      "find model: C:\\Users\\hoang/.insightface\\models\\buffalo_s\\genderage.onnx genderage ['None', 3, 96, 96] 0.0 1.0\n",
      "Applied providers: ['CPUExecutionProvider'], with options: {'CPUExecutionProvider': {}}\n",
      "find model: C:\\Users\\hoang/.insightface\\models\\buffalo_s\\w600k_mbf.onnx recognition ['None', 3, 112, 112] 127.5 127.5\n",
      "set det-size: (640, 640)\n",
      "✅ buffalo_s loaded successfully!\n",
      "├─ ✅ AI System initialized\n",
      "🗄️ Local database: k:\\Workspace\\BHK Research\\auto-face-attendance\\notebooks\\data\\local_attendance.db\n",
      "├─ ✅ Database initialized\n",
      "└─ ✅ All systems ready!\n",
      "\n",
      "📊 Current Database Statistics:\n",
      "├─ Employees: 0\n",
      "├─ Total Logs: 0\n",
      "└─ Today's Logs: 0\n",
      "\n",
      "💡 EMPLOYEE FOLDER SETUP:\n",
      "1. Create folders in: k:\\Workspace\\BHK Research\\auto-face-attendance\\notebooks\\employees\n",
      "2. Folder structure: employees/John_Doe/photo1.jpg, photo2.jpg, ...\n",
      "3. Run the next cell to auto-scan and register employees\n",
      "===================================\n"
     ]
    }
   ],
   "source": [
    "# Cell 2: 🤖 AI System & Database Setup - IMPROVED VERSION\n",
    "# AI System & Database Setup with Better Error Handling\n",
    "\n",
    "import sys\n",
    "import importlib\n",
    "import warnings\n",
    "warnings.filterwarnings('ignore')\n",
    "\n",
    "print(\"🤖 AI SYSTEM & DATABASE SETUP\")\n",
    "print(\"=\" * 35)\n",
    "\n",
    "# Function to safely import modules\n",
    "def safe_import(module_name, package_name=None):\n",
    "    \"\"\"Safely import module with fallback installation\"\"\"\n",
    "    try:\n",
    "        return importlib.import_module(module_name)\n",
    "    except ImportError as e:\n",
    "        if package_name:\n",
    "            print(f\"⚠️ {module_name} not found, trying to install {package_name}...\")\n",
    "            try:\n",
    "                import subprocess\n",
    "                subprocess.check_call([sys.executable, '-m', 'pip', 'install', package_name, '-q'])\n",
    "                return importlib.import_module(module_name)\n",
    "            except:\n",
    "                print(f\"❌ Failed to install {package_name}\")\n",
    "                return None\n",
    "        else:\n",
    "            print(f\"❌ Failed to import {module_name}: {e}\")\n",
    "            return None\n",
    "\n",
    "# Import required modules with error handling\n",
    "print(\"📦 LOADING REQUIRED MODULES:\")\n",
    "\n",
    "# Core imports\n",
    "cv2 = safe_import('cv2', 'opencv-python')\n",
    "np = safe_import('numpy')\n",
    "pd = safe_import('pandas')\n",
    "plt = safe_import('matplotlib.pyplot')\n",
    "json = safe_import('json')\n",
    "sqlite3 = safe_import('sqlite3')\n",
    "time = safe_import('time')\n",
    "logging = safe_import('logging')\n",
    "\n",
    "# Standard library imports\n",
    "from datetime import datetime\n",
    "from typing import List, Dict, Optional\n",
    "from pathlib import Path\n",
    "from tqdm import tqdm\n",
    "import os\n",
    "\n",
    "# Additional imports\n",
    "try:\n",
    "    import ipywidgets as widgets\n",
    "    from IPython.display import display, clear_output, HTML\n",
    "    print(\"├─ ✅ Jupyter widgets\")\n",
    "except ImportError:\n",
    "    print(\"├─ ⚠️ Jupyter widgets not available\")\n",
    "\n",
    "try:\n",
    "    import plotly.graph_objects as go\n",
    "    import plotly.express as px\n",
    "    from plotly.subplots import make_subplots\n",
    "    print(\"├─ ✅ Plotly\")\n",
    "except ImportError:\n",
    "    print(\"├─ ⚠️ Plotly not available\")\n",
    "\n",
    "# AI and ML imports with fallbacks\n",
    "try:\n",
    "    import insightface\n",
    "    from insightface.app import FaceAnalysis\n",
    "    print(\"├─ ✅ InsightFace\")\n",
    "    INSIGHTFACE_AVAILABLE = True\n",
    "except ImportError:\n",
    "    print(\"├─ ❌ InsightFace not available - using mock system\")\n",
    "    INSIGHTFACE_AVAILABLE = False\n",
    "\n",
    "try:\n",
    "    from sklearn.metrics.pairwise import cosine_similarity\n",
    "    print(\"├─ ✅ Scikit-learn\")\n",
    "    SKLEARN_AVAILABLE = True\n",
    "except ImportError:\n",
    "    print(\"├─ ❌ Scikit-learn not available\")\n",
    "    SKLEARN_AVAILABLE = False\n",
    "\n",
    "try:\n",
    "    import psutil\n",
    "    print(\"├─ ✅ PSUtil\")\n",
    "except ImportError:\n",
    "    print(\"├─ ⚠️ PSUtil not available\")\n",
    "\n",
    "# Check critical dependencies\n",
    "critical_modules = [cv2, np, sqlite3, time]\n",
    "missing_critical = [i for i, module in enumerate(critical_modules) if module is None]\n",
    "\n",
    "if missing_critical:\n",
    "    print(f\"\\n❌ CRITICAL ERROR: Missing essential modules\")\n",
    "    print(\"Please restart kernel and run Cell 1 again, or install manually:\")\n",
    "    print(\"pip install opencv-python numpy\")\n",
    "    raise ImportError(\"Critical dependencies missing\")\n",
    "\n",
    "print(\"✅ Core modules loaded successfully\")\n",
    "\n",
    "# Directory setup\n",
    "base_dir = Path.cwd()\n",
    "employees_dir = base_dir / 'employees'\n",
    "data_dir = base_dir / 'data'\n",
    "snapshots_dir = base_dir / 'snapshots'\n",
    "exports_dir = base_dir / 'exports'\n",
    "\n",
    "# Initialize AI Models for Local Processing\n",
    "class LocalAISystem:\n",
    "    def __init__(self):\n",
    "        print(\"🔄 Initializing Local AI System...\")\n",
    "        self.app = None\n",
    "        self.performance_stats = {\n",
    "            'total_inferences': 0,\n",
    "            'avg_latency_ms': 0.0,\n",
    "            'total_time': 0.0\n",
    "        }\n",
    "        self.mock_mode = not INSIGHTFACE_AVAILABLE\n",
    "        \n",
    "        if self.mock_mode:\n",
    "            print(\"⚠️ Running in MOCK MODE (InsightFace not available)\")\n",
    "            self._init_mock_system()\n",
    "        else:\n",
    "            self._init_models()\n",
    "    \n",
    "    def _init_mock_system(self):\n",
    "        \"\"\"Initialize mock system for testing without InsightFace\"\"\"\n",
    "        print(\"🔧 Mock AI system initialized\")\n",
    "        print(\"├─ Face detection: Simulated\")\n",
    "        print(\"├─ Face recognition: Random embeddings\")\n",
    "        print(\"└─ Performance: Fast but not functional\")\n",
    "    \n",
    "    def _init_models(self):\n",
    "        try:\n",
    "            # Setup providers\n",
    "            try:\n",
    "                import torch\n",
    "                if torch.cuda.is_available():\n",
    "                    providers = ['CUDAExecutionProvider', 'CPUExecutionProvider']\n",
    "                    print(f\"🚀 GPU Mode: {torch.cuda.get_device_name(0)}\")\n",
    "                else:\n",
    "                    providers = ['CPUExecutionProvider']\n",
    "                    print(\"💻 CPU Mode: Slower but functional\")\n",
    "            except ImportError:\n",
    "                providers = ['CPUExecutionProvider']\n",
    "                print(\"💻 CPU Mode: PyTorch not available\")\n",
    "            \n",
    "            # Initialize with lighter model for local demo\n",
    "            model_pack = 'buffalo_s'  # Faster for local processing\n",
    "            print(f\"📦 Loading {model_pack} model pack...\")\n",
    "            \n",
    "            self.app = FaceAnalysis(name=model_pack, providers=providers)\n",
    "            ctx_id = 0 if 'CUDAExecutionProvider' in providers else -1\n",
    "            self.app.prepare(ctx_id=ctx_id, det_size=(640, 640), det_thresh=0.5)\n",
    "            \n",
    "            print(f\"✅ {model_pack} loaded successfully!\")\n",
    "            \n",
    "        except Exception as e:\n",
    "            print(f\"❌ Model loading failed: {e}\")\n",
    "            print(\"🔄 Falling back to mock mode...\")\n",
    "            self.mock_mode = True\n",
    "            self._init_mock_system()\n",
    "    \n",
    "    def detect_and_recognize(self, image):\n",
    "        \"\"\"Process image and return face data\"\"\"\n",
    "        start_time = time.time()\n",
    "        \n",
    "        if self.mock_mode:\n",
    "            # Mock implementation for testing\n",
    "            if image is not None and image.size > 0:\n",
    "                # Return mock face data\n",
    "                height, width = image.shape[:2]\n",
    "                mock_face = {\n",
    "                    'bbox': [width*0.3, height*0.2, width*0.7, height*0.8],\n",
    "                    'det_score': 0.95,\n",
    "                    'landmarks': None,\n",
    "                    'embedding': np.random.randn(512).astype(np.float32),\n",
    "                    'age': np.random.randint(20, 60),\n",
    "                    'gender': np.random.choice(['M', 'F'])\n",
    "                }\n",
    "                results = [mock_face]\n",
    "            else:\n",
    "                results = []\n",
    "        else:\n",
    "            try:\n",
    "                faces = self.app.get(image)\n",
    "                \n",
    "                results = []\n",
    "                for face in faces:\n",
    "                    result = {\n",
    "                        'bbox': face.bbox,\n",
    "                        'det_score': face.det_score,\n",
    "                        'landmarks': getattr(face, 'kps', None),\n",
    "                        'embedding': face.embedding,\n",
    "                        'age': getattr(face, 'age', None),\n",
    "                        'gender': getattr(face, 'gender', None)\n",
    "                    }\n",
    "                    results.append(result)\n",
    "            except Exception as e:\n",
    "                print(f\"AI processing error: {e}\")\n",
    "                results = []\n",
    "        \n",
    "        # Update performance stats\n",
    "        processing_time = (time.time() - start_time) * 1000\n",
    "        self.performance_stats['total_inferences'] += 1\n",
    "        self.performance_stats['total_time'] += processing_time\n",
    "        self.performance_stats['avg_latency_ms'] = (\n",
    "            self.performance_stats['total_time'] / \n",
    "            self.performance_stats['total_inferences']\n",
    "        )\n",
    "        \n",
    "        return results\n",
    "\n",
    "# Initialize Local Database\n",
    "class LocalDatabase:\n",
    "    def __init__(self, db_path=\"local_attendance.db\"):\n",
    "        self.db_path = data_dir / db_path\n",
    "        try:\n",
    "            self.conn = sqlite3.connect(str(self.db_path), check_same_thread=False)\n",
    "            self.conn.row_factory = sqlite3.Row\n",
    "            self._create_tables()\n",
    "            print(f\"🗄️ Local database: {self.db_path}\")\n",
    "        except Exception as e:\n",
    "            print(f\"❌ Database initialization failed: {e}\")\n",
    "            raise\n",
    "    \n",
    "    def _create_tables(self):\n",
    "        cursor = self.conn.cursor()\n",
    "        \n",
    "        # Employees table\n",
    "        cursor.execute(\"\"\"\n",
    "        CREATE TABLE IF NOT EXISTS employees (\n",
    "            id INTEGER PRIMARY KEY AUTOINCREMENT,\n",
    "            employee_code TEXT UNIQUE NOT NULL,\n",
    "            name TEXT NOT NULL,\n",
    "            email TEXT UNIQUE NOT NULL,\n",
    "            department TEXT,\n",
    "            position TEXT,\n",
    "            face_embeddings TEXT,\n",
    "            folder_path TEXT,\n",
    "            face_count INTEGER DEFAULT 0,\n",
    "            avg_quality REAL DEFAULT 0.0,\n",
    "            is_active BOOLEAN DEFAULT 1,\n",
    "            created_at TIMESTAMP DEFAULT CURRENT_TIMESTAMP\n",
    "        )\n",
    "        \"\"\")\n",
    "        \n",
    "        # Attendance logs\n",
    "        cursor.execute(\"\"\"\n",
    "        CREATE TABLE IF NOT EXISTS attendance_logs (\n",
    "            id INTEGER PRIMARY KEY AUTOINCREMENT,\n",
    "            employee_id INTEGER,\n",
    "            event_type TEXT NOT NULL,\n",
    "            timestamp TIMESTAMP NOT NULL,\n",
    "            confidence REAL NOT NULL,\n",
    "            snapshot_path TEXT,\n",
    "            created_at TIMESTAMP DEFAULT CURRENT_TIMESTAMP,\n",
    "            FOREIGN KEY (employee_id) REFERENCES employees (id)\n",
    "        )\n",
    "        \"\"\")\n",
    "        \n",
    "        self.conn.commit()\n",
    "    \n",
    "    def register_employee(self, employee_data, face_embeddings, folder_path):\n",
    "        \"\"\"Register employee with face embeddings\"\"\"\n",
    "        cursor = self.conn.cursor()\n",
    "        \n",
    "        try:\n",
    "            # Calculate average embedding\n",
    "            if face_embeddings:\n",
    "                avg_embedding = np.mean(face_embeddings, axis=0)\n",
    "                avg_quality = np.mean([self._calculate_quality(emb) for emb in face_embeddings])\n",
    "            else:\n",
    "                return None\n",
    "            \n",
    "            cursor.execute(\"\"\"\n",
    "            INSERT INTO employees \n",
    "            (employee_code, name, email, department, position, face_embeddings, \n",
    "             folder_path, face_count, avg_quality)\n",
    "            VALUES (?, ?, ?, ?, ?, ?, ?, ?, ?)\n",
    "            \"\"\", (\n",
    "                employee_data['employee_code'],\n",
    "                employee_data['name'],\n",
    "                employee_data['email'],\n",
    "                employee_data.get('department', ''),\n",
    "                employee_data.get('position', ''),\n",
    "                json.dumps(avg_embedding.tolist()),\n",
    "                str(folder_path),\n",
    "                len(face_embeddings),\n",
    "                avg_quality\n",
    "            ))\n",
    "            \n",
    "            employee_id = cursor.lastrowid\n",
    "            self.conn.commit()\n",
    "            \n",
    "            return employee_id\n",
    "            \n",
    "        except Exception as e:\n",
    "            self.conn.rollback()\n",
    "            print(f\"Registration error: {e}\")\n",
    "            return None\n",
    "    \n",
    "    def _calculate_quality(self, embedding):\n",
    "        \"\"\"Simple embedding quality metric\"\"\"\n",
    "        return min(np.linalg.norm(embedding) / 1.0, 1.0)\n",
    "    \n",
    "    def find_employee_by_embedding(self, query_embedding, threshold=0.65):\n",
    "        \"\"\"Find employee by face embedding\"\"\"\n",
    "        cursor = self.conn.cursor()\n",
    "        \n",
    "        cursor.execute(\"\"\"\n",
    "        SELECT id, employee_code, name, email, face_embeddings\n",
    "        FROM employees WHERE is_active = 1 AND face_embeddings IS NOT NULL\n",
    "        \"\"\")\n",
    "        \n",
    "        best_match = None\n",
    "        best_similarity = 0.0\n",
    "        \n",
    "        for row in cursor.fetchall():\n",
    "            try:\n",
    "                stored_embedding = np.array(json.loads(row['face_embeddings']))\n",
    "                \n",
    "                if SKLEARN_AVAILABLE:\n",
    "                    similarity = cosine_similarity(\n",
    "                        query_embedding.reshape(1, -1),\n",
    "                        stored_embedding.reshape(1, -1)\n",
    "                    )[0][0]\n",
    "                else:\n",
    "                    # Fallback similarity calculation\n",
    "                    similarity = np.dot(query_embedding, stored_embedding) / (\n",
    "                        np.linalg.norm(query_embedding) * np.linalg.norm(stored_embedding)\n",
    "                    )\n",
    "                \n",
    "                if similarity > best_similarity and similarity > threshold:\n",
    "                    best_similarity = similarity\n",
    "                    best_match = {\n",
    "                        'id': row['id'],\n",
    "                        'employee_code': row['employee_code'],\n",
    "                        'name': row['name'],\n",
    "                        'email': row['email'],\n",
    "                        'similarity': similarity\n",
    "                    }\n",
    "            except:\n",
    "                continue\n",
    "        \n",
    "        return best_match\n",
    "    \n",
    "    def record_attendance(self, employee_id, event_type, confidence, snapshot_path=None):\n",
    "        \"\"\"Record attendance event\"\"\"\n",
    "        timestamp = datetime.now().strftime('%Y-%m-%d %H:%M:%S')\n",
    "        \n",
    "        cursor = self.conn.cursor()\n",
    "        cursor.execute(\"\"\"\n",
    "        INSERT INTO attendance_logs (employee_id, event_type, timestamp, confidence, snapshot_path)\n",
    "        VALUES (?, ?, ?, ?, ?)\n",
    "        \"\"\", (employee_id, event_type, timestamp, confidence, snapshot_path))\n",
    "        \n",
    "        self.conn.commit()\n",
    "        return cursor.lastrowid\n",
    "    \n",
    "    def get_statistics(self):\n",
    "        \"\"\"Get database statistics\"\"\"\n",
    "        cursor = self.conn.cursor()\n",
    "        \n",
    "        stats = {}\n",
    "        \n",
    "        cursor.execute(\"SELECT COUNT(*) FROM employees WHERE is_active = 1\")\n",
    "        stats['total_employees'] = cursor.fetchone()[0]\n",
    "        \n",
    "        cursor.execute(\"SELECT COUNT(*) FROM attendance_logs\")\n",
    "        stats['total_logs'] = cursor.fetchone()[0]\n",
    "        \n",
    "        cursor.execute(\"\"\"\n",
    "        SELECT COUNT(*) FROM attendance_logs \n",
    "        WHERE DATE(timestamp) = DATE('now')\n",
    "        \"\"\")\n",
    "        stats['today_logs'] = cursor.fetchone()[0]\n",
    "        \n",
    "        return stats\n",
    "\n",
    "# Initialize systems with error handling\n",
    "print(\"\\n🔄 INITIALIZING SYSTEMS:\")\n",
    "\n",
    "try:\n",
    "    ai_system = LocalAISystem()\n",
    "    print(\"├─ ✅ AI System initialized\")\n",
    "except Exception as e:\n",
    "    print(f\"├─ ❌ AI System failed: {e}\")\n",
    "    ai_system = None\n",
    "\n",
    "try:\n",
    "    db = LocalDatabase()\n",
    "    print(\"├─ ✅ Database initialized\")\n",
    "except Exception as e:\n",
    "    print(f\"├─ ❌ Database failed: {e}\")\n",
    "    db = None\n",
    "\n",
    "if ai_system and db:\n",
    "    print(\"└─ ✅ All systems ready!\")\n",
    "    \n",
    "    print(\"\\n📊 Current Database Statistics:\")\n",
    "    stats = db.get_statistics()\n",
    "    print(f\"├─ Employees: {stats['total_employees']}\")\n",
    "    print(f\"├─ Total Logs: {stats['total_logs']}\")\n",
    "    print(f\"└─ Today's Logs: {stats['today_logs']}\")\n",
    "    \n",
    "    if ai_system.mock_mode:\n",
    "        print(\"\\n⚠️ IMPORTANT: Running in MOCK MODE\")\n",
    "        print(\"├─ Face detection/recognition simulated\")\n",
    "        print(\"├─ Install 'insightface' for real AI functionality\")\n",
    "        print(\"└─ Current setup good for testing workflow\")\n",
    "else:\n",
    "    print(\"└─ ❌ System initialization incomplete\")\n",
    "\n",
    "print(\"\\n💡 EMPLOYEE FOLDER SETUP:\")\n",
    "print(f\"1. Create folders in: {employees_dir}\")\n",
    "print(f\"2. Folder structure: employees/John_Doe/photo1.jpg, photo2.jpg, ...\")\n",
    "print(f\"3. Run the next cell to auto-scan and register employees\")\n",
    "print(\"=\" * 35)"
   ]
  },
  {
   "cell_type": "markdown",
   "metadata": {
    "vscode": {
     "languageId": "raw"
    }
   },
   "source": [
    "## Cell 3: 📁 Employee Registration & Camera Setup\n",
    "\n",
    "**Smart employee folder scanning and camera initialization**\n"
   ]
  },
  {
   "cell_type": "code",
   "execution_count": 3,
   "metadata": {},
   "outputs": [
    {
     "name": "stdout",
     "output_type": "stream",
     "text": [
      "📁 EMPLOYEE REGISTRATION & CAMERA SETUP\n",
      "=============================================\n",
      "\n",
      "🔄 INITIALIZING MANAGERS:\n",
      "├─ ✅ Employee Manager ready\n",
      "├─ ✅ Camera Manager ready\n",
      "└─ Manager initialization completed\n",
      "\n",
      "🎯 AVAILABLE ACTIONS:\n",
      "📁 Employee Management:\n",
      "├─ employee_manager.scan_employee_folders()\n",
      "├─ employee_manager.manual_add_employee('Name', 'path/to/folder')\n",
      "└─ Check employees/ folder structure\n",
      "\n",
      "📷 Camera Management:\n",
      "├─ camera_manager.detect_cameras()\n",
      "├─ camera_manager.initialize_camera(0)\n",
      "├─ camera_manager.test_camera_functionality(0)\n",
      "└─ camera_manager.start_camera_thread()\n",
      "\n",
      "💡 RECOMMENDED WORKFLOW:\n",
      "1. First: employee_manager.scan_employee_folders()\n",
      "2. Then: camera_manager.detect_cameras()\n",
      "3. Finally: Run Cell 4 for real-time processing\n",
      "=============================================\n"
     ]
    }
   ],
   "source": [
    "# Cell 3: 📁 Employee Registration & Camera Setup - IMPROVED VERSION\n",
    "# Employee Registration & Camera Setup with Enhanced Error Handling\n",
    "\n",
    "import os\n",
    "import glob\n",
    "from pathlib import Path\n",
    "import threading\n",
    "import queue\n",
    "import time\n",
    "from collections import defaultdict\n",
    "import platform\n",
    "\n",
    "print(\"📁 EMPLOYEE REGISTRATION & CAMERA SETUP\")\n",
    "print(\"=\" * 45)\n",
    "\n",
    "class LocalEmployeeManager:\n",
    "    \"\"\"Smart employee folder scanning and registration with error handling\"\"\"\n",
    "    \n",
    "    def __init__(self, ai_system, database):\n",
    "        self.ai_system = ai_system\n",
    "        self.db = database\n",
    "        self.registered_employees = {}\n",
    "        self.scan_results = []\n",
    "        \n",
    "        # Check system availability\n",
    "        if ai_system is None or database is None:\n",
    "            print(\"❌ AI System or Database not available\")\n",
    "            print(\"Please run Cell 2 successfully first\")\n",
    "            self.available = False\n",
    "        else:\n",
    "            self.available = True\n",
    "    \n",
    "    def scan_employee_folders(self, auto_register=True):\n",
    "        \"\"\"Scan and optionally auto-register employees from folders\"\"\"\n",
    "        if not self.available:\n",
    "            print(\"❌ System not available - check Cell 2\")\n",
    "            return\n",
    "            \n",
    "        print(f\"🔍 Scanning employee folders in: {employees_dir}\")\n",
    "        \n",
    "        if not employees_dir.exists():\n",
    "            employees_dir.mkdir(parents=True, exist_ok=True)\n",
    "            print(f\"✅ Created employees directory: {employees_dir}\")\n",
    "            self._create_sample_instructions()\n",
    "            return\n",
    "        \n",
    "        # Find employee folders (ignore hidden and sample folders)\n",
    "        employee_folders = [f for f in employees_dir.iterdir() \n",
    "                           if f.is_dir() \n",
    "                           and not f.name.startswith('.') \n",
    "                           and not f.name.startswith('_')]\n",
    "        \n",
    "        if not employee_folders:\n",
    "            print(\"⚠️ No employee folders found\")\n",
    "            self._create_sample_instructions()\n",
    "            return\n",
    "        \n",
    "        print(f\"📁 Found {len(employee_folders)} employee folders:\")\n",
    "        for folder in employee_folders:\n",
    "            print(f\"  ├─ {folder.name}\")\n",
    "        \n",
    "        # Process each folder with progress tracking\n",
    "        total_registered = 0\n",
    "        self.scan_results.clear()\n",
    "        \n",
    "        print(f\"\\n🔄 Processing employee folders...\")\n",
    "        \n",
    "        for folder in tqdm(employee_folders, desc=\"Processing employees\"):\n",
    "            try:\n",
    "                result = self._process_employee_folder(folder, auto_register)\n",
    "                if result:\n",
    "                    self.scan_results.append(result)\n",
    "                    if result['registered']:\n",
    "                        total_registered += 1\n",
    "            except Exception as e:\n",
    "                print(f\"❌ Error processing {folder.name}: {e}\")\n",
    "        \n",
    "        print(f\"\\n✅ Scan completed:\")\n",
    "        print(f\"├─ Folders processed: {len(employee_folders)}\")\n",
    "        print(f\"├─ Successfully registered: {total_registered}\")\n",
    "        print(f\"└─ Database employees: {self.db.get_statistics()['total_employees']}\")\n",
    "        \n",
    "        # Show summary table\n",
    "        if self.scan_results:\n",
    "            self._show_scan_summary()\n",
    "    \n",
    "    def _create_sample_instructions(self):\n",
    "        \"\"\"Create sample folder structure and instructions\"\"\"\n",
    "        print(\"💡 Creating sample employee folder structure...\")\n",
    "        \n",
    "        sample_folders = ['John_Doe', 'Jane_Smith', 'Michael_Johnson']\n",
    "        \n",
    "        for folder_name in sample_folders:\n",
    "            sample_folder = employees_dir / folder_name\n",
    "            sample_folder.mkdir(exist_ok=True)\n",
    "            \n",
    "            # Create README in each folder\n",
    "            readme_content = f\"\"\"# Employee: {folder_name.replace('_', ' ')}\n",
    "\n",
    "## Instructions:\n",
    "1. Add 1-5 clear photos of this employee\n",
    "2. Use formats: .jpg, .jpeg, .png\n",
    "3. Ensure good lighting and clear face view\n",
    "4. Avoid group photos - one person per photo\n",
    "\n",
    "## Example files:\n",
    "- photo1.jpg\n",
    "- photo2.jpg\n",
    "- headshot.png\n",
    "\"\"\"\n",
    "            with open(sample_folder / \"README.md\", \"w\") as f:\n",
    "                f.write(readme_content)\n",
    "        \n",
    "        print(f\"├─ Sample folders created: {', '.join(sample_folders)}\")\n",
    "        print(f\"└─ Add photos to these folders, then run this cell again\")\n",
    "    \n",
    "    def _process_employee_folder(self, folder_path, auto_register=True):\n",
    "        \"\"\"Process single employee folder with comprehensive error handling\"\"\"\n",
    "        employee_name = folder_path.name.replace('_', ' ').title()\n",
    "        \n",
    "        # Find image files\n",
    "        image_extensions = ['*.jpg', '*.jpeg', '*.png', '*.JPG', '*.JPEG', '*.PNG']\n",
    "        image_files = []\n",
    "        \n",
    "        for ext in image_extensions:\n",
    "            image_files.extend(folder_path.glob(ext))\n",
    "        \n",
    "        if not image_files:\n",
    "            print(f\"  ⚠️ {employee_name}: No images found\")\n",
    "            return {\n",
    "                'name': employee_name,\n",
    "                'folder_path': str(folder_path),\n",
    "                'total_images': 0,\n",
    "                'valid_images': 0,\n",
    "                'avg_quality': 0,\n",
    "                'registered': False,\n",
    "                'error': 'No images found'\n",
    "            }\n",
    "        \n",
    "        # Process images with error handling\n",
    "        face_embeddings = []\n",
    "        quality_scores = []\n",
    "        valid_images = 0\n",
    "        processing_errors = []\n",
    "        \n",
    "        for img_file in image_files:\n",
    "            try:\n",
    "                # Load image with error handling\n",
    "                image = cv2.imread(str(img_file))\n",
    "                if image is None:\n",
    "                    processing_errors.append(f\"Cannot read {img_file.name}\")\n",
    "                    continue\n",
    "                \n",
    "                # Check image size\n",
    "                if image.shape[0] < 100 or image.shape[1] < 100:\n",
    "                    processing_errors.append(f\"Image too small: {img_file.name}\")\n",
    "                    continue\n",
    "                \n",
    "                # Detect faces\n",
    "                faces = self.ai_system.detect_and_recognize(image)\n",
    "                \n",
    "                if len(faces) == 1:  # Exactly one face\n",
    "                    face_data = faces[0]\n",
    "                    \n",
    "                    # Quality threshold check\n",
    "                    det_score = face_data['det_score']\n",
    "                    if det_score > 0.6:  # Good quality threshold\n",
    "                        face_embeddings.append(face_data['embedding'])\n",
    "                        quality_scores.append(det_score)\n",
    "                        valid_images += 1\n",
    "                    else:\n",
    "                        processing_errors.append(f\"Low quality face in {img_file.name}\")\n",
    "                elif len(faces) == 0:\n",
    "                    processing_errors.append(f\"No face detected in {img_file.name}\")\n",
    "                else:\n",
    "                    processing_errors.append(f\"Multiple faces in {img_file.name}\")\n",
    "                \n",
    "            except Exception as e:\n",
    "                processing_errors.append(f\"Error processing {img_file.name}: {str(e)}\")\n",
    "                continue\n",
    "        \n",
    "        # Create result summary\n",
    "        result = {\n",
    "            'name': employee_name,\n",
    "            'folder_path': str(folder_path),\n",
    "            'total_images': len(image_files),\n",
    "            'valid_images': valid_images,\n",
    "            'avg_quality': np.mean(quality_scores) if quality_scores else 0,\n",
    "            'registered': False,\n",
    "            'employee_id': None,\n",
    "            'processing_errors': processing_errors\n",
    "        }\n",
    "        \n",
    "        # Auto-register if sufficient quality faces\n",
    "        if auto_register and len(face_embeddings) >= 1:\n",
    "            try:\n",
    "                employee_data = {\n",
    "                    'employee_code': employee_name.upper().replace(' ', '_'),\n",
    "                    'name': employee_name,\n",
    "                    'email': f\"{employee_name.lower().replace(' ', '.')}@company.com\",\n",
    "                    'department': 'Auto-Registered',\n",
    "                    'position': 'Employee'\n",
    "                }\n",
    "                \n",
    "                employee_id = self.db.register_employee(\n",
    "                    employee_data, face_embeddings, folder_path\n",
    "                )\n",
    "                \n",
    "                if employee_id:\n",
    "                    result['registered'] = True\n",
    "                    result['employee_id'] = employee_id\n",
    "                    self.registered_employees[employee_id] = result\n",
    "                    print(f\"  ✅ {employee_name}: Registered ({valid_images} faces, avg quality: {result['avg_quality']:.3f})\")\n",
    "                else:\n",
    "                    result['error'] = 'Database registration failed'\n",
    "                    print(f\"  ❌ {employee_name}: Registration failed\")\n",
    "            except Exception as e:\n",
    "                result['error'] = f'Registration error: {str(e)}'\n",
    "                print(f\"  ❌ {employee_name}: Registration error - {str(e)}\")\n",
    "        else:\n",
    "            reason = f\"Insufficient quality faces ({valid_images})\" if len(face_embeddings) < 1 else \"Auto-register disabled\"\n",
    "            result['error'] = reason\n",
    "            print(f\"  ⚠️ {employee_name}: {reason}\")\n",
    "        \n",
    "        return result\n",
    "    \n",
    "    def _show_scan_summary(self):\n",
    "        \"\"\"Show employee scan summary table\"\"\"\n",
    "        print(f\"\\n📋 EMPLOYEE SCAN SUMMARY\")\n",
    "        print(\"=\" * 80)\n",
    "        \n",
    "        # Create summary data\n",
    "        summary_data = []\n",
    "        for result in self.scan_results:\n",
    "            error_msg = result.get('error', '')\n",
    "            if len(error_msg) > 30:\n",
    "                error_msg = error_msg[:27] + \"...\"\n",
    "            \n",
    "            summary_data.append({\n",
    "                'Employee': result['name'],\n",
    "                'Total Images': result['total_images'],\n",
    "                'Valid Faces': result['valid_images'],\n",
    "                'Avg Quality': f\"{result['avg_quality']:.3f}\",\n",
    "                'Registered': '✅' if result['registered'] else '❌',\n",
    "                'Employee ID': result.get('employee_id') or 'N/A',\n",
    "                'Status': 'Success' if result['registered'] else error_msg\n",
    "            })\n",
    "        \n",
    "        # Display as formatted table\n",
    "        if summary_data:\n",
    "            df = pd.DataFrame(summary_data)\n",
    "            try:\n",
    "                display(HTML(df.to_html(index=False, escape=False)))\n",
    "            except:\n",
    "                # Fallback to simple print if HTML display fails\n",
    "                print(df.to_string(index=False))\n",
    "        \n",
    "        # Show detailed errors if any\n",
    "        error_details = []\n",
    "        for result in self.scan_results:\n",
    "            if result.get('processing_errors'):\n",
    "                error_details.append({\n",
    "                    'employee': result['name'],\n",
    "                    'errors': result['processing_errors']\n",
    "                })\n",
    "        \n",
    "        if error_details:\n",
    "            print(f\"\\n⚠️ DETAILED ERROR REPORT:\")\n",
    "            for detail in error_details:\n",
    "                print(f\"\\n{detail['employee']}:\")\n",
    "                for error in detail['errors']:\n",
    "                    print(f\"  ├─ {error}\")\n",
    "    \n",
    "    def manual_add_employee(self, name, folder_path):\n",
    "        \"\"\"Manually add employee from specific folder\"\"\"\n",
    "        if not self.available:\n",
    "            print(\"❌ System not available\")\n",
    "            return None\n",
    "            \n",
    "        folder = Path(folder_path)\n",
    "        if not folder.exists():\n",
    "            print(f\"❌ Folder not found: {folder_path}\")\n",
    "            return None\n",
    "        \n",
    "        print(f\"👤 Processing: {name}\")\n",
    "        result = self._process_employee_folder(folder, auto_register=True)\n",
    "        \n",
    "        if result and result['registered']:\n",
    "            print(f\"✅ Successfully registered: {name}\")\n",
    "            return result['employee_id']\n",
    "        else:\n",
    "            print(f\"❌ Failed to register: {name}\")\n",
    "            if result and result.get('error'):\n",
    "                print(f\"   Reason: {result['error']}\")\n",
    "            return None\n",
    "\n",
    "class LocalCameraManager:\n",
    "    \"\"\"Enhanced camera management for local demo with better error handling\"\"\"\n",
    "    \n",
    "    def __init__(self):\n",
    "        self.camera = None\n",
    "        self.camera_active = False\n",
    "        self.camera_thread = None\n",
    "        self.frame_queue = queue.Queue(maxsize=10)\n",
    "        self.latest_frame = None\n",
    "        self.camera_stats = {\n",
    "            'frames_captured': 0,\n",
    "            'frames_processed': 0,\n",
    "            'fps': 0,\n",
    "            'last_fps_time': time.time()\n",
    "        }\n",
    "        self.available_cameras = []\n",
    "    \n",
    "    def detect_cameras(self):\n",
    "        \"\"\"Detect available cameras with comprehensive testing\"\"\"\n",
    "        print(\"🔍 Detecting available cameras...\")\n",
    "        \n",
    "        self.available_cameras = []\n",
    "        \n",
    "        # Test different camera indices based on platform\n",
    "        max_cameras = 10 if platform.system() == \"Windows\" else 4\n",
    "        \n",
    "        for i in range(max_cameras):\n",
    "            try:\n",
    "                print(f\"  Testing camera {i}...\", end=\"\")\n",
    "                cap = cv2.VideoCapture(i)\n",
    "                \n",
    "                if cap.isOpened():\n",
    "                    # Try to read a frame\n",
    "                    ret, frame = cap.read()\n",
    "                    if ret and frame is not None and frame.size > 0:\n",
    "                        # Get camera properties\n",
    "                        width = int(cap.get(cv2.CAP_PROP_FRAME_WIDTH))\n",
    "                        height = int(cap.get(cv2.CAP_PROP_FRAME_HEIGHT))\n",
    "                        fps = cap.get(cv2.CAP_PROP_FPS)\n",
    "                        \n",
    "                        camera_info = {\n",
    "                            'index': i,\n",
    "                            'name': f'Camera {i}',\n",
    "                            'resolution': f'{width}x{height}',\n",
    "                            'fps': fps,\n",
    "                            'working': True,\n",
    "                            'test_frame_shape': frame.shape\n",
    "                        }\n",
    "                        \n",
    "                        self.available_cameras.append(camera_info)\n",
    "                        print(f\" ✅ {width}x{height} @ {fps:.1f} FPS\")\n",
    "                    else:\n",
    "                        print(f\" ❌ Cannot capture frame\")\n",
    "                else:\n",
    "                    print(f\" ❌ Cannot open\")\n",
    "                \n",
    "                cap.release()\n",
    "                \n",
    "            except Exception as e:\n",
    "                print(f\" ❌ Error: {str(e)[:30]}\")\n",
    "                continue\n",
    "        \n",
    "        print(f\"\\n📊 Camera Detection Results:\")\n",
    "        if self.available_cameras:\n",
    "            print(f\"├─ Found {len(self.available_cameras)} working cameras\")\n",
    "            for cam in self.available_cameras:\n",
    "                print(f\"├─ Camera {cam['index']}: {cam['resolution']} @ {cam['fps']:.1f} FPS\")\n",
    "            print(f\"└─ Ready for camera initialization\")\n",
    "        else:\n",
    "            print(f\"├─ No working cameras found\")\n",
    "            print(f\"├─ Possible solutions:\")\n",
    "            print(f\"│  ├─ Connect a USB webcam\")\n",
    "            print(f\"│  ├─ Check camera permissions\")\n",
    "            print(f\"│  ├─ Close other applications using camera\")\n",
    "            print(f\"│  └─ Restart computer if camera was recently connected\")\n",
    "            print(f\"└─ You can still test with image files\")\n",
    "        \n",
    "        return self.available_cameras\n",
    "    \n",
    "    def initialize_camera(self, camera_index=0):\n",
    "        \"\"\"Initialize specific camera with enhanced error handling\"\"\"\n",
    "        print(f\"📷 Initializing camera {camera_index}...\")\n",
    "        \n",
    "        # Check if camera was detected\n",
    "        if not any(cam['index'] == camera_index for cam in self.available_cameras):\n",
    "            print(f\"❌ Camera {camera_index} not in detected cameras list\")\n",
    "            print(f\"Available cameras: {[cam['index'] for cam in self.available_cameras]}\")\n",
    "            return False\n",
    "        \n",
    "        try:\n",
    "            # Clean up existing camera\n",
    "            if self.camera:\n",
    "                self.camera.release()\n",
    "            \n",
    "            # Initialize new camera\n",
    "            self.camera = cv2.VideoCapture(camera_index)\n",
    "            \n",
    "            if not self.camera.isOpened():\n",
    "                print(f\"❌ Cannot open camera {camera_index}\")\n",
    "                return False\n",
    "            \n",
    "            # Set optimal settings with error handling\n",
    "            settings = [\n",
    "                (cv2.CAP_PROP_FRAME_WIDTH, 640),\n",
    "                (cv2.CAP_PROP_FRAME_HEIGHT, 480),\n",
    "                (cv2.CAP_PROP_FPS, 30),\n",
    "                (cv2.CAP_PROP_BUFFERSIZE, 1)\n",
    "            ]\n",
    "            \n",
    "            for prop, value in settings:\n",
    "                try:\n",
    "                    self.camera.set(prop, value)\n",
    "                except:\n",
    "                    pass  # Some cameras don't support all properties\n",
    "            \n",
    "            # Test capture with multiple attempts\n",
    "            test_successful = False\n",
    "            for attempt in range(3):\n",
    "                ret, test_frame = self.camera.read()\n",
    "                if ret and test_frame is not None and test_frame.size > 0:\n",
    "                    test_successful = True\n",
    "                    break\n",
    "                time.sleep(0.1)\n",
    "            \n",
    "            if not test_successful:\n",
    "                print(f\"❌ Cannot capture test frame after 3 attempts\")\n",
    "                self.camera.release()\n",
    "                self.camera = None\n",
    "                return False\n",
    "            \n",
    "            # Get actual settings\n",
    "            actual_width = int(self.camera.get(cv2.CAP_PROP_FRAME_WIDTH))\n",
    "            actual_height = int(self.camera.get(cv2.CAP_PROP_FRAME_HEIGHT))\n",
    "            actual_fps = self.camera.get(cv2.CAP_PROP_FPS)\n",
    "            \n",
    "            print(f\"✅ Camera initialized successfully:\")\n",
    "            print(f\"├─ Resolution: {actual_width}x{actual_height}\")\n",
    "            print(f\"├─ Target FPS: {actual_fps}\")\n",
    "            print(f\"├─ Test frame shape: {test_frame.shape}\")\n",
    "            print(f\"└─ Status: Ready for capture\")\n",
    "            \n",
    "            return True\n",
    "            \n",
    "        except Exception as e:\n",
    "            print(f\"❌ Camera initialization error: {e}\")\n",
    "            if self.camera:\n",
    "                self.camera.release()\n",
    "                self.camera = None\n",
    "            return False\n",
    "    \n",
    "    def start_camera_thread(self):\n",
    "        \"\"\"Start threaded camera capture with error handling\"\"\"\n",
    "        if not self.camera or not self.camera.isOpened():\n",
    "            print(\"❌ Camera not initialized\")\n",
    "            return False\n",
    "        \n",
    "        if self.camera_active:\n",
    "            print(\"⚠️ Camera thread already running\")\n",
    "            return True\n",
    "        \n",
    "        try:\n",
    "            self.camera_active = True\n",
    "            self.camera_thread = threading.Thread(target=self._camera_capture_loop, daemon=True)\n",
    "            self.camera_thread.start()\n",
    "            \n",
    "            # Wait a moment and check if thread is working\n",
    "            time.sleep(0.5)\n",
    "            if self.camera_thread.is_alive():\n",
    "                print(\"🎥 Camera thread started successfully\")\n",
    "                return True\n",
    "            else:\n",
    "                print(\"❌ Camera thread failed to start\")\n",
    "                self.camera_active = False\n",
    "                return False\n",
    "                \n",
    "        except Exception as e:\n",
    "            print(f\"❌ Camera thread start error: {e}\")\n",
    "            self.camera_active = False\n",
    "            return False\n",
    "    \n",
    "    def _camera_capture_loop(self):\n",
    "        \"\"\"Camera capture loop with robust error handling\"\"\"\n",
    "        fps_counter = 0\n",
    "        fps_start_time = time.time()\n",
    "        consecutive_failures = 0\n",
    "        max_failures = 10\n",
    "        \n",
    "        print(\"🔄 Camera capture loop started\")\n",
    "        \n",
    "        while self.camera_active and self.camera and self.camera.isOpened():\n",
    "            try:\n",
    "                ret, frame = self.camera.read()\n",
    "                \n",
    "                if ret and frame is not None and frame.size > 0:\n",
    "                    self.latest_frame = frame.copy()\n",
    "                    self.camera_stats['frames_captured'] += 1\n",
    "                    consecutive_failures = 0\n",
    "                    \n",
    "                    # Update frame queue (non-blocking)\n",
    "                    try:\n",
    "                        self.frame_queue.put_nowait(frame)\n",
    "                    except queue.Full:\n",
    "                        # Remove oldest frame if queue is full\n",
    "                        try:\n",
    "                            self.frame_queue.get_nowait()\n",
    "                            self.frame_queue.put_nowait(frame)\n",
    "                        except queue.Empty:\n",
    "                            pass\n",
    "                    \n",
    "                    # Calculate FPS\n",
    "                    fps_counter += 1\n",
    "                    if fps_counter >= 30:  # Update every 30 frames\n",
    "                        current_time = time.time()\n",
    "                        elapsed = current_time - fps_start_time\n",
    "                        if elapsed > 0:\n",
    "                            self.camera_stats['fps'] = fps_counter / elapsed\n",
    "                        fps_counter = 0\n",
    "                        fps_start_time = current_time\n",
    "                \n",
    "                else:\n",
    "                    consecutive_failures += 1\n",
    "                    if consecutive_failures >= max_failures:\n",
    "                        print(f\"❌ Too many consecutive capture failures ({max_failures})\")\n",
    "                        break\n",
    "                \n",
    "                time.sleep(0.001)  # Small delay to prevent busy waiting\n",
    "                \n",
    "            except Exception as e:\n",
    "                consecutive_failures += 1\n",
    "                print(f\"❌ Camera capture error: {e}\")\n",
    "                if consecutive_failures >= max_failures:\n",
    "                    print(f\"❌ Too many capture errors, stopping camera thread\")\n",
    "                    break\n",
    "                time.sleep(0.1)  # Longer delay after error\n",
    "        \n",
    "        print(\"🛑 Camera capture loop ended\")\n",
    "        self.camera_active = False\n",
    "    \n",
    "    def get_latest_frame(self):\n",
    "        \"\"\"Get the most recent frame\"\"\"\n",
    "        return self.latest_frame\n",
    "    \n",
    "    def stop_camera(self):\n",
    "        \"\"\"Stop camera capture with cleanup\"\"\"\n",
    "        print(\"🛑 Stopping camera...\")\n",
    "        self.camera_active = False\n",
    "        \n",
    "        if self.camera_thread and self.camera_thread.is_alive():\n",
    "            self.camera_thread.join(timeout=3.0)\n",
    "            if self.camera_thread.is_alive():\n",
    "                print(\"⚠️ Camera thread did not stop gracefully\")\n",
    "        \n",
    "        if self.camera:\n",
    "            self.camera.release()\n",
    "            self.camera = None\n",
    "        \n",
    "        # Clear frame queue\n",
    "        while not self.frame_queue.empty():\n",
    "            try:\n",
    "                self.frame_queue.get_nowait()\n",
    "            except queue.Empty:\n",
    "                break\n",
    "        \n",
    "        print(\"✅ Camera stopped and cleaned up\")\n",
    "    \n",
    "    def get_camera_stats(self):\n",
    "        \"\"\"Get camera performance statistics\"\"\"\n",
    "        return self.camera_stats.copy()\n",
    "    \n",
    "    def test_camera_functionality(self, camera_index=0, duration_seconds=5):\n",
    "        \"\"\"Test camera functionality comprehensively\"\"\"\n",
    "        print(f\"🧪 Testing camera {camera_index} for {duration_seconds} seconds...\")\n",
    "        \n",
    "        if not self.initialize_camera(camera_index):\n",
    "            return False\n",
    "        \n",
    "        if not self.start_camera_thread():\n",
    "            return False\n",
    "        \n",
    "        start_time = time.time()\n",
    "        last_frame_count = 0\n",
    "        \n",
    "        try:\n",
    "            while time.time() - start_time < duration_seconds:\n",
    "                current_frame_count = self.camera_stats['frames_captured']\n",
    "                current_fps = self.camera_stats['fps']\n",
    "                \n",
    "                print(f\"\\r  Frames: {current_frame_count}, FPS: {current_fps:.1f}\", end=\"\")\n",
    "                time.sleep(0.5)\n",
    "            \n",
    "            final_frames = self.camera_stats['frames_captured']\n",
    "            final_fps = self.camera_stats['fps']\n",
    "            \n",
    "            print(f\"\\n✅ Camera test completed:\")\n",
    "            print(f\"├─ Total frames captured: {final_frames}\")\n",
    "            print(f\"├─ Average FPS: {final_fps:.1f}\")\n",
    "            print(f\"├─ Frame rate: {'Good' if final_fps > 15 else 'Low'}\")\n",
    "            print(f\"└─ Status: {'✅ Working' if final_frames > 10 else '❌ Issues detected'}\")\n",
    "            \n",
    "            return final_frames > 10\n",
    "            \n",
    "        except KeyboardInterrupt:\n",
    "            print(f\"\\n⏹️ Camera test interrupted\")\n",
    "            return False\n",
    "        finally:\n",
    "            self.stop_camera()\n",
    "\n",
    "# Initialize managers with availability checks\n",
    "print(\"\\n🔄 INITIALIZING MANAGERS:\")\n",
    "\n",
    "try:\n",
    "    employee_manager = LocalEmployeeManager(ai_system, db)\n",
    "    if employee_manager.available:\n",
    "        print(\"├─ ✅ Employee Manager ready\")\n",
    "    else:\n",
    "        print(\"├─ ❌ Employee Manager unavailable (check AI system and database)\")\n",
    "except Exception as e:\n",
    "    print(f\"├─ ❌ Employee Manager error: {e}\")\n",
    "    employee_manager = None\n",
    "\n",
    "try:\n",
    "    camera_manager = LocalCameraManager()\n",
    "    print(\"├─ ✅ Camera Manager ready\")\n",
    "except Exception as e:\n",
    "    print(f\"├─ ❌ Camera Manager error: {e}\")\n",
    "    camera_manager = None\n",
    "\n",
    "print(\"└─ Manager initialization completed\")\n",
    "\n",
    "print(\"\\n🎯 AVAILABLE ACTIONS:\")\n",
    "if employee_manager and employee_manager.available:\n",
    "    print(\"📁 Employee Management:\")\n",
    "    print(\"├─ employee_manager.scan_employee_folders()\")\n",
    "    print(\"├─ employee_manager.manual_add_employee('Name', 'path/to/folder')\")\n",
    "    print(\"└─ Check employees/ folder structure\")\n",
    "else:\n",
    "    print(\"❌ Employee management not available\")\n",
    "\n",
    "if camera_manager:\n",
    "    print(\"\\n📷 Camera Management:\")\n",
    "    print(\"├─ camera_manager.detect_cameras()\")\n",
    "    print(\"├─ camera_manager.initialize_camera(0)\")\n",
    "    print(\"├─ camera_manager.test_camera_functionality(0)\")\n",
    "    print(\"└─ camera_manager.start_camera_thread()\")\n",
    "else:\n",
    "    print(\"❌ Camera management not available\")\n",
    "\n",
    "print(\"\\n💡 RECOMMENDED WORKFLOW:\")\n",
    "print(\"1. First: employee_manager.scan_employee_folders()\")\n",
    "print(\"2. Then: camera_manager.detect_cameras()\")\n",
    "print(\"3. Finally: Run Cell 4 for real-time processing\")\n",
    "print(\"=\" * 45)"
   ]
  },
  {
   "cell_type": "markdown",
   "metadata": {
    "vscode": {
     "languageId": "raw"
    }
   },
   "source": [
    "## Cell 4: 🎥 Real-time Camera Processing\n",
    "\n",
    "**Live camera feed with attendance tracking and performance monitoring**\n"
   ]
  },
  {
   "cell_type": "code",
   "execution_count": 4,
   "metadata": {},
   "outputs": [
    {
     "name": "stdout",
     "output_type": "stream",
     "text": [
      "🎥 REAL-TIME CAMERA PROCESSING\n",
      "===================================\n",
      "\n",
      "🔄 INITIALIZING ATTENDANCE PROCESSOR:\n",
      "✅ Attendance Processor initialized\n",
      "✅ Attendance Processor initialized successfully\n",
      "\n",
      "🎯 REAL-TIME PROCESSING OPTIONS:\n",
      "📊 Main Functions:\n",
      "├─ processor.start_real_time_processing(duration_minutes=5)\n",
      "├─ processor.start_real_time_processing(duration_minutes=10, show_annotated_frames=True)\n",
      "├─ processor.stop_processing()\n",
      "└─ processor.export_session_data()\n",
      "\n",
      "📋 Analysis Functions:\n",
      "├─ processor.create_attendance_report()\n",
      "├─ processor.export_session_data(include_debug_info=True)\n",
      "└─ Check exports/ folder for saved data\n",
      "\n",
      "⚙️ Advanced Options:\n",
      "├─ processor.cooldown_period = 10  # Reduce cooldown to 10 seconds\n",
      "├─ processor.process_every_n_frames = 5  # Process every 5th frame\n",
      "└─ processor.display_update_interval = 1.0  # Update display every second\n",
      "\n",
      "💡 QUICK START GUIDE:\n",
      "1. Ensure employees are registered (Cell 3)\n",
      "2. Ensure camera is detected and working\n",
      "3. Run: processor.start_real_time_processing(duration_minutes=2)\n",
      "4. Watch for real-time recognition results\n",
      "5. Export data when finished\n",
      "\n",
      "⚠️ TROUBLESHOOTING:\n",
      "├─ Camera issues: Run camera_manager.detect_cameras()\n",
      "├─ No recognitions: Check employee registration quality\n",
      "├─ High errors: Check system resources and connections\n",
      "└─ Slow processing: Increase process_every_n_frames value\n",
      "===================================\n"
     ]
    }
   ],
   "source": [
    "# Cell 4: 🎥 Real-time Camera Processing - IMPROVED VERSION\n",
    "# Real-time Camera Processing with Enhanced Error Handling and Monitoring\n",
    "\n",
    "import cv2\n",
    "import numpy as np\n",
    "import time\n",
    "from collections import deque, defaultdict\n",
    "from datetime import datetime\n",
    "import threading\n",
    "import queue\n",
    "import json\n",
    "\n",
    "print(\"🎥 REAL-TIME CAMERA PROCESSING\")\n",
    "print(\"=\" * 35)\n",
    "\n",
    "class AttendanceProcessor:\n",
    "    \"\"\"Real-time attendance processing with comprehensive error handling\"\"\"\n",
    "    \n",
    "    def __init__(self, ai_system, database, camera_manager):\n",
    "        self.ai_system = ai_system\n",
    "        self.db = database\n",
    "        self.camera_manager = camera_manager\n",
    "        \n",
    "        # Check system availability\n",
    "        if not all([ai_system, database, camera_manager]):\n",
    "            print(\"❌ Required systems not available\")\n",
    "            self.available = False\n",
    "            return\n",
    "        \n",
    "        if hasattr(ai_system, 'mock_mode') and ai_system.mock_mode:\n",
    "            print(\"⚠️ Running with MOCK AI system - for testing only\")\n",
    "        \n",
    "        self.available = True\n",
    "        \n",
    "        # Processing settings\n",
    "        self.processing_active = False\n",
    "        self.process_every_n_frames = 3  # Process every 3rd frame for performance\n",
    "        self.frame_counter = 0\n",
    "        \n",
    "        # Recognition history and cooldown\n",
    "        self.recognition_history = deque(maxlen=100)\n",
    "        self.employee_cooldowns = {}  # employee_id -> last_recognition_time\n",
    "        self.cooldown_period = 30  # seconds\n",
    "        \n",
    "        # Statistics with error tracking\n",
    "        self.stats = {\n",
    "            'total_frames': 0,\n",
    "            'processed_frames': 0,\n",
    "            'faces_detected': 0,\n",
    "            'employees_recognized': 0,\n",
    "            'processing_times': deque(maxlen=50),\n",
    "            'session_start': time.time(),\n",
    "            'errors': {\n",
    "                'camera_errors': 0,\n",
    "                'ai_errors': 0,\n",
    "                'db_errors': 0,\n",
    "                'general_errors': 0\n",
    "            }\n",
    "        }\n",
    "        \n",
    "        # Attendance events\n",
    "        self.attendance_events = []\n",
    "        \n",
    "        # Display and monitoring\n",
    "        self.last_display_update = 0\n",
    "        self.display_update_interval = 2.0  # seconds\n",
    "        \n",
    "        print(\"✅ Attendance Processor initialized\")\n",
    "    \n",
    "    def start_real_time_processing(self, duration_minutes=5, display_video=False, \n",
    "                                  show_annotated_frames=False):\n",
    "        \"\"\"Start real-time attendance processing with enhanced monitoring\"\"\"\n",
    "        \n",
    "        if not self.available:\n",
    "            print(\"❌ Processor not available - check previous cells\")\n",
    "            return\n",
    "        \n",
    "        print(f\"🚀 Starting real-time processing for {duration_minutes} minutes...\")\n",
    "        \n",
    "        # Initialize camera if needed\n",
    "        if not self._ensure_camera_ready():\n",
    "            return\n",
    "        \n",
    "        # Reset statistics\n",
    "        self._reset_session_stats()\n",
    "        \n",
    "        print(\"📊 Processing started - Press Ctrl+C in notebook to stop early\")\n",
    "        print(\"=\" * 60)\n",
    "        \n",
    "        try:\n",
    "            end_time = time.time() + (duration_minutes * 60)\n",
    "            \n",
    "            while self.processing_active and time.time() < end_time:\n",
    "                try:\n",
    "                    # Get latest frame\n",
    "                    frame = self.camera_manager.get_latest_frame()\n",
    "                    \n",
    "                    if frame is not None:\n",
    "                        self.stats['total_frames'] += 1\n",
    "                        self.frame_counter += 1\n",
    "                        \n",
    "                        # Process frame (skip frames for performance)\n",
    "                        if self.frame_counter % self.process_every_n_frames == 0:\n",
    "                            self._process_frame_safe(frame)\n",
    "                        \n",
    "                        # Show annotated frame if requested\n",
    "                        if show_annotated_frames and hasattr(self, 'last_processed_frame'):\n",
    "                            self._display_annotated_frame()\n",
    "                        \n",
    "                        # Update display periodically\n",
    "                        current_time = time.time()\n",
    "                        if current_time - self.last_display_update >= self.display_update_interval:\n",
    "                            self._update_real_time_display()\n",
    "                            self.last_display_update = current_time\n",
    "                    else:\n",
    "                        # Handle camera disconnection\n",
    "                        self.stats['errors']['camera_errors'] += 1\n",
    "                        if self.stats['errors']['camera_errors'] > 10:\n",
    "                            print(\"❌ Too many camera errors - stopping processing\")\n",
    "                            break\n",
    "                    \n",
    "                    time.sleep(0.01)  # Small delay to prevent excessive CPU usage\n",
    "                    \n",
    "                except KeyboardInterrupt:\n",
    "                    print(\"\\n⏹️ Processing stopped by user (Ctrl+C)\")\n",
    "                    break\n",
    "                except Exception as e:\n",
    "                    self.stats['errors']['general_errors'] += 1\n",
    "                    print(f\"\\n❌ Processing error: {e}\")\n",
    "                    if self.stats['errors']['general_errors'] > 5:\n",
    "                        print(\"❌ Too many general errors - stopping processing\")\n",
    "                        break\n",
    "                    time.sleep(1)  # Brief pause after error\n",
    "            \n",
    "        except Exception as e:\n",
    "            print(f\"\\n❌ Fatal processing error: {e}\")\n",
    "        finally:\n",
    "            self.processing_active = False\n",
    "            self._cleanup_processing()\n",
    "            print(\"\\n📊 PROCESSING SUMMARY\")\n",
    "            self._show_session_summary()\n",
    "    \n",
    "    def _ensure_camera_ready(self):\n",
    "        \"\"\"Ensure camera is ready for processing\"\"\"\n",
    "        try:\n",
    "            # Check if camera is already running\n",
    "            if self.camera_manager.camera_active:\n",
    "                print(\"✅ Camera already active\")\n",
    "                return True\n",
    "            \n",
    "            # Detect cameras if not done\n",
    "            if not self.camera_manager.available_cameras:\n",
    "                print(\"🔍 Detecting cameras...\")\n",
    "                cameras = self.camera_manager.detect_cameras()\n",
    "                if not cameras:\n",
    "                    print(\"❌ No cameras detected\")\n",
    "                    print(\"💡 Connect a camera and run camera_manager.detect_cameras()\")\n",
    "                    return False\n",
    "            \n",
    "            # Initialize camera\n",
    "            if not self.camera_manager.camera:\n",
    "                print(\"📷 Initializing camera...\")\n",
    "                if not self.camera_manager.initialize_camera(0):\n",
    "                    print(\"❌ Camera initialization failed\")\n",
    "                    return False\n",
    "            \n",
    "            # Start camera thread\n",
    "            if not self.camera_manager.camera_active:\n",
    "                print(\"🎥 Starting camera thread...\")\n",
    "                if not self.camera_manager.start_camera_thread():\n",
    "                    print(\"❌ Camera thread start failed\")\n",
    "                    return False\n",
    "            \n",
    "            # Wait for first frame\n",
    "            print(\"⏳ Waiting for camera warm-up...\")\n",
    "            for i in range(10):  # Wait up to 5 seconds\n",
    "                if self.camera_manager.get_latest_frame() is not None:\n",
    "                    print(\"✅ Camera ready!\")\n",
    "                    return True\n",
    "                time.sleep(0.5)\n",
    "            \n",
    "            print(\"❌ Camera warm-up timeout\")\n",
    "            return False\n",
    "            \n",
    "        except Exception as e:\n",
    "            print(f\"❌ Camera setup error: {e}\")\n",
    "            return False\n",
    "    \n",
    "    def _reset_session_stats(self):\n",
    "        \"\"\"Reset statistics for new session\"\"\"\n",
    "        self.processing_active = True\n",
    "        self.stats = {\n",
    "            'total_frames': 0,\n",
    "            'processed_frames': 0,\n",
    "            'faces_detected': 0,\n",
    "            'employees_recognized': 0,\n",
    "            'processing_times': deque(maxlen=50),\n",
    "            'session_start': time.time(),\n",
    "            'errors': {\n",
    "                'camera_errors': 0,\n",
    "                'ai_errors': 0,\n",
    "                'db_errors': 0,\n",
    "                'general_errors': 0\n",
    "            }\n",
    "        }\n",
    "        self.attendance_events.clear()\n",
    "        self.recognition_history.clear()\n",
    "        self.employee_cooldowns.clear()\n",
    "    \n",
    "    def _process_frame_safe(self, frame):\n",
    "        \"\"\"Process frame with comprehensive error handling\"\"\"\n",
    "        start_time = time.time()\n",
    "        \n",
    "        try:\n",
    "            # AI processing with error handling\n",
    "            try:\n",
    "                faces = self.ai_system.detect_and_recognize(frame)\n",
    "                self.stats['processed_frames'] += 1\n",
    "            except Exception as e:\n",
    "                self.stats['errors']['ai_errors'] += 1\n",
    "                print(f\"AI processing error: {e}\")\n",
    "                return\n",
    "            \n",
    "            processing_time = (time.time() - start_time) * 1000\n",
    "            self.stats['processing_times'].append(processing_time)\n",
    "            \n",
    "            if faces:\n",
    "                self.stats['faces_detected'] += 1\n",
    "                \n",
    "                # Store frame for annotation display\n",
    "                self.last_processed_frame = {\n",
    "                    'frame': frame.copy(),\n",
    "                    'faces': faces,\n",
    "                    'timestamp': time.time()\n",
    "                }\n",
    "                \n",
    "                for face in faces:\n",
    "                    self._process_detected_face_safe(face, frame)\n",
    "        \n",
    "        except Exception as e:\n",
    "            self.stats['errors']['general_errors'] += 1\n",
    "            print(f\"Frame processing error: {e}\")\n",
    "    \n",
    "    def _process_detected_face_safe(self, face_data, frame):\n",
    "        \"\"\"Process detected face with database error handling\"\"\"\n",
    "        try:\n",
    "            # Try to recognize employee\n",
    "            employee = self.db.find_employee_by_embedding(\n",
    "                face_data['embedding'], threshold=0.65\n",
    "            )\n",
    "            \n",
    "            current_time = time.time()\n",
    "            \n",
    "            if employee:\n",
    "                employee_id = employee['id']\n",
    "                \n",
    "                # Check cooldown period\n",
    "                last_recognition = self.employee_cooldowns.get(employee_id, 0)\n",
    "                if current_time - last_recognition >= self.cooldown_period:\n",
    "                    \n",
    "                    try:\n",
    "                        # Record attendance\n",
    "                        attendance_id = self.db.record_attendance(\n",
    "                            employee_id, 'camera_checkin', employee['similarity']\n",
    "                        )\n",
    "                        \n",
    "                        # Update cooldown\n",
    "                        self.employee_cooldowns[employee_id] = current_time\n",
    "                        \n",
    "                        # Create attendance event\n",
    "                        event = {\n",
    "                            'attendance_id': attendance_id,\n",
    "                            'employee_id': employee_id,\n",
    "                            'employee_name': employee['name'],\n",
    "                            'timestamp': current_time,\n",
    "                            'confidence': employee['similarity'],\n",
    "                            'bbox': face_data['bbox'],\n",
    "                            'det_score': face_data['det_score']\n",
    "                        }\n",
    "                        \n",
    "                        self.attendance_events.append(event)\n",
    "                        self.stats['employees_recognized'] += 1\n",
    "                        \n",
    "                        # Add to recognition history\n",
    "                        self.recognition_history.append({\n",
    "                            'timestamp': current_time,\n",
    "                            'employee_name': employee['name'],\n",
    "                            'confidence': employee['similarity']\n",
    "                        })\n",
    "                        \n",
    "                        # Show immediate notification\n",
    "                        self._show_recognition_notification(event)\n",
    "                        \n",
    "                    except Exception as e:\n",
    "                        self.stats['errors']['db_errors'] += 1\n",
    "                        print(f\"Database error: {e}\")\n",
    "        \n",
    "        except Exception as e:\n",
    "            self.stats['errors']['db_errors'] += 1\n",
    "            print(f\"Employee recognition error: {e}\")\n",
    "    \n",
    "    def _show_recognition_notification(self, event):\n",
    "        \"\"\"Show immediate recognition notification\"\"\"\n",
    "        timestamp_str = datetime.fromtimestamp(event['timestamp']).strftime('%H:%M:%S')\n",
    "        print(f\"\\n🎉 {timestamp_str} - {event['employee_name']} recognized!\")\n",
    "        print(f\"   Confidence: {event['confidence']:.3f} | ID: {event['attendance_id']}\")\n",
    "    \n",
    "    def _update_real_time_display(self):\n",
    "        \"\"\"Update real-time display with current statistics\"\"\"\n",
    "        # Calculate current stats\n",
    "        session_duration = time.time() - self.stats['session_start']\n",
    "        avg_processing_time = np.mean(self.stats['processing_times']) if self.stats['processing_times'] else 0\n",
    "        processing_fps = 1000 / avg_processing_time if avg_processing_time > 0 else 0\n",
    "        camera_fps = self.camera_manager.get_camera_stats()['fps']\n",
    "        \n",
    "        # Recent recognitions (last 60 seconds)\n",
    "        recent_recognitions = [r for r in self.recognition_history if time.time() - r['timestamp'] < 60]\n",
    "        \n",
    "        # Clear output and display current status\n",
    "        clear_output(wait=True)\n",
    "        print(f\"🎥 REAL-TIME ATTENDANCE PROCESSING\")\n",
    "        print(f\"⏱️ Session Duration: {session_duration/60:.1f} minutes\")\n",
    "        print(\"=\" * 50)\n",
    "        \n",
    "        print(f\"📊 Performance Metrics:\")\n",
    "        print(f\"├─ Camera FPS: {camera_fps:.1f}\")\n",
    "        print(f\"├─ Processing FPS: {processing_fps:.1f}\")\n",
    "        print(f\"├─ Avg Processing Time: {avg_processing_time:.1f}ms\")\n",
    "        print(f\"└─ Frame Skip Ratio: 1:{self.process_every_n_frames}\")\n",
    "        \n",
    "        print(f\"\\n🔍 Detection Statistics:\")\n",
    "        print(f\"├─ Total Frames: {self.stats['total_frames']:,}\")\n",
    "        print(f\"├─ Processed Frames: {self.stats['processed_frames']:,}\")\n",
    "        print(f\"├─ Faces Detected: {self.stats['faces_detected']:,}\")\n",
    "        print(f\"└─ Employees Recognized: {self.stats['employees_recognized']}\")\n",
    "        \n",
    "        # Error summary\n",
    "        total_errors = sum(self.stats['errors'].values())\n",
    "        if total_errors > 0:\n",
    "            print(f\"\\n⚠️ Error Summary:\")\n",
    "            for error_type, count in self.stats['errors'].items():\n",
    "                if count > 0:\n",
    "                    print(f\"├─ {error_type.replace('_', ' ').title()}: {count}\")\n",
    "        \n",
    "        if recent_recognitions:\n",
    "            print(f\"\\n👥 Recent Recognitions (last 60s):\")\n",
    "            for i, rec in enumerate(recent_recognitions[-5:], 1):  # Show last 5\n",
    "                timestamp_str = datetime.fromtimestamp(rec['timestamp']).strftime('%H:%M:%S')\n",
    "                print(f\"├─ {i}. {timestamp_str} - {rec['employee_name']} ({rec['confidence']:.3f})\")\n",
    "        \n",
    "        active_cooldowns = len([c for c in self.employee_cooldowns.values() if time.time() - c < self.cooldown_period])\n",
    "        print(f\"\\n💡 Active Cooldowns: {active_cooldowns}\")\n",
    "        print(\"=\" * 50)\n",
    "    \n",
    "    def _display_annotated_frame(self):\n",
    "        \"\"\"Display annotated frame with face detection results\"\"\"\n",
    "        try:\n",
    "            if hasattr(self, 'last_processed_frame'):\n",
    "                frame_data = self.last_processed_frame\n",
    "                frame = frame_data['frame'].copy()\n",
    "                faces = frame_data['faces']\n",
    "                \n",
    "                # Draw annotations\n",
    "                for face in faces:\n",
    "                    bbox = face['bbox']\n",
    "                    x1, y1, x2, y2 = [int(x) for x in bbox[:4]]\n",
    "                    \n",
    "                    # Draw bounding box\n",
    "                    cv2.rectangle(frame, (x1, y1), (x2, y2), (0, 255, 0), 2)\n",
    "                    \n",
    "                    # Draw confidence score\n",
    "                    conf_text = f\"Det: {face['det_score']:.2f}\"\n",
    "                    cv2.putText(frame, conf_text, (x1, y1-10),\n",
    "                               cv2.FONT_HERSHEY_SIMPLEX, 0.5, (0, 255, 0), 1)\n",
    "                \n",
    "                # Display frame (in Jupyter, you might want to save and show as image)\n",
    "                # For now, we'll skip actual display to avoid issues\n",
    "                pass\n",
    "        except Exception as e:\n",
    "            print(f\"Display error: {e}\")\n",
    "    \n",
    "    def _cleanup_processing(self):\n",
    "        \"\"\"Cleanup after processing session\"\"\"\n",
    "        try:\n",
    "            # Note: We don't stop camera here as it might be used again\n",
    "            print(\"🧹 Processing cleanup completed\")\n",
    "        except Exception as e:\n",
    "            print(f\"Cleanup error: {e}\")\n",
    "    \n",
    "    def _show_session_summary(self):\n",
    "        \"\"\"Show comprehensive session summary with error analysis\"\"\"\n",
    "        session_duration = time.time() - self.stats['session_start']\n",
    "        \n",
    "        print(\"=\" * 60)\n",
    "        print(f\"📈 SESSION SUMMARY\")\n",
    "        print(f\"⏱️ Duration: {session_duration/60:.1f} minutes ({session_duration:.0f} seconds)\")\n",
    "        print(\"-\" * 40)\n",
    "        \n",
    "        print(f\"🎥 Video Processing:\")\n",
    "        print(f\"├─ Total Frames: {self.stats['total_frames']:,}\")\n",
    "        print(f\"├─ Processed Frames: {self.stats['processed_frames']:,}\")\n",
    "        processing_rate = self.stats['processed_frames']/session_duration if session_duration > 0 else 0\n",
    "        print(f\"├─ Processing Rate: {processing_rate:.1f} FPS\")\n",
    "        skip_ratio = self.stats['total_frames']/max(1, self.stats['processed_frames'])\n",
    "        print(f\"└─ Skip Ratio: {skip_ratio:.1f}x\")\n",
    "        \n",
    "        print(f\"\\n🔍 Detection Results:\")\n",
    "        print(f\"├─ Faces Detected: {self.stats['faces_detected']:,}\")\n",
    "        print(f\"├─ Employees Recognized: {self.stats['employees_recognized']}\")\n",
    "        unique_employees = len(set(e['employee_id'] for e in self.attendance_events))\n",
    "        print(f\"├─ Unique Employees: {unique_employees}\")\n",
    "        recognition_rate = self.stats['employees_recognized']/max(1, self.stats['faces_detected'])*100\n",
    "        print(f\"└─ Recognition Rate: {recognition_rate:.1f}%\")\n",
    "        \n",
    "        # Performance analysis\n",
    "        if self.stats['processing_times']:\n",
    "            avg_time = np.mean(self.stats['processing_times'])\n",
    "            min_time = np.min(self.stats['processing_times'])\n",
    "            max_time = np.max(self.stats['processing_times'])\n",
    "            \n",
    "            print(f\"\\n⚡ Performance Analysis:\")\n",
    "            print(f\"├─ Avg Processing Time: {avg_time:.1f}ms\")\n",
    "            print(f\"├─ Min Processing Time: {min_time:.1f}ms\")\n",
    "            print(f\"├─ Max Processing Time: {max_time:.1f}ms\")\n",
    "            print(f\"└─ Theoretical Max FPS: {1000/avg_time:.1f}\")\n",
    "        \n",
    "        # Error analysis\n",
    "        total_errors = sum(self.stats['errors'].values())\n",
    "        if total_errors > 0:\n",
    "            print(f\"\\n❌ Error Analysis:\")\n",
    "            print(f\"├─ Total Errors: {total_errors}\")\n",
    "            for error_type, count in self.stats['errors'].items():\n",
    "                if count > 0:\n",
    "                    percentage = (count / max(1, self.stats['processed_frames'])) * 100\n",
    "                    print(f\"├─ {error_type.replace('_', ' ').title()}: {count} ({percentage:.1f}%)\")\n",
    "            \n",
    "            # Error rate assessment\n",
    "            error_rate = total_errors / max(1, self.stats['processed_frames']) * 100\n",
    "            if error_rate < 1:\n",
    "                print(f\"└─ Error Rate: {error_rate:.2f}% (✅ Excellent)\")\n",
    "            elif error_rate < 5:\n",
    "                print(f\"└─ Error Rate: {error_rate:.1f}% (👍 Good)\")\n",
    "            elif error_rate < 10:\n",
    "                print(f\"└─ Error Rate: {error_rate:.1f}% (⚠️ Needs attention)\")\n",
    "            else:\n",
    "                print(f\"└─ Error Rate: {error_rate:.1f}% (❌ Poor - investigate)\")\n",
    "        \n",
    "        # Attendance events summary\n",
    "        if self.attendance_events:\n",
    "            print(f\"\\n👥 Attendance Events:\")\n",
    "            employee_counts = defaultdict(int)\n",
    "            for event in self.attendance_events:\n",
    "                employee_counts[event['employee_name']] += 1\n",
    "            \n",
    "            for name, count in sorted(employee_counts.items()):\n",
    "                avg_confidence = np.mean([e['confidence'] for e in self.attendance_events \n",
    "                                        if e['employee_name'] == name])\n",
    "                print(f\"├─ {name}: {count} recognition(s) (avg conf: {avg_confidence:.3f})\")\n",
    "        \n",
    "        # Recommendations\n",
    "        print(f\"\\n💡 RECOMMENDATIONS:\")\n",
    "        if recognition_rate < 50:\n",
    "            print(\"├─ Low recognition rate - check employee registration quality\")\n",
    "        if total_errors > self.stats['processed_frames'] * 0.1:\n",
    "            print(\"├─ High error rate - check system stability\")\n",
    "        if processing_rate < 5:\n",
    "            print(\"├─ Low processing rate - consider reducing frame skip ratio\")\n",
    "        if avg_time > 200:\n",
    "            print(\"├─ Slow AI processing - consider lighter model or GPU acceleration\")\n",
    "        \n",
    "        print(\"└─ Session analysis completed\")\n",
    "    \n",
    "    def stop_processing(self):\n",
    "        \"\"\"Stop real-time processing\"\"\"\n",
    "        self.processing_active = False\n",
    "        print(\"⏹️ Processing stop requested\")\n",
    "    \n",
    "    def export_session_data(self, include_debug_info=True):\n",
    "        \"\"\"Export session data with enhanced information\"\"\"\n",
    "        timestamp = datetime.now().strftime('%Y%m%d_%H%M%S')\n",
    "        \n",
    "        try:\n",
    "            # Ensure exports directory exists\n",
    "            exports_dir.mkdir(exist_ok=True)\n",
    "            \n",
    "            # Export attendance events\n",
    "            if self.attendance_events:\n",
    "                events_data = []\n",
    "                for event in self.attendance_events:\n",
    "                    event_copy = event.copy()\n",
    "                    event_copy['timestamp'] = datetime.fromtimestamp(event['timestamp']).isoformat()\n",
    "                    event_copy['bbox'] = [float(x) for x in event['bbox']]  # Ensure JSON serializable\n",
    "                    events_data.append(event_copy)\n",
    "                \n",
    "                events_path = exports_dir / f'attendance_events_{timestamp}.json'\n",
    "                with open(events_path, 'w') as f:\n",
    "                    json.dump(events_data, f, indent=2, default=str)\n",
    "                print(f\"✅ Attendance events exported: {events_path}\")\n",
    "                \n",
    "                # Also export as CSV for easy analysis\n",
    "                import pandas as pd\n",
    "                df_events = pd.DataFrame(events_data)\n",
    "                csv_path = exports_dir / f'attendance_events_{timestamp}.csv'\n",
    "                df_events.to_csv(csv_path, index=False)\n",
    "                print(f\"✅ CSV export: {csv_path}\")\n",
    "            \n",
    "            # Export comprehensive session statistics\n",
    "            session_stats = {\n",
    "                'session_info': {\n",
    "                    'start_time': datetime.fromtimestamp(self.stats['session_start']).isoformat(),\n",
    "                    'duration_minutes': (time.time() - self.stats['session_start']) / 60,\n",
    "                    'total_frames': self.stats['total_frames'],\n",
    "                    'processed_frames': self.stats['processed_frames'],\n",
    "                    'faces_detected': self.stats['faces_detected'],\n",
    "                    'employees_recognized': self.stats['employees_recognized']\n",
    "                },\n",
    "                'performance_metrics': {\n",
    "                    'avg_processing_time_ms': float(np.mean(self.stats['processing_times'])) if self.stats['processing_times'] else 0,\n",
    "                    'min_processing_time_ms': float(np.min(self.stats['processing_times'])) if self.stats['processing_times'] else 0,\n",
    "                    'max_processing_time_ms': float(np.max(self.stats['processing_times'])) if self.stats['processing_times'] else 0,\n",
    "                    'processing_times_history': list(self.stats['processing_times'])\n",
    "                },\n",
    "                'error_analysis': self.stats['errors'],\n",
    "                'camera_stats': self.camera_manager.get_camera_stats(),\n",
    "                'system_info': {\n",
    "                    'ai_system_mock_mode': getattr(self.ai_system, 'mock_mode', False),\n",
    "                    'cooldown_period_seconds': self.cooldown_period,\n",
    "                    'frame_skip_ratio': self.process_every_n_frames\n",
    "                }\n",
    "            }\n",
    "            \n",
    "            if include_debug_info:\n",
    "                session_stats['debug_info'] = {\n",
    "                    'recognition_history': [\n",
    "                        {\n",
    "                            'timestamp': datetime.fromtimestamp(r['timestamp']).isoformat(),\n",
    "                            'employee_name': r['employee_name'],\n",
    "                            'confidence': r['confidence']\n",
    "                        }\n",
    "                        for r in self.recognition_history\n",
    "                    ],\n",
    "                    'active_cooldowns': {\n",
    "                        str(emp_id): datetime.fromtimestamp(last_time).isoformat()\n",
    "                        for emp_id, last_time in self.employee_cooldowns.items()\n",
    "                    }\n",
    "                }\n",
    "            \n",
    "            stats_path = exports_dir / f'session_stats_{timestamp}.json'\n",
    "            with open(stats_path, 'w') as f:\n",
    "                json.dump(session_stats, f, indent=2, default=str)\n",
    "            \n",
    "            print(f\"✅ Session statistics exported: {stats_path}\")\n",
    "            \n",
    "            return {\n",
    "                'events_file': events_path if self.attendance_events else None,\n",
    "                'stats_file': stats_path,\n",
    "                'csv_file': csv_path if self.attendance_events else None\n",
    "            }\n",
    "            \n",
    "        except Exception as e:\n",
    "            print(f\"❌ Export failed: {e}\")\n",
    "            return None\n",
    "    \n",
    "    def create_attendance_report(self):\n",
    "        \"\"\"Create a formatted attendance report\"\"\"\n",
    "        if not self.attendance_events:\n",
    "            print(\"⚠️ No attendance events to report\")\n",
    "            return\n",
    "        \n",
    "        print(f\"\\n📋 ATTENDANCE REPORT\")\n",
    "        print(\"=\" * 50)\n",
    "        print(f\"Report generated: {datetime.now().strftime('%Y-%m-%d %H:%M:%S')}\")\n",
    "        print(f\"Session duration: {(time.time() - self.stats['session_start'])/60:.1f} minutes\")\n",
    "        print(\"-\" * 50)\n",
    "        \n",
    "        # Group events by employee\n",
    "        employee_events = defaultdict(list)\n",
    "        for event in self.attendance_events:\n",
    "            employee_events[event['employee_name']].append(event)\n",
    "        \n",
    "        # Display each employee's activity\n",
    "        for employee_name, events in sorted(employee_events.items()):\n",
    "            print(f\"\\n👤 {employee_name}:\")\n",
    "            print(f\"├─ Total recognitions: {len(events)}\")\n",
    "            \n",
    "            avg_confidence = np.mean([e['confidence'] for e in events])\n",
    "            print(f\"├─ Average confidence: {avg_confidence:.3f}\")\n",
    "            \n",
    "            # Show chronological events\n",
    "            events_sorted = sorted(events, key=lambda x: x['timestamp'])\n",
    "            print(f\"└─ Timeline:\")\n",
    "            \n",
    "            for i, event in enumerate(events_sorted):\n",
    "                timestamp_str = datetime.fromtimestamp(event['timestamp']).strftime('%H:%M:%S')\n",
    "                marker = \"├─\" if i < len(events_sorted) - 1 else \"└─\"\n",
    "                print(f\"   {marker} {timestamp_str} - Confidence: {event['confidence']:.3f}\")\n",
    "\n",
    "# Initialize attendance processor with comprehensive checks\n",
    "print(\"\\n🔄 INITIALIZING ATTENDANCE PROCESSOR:\")\n",
    "\n",
    "try:\n",
    "    # Check if required components are available\n",
    "    if not all([ai_system, db, camera_manager]):\n",
    "        missing_components = []\n",
    "        if not ai_system:\n",
    "            missing_components.append(\"AI System\")\n",
    "        if not db:\n",
    "            missing_components.append(\"Database\")\n",
    "        if not camera_manager:\n",
    "            missing_components.append(\"Camera Manager\")\n",
    "        \n",
    "        print(f\"❌ Missing components: {', '.join(missing_components)}\")\n",
    "        print(\"Please run previous cells successfully first\")\n",
    "        processor = None\n",
    "    else:\n",
    "        processor = AttendanceProcessor(ai_system, db, camera_manager)\n",
    "        if processor.available:\n",
    "            print(\"✅ Attendance Processor initialized successfully\")\n",
    "        else:\n",
    "            print(\"❌ Attendance Processor initialization failed\")\n",
    "            processor = None\n",
    "\n",
    "except Exception as e:\n",
    "    print(f\"❌ Processor initialization error: {e}\")\n",
    "    processor = None\n",
    "\n",
    "# Display usage instructions\n",
    "print(\"\\n🎯 REAL-TIME PROCESSING OPTIONS:\")\n",
    "if processor and processor.available:\n",
    "    print(\"📊 Main Functions:\")\n",
    "    print(\"├─ processor.start_real_time_processing(duration_minutes=5)\")\n",
    "    print(\"├─ processor.start_real_time_processing(duration_minutes=10, show_annotated_frames=True)\")\n",
    "    print(\"├─ processor.stop_processing()\")\n",
    "    print(\"└─ processor.export_session_data()\")\n",
    "    \n",
    "    print(\"\\n📋 Analysis Functions:\")\n",
    "    print(\"├─ processor.create_attendance_report()\")\n",
    "    print(\"├─ processor.export_session_data(include_debug_info=True)\")\n",
    "    print(\"└─ Check exports/ folder for saved data\")\n",
    "    \n",
    "    print(\"\\n⚙️ Advanced Options:\")\n",
    "    print(\"├─ processor.cooldown_period = 10  # Reduce cooldown to 10 seconds\")\n",
    "    print(\"├─ processor.process_every_n_frames = 5  # Process every 5th frame\")\n",
    "    print(\"└─ processor.display_update_interval = 1.0  # Update display every second\")\n",
    "else:\n",
    "    print(\"❌ Processor not available\")\n",
    "\n",
    "print(\"\\n💡 QUICK START GUIDE:\")\n",
    "print(\"1. Ensure employees are registered (Cell 3)\")\n",
    "print(\"2. Ensure camera is detected and working\")\n",
    "print(\"3. Run: processor.start_real_time_processing(duration_minutes=2)\")\n",
    "print(\"4. Watch for real-time recognition results\")\n",
    "print(\"5. Export data when finished\")\n",
    "\n",
    "print(\"\\n⚠️ TROUBLESHOOTING:\")\n",
    "print(\"├─ Camera issues: Run camera_manager.detect_cameras()\")\n",
    "print(\"├─ No recognitions: Check employee registration quality\")\n",
    "print(\"├─ High errors: Check system resources and connections\")\n",
    "print(\"└─ Slow processing: Increase process_every_n_frames value\")\n",
    "\n",
    "print(\"=\" * 35)"
   ]
  },
  {
   "cell_type": "raw",
   "metadata": {
    "vscode": {
     "languageId": "raw"
    }
   },
   "source": [
    "## Cell 5: 📺 Live Camera Visualization with Real-time Inference\n",
    "\n",
    "**Interactive camera feed with face detection, recognition, and performance overlay**\n"
   ]
  },
  {
   "cell_type": "code",
   "execution_count": 5,
   "metadata": {},
   "outputs": [
    {
     "name": "stdout",
     "output_type": "stream",
     "text": [
      "📺 LIVE CAMERA VISUALIZATION SETUP\n",
      "========================================\n",
      "\n",
      "🔄 INITIALIZING LIVE VISUALIZER:\n",
      "✅ Live Camera Visualizer initialized\n",
      "✅ Live Camera Visualizer ready\n",
      "\n",
      "🎯 LIVE VISUALIZATION USAGE:\n",
      "📺 Main Functions:\n",
      "├─ visualizer.start_visualization(duration_minutes=5)\n",
      "├─ visualizer.start_visualization(duration_minutes=10)\n",
      "└─ visualizer.stop_visualization()\n",
      "\n",
      "🎛️ Interactive Features:\n",
      "├─ Real-time camera feed with face detection boxes\n",
      "├─ Employee name and confidence display\n",
      "├─ Performance metrics overlay (FPS, processing time)\n",
      "├─ Interactive controls (start/stop/snapshot)\n",
      "├─ Adjustable recognition threshold\n",
      "└─ Frame skip control for performance tuning\n",
      "\n",
      "🎨 Visual Elements:\n",
      "├─ 🟢 Green box: New employee recognition\n",
      "├─ 🟡 Yellow box: Known employee (cooldown period)\n",
      "├─ 🔴 Red box: Unknown face\n",
      "├─ Real-time FPS and processing metrics\n",
      "└─ Recent recognition history\n",
      "\n",
      "💡 QUICK START:\n",
      "1. Ensure employees are registered\n",
      "2. Run: visualizer.start_visualization(duration_minutes=3)\n",
      "3. Use interactive controls to adjust settings\n",
      "4. Take snapshots of interesting moments\n",
      "5. Stop when finished\n",
      "\n",
      "⚙️ PERFORMANCE TIPS:\n",
      "├─ Increase 'Frame Skip' for better performance\n",
      "├─ Adjust 'Recognition Threshold' for accuracy\n",
      "├─ Toggle display elements to reduce processing\n",
      "└─ Use shorter duration for initial testing\n",
      "========================================\n"
     ]
    }
   ],
   "source": [
    "# Cell 5: 📺 Live Camera Visualization with Real-time Inference\n",
    "# Interactive Camera Feed with Face Detection and Recognition Overlay\n",
    "\n",
    "import cv2\n",
    "import numpy as np\n",
    "import time\n",
    "import threading\n",
    "from datetime import datetime\n",
    "from collections import deque\n",
    "import matplotlib.pyplot as plt\n",
    "from matplotlib.animation import FuncAnimation\n",
    "from IPython.display import display, clear_output, HTML\n",
    "import ipywidgets as widgets\n",
    "from io import BytesIO\n",
    "import base64\n",
    "\n",
    "print(\"📺 LIVE CAMERA VISUALIZATION SETUP\")\n",
    "print(\"=\" * 40)\n",
    "\n",
    "class LiveCameraVisualizer:\n",
    "    \"\"\"Real-time camera visualization with inference overlay\"\"\"\n",
    "    \n",
    "    def __init__(self, ai_system, database, camera_manager):\n",
    "        self.ai_system = ai_system\n",
    "        self.db = database\n",
    "        self.camera_manager = camera_manager\n",
    "        \n",
    "        # Check system availability\n",
    "        if not all([ai_system, database, camera_manager]):\n",
    "            print(\"❌ Required systems not available\")\n",
    "            self.available = False\n",
    "            return\n",
    "        \n",
    "        self.available = True\n",
    "        \n",
    "        # Visualization settings\n",
    "        self.frame_width = 640\n",
    "        self.frame_height = 480\n",
    "        self.show_fps = True\n",
    "        self.show_confidence = True\n",
    "        self.show_employee_info = True\n",
    "        \n",
    "        # Processing control\n",
    "        self.visualization_active = False\n",
    "        self.process_every_n_frames = 2  # Process every 2nd frame\n",
    "        self.frame_counter = 0\n",
    "        \n",
    "        # Recognition tracking\n",
    "        self.recent_recognitions = deque(maxlen=10)\n",
    "        self.employee_cooldowns = {}\n",
    "        self.cooldown_period = 5  # 5 seconds for visualization\n",
    "        \n",
    "        # Performance tracking\n",
    "        self.fps_counter = 0\n",
    "        self.fps_start_time = time.time()\n",
    "        self.current_fps = 0\n",
    "        self.processing_times = deque(maxlen=30)\n",
    "        \n",
    "        # Current frame data\n",
    "        self.current_frame = None\n",
    "        self.current_detections = []\n",
    "        self.frame_lock = threading.Lock()\n",
    "        \n",
    "        print(\"✅ Live Camera Visualizer initialized\")\n",
    "    \n",
    "    def start_visualization(self, duration_minutes=5):\n",
    "        \"\"\"Start live camera visualization with real-time inference\"\"\"\n",
    "        if not self.available:\n",
    "            print(\"❌ Visualizer not available\")\n",
    "            return\n",
    "        \n",
    "        print(f\"🚀 Starting live visualization for {duration_minutes} minutes...\")\n",
    "        \n",
    "        # Ensure camera is ready\n",
    "        if not self._ensure_camera_ready():\n",
    "            print(\"❌ Camera setup failed\")\n",
    "            return\n",
    "        \n",
    "        # First, register employees if not done\n",
    "        print(\"👥 Checking employee registration...\")\n",
    "        stats = self.db.get_statistics()\n",
    "        if stats['total_employees'] == 0:\n",
    "            print(\"📝 No employees found, scanning folders...\")\n",
    "            if hasattr(globals().get('employee_manager'), 'scan_employee_folders'):\n",
    "                employee_manager.scan_employee_folders()\n",
    "                stats = self.db.get_statistics()\n",
    "                print(f\"✅ Registered {stats['total_employees']} employees\")\n",
    "            else:\n",
    "                print(\"⚠️ Employee manager not available\")\n",
    "        else:\n",
    "            print(f\"✅ Found {stats['total_employees']} registered employees\")\n",
    "        \n",
    "        # Setup visualization\n",
    "        self.visualization_active = True\n",
    "        \n",
    "        try:\n",
    "            # Create widgets for interactive control\n",
    "            self._create_control_widgets()\n",
    "            \n",
    "            # Start the main visualization loop\n",
    "            self._visualization_loop(duration_minutes)\n",
    "            \n",
    "        except KeyboardInterrupt:\n",
    "            print(\"\\n⏹️ Visualization stopped by user\")\n",
    "        except Exception as e:\n",
    "            print(f\"\\n❌ Visualization error: {e}\")\n",
    "        finally:\n",
    "            self.visualization_active = False\n",
    "            print(\"🛑 Visualization stopped\")\n",
    "    \n",
    "    def _ensure_camera_ready(self):\n",
    "        \"\"\"Ensure camera is ready for visualization\"\"\"\n",
    "        try:\n",
    "            # Check if camera is already running\n",
    "            if self.camera_manager.camera_active:\n",
    "                print(\"✅ Camera already active\")\n",
    "                return True\n",
    "            \n",
    "            # Detect cameras if not done\n",
    "            if not self.camera_manager.available_cameras:\n",
    "                print(\"🔍 Detecting cameras...\")\n",
    "                cameras = self.camera_manager.detect_cameras()\n",
    "                if not cameras:\n",
    "                    print(\"❌ No cameras detected\")\n",
    "                    return False\n",
    "            \n",
    "            # Initialize camera\n",
    "            if not self.camera_manager.camera:\n",
    "                print(\"📷 Initializing camera...\")\n",
    "                if not self.camera_manager.initialize_camera(0):\n",
    "                    print(\"❌ Camera initialization failed\")\n",
    "                    return False\n",
    "            \n",
    "            # Start camera thread\n",
    "            if not self.camera_manager.camera_active:\n",
    "                print(\"🎥 Starting camera thread...\")\n",
    "                if not self.camera_manager.start_camera_thread():\n",
    "                    print(\"❌ Camera thread start failed\")\n",
    "                    return False\n",
    "            \n",
    "            # Wait for first frame\n",
    "            print(\"⏳ Waiting for camera warm-up...\")\n",
    "            for i in range(10):\n",
    "                if self.camera_manager.get_latest_frame() is not None:\n",
    "                    print(\"✅ Camera ready for visualization!\")\n",
    "                    return True\n",
    "                time.sleep(0.5)\n",
    "            \n",
    "            print(\"❌ Camera warm-up timeout\")\n",
    "            return False\n",
    "            \n",
    "        except Exception as e:\n",
    "            print(f\"❌ Camera setup error: {e}\")\n",
    "            return False\n",
    "    \n",
    "    def _create_control_widgets(self):\n",
    "        \"\"\"Create interactive control widgets\"\"\"\n",
    "        print(\"🎛️ Creating control interface...\")\n",
    "        \n",
    "        # Control buttons\n",
    "        self.start_button = widgets.Button(description=\"▶️ Start\", button_style='success')\n",
    "        self.stop_button = widgets.Button(description=\"⏹️ Stop\", button_style='danger')\n",
    "        self.snapshot_button = widgets.Button(description=\"📸 Snapshot\", button_style='info')\n",
    "        \n",
    "        # Settings sliders\n",
    "        self.fps_slider = widgets.IntSlider(\n",
    "            value=self.process_every_n_frames, min=1, max=10, step=1,\n",
    "            description='Frame Skip:', style={'description_width': 'initial'}\n",
    "        )\n",
    "        \n",
    "        self.confidence_slider = widgets.FloatSlider(\n",
    "            value=0.65, min=0.3, max=0.9, step=0.05,\n",
    "            description='Recognition Threshold:', style={'description_width': 'initial'}\n",
    "        )\n",
    "        \n",
    "        # Display toggles\n",
    "        self.show_fps_toggle = widgets.Checkbox(value=True, description='Show FPS')\n",
    "        self.show_bbox_toggle = widgets.Checkbox(value=True, description='Show Face Boxes')\n",
    "        self.show_names_toggle = widgets.Checkbox(value=True, description='Show Names')\n",
    "        \n",
    "        # Status display\n",
    "        self.status_output = widgets.Output()\n",
    "        \n",
    "        # Layout\n",
    "        controls = widgets.HBox([self.start_button, self.stop_button, self.snapshot_button])\n",
    "        settings = widgets.VBox([\n",
    "            widgets.HBox([self.fps_slider, self.confidence_slider]),\n",
    "            widgets.HBox([self.show_fps_toggle, self.show_bbox_toggle, self.show_names_toggle])\n",
    "        ])\n",
    "        \n",
    "        display(widgets.VBox([controls, settings]))\n",
    "        display(self.status_output)\n",
    "        \n",
    "        # Bind events\n",
    "        self.start_button.on_click(self._on_start_click)\n",
    "        self.stop_button.on_click(self._on_stop_click)\n",
    "        self.snapshot_button.on_click(self._on_snapshot_click)\n",
    "        \n",
    "        print(\"✅ Control interface ready\")\n",
    "    \n",
    "    def _visualization_loop(self, duration_minutes):\n",
    "        \"\"\"Main visualization loop with frame display\"\"\"\n",
    "        print(\"🔄 Starting visualization loop...\")\n",
    "        \n",
    "        end_time = time.time() + (duration_minutes * 60)\n",
    "        last_display_time = 0\n",
    "        display_interval = 0.1  # Update display every 100ms\n",
    "        \n",
    "        try:\n",
    "            while self.visualization_active and time.time() < end_time:\n",
    "                current_time = time.time()\n",
    "                \n",
    "                # Get latest frame\n",
    "                frame = self.camera_manager.get_latest_frame()\n",
    "                \n",
    "                if frame is not None:\n",
    "                    self.frame_counter += 1\n",
    "                    \n",
    "                    # Process frame periodically\n",
    "                    if self.frame_counter % self.process_every_n_frames == 0:\n",
    "                        self._process_frame_for_visualization(frame)\n",
    "                    \n",
    "                    # Update display periodically\n",
    "                    if current_time - last_display_time >= display_interval:\n",
    "                        self._update_frame_display()\n",
    "                        last_display_time = current_time\n",
    "                \n",
    "                time.sleep(0.001)  # Small delay to prevent excessive CPU usage\n",
    "                \n",
    "        except Exception as e:\n",
    "            print(f\"❌ Visualization loop error: {e}\")\n",
    "    \n",
    "    def _process_frame_for_visualization(self, frame):\n",
    "        \"\"\"Process frame for visualization with face detection and recognition\"\"\"\n",
    "        start_time = time.time()\n",
    "        \n",
    "        try:\n",
    "            # AI processing\n",
    "            faces = self.ai_system.detect_and_recognize(frame)\n",
    "            \n",
    "            # Prepare annotated frame\n",
    "            annotated_frame = frame.copy()\n",
    "            current_detections = []\n",
    "            \n",
    "            for face in faces:\n",
    "                # Extract face data\n",
    "                bbox = face['bbox']\n",
    "                confidence = face['det_score']\n",
    "                embedding = face['embedding']\n",
    "                \n",
    "                # Try to recognize employee\n",
    "                employee = self.db.find_employee_by_embedding(\n",
    "                    embedding, threshold=self.confidence_slider.value\n",
    "                )\n",
    "                \n",
    "                # Prepare detection data\n",
    "                detection = {\n",
    "                    'bbox': bbox,\n",
    "                    'confidence': confidence,\n",
    "                    'employee': employee,\n",
    "                    'timestamp': time.time()\n",
    "                }\n",
    "                \n",
    "                # Check cooldown for recognition\n",
    "                if employee:\n",
    "                    employee_id = employee['id']\n",
    "                    last_recognition = self.employee_cooldowns.get(employee_id, 0)\n",
    "                    \n",
    "                    if time.time() - last_recognition >= self.cooldown_period:\n",
    "                        # Record new recognition\n",
    "                        self.employee_cooldowns[employee_id] = time.time()\n",
    "                        \n",
    "                        # Add to recent recognitions\n",
    "                        self.recent_recognitions.append({\n",
    "                            'timestamp': time.time(),\n",
    "                            'employee_name': employee['name'],\n",
    "                            'confidence': employee['similarity']\n",
    "                        })\n",
    "                        \n",
    "                        detection['new_recognition'] = True\n",
    "                    else:\n",
    "                        detection['new_recognition'] = False\n",
    "                else:\n",
    "                    detection['new_recognition'] = False\n",
    "                \n",
    "                current_detections.append(detection)\n",
    "                \n",
    "                # Draw annotations on frame\n",
    "                self._draw_face_annotation(annotated_frame, detection)\n",
    "            \n",
    "            # Update current frame data\n",
    "            with self.frame_lock:\n",
    "                self.current_frame = annotated_frame\n",
    "                self.current_detections = current_detections\n",
    "            \n",
    "            # Update performance metrics\n",
    "            processing_time = (time.time() - start_time) * 1000\n",
    "            self.processing_times.append(processing_time)\n",
    "            \n",
    "            # Update FPS\n",
    "            self.fps_counter += 1\n",
    "            if self.fps_counter >= 30:\n",
    "                current_time = time.time()\n",
    "                elapsed = current_time - self.fps_start_time\n",
    "                if elapsed > 0:\n",
    "                    self.current_fps = self.fps_counter / elapsed\n",
    "                self.fps_counter = 0\n",
    "                self.fps_start_time = current_time\n",
    "                \n",
    "        except Exception as e:\n",
    "            print(f\"Frame processing error: {e}\")\n",
    "    \n",
    "    def _draw_face_annotation(self, frame, detection):\n",
    "        \"\"\"Draw face annotations on frame\"\"\"\n",
    "        if not self.show_bbox_toggle.value:\n",
    "            return\n",
    "        \n",
    "        bbox = detection['bbox']\n",
    "        confidence = detection['confidence']\n",
    "        employee = detection['employee']\n",
    "        new_recognition = detection.get('new_recognition', False)\n",
    "        \n",
    "        # Extract coordinates\n",
    "        x1, y1, x2, y2 = [int(x) for x in bbox[:4]]\n",
    "        \n",
    "        # Choose colors\n",
    "        if employee:\n",
    "            if new_recognition:\n",
    "                color = (0, 255, 0)  # Green for new recognition\n",
    "            else:\n",
    "                color = (0, 255, 255)  # Yellow for known (cooldown)\n",
    "        else:\n",
    "            color = (0, 0, 255)  # Red for unknown\n",
    "        \n",
    "        # Draw bounding box\n",
    "        cv2.rectangle(frame, (x1, y1), (x2, y2), color, 2)\n",
    "        \n",
    "        # Draw detection confidence\n",
    "        if self.show_confidence:\n",
    "            conf_text = f\"Det: {confidence:.2f}\"\n",
    "            cv2.putText(frame, conf_text, (x1, y1-25),\n",
    "                       cv2.FONT_HERSHEY_SIMPLEX, 0.6, color, 2)\n",
    "        \n",
    "        # Draw employee name and recognition confidence\n",
    "        if employee and self.show_names_toggle.value:\n",
    "            name_text = f\"{employee['name']}\"\n",
    "            rec_conf_text = f\"Rec: {employee['similarity']:.3f}\"\n",
    "            \n",
    "            cv2.putText(frame, name_text, (x1, y1-10),\n",
    "                       cv2.FONT_HERSHEY_SIMPLEX, 0.7, color, 2)\n",
    "            cv2.putText(frame, rec_conf_text, (x1, y2+20),\n",
    "                       cv2.FONT_HERSHEY_SIMPLEX, 0.5, color, 1)\n",
    "            \n",
    "            # Draw recognition indicator\n",
    "            if new_recognition:\n",
    "                cv2.putText(frame, \"NEW!\", (x2-50, y1-10),\n",
    "                           cv2.FONT_HERSHEY_SIMPLEX, 0.6, (0, 255, 0), 2)\n",
    "        else:\n",
    "            # Unknown face\n",
    "            cv2.putText(frame, \"Unknown\", (x1, y1-10),\n",
    "                       cv2.FONT_HERSHEY_SIMPLEX, 0.6, color, 2)\n",
    "        \n",
    "        # Draw face center dot\n",
    "        center_x, center_y = int((x1 + x2) / 2), int((y1 + y2) / 2)\n",
    "        cv2.circle(frame, (center_x, center_y), 3, color, -1)\n",
    "    \n",
    "    def _update_frame_display(self):\n",
    "        \"\"\"Update the frame display with current frame and statistics\"\"\"\n",
    "        try:\n",
    "            with self.frame_lock:\n",
    "                if self.current_frame is None:\n",
    "                    return\n",
    "                \n",
    "                display_frame = self.current_frame.copy()\n",
    "                detections_count = len(self.current_detections)\n",
    "                recognized_count = len([d for d in self.current_detections if d['employee']])\n",
    "            \n",
    "            # Add overlay information\n",
    "            if self.show_fps_toggle.value:\n",
    "                # FPS and performance info\n",
    "                fps_text = f\"Camera FPS: {self.current_fps:.1f}\"\n",
    "                if self.processing_times:\n",
    "                    avg_time = np.mean(self.processing_times)\n",
    "                    proc_fps = 1000 / avg_time if avg_time > 0 else 0\n",
    "                    perf_text = f\"Proc: {proc_fps:.1f}FPS ({avg_time:.1f}ms)\"\n",
    "                else:\n",
    "                    perf_text = \"Proc: Starting...\"\n",
    "                \n",
    "                cv2.putText(display_frame, fps_text, (10, 30),\n",
    "                           cv2.FONT_HERSHEY_SIMPLEX, 0.7, (255, 255, 255), 2)\n",
    "                cv2.putText(display_frame, perf_text, (10, 60),\n",
    "                           cv2.FONT_HERSHEY_SIMPLEX, 0.7, (255, 255, 255), 2)\n",
    "            \n",
    "            # Detection summary\n",
    "            summary_text = f\"Faces: {detections_count} | Recognized: {recognized_count}\"\n",
    "            cv2.putText(display_frame, summary_text, (10, display_frame.shape[0] - 20),\n",
    "                       cv2.FONT_HERSHEY_SIMPLEX, 0.7, (255, 255, 255), 2)\n",
    "            \n",
    "            # Convert frame to displayable format\n",
    "            self._display_frame_in_notebook(display_frame)\n",
    "            \n",
    "            # Update status\n",
    "            self._update_status_display()\n",
    "            \n",
    "        except Exception as e:\n",
    "            print(f\"Display update error: {e}\")\n",
    "    \n",
    "    def _display_frame_in_notebook(self, frame):\n",
    "        \"\"\"Display frame in Jupyter notebook\"\"\"\n",
    "        try:\n",
    "            # Convert BGR to RGB\n",
    "            frame_rgb = cv2.cvtColor(frame, cv2.COLOR_BGR2RGB)\n",
    "            \n",
    "            # Resize if needed\n",
    "            if frame_rgb.shape[1] > 800:\n",
    "                scale = 800 / frame_rgb.shape[1]\n",
    "                new_width = int(frame_rgb.shape[1] * scale)\n",
    "                new_height = int(frame_rgb.shape[0] * scale)\n",
    "                frame_rgb = cv2.resize(frame_rgb, (new_width, new_height))\n",
    "            \n",
    "            # Convert to base64 for display\n",
    "            _, buffer = cv2.imencode('.jpg', cv2.cvtColor(frame_rgb, cv2.COLOR_RGB2BGR))\n",
    "            img_str = base64.b64encode(buffer).decode()\n",
    "            \n",
    "            # Clear previous output and display new frame\n",
    "            with self.status_output:\n",
    "                clear_output(wait=True)\n",
    "                display(HTML(f'<img src=\"data:image/jpeg;base64,{img_str}\" style=\"max-width:100%;\">'))\n",
    "                \n",
    "        except Exception as e:\n",
    "            print(f\"Frame display error: {e}\")\n",
    "    \n",
    "    def _update_status_display(self):\n",
    "        \"\"\"Update status information\"\"\"\n",
    "        try:\n",
    "            # Recent recognitions summary\n",
    "            recent_text = \"\"\n",
    "            if self.recent_recognitions:\n",
    "                recent_text = \"Recent recognitions:\\n\"\n",
    "                for rec in list(self.recent_recognitions)[-3:]:  # Last 3\n",
    "                    timestamp_str = datetime.fromtimestamp(rec['timestamp']).strftime('%H:%M:%S')\n",
    "                    recent_text += f\"• {timestamp_str} - {rec['employee_name']} ({rec['confidence']:.3f})\\n\"\n",
    "            \n",
    "            # Print status below image\n",
    "            print(f\"\\\\rProcessing... | Frame: {self.frame_counter} | Recent: {len(self.recent_recognitions)}\", end=\"\")\n",
    "            \n",
    "        except Exception as e:\n",
    "            print(f\"Status update error: {e}\")\n",
    "    \n",
    "    def _on_start_click(self, button):\n",
    "        \"\"\"Handle start button click\"\"\"\n",
    "        self.visualization_active = True\n",
    "        print(\"▶️ Visualization started\")\n",
    "    \n",
    "    def _on_stop_click(self, button):\n",
    "        \"\"\"Handle stop button click\"\"\"\n",
    "        self.visualization_active = False\n",
    "        print(\"⏹️ Visualization stopped\")\n",
    "    \n",
    "    def _on_snapshot_click(self, button):\n",
    "        \"\"\"Handle snapshot button click\"\"\"\n",
    "        try:\n",
    "            if self.current_frame is not None:\n",
    "                timestamp = datetime.now().strftime('%Y%m%d_%H%M%S')\n",
    "                snapshot_path = snapshots_dir / f'snapshot_{timestamp}.jpg'\n",
    "                cv2.imwrite(str(snapshot_path), self.current_frame)\n",
    "                print(f\"📸 Snapshot saved: {snapshot_path}\")\n",
    "            else:\n",
    "                print(\"⚠️ No frame available for snapshot\")\n",
    "        except Exception as e:\n",
    "            print(f\"❌ Snapshot error: {e}\")\n",
    "    \n",
    "    def stop_visualization(self):\n",
    "        \"\"\"Stop the visualization\"\"\"\n",
    "        self.visualization_active = False\n",
    "        print(\"🛑 Visualization stopped\")\n",
    "\n",
    "# Initialize Live Camera Visualizer\n",
    "print(\"\\n🔄 INITIALIZING LIVE VISUALIZER:\")\n",
    "\n",
    "try:\n",
    "    if not all([ai_system, db, camera_manager]):\n",
    "        missing = []\n",
    "        if not ai_system: missing.append(\"AI System\")\n",
    "        if not db: missing.append(\"Database\") \n",
    "        if not camera_manager: missing.append(\"Camera Manager\")\n",
    "        \n",
    "        print(f\"❌ Missing components: {', '.join(missing)}\")\n",
    "        visualizer = None\n",
    "    else:\n",
    "        visualizer = LiveCameraVisualizer(ai_system, db, camera_manager)\n",
    "        if visualizer.available:\n",
    "            print(\"✅ Live Camera Visualizer ready\")\n",
    "        else:\n",
    "            print(\"❌ Visualizer initialization failed\")\n",
    "            visualizer = None\n",
    "\n",
    "except Exception as e:\n",
    "    print(f\"❌ Visualizer initialization error: {e}\")\n",
    "    visualizer = None\n",
    "\n",
    "# Usage instructions\n",
    "print(\"\\n🎯 LIVE VISUALIZATION USAGE:\")\n",
    "if visualizer and visualizer.available:\n",
    "    print(\"📺 Main Functions:\")\n",
    "    print(\"├─ visualizer.start_visualization(duration_minutes=5)\")\n",
    "    print(\"├─ visualizer.start_visualization(duration_minutes=10)\")\n",
    "    print(\"└─ visualizer.stop_visualization()\")\n",
    "    \n",
    "    print(\"\\n🎛️ Interactive Features:\")\n",
    "    print(\"├─ Real-time camera feed with face detection boxes\")\n",
    "    print(\"├─ Employee name and confidence display\")\n",
    "    print(\"├─ Performance metrics overlay (FPS, processing time)\")\n",
    "    print(\"├─ Interactive controls (start/stop/snapshot)\")\n",
    "    print(\"├─ Adjustable recognition threshold\")\n",
    "    print(\"└─ Frame skip control for performance tuning\")\n",
    "    \n",
    "    print(\"\\n🎨 Visual Elements:\")\n",
    "    print(\"├─ 🟢 Green box: New employee recognition\")\n",
    "    print(\"├─ 🟡 Yellow box: Known employee (cooldown period)\")\n",
    "    print(\"├─ 🔴 Red box: Unknown face\")\n",
    "    print(\"├─ Real-time FPS and processing metrics\")\n",
    "    print(\"└─ Recent recognition history\")\n",
    "    \n",
    "else:\n",
    "    print(\"❌ Live visualizer not available\")\n",
    "\n",
    "print(\"\\n💡 QUICK START:\")\n",
    "print(\"1. Ensure employees are registered\")\n",
    "print(\"2. Run: visualizer.start_visualization(duration_minutes=3)\")\n",
    "print(\"3. Use interactive controls to adjust settings\")\n",
    "print(\"4. Take snapshots of interesting moments\")\n",
    "print(\"5. Stop when finished\")\n",
    "\n",
    "print(\"\\n⚙️ PERFORMANCE TIPS:\")\n",
    "print(\"├─ Increase 'Frame Skip' for better performance\")\n",
    "print(\"├─ Adjust 'Recognition Threshold' for accuracy\")\n",
    "print(\"├─ Toggle display elements to reduce processing\")\n",
    "print(\"└─ Use shorter duration for initial testing\")\n",
    "\n",
    "print(\"=\" * 40)\n"
   ]
  },
  {
   "cell_type": "code",
   "execution_count": 7,
   "metadata": {},
   "outputs": [
    {
     "name": "stdout",
     "output_type": "stream",
     "text": [
      "🔍 Scanning employee folders in: k:\\Workspace\\BHK Research\\auto-face-attendance\\notebooks\\employees\n",
      "📁 Found 3 employee folders:\n",
      "  ├─ Trịnh_Việt_Hoàng\n",
      "  ├─ Mạc Đăng Khoa\n",
      "  ├─ Phúc\n",
      "\n",
      "🔄 Processing employee folders...\n"
     ]
    },
    {
     "name": "stderr",
     "output_type": "stream",
     "text": [
      "Processing employees: 100%|██████████| 3/3 [00:00<00:00, 130.00it/s]"
     ]
    },
    {
     "name": "stdout",
     "output_type": "stream",
     "text": [
      "  ⚠️ Trịnh Việt Hoàng: Insufficient quality faces (0)\n",
      "  ⚠️ Mạc Đăng Khoa: No images found\n",
      "  ⚠️ Phúc: No images found\n",
      "\n",
      "✅ Scan completed:\n",
      "├─ Folders processed: 3\n",
      "├─ Successfully registered: 0\n",
      "└─ Database employees: 0\n",
      "\n",
      "📋 EMPLOYEE SCAN SUMMARY\n",
      "================================================================================\n"
     ]
    },
    {
     "name": "stderr",
     "output_type": "stream",
     "text": [
      "\n"
     ]
    },
    {
     "data": {
      "text/html": [
       "<table border=\"1\" class=\"dataframe\">\n",
       "  <thead>\n",
       "    <tr style=\"text-align: right;\">\n",
       "      <th>Employee</th>\n",
       "      <th>Total Images</th>\n",
       "      <th>Valid Faces</th>\n",
       "      <th>Avg Quality</th>\n",
       "      <th>Registered</th>\n",
       "      <th>Employee ID</th>\n",
       "      <th>Status</th>\n",
       "    </tr>\n",
       "  </thead>\n",
       "  <tbody>\n",
       "    <tr>\n",
       "      <td>Trịnh Việt Hoàng</td>\n",
       "      <td>6</td>\n",
       "      <td>0</td>\n",
       "      <td>0.000</td>\n",
       "      <td>❌</td>\n",
       "      <td>N/A</td>\n",
       "      <td>Insufficient quality faces (0)</td>\n",
       "    </tr>\n",
       "    <tr>\n",
       "      <td>Mạc Đăng Khoa</td>\n",
       "      <td>0</td>\n",
       "      <td>0</td>\n",
       "      <td>0.000</td>\n",
       "      <td>❌</td>\n",
       "      <td>N/A</td>\n",
       "      <td>No images found</td>\n",
       "    </tr>\n",
       "    <tr>\n",
       "      <td>Phúc</td>\n",
       "      <td>0</td>\n",
       "      <td>0</td>\n",
       "      <td>0.000</td>\n",
       "      <td>❌</td>\n",
       "      <td>N/A</td>\n",
       "      <td>No images found</td>\n",
       "    </tr>\n",
       "  </tbody>\n",
       "</table>"
      ],
      "text/plain": [
       "<IPython.core.display.HTML object>"
      ]
     },
     "metadata": {},
     "output_type": "display_data"
    },
    {
     "name": "stdout",
     "output_type": "stream",
     "text": [
      "\n",
      "⚠️ DETAILED ERROR REPORT:\n",
      "\n",
      "Trịnh Việt Hoàng:\n",
      "  ├─ Cannot read WIN_20250731_16_03_02_Pro.jpg\n",
      "  ├─ Cannot read WIN_20250731_16_02_59_Pro.jpg\n",
      "  ├─ Cannot read WIN_20250731_16_03_01_Pro.jpg\n",
      "  ├─ Cannot read WIN_20250731_16_03_02_Pro.jpg\n",
      "  ├─ Cannot read WIN_20250731_16_02_59_Pro.jpg\n",
      "  ├─ Cannot read WIN_20250731_16_03_01_Pro.jpg\n",
      "🚀 Starting live visualization for 3 minutes...\n",
      "✅ Camera already active\n",
      "👥 Checking employee registration...\n",
      "📝 No employees found, scanning folders...\n",
      "🔍 Scanning employee folders in: k:\\Workspace\\BHK Research\\auto-face-attendance\\notebooks\\employees\n",
      "📁 Found 3 employee folders:\n",
      "  ├─ Trịnh_Việt_Hoàng\n",
      "  ├─ Mạc Đăng Khoa\n",
      "  ├─ Phúc\n",
      "\n",
      "🔄 Processing employee folders...\n"
     ]
    },
    {
     "name": "stderr",
     "output_type": "stream",
     "text": [
      "Processing employees: 100%|██████████| 3/3 [00:00<00:00, 1000.39it/s]"
     ]
    },
    {
     "name": "stdout",
     "output_type": "stream",
     "text": [
      "  ⚠️ Trịnh Việt Hoàng: Insufficient quality faces (0)\n",
      "  ⚠️ Mạc Đăng Khoa: No images found\n",
      "  ⚠️ Phúc: No images found\n",
      "\n",
      "✅ Scan completed:\n",
      "├─ Folders processed: 3\n",
      "├─ Successfully registered: 0\n",
      "└─ Database employees: 0\n",
      "\n",
      "📋 EMPLOYEE SCAN SUMMARY\n",
      "================================================================================\n"
     ]
    },
    {
     "name": "stderr",
     "output_type": "stream",
     "text": [
      "\n"
     ]
    },
    {
     "data": {
      "text/html": [
       "<table border=\"1\" class=\"dataframe\">\n",
       "  <thead>\n",
       "    <tr style=\"text-align: right;\">\n",
       "      <th>Employee</th>\n",
       "      <th>Total Images</th>\n",
       "      <th>Valid Faces</th>\n",
       "      <th>Avg Quality</th>\n",
       "      <th>Registered</th>\n",
       "      <th>Employee ID</th>\n",
       "      <th>Status</th>\n",
       "    </tr>\n",
       "  </thead>\n",
       "  <tbody>\n",
       "    <tr>\n",
       "      <td>Trịnh Việt Hoàng</td>\n",
       "      <td>6</td>\n",
       "      <td>0</td>\n",
       "      <td>0.000</td>\n",
       "      <td>❌</td>\n",
       "      <td>N/A</td>\n",
       "      <td>Insufficient quality faces (0)</td>\n",
       "    </tr>\n",
       "    <tr>\n",
       "      <td>Mạc Đăng Khoa</td>\n",
       "      <td>0</td>\n",
       "      <td>0</td>\n",
       "      <td>0.000</td>\n",
       "      <td>❌</td>\n",
       "      <td>N/A</td>\n",
       "      <td>No images found</td>\n",
       "    </tr>\n",
       "    <tr>\n",
       "      <td>Phúc</td>\n",
       "      <td>0</td>\n",
       "      <td>0</td>\n",
       "      <td>0.000</td>\n",
       "      <td>❌</td>\n",
       "      <td>N/A</td>\n",
       "      <td>No images found</td>\n",
       "    </tr>\n",
       "  </tbody>\n",
       "</table>"
      ],
      "text/plain": [
       "<IPython.core.display.HTML object>"
      ]
     },
     "metadata": {},
     "output_type": "display_data"
    },
    {
     "name": "stdout",
     "output_type": "stream",
     "text": [
      "\n",
      "⚠️ DETAILED ERROR REPORT:\n",
      "\n",
      "Trịnh Việt Hoàng:\n",
      "  ├─ Cannot read WIN_20250731_16_03_02_Pro.jpg\n",
      "  ├─ Cannot read WIN_20250731_16_02_59_Pro.jpg\n",
      "  ├─ Cannot read WIN_20250731_16_03_01_Pro.jpg\n",
      "  ├─ Cannot read WIN_20250731_16_03_02_Pro.jpg\n",
      "  ├─ Cannot read WIN_20250731_16_02_59_Pro.jpg\n",
      "  ├─ Cannot read WIN_20250731_16_03_01_Pro.jpg\n",
      "✅ Registered 0 employees\n",
      "🎛️ Creating control interface...\n"
     ]
    },
    {
     "data": {
      "application/vnd.jupyter.widget-view+json": {
       "model_id": "47c0e525077d46e7beaa78b7ebd72ece",
       "version_major": 2,
       "version_minor": 0
      },
      "text/plain": [
       "VBox(children=(HBox(children=(Button(button_style='success', description='▶️ Start', style=ButtonStyle()), But…"
      ]
     },
     "metadata": {},
     "output_type": "display_data"
    },
    {
     "data": {
      "application/vnd.jupyter.widget-view+json": {
       "model_id": "93e54a4ec5ed49e39a17b99771eb966f",
       "version_major": 2,
       "version_minor": 0
      },
      "text/plain": [
       "Output()"
      ]
     },
     "metadata": {},
     "output_type": "display_data"
    },
    {
     "name": "stdout",
     "output_type": "stream",
     "text": [
      "✅ Control interface ready\n",
      "🔄 Starting visualization loop...\n"
     ]
    },
    {
     "name": "stdout",
     "output_type": "stream",
     "text": [
      "\\rProcessing... | Frame: 5237 | Recent: 0"
     ]
    },
    {
     "name": "stdout",
     "output_type": "stream",
     "text": [
      "\\rProcessing... | Frame: 5239 | Recent: 0"
     ]
    },
    {
     "name": "stdout",
     "output_type": "stream",
     "text": [
      "\\rProcessing... | Frame: 5243 | Recent: 0"
     ]
    },
    {
     "name": "stdout",
     "output_type": "stream",
     "text": [
      "\\rProcessing... | Frame: 5245 | Recent: 0"
     ]
    },
    {
     "name": "stdout",
     "output_type": "stream",
     "text": [
      "\\rProcessing... | Frame: 5247 | Recent: 0"
     ]
    },
    {
     "name": "stdout",
     "output_type": "stream",
     "text": [
      "\\rProcessing... | Frame: 5250 | Recent: 0"
     ]
    },
    {
     "name": "stdout",
     "output_type": "stream",
     "text": [
      "\\rProcessing... | Frame: 5251 | Recent: 0"
     ]
    },
    {
     "name": "stdout",
     "output_type": "stream",
     "text": [
      "\\rProcessing... | Frame: 5253 | Recent: 0"
     ]
    },
    {
     "name": "stdout",
     "output_type": "stream",
     "text": [
      "\\rProcessing... | Frame: 5255 | Recent: 0"
     ]
    },
    {
     "name": "stdout",
     "output_type": "stream",
     "text": [
      "\\rProcessing... | Frame: 5257 | Recent: 0"
     ]
    },
    {
     "name": "stdout",
     "output_type": "stream",
     "text": [
      "\\rProcessing... | Frame: 5259 | Recent: 0"
     ]
    },
    {
     "name": "stdout",
     "output_type": "stream",
     "text": [
      "\\rProcessing... | Frame: 5261 | Recent: 0"
     ]
    },
    {
     "name": "stdout",
     "output_type": "stream",
     "text": [
      "\\rProcessing... | Frame: 5263 | Recent: 0"
     ]
    },
    {
     "name": "stdout",
     "output_type": "stream",
     "text": [
      "\\rProcessing... | Frame: 5265 | Recent: 0"
     ]
    },
    {
     "name": "stdout",
     "output_type": "stream",
     "text": [
      "\\rProcessing... | Frame: 5267 | Recent: 0"
     ]
    },
    {
     "name": "stdout",
     "output_type": "stream",
     "text": [
      "\\rProcessing... | Frame: 5270 | Recent: 0"
     ]
    },
    {
     "name": "stdout",
     "output_type": "stream",
     "text": [
      "\\rProcessing... | Frame: 5271 | Recent: 0"
     ]
    },
    {
     "name": "stdout",
     "output_type": "stream",
     "text": [
      "\\rProcessing... | Frame: 5273 | Recent: 0"
     ]
    },
    {
     "name": "stdout",
     "output_type": "stream",
     "text": [
      "\\rProcessing... | Frame: 5275 | Recent: 0"
     ]
    },
    {
     "name": "stdout",
     "output_type": "stream",
     "text": [
      "\\rProcessing... | Frame: 5277 | Recent: 0"
     ]
    },
    {
     "name": "stdout",
     "output_type": "stream",
     "text": [
      "\\rProcessing... | Frame: 5281 | Recent: 0"
     ]
    },
    {
     "name": "stdout",
     "output_type": "stream",
     "text": [
      "\\rProcessing... | Frame: 5283 | Recent: 0"
     ]
    },
    {
     "name": "stdout",
     "output_type": "stream",
     "text": [
      "\\rProcessing... | Frame: 5285 | Recent: 0"
     ]
    },
    {
     "name": "stdout",
     "output_type": "stream",
     "text": [
      "\\rProcessing... | Frame: 5287 | Recent: 0"
     ]
    },
    {
     "name": "stdout",
     "output_type": "stream",
     "text": [
      "\\rProcessing... | Frame: 5289 | Recent: 0"
     ]
    },
    {
     "name": "stdout",
     "output_type": "stream",
     "text": [
      "\\rProcessing... | Frame: 5291 | Recent: 0"
     ]
    },
    {
     "name": "stdout",
     "output_type": "stream",
     "text": [
      "\\rProcessing... | Frame: 5293 | Recent: 0"
     ]
    },
    {
     "name": "stdout",
     "output_type": "stream",
     "text": [
      "\\rProcessing... | Frame: 5295 | Recent: 0"
     ]
    },
    {
     "name": "stdout",
     "output_type": "stream",
     "text": [
      "\\rProcessing... | Frame: 5297 | Recent: 0"
     ]
    },
    {
     "name": "stdout",
     "output_type": "stream",
     "text": [
      "\\rProcessing... | Frame: 5299 | Recent: 0"
     ]
    },
    {
     "name": "stdout",
     "output_type": "stream",
     "text": [
      "\\rProcessing... | Frame: 5301 | Recent: 0"
     ]
    },
    {
     "name": "stdout",
     "output_type": "stream",
     "text": [
      "\\rProcessing... | Frame: 5303 | Recent: 0"
     ]
    },
    {
     "name": "stdout",
     "output_type": "stream",
     "text": [
      "\\rProcessing... | Frame: 5305 | Recent: 0"
     ]
    },
    {
     "name": "stdout",
     "output_type": "stream",
     "text": [
      "\\rProcessing... | Frame: 5307 | Recent: 0"
     ]
    },
    {
     "name": "stdout",
     "output_type": "stream",
     "text": [
      "\\rProcessing... | Frame: 5309 | Recent: 0"
     ]
    },
    {
     "name": "stdout",
     "output_type": "stream",
     "text": [
      "\\rProcessing... | Frame: 5311 | Recent: 0"
     ]
    },
    {
     "name": "stdout",
     "output_type": "stream",
     "text": [
      "\\rProcessing... | Frame: 5313 | Recent: 0"
     ]
    },
    {
     "name": "stdout",
     "output_type": "stream",
     "text": [
      "\\rProcessing... | Frame: 5315 | Recent: 0"
     ]
    },
    {
     "name": "stdout",
     "output_type": "stream",
     "text": [
      "\\rProcessing... | Frame: 5317 | Recent: 0"
     ]
    },
    {
     "name": "stdout",
     "output_type": "stream",
     "text": [
      "\\rProcessing... | Frame: 5319 | Recent: 0"
     ]
    },
    {
     "name": "stdout",
     "output_type": "stream",
     "text": [
      "\\rProcessing... | Frame: 5321 | Recent: 0"
     ]
    },
    {
     "name": "stdout",
     "output_type": "stream",
     "text": [
      "\\rProcessing... | Frame: 5323 | Recent: 0"
     ]
    },
    {
     "name": "stdout",
     "output_type": "stream",
     "text": [
      "\\rProcessing... | Frame: 5325 | Recent: 0"
     ]
    },
    {
     "name": "stdout",
     "output_type": "stream",
     "text": [
      "\\rProcessing... | Frame: 5327 | Recent: 0"
     ]
    },
    {
     "name": "stdout",
     "output_type": "stream",
     "text": [
      "\\rProcessing... | Frame: 5329 | Recent: 0"
     ]
    },
    {
     "name": "stdout",
     "output_type": "stream",
     "text": [
      "\\rProcessing... | Frame: 5331 | Recent: 0"
     ]
    },
    {
     "name": "stdout",
     "output_type": "stream",
     "text": [
      "\\rProcessing... | Frame: 5333 | Recent: 0"
     ]
    },
    {
     "name": "stdout",
     "output_type": "stream",
     "text": [
      "\\rProcessing... | Frame: 5335 | Recent: 0"
     ]
    },
    {
     "name": "stdout",
     "output_type": "stream",
     "text": [
      "\\rProcessing... | Frame: 5337 | Recent: 0"
     ]
    },
    {
     "name": "stdout",
     "output_type": "stream",
     "text": [
      "\\rProcessing... | Frame: 5339 | Recent: 0"
     ]
    },
    {
     "name": "stdout",
     "output_type": "stream",
     "text": [
      "\\rProcessing... | Frame: 5341 | Recent: 0"
     ]
    },
    {
     "name": "stdout",
     "output_type": "stream",
     "text": [
      "\\rProcessing... | Frame: 5343 | Recent: 0"
     ]
    },
    {
     "name": "stdout",
     "output_type": "stream",
     "text": [
      "\\rProcessing... | Frame: 5345 | Recent: 0"
     ]
    },
    {
     "name": "stdout",
     "output_type": "stream",
     "text": [
      "\\rProcessing... | Frame: 5347 | Recent: 0"
     ]
    },
    {
     "name": "stdout",
     "output_type": "stream",
     "text": [
      "\\rProcessing... | Frame: 5349 | Recent: 0"
     ]
    },
    {
     "name": "stdout",
     "output_type": "stream",
     "text": [
      "\\rProcessing... | Frame: 5351 | Recent: 0"
     ]
    },
    {
     "name": "stdout",
     "output_type": "stream",
     "text": [
      "\\rProcessing... | Frame: 5353 | Recent: 0"
     ]
    },
    {
     "name": "stdout",
     "output_type": "stream",
     "text": [
      "\\rProcessing... | Frame: 5355 | Recent: 0"
     ]
    },
    {
     "name": "stdout",
     "output_type": "stream",
     "text": [
      "\\rProcessing... | Frame: 5357 | Recent: 0"
     ]
    },
    {
     "name": "stdout",
     "output_type": "stream",
     "text": [
      "\\rProcessing... | Frame: 5359 | Recent: 0"
     ]
    },
    {
     "name": "stdout",
     "output_type": "stream",
     "text": [
      "\\rProcessing... | Frame: 5361 | Recent: 0"
     ]
    },
    {
     "name": "stdout",
     "output_type": "stream",
     "text": [
      "\\rProcessing... | Frame: 5363 | Recent: 0"
     ]
    },
    {
     "name": "stdout",
     "output_type": "stream",
     "text": [
      "\\rProcessing... | Frame: 5365 | Recent: 0"
     ]
    },
    {
     "name": "stdout",
     "output_type": "stream",
     "text": [
      "\\rProcessing... | Frame: 5367 | Recent: 0"
     ]
    },
    {
     "name": "stdout",
     "output_type": "stream",
     "text": [
      "\\rProcessing... | Frame: 5369 | Recent: 0"
     ]
    },
    {
     "name": "stdout",
     "output_type": "stream",
     "text": [
      "\\rProcessing... | Frame: 5371 | Recent: 0"
     ]
    },
    {
     "name": "stdout",
     "output_type": "stream",
     "text": [
      "\\rProcessing... | Frame: 5373 | Recent: 0"
     ]
    },
    {
     "name": "stdout",
     "output_type": "stream",
     "text": [
      "\\rProcessing... | Frame: 5375 | Recent: 0"
     ]
    },
    {
     "name": "stdout",
     "output_type": "stream",
     "text": [
      "\\rProcessing... | Frame: 5377 | Recent: 0"
     ]
    },
    {
     "name": "stdout",
     "output_type": "stream",
     "text": [
      "\\rProcessing... | Frame: 5379 | Recent: 0"
     ]
    },
    {
     "name": "stdout",
     "output_type": "stream",
     "text": [
      "\\rProcessing... | Frame: 5381 | Recent: 0"
     ]
    },
    {
     "name": "stdout",
     "output_type": "stream",
     "text": [
      "\\rProcessing... | Frame: 5383 | Recent: 0"
     ]
    },
    {
     "name": "stdout",
     "output_type": "stream",
     "text": [
      "\\rProcessing... | Frame: 5385 | Recent: 0"
     ]
    },
    {
     "name": "stdout",
     "output_type": "stream",
     "text": [
      "\\rProcessing... | Frame: 5387 | Recent: 0"
     ]
    },
    {
     "name": "stdout",
     "output_type": "stream",
     "text": [
      "\\rProcessing... | Frame: 5391 | Recent: 0"
     ]
    },
    {
     "name": "stdout",
     "output_type": "stream",
     "text": [
      "\\rProcessing... | Frame: 5393 | Recent: 0"
     ]
    },
    {
     "name": "stdout",
     "output_type": "stream",
     "text": [
      "\\rProcessing... | Frame: 5395 | Recent: 0"
     ]
    },
    {
     "name": "stdout",
     "output_type": "stream",
     "text": [
      "\\rProcessing... | Frame: 5399 | Recent: 0"
     ]
    },
    {
     "name": "stdout",
     "output_type": "stream",
     "text": [
      "\\rProcessing... | Frame: 5401 | Recent: 0"
     ]
    },
    {
     "name": "stdout",
     "output_type": "stream",
     "text": [
      "\\rProcessing... | Frame: 5403 | Recent: 0"
     ]
    },
    {
     "name": "stdout",
     "output_type": "stream",
     "text": [
      "\\rProcessing... | Frame: 5405 | Recent: 0"
     ]
    },
    {
     "name": "stdout",
     "output_type": "stream",
     "text": [
      "\\rProcessing... | Frame: 5407 | Recent: 0"
     ]
    },
    {
     "name": "stdout",
     "output_type": "stream",
     "text": [
      "\\rProcessing... | Frame: 5409 | Recent: 0"
     ]
    },
    {
     "name": "stdout",
     "output_type": "stream",
     "text": [
      "\\rProcessing... | Frame: 5411 | Recent: 0"
     ]
    },
    {
     "name": "stdout",
     "output_type": "stream",
     "text": [
      "\\rProcessing... | Frame: 5413 | Recent: 0"
     ]
    },
    {
     "name": "stdout",
     "output_type": "stream",
     "text": [
      "\\rProcessing... | Frame: 5415 | Recent: 0"
     ]
    },
    {
     "name": "stdout",
     "output_type": "stream",
     "text": [
      "\\rProcessing... | Frame: 5417 | Recent: 0"
     ]
    },
    {
     "name": "stdout",
     "output_type": "stream",
     "text": [
      "\\rProcessing... | Frame: 5419 | Recent: 0"
     ]
    },
    {
     "name": "stdout",
     "output_type": "stream",
     "text": [
      "\\rProcessing... | Frame: 5421 | Recent: 0"
     ]
    },
    {
     "name": "stdout",
     "output_type": "stream",
     "text": [
      "\\rProcessing... | Frame: 5423 | Recent: 0"
     ]
    },
    {
     "name": "stdout",
     "output_type": "stream",
     "text": [
      "\\rProcessing... | Frame: 5425 | Recent: 0"
     ]
    },
    {
     "name": "stdout",
     "output_type": "stream",
     "text": [
      "\\rProcessing... | Frame: 5427 | Recent: 0"
     ]
    },
    {
     "name": "stdout",
     "output_type": "stream",
     "text": [
      "\\rProcessing... | Frame: 5429 | Recent: 0"
     ]
    },
    {
     "name": "stdout",
     "output_type": "stream",
     "text": [
      "\\rProcessing... | Frame: 5431 | Recent: 0"
     ]
    },
    {
     "name": "stdout",
     "output_type": "stream",
     "text": [
      "\\rProcessing... | Frame: 5433 | Recent: 0"
     ]
    },
    {
     "name": "stdout",
     "output_type": "stream",
     "text": [
      "\\rProcessing... | Frame: 5435 | Recent: 0"
     ]
    },
    {
     "name": "stdout",
     "output_type": "stream",
     "text": [
      "\\rProcessing... | Frame: 5437 | Recent: 0"
     ]
    },
    {
     "name": "stdout",
     "output_type": "stream",
     "text": [
      "\\rProcessing... | Frame: 5439 | Recent: 0"
     ]
    },
    {
     "name": "stdout",
     "output_type": "stream",
     "text": [
      "\\rProcessing... | Frame: 5441 | Recent: 0"
     ]
    },
    {
     "name": "stdout",
     "output_type": "stream",
     "text": [
      "\\rProcessing... | Frame: 5443 | Recent: 0"
     ]
    },
    {
     "name": "stdout",
     "output_type": "stream",
     "text": [
      "\\rProcessing... | Frame: 5445 | Recent: 0"
     ]
    },
    {
     "name": "stdout",
     "output_type": "stream",
     "text": [
      "\\rProcessing... | Frame: 5447 | Recent: 0"
     ]
    },
    {
     "name": "stdout",
     "output_type": "stream",
     "text": [
      "\\rProcessing... | Frame: 5449 | Recent: 0"
     ]
    },
    {
     "name": "stdout",
     "output_type": "stream",
     "text": [
      "\\rProcessing... | Frame: 5451 | Recent: 0"
     ]
    },
    {
     "name": "stdout",
     "output_type": "stream",
     "text": [
      "\\rProcessing... | Frame: 5453 | Recent: 0"
     ]
    },
    {
     "name": "stdout",
     "output_type": "stream",
     "text": [
      "\\rProcessing... | Frame: 5455 | Recent: 0"
     ]
    },
    {
     "name": "stdout",
     "output_type": "stream",
     "text": [
      "\\rProcessing... | Frame: 5457 | Recent: 0"
     ]
    },
    {
     "name": "stdout",
     "output_type": "stream",
     "text": [
      "\\rProcessing... | Frame: 5459 | Recent: 0"
     ]
    },
    {
     "name": "stdout",
     "output_type": "stream",
     "text": [
      "\\rProcessing... | Frame: 5461 | Recent: 0"
     ]
    },
    {
     "name": "stdout",
     "output_type": "stream",
     "text": [
      "\\rProcessing... | Frame: 5463 | Recent: 0"
     ]
    },
    {
     "name": "stdout",
     "output_type": "stream",
     "text": [
      "\\rProcessing... | Frame: 5467 | Recent: 0"
     ]
    },
    {
     "name": "stdout",
     "output_type": "stream",
     "text": [
      "\\rProcessing... | Frame: 5471 | Recent: 0"
     ]
    },
    {
     "name": "stdout",
     "output_type": "stream",
     "text": [
      "\\rProcessing... | Frame: 5473 | Recent: 0"
     ]
    },
    {
     "name": "stdout",
     "output_type": "stream",
     "text": [
      "\\rProcessing... | Frame: 5475 | Recent: 0"
     ]
    },
    {
     "name": "stdout",
     "output_type": "stream",
     "text": [
      "\\rProcessing... | Frame: 5477 | Recent: 0"
     ]
    },
    {
     "name": "stdout",
     "output_type": "stream",
     "text": [
      "\\rProcessing... | Frame: 5479 | Recent: 0"
     ]
    },
    {
     "name": "stdout",
     "output_type": "stream",
     "text": [
      "\\rProcessing... | Frame: 5481 | Recent: 0"
     ]
    },
    {
     "name": "stdout",
     "output_type": "stream",
     "text": [
      "\\rProcessing... | Frame: 5485 | Recent: 0"
     ]
    },
    {
     "name": "stdout",
     "output_type": "stream",
     "text": [
      "\\rProcessing... | Frame: 5487 | Recent: 0"
     ]
    },
    {
     "name": "stdout",
     "output_type": "stream",
     "text": [
      "\\rProcessing... | Frame: 5489 | Recent: 0"
     ]
    },
    {
     "name": "stdout",
     "output_type": "stream",
     "text": [
      "\\rProcessing... | Frame: 5491 | Recent: 0"
     ]
    },
    {
     "name": "stdout",
     "output_type": "stream",
     "text": [
      "\\rProcessing... | Frame: 5493 | Recent: 0"
     ]
    },
    {
     "name": "stdout",
     "output_type": "stream",
     "text": [
      "\\rProcessing... | Frame: 5495 | Recent: 0"
     ]
    },
    {
     "name": "stdout",
     "output_type": "stream",
     "text": [
      "\\rProcessing... | Frame: 5497 | Recent: 0"
     ]
    },
    {
     "name": "stdout",
     "output_type": "stream",
     "text": [
      "\\rProcessing... | Frame: 5499 | Recent: 0"
     ]
    },
    {
     "name": "stdout",
     "output_type": "stream",
     "text": [
      "\\rProcessing... | Frame: 5501 | Recent: 0"
     ]
    },
    {
     "name": "stdout",
     "output_type": "stream",
     "text": [
      "\\rProcessing... | Frame: 5503 | Recent: 0"
     ]
    },
    {
     "name": "stdout",
     "output_type": "stream",
     "text": [
      "\\rProcessing... | Frame: 5505 | Recent: 0"
     ]
    },
    {
     "name": "stdout",
     "output_type": "stream",
     "text": [
      "\\rProcessing... | Frame: 5507 | Recent: 0"
     ]
    },
    {
     "name": "stdout",
     "output_type": "stream",
     "text": [
      "\\rProcessing... | Frame: 5509 | Recent: 0"
     ]
    },
    {
     "name": "stdout",
     "output_type": "stream",
     "text": [
      "\\rProcessing... | Frame: 5511 | Recent: 0"
     ]
    },
    {
     "name": "stdout",
     "output_type": "stream",
     "text": [
      "\\rProcessing... | Frame: 5513 | Recent: 0"
     ]
    },
    {
     "name": "stdout",
     "output_type": "stream",
     "text": [
      "\\rProcessing... | Frame: 5515 | Recent: 0"
     ]
    },
    {
     "name": "stdout",
     "output_type": "stream",
     "text": [
      "\\rProcessing... | Frame: 5517 | Recent: 0"
     ]
    },
    {
     "name": "stdout",
     "output_type": "stream",
     "text": [
      "\\rProcessing... | Frame: 5519 | Recent: 0"
     ]
    },
    {
     "name": "stdout",
     "output_type": "stream",
     "text": [
      "\\rProcessing... | Frame: 5521 | Recent: 0"
     ]
    },
    {
     "name": "stdout",
     "output_type": "stream",
     "text": [
      "\\rProcessing... | Frame: 5523 | Recent: 0"
     ]
    },
    {
     "name": "stdout",
     "output_type": "stream",
     "text": [
      "\\rProcessing... | Frame: 5525 | Recent: 0"
     ]
    },
    {
     "name": "stdout",
     "output_type": "stream",
     "text": [
      "\\rProcessing... | Frame: 5527 | Recent: 0"
     ]
    },
    {
     "name": "stdout",
     "output_type": "stream",
     "text": [
      "\\rProcessing... | Frame: 5529 | Recent: 0"
     ]
    },
    {
     "name": "stdout",
     "output_type": "stream",
     "text": [
      "\\rProcessing... | Frame: 5531 | Recent: 0"
     ]
    },
    {
     "name": "stdout",
     "output_type": "stream",
     "text": [
      "\\rProcessing... | Frame: 5533 | Recent: 0"
     ]
    },
    {
     "name": "stdout",
     "output_type": "stream",
     "text": [
      "\\rProcessing... | Frame: 5535 | Recent: 0"
     ]
    },
    {
     "name": "stdout",
     "output_type": "stream",
     "text": [
      "\\rProcessing... | Frame: 5537 | Recent: 0"
     ]
    },
    {
     "name": "stdout",
     "output_type": "stream",
     "text": [
      "\\rProcessing... | Frame: 5539 | Recent: 0"
     ]
    },
    {
     "name": "stdout",
     "output_type": "stream",
     "text": [
      "\\rProcessing... | Frame: 5541 | Recent: 0"
     ]
    },
    {
     "name": "stdout",
     "output_type": "stream",
     "text": [
      "\\rProcessing... | Frame: 5543 | Recent: 0"
     ]
    },
    {
     "name": "stdout",
     "output_type": "stream",
     "text": [
      "\\rProcessing... | Frame: 5545 | Recent: 0"
     ]
    },
    {
     "name": "stdout",
     "output_type": "stream",
     "text": [
      "\\rProcessing... | Frame: 5547 | Recent: 0"
     ]
    },
    {
     "name": "stdout",
     "output_type": "stream",
     "text": [
      "\\rProcessing... | Frame: 5549 | Recent: 0"
     ]
    },
    {
     "name": "stdout",
     "output_type": "stream",
     "text": [
      "\\rProcessing... | Frame: 5551 | Recent: 0"
     ]
    },
    {
     "name": "stdout",
     "output_type": "stream",
     "text": [
      "\\rProcessing... | Frame: 5553 | Recent: 0"
     ]
    },
    {
     "name": "stdout",
     "output_type": "stream",
     "text": [
      "\\rProcessing... | Frame: 5555 | Recent: 0"
     ]
    },
    {
     "name": "stdout",
     "output_type": "stream",
     "text": [
      "\\rProcessing... | Frame: 5557 | Recent: 0"
     ]
    },
    {
     "name": "stdout",
     "output_type": "stream",
     "text": [
      "\\rProcessing... | Frame: 5559 | Recent: 0"
     ]
    },
    {
     "name": "stdout",
     "output_type": "stream",
     "text": [
      "\\rProcessing... | Frame: 5561 | Recent: 0"
     ]
    },
    {
     "name": "stdout",
     "output_type": "stream",
     "text": [
      "\\rProcessing... | Frame: 5563 | Recent: 0"
     ]
    },
    {
     "name": "stdout",
     "output_type": "stream",
     "text": [
      "\\rProcessing... | Frame: 5565 | Recent: 0"
     ]
    },
    {
     "name": "stdout",
     "output_type": "stream",
     "text": [
      "\\rProcessing... | Frame: 5567 | Recent: 0"
     ]
    },
    {
     "name": "stdout",
     "output_type": "stream",
     "text": [
      "\\rProcessing... | Frame: 5569 | Recent: 0"
     ]
    },
    {
     "name": "stdout",
     "output_type": "stream",
     "text": [
      "\\rProcessing... | Frame: 5571 | Recent: 0"
     ]
    },
    {
     "name": "stdout",
     "output_type": "stream",
     "text": [
      "\\rProcessing... | Frame: 5573 | Recent: 0"
     ]
    },
    {
     "name": "stdout",
     "output_type": "stream",
     "text": [
      "\\rProcessing... | Frame: 5575 | Recent: 0"
     ]
    },
    {
     "name": "stdout",
     "output_type": "stream",
     "text": [
      "\\rProcessing... | Frame: 5577 | Recent: 0"
     ]
    },
    {
     "name": "stdout",
     "output_type": "stream",
     "text": [
      "\\rProcessing... | Frame: 5579 | Recent: 0"
     ]
    },
    {
     "name": "stdout",
     "output_type": "stream",
     "text": [
      "\\rProcessing... | Frame: 5581 | Recent: 0"
     ]
    },
    {
     "name": "stdout",
     "output_type": "stream",
     "text": [
      "\\rProcessing... | Frame: 5583 | Recent: 0"
     ]
    },
    {
     "name": "stdout",
     "output_type": "stream",
     "text": [
      "\\rProcessing... | Frame: 5585 | Recent: 0"
     ]
    },
    {
     "name": "stdout",
     "output_type": "stream",
     "text": [
      "\\rProcessing... | Frame: 5587 | Recent: 0"
     ]
    },
    {
     "name": "stdout",
     "output_type": "stream",
     "text": [
      "\\rProcessing... | Frame: 5589 | Recent: 0"
     ]
    },
    {
     "name": "stdout",
     "output_type": "stream",
     "text": [
      "\\rProcessing... | Frame: 5591 | Recent: 0"
     ]
    },
    {
     "name": "stdout",
     "output_type": "stream",
     "text": [
      "\\rProcessing... | Frame: 5593 | Recent: 0"
     ]
    },
    {
     "name": "stdout",
     "output_type": "stream",
     "text": [
      "\\rProcessing... | Frame: 5595 | Recent: 0"
     ]
    },
    {
     "name": "stdout",
     "output_type": "stream",
     "text": [
      "\\rProcessing... | Frame: 5597 | Recent: 0"
     ]
    },
    {
     "name": "stdout",
     "output_type": "stream",
     "text": [
      "\\rProcessing... | Frame: 5600 | Recent: 0"
     ]
    },
    {
     "name": "stdout",
     "output_type": "stream",
     "text": [
      "\\rProcessing... | Frame: 5601 | Recent: 0"
     ]
    },
    {
     "name": "stdout",
     "output_type": "stream",
     "text": [
      "\\rProcessing... | Frame: 5603 | Recent: 0"
     ]
    },
    {
     "name": "stdout",
     "output_type": "stream",
     "text": [
      "\\rProcessing... | Frame: 5605 | Recent: 0"
     ]
    },
    {
     "name": "stdout",
     "output_type": "stream",
     "text": [
      "\\rProcessing... | Frame: 5607 | Recent: 0"
     ]
    },
    {
     "name": "stdout",
     "output_type": "stream",
     "text": [
      "\\rProcessing... | Frame: 5609 | Recent: 0"
     ]
    },
    {
     "name": "stdout",
     "output_type": "stream",
     "text": [
      "\\rProcessing... | Frame: 5611 | Recent: 0"
     ]
    },
    {
     "name": "stdout",
     "output_type": "stream",
     "text": [
      "\\rProcessing... | Frame: 5615 | Recent: 0"
     ]
    },
    {
     "name": "stdout",
     "output_type": "stream",
     "text": [
      "\\rProcessing... | Frame: 5617 | Recent: 0"
     ]
    },
    {
     "name": "stdout",
     "output_type": "stream",
     "text": [
      "\\rProcessing... | Frame: 5619 | Recent: 0"
     ]
    },
    {
     "name": "stdout",
     "output_type": "stream",
     "text": [
      "\\rProcessing... | Frame: 5621 | Recent: 0"
     ]
    },
    {
     "name": "stdout",
     "output_type": "stream",
     "text": [
      "\\rProcessing... | Frame: 5623 | Recent: 0"
     ]
    },
    {
     "name": "stdout",
     "output_type": "stream",
     "text": [
      "\\rProcessing... | Frame: 5625 | Recent: 0"
     ]
    },
    {
     "name": "stdout",
     "output_type": "stream",
     "text": [
      "\\rProcessing... | Frame: 5627 | Recent: 0"
     ]
    },
    {
     "name": "stdout",
     "output_type": "stream",
     "text": [
      "\\rProcessing... | Frame: 5629 | Recent: 0"
     ]
    },
    {
     "name": "stdout",
     "output_type": "stream",
     "text": [
      "\\rProcessing... | Frame: 5631 | Recent: 0"
     ]
    },
    {
     "name": "stdout",
     "output_type": "stream",
     "text": [
      "\\rProcessing... | Frame: 5633 | Recent: 0"
     ]
    },
    {
     "name": "stdout",
     "output_type": "stream",
     "text": [
      "\\rProcessing... | Frame: 5635 | Recent: 0"
     ]
    },
    {
     "name": "stdout",
     "output_type": "stream",
     "text": [
      "\\rProcessing... | Frame: 5637 | Recent: 0"
     ]
    },
    {
     "name": "stdout",
     "output_type": "stream",
     "text": [
      "\\rProcessing... | Frame: 5639 | Recent: 0"
     ]
    },
    {
     "name": "stdout",
     "output_type": "stream",
     "text": [
      "\\rProcessing... | Frame: 5641 | Recent: 0"
     ]
    },
    {
     "name": "stdout",
     "output_type": "stream",
     "text": [
      "\\rProcessing... | Frame: 5643 | Recent: 0"
     ]
    },
    {
     "name": "stdout",
     "output_type": "stream",
     "text": [
      "\\rProcessing... | Frame: 5645 | Recent: 0"
     ]
    },
    {
     "name": "stdout",
     "output_type": "stream",
     "text": [
      "\\rProcessing... | Frame: 5647 | Recent: 0"
     ]
    },
    {
     "name": "stdout",
     "output_type": "stream",
     "text": [
      "\\rProcessing... | Frame: 5649 | Recent: 0"
     ]
    },
    {
     "name": "stdout",
     "output_type": "stream",
     "text": [
      "\\rProcessing... | Frame: 5651 | Recent: 0"
     ]
    },
    {
     "name": "stdout",
     "output_type": "stream",
     "text": [
      "\\rProcessing... | Frame: 5653 | Recent: 0"
     ]
    },
    {
     "name": "stdout",
     "output_type": "stream",
     "text": [
      "\\rProcessing... | Frame: 5655 | Recent: 0"
     ]
    },
    {
     "name": "stdout",
     "output_type": "stream",
     "text": [
      "\\rProcessing... | Frame: 5657 | Recent: 0"
     ]
    },
    {
     "name": "stdout",
     "output_type": "stream",
     "text": [
      "\\rProcessing... | Frame: 5659 | Recent: 0"
     ]
    },
    {
     "name": "stdout",
     "output_type": "stream",
     "text": [
      "\\rProcessing... | Frame: 5661 | Recent: 0"
     ]
    },
    {
     "name": "stdout",
     "output_type": "stream",
     "text": [
      "\\rProcessing... | Frame: 5663 | Recent: 0"
     ]
    },
    {
     "name": "stdout",
     "output_type": "stream",
     "text": [
      "\\rProcessing... | Frame: 5665 | Recent: 0"
     ]
    },
    {
     "name": "stdout",
     "output_type": "stream",
     "text": [
      "\\rProcessing... | Frame: 5667 | Recent: 0"
     ]
    },
    {
     "name": "stdout",
     "output_type": "stream",
     "text": [
      "\\rProcessing... | Frame: 5669 | Recent: 0"
     ]
    },
    {
     "name": "stdout",
     "output_type": "stream",
     "text": [
      "\\rProcessing... | Frame: 5671 | Recent: 0"
     ]
    },
    {
     "name": "stdout",
     "output_type": "stream",
     "text": [
      "\\rProcessing... | Frame: 5673 | Recent: 0"
     ]
    },
    {
     "name": "stdout",
     "output_type": "stream",
     "text": [
      "\\rProcessing... | Frame: 5675 | Recent: 0"
     ]
    },
    {
     "name": "stdout",
     "output_type": "stream",
     "text": [
      "\\rProcessing... | Frame: 5677 | Recent: 0"
     ]
    },
    {
     "name": "stdout",
     "output_type": "stream",
     "text": [
      "\\rProcessing... | Frame: 5679 | Recent: 0"
     ]
    },
    {
     "name": "stdout",
     "output_type": "stream",
     "text": [
      "\\rProcessing... | Frame: 5681 | Recent: 0"
     ]
    },
    {
     "name": "stdout",
     "output_type": "stream",
     "text": [
      "\\rProcessing... | Frame: 5683 | Recent: 0"
     ]
    },
    {
     "name": "stdout",
     "output_type": "stream",
     "text": [
      "\\rProcessing... | Frame: 5685 | Recent: 0"
     ]
    },
    {
     "name": "stdout",
     "output_type": "stream",
     "text": [
      "\\rProcessing... | Frame: 5687 | Recent: 0"
     ]
    },
    {
     "name": "stdout",
     "output_type": "stream",
     "text": [
      "\\rProcessing... | Frame: 5689 | Recent: 0"
     ]
    },
    {
     "name": "stdout",
     "output_type": "stream",
     "text": [
      "\\rProcessing... | Frame: 5691 | Recent: 0"
     ]
    },
    {
     "name": "stdout",
     "output_type": "stream",
     "text": [
      "\\rProcessing... | Frame: 5693 | Recent: 0"
     ]
    },
    {
     "name": "stdout",
     "output_type": "stream",
     "text": [
      "\\rProcessing... | Frame: 5695 | Recent: 0"
     ]
    },
    {
     "name": "stdout",
     "output_type": "stream",
     "text": [
      "\\rProcessing... | Frame: 5697 | Recent: 0"
     ]
    },
    {
     "name": "stdout",
     "output_type": "stream",
     "text": [
      "\\rProcessing... | Frame: 5699 | Recent: 0"
     ]
    },
    {
     "name": "stdout",
     "output_type": "stream",
     "text": [
      "\\rProcessing... | Frame: 5701 | Recent: 0"
     ]
    },
    {
     "name": "stdout",
     "output_type": "stream",
     "text": [
      "\\rProcessing... | Frame: 5703 | Recent: 0"
     ]
    },
    {
     "name": "stdout",
     "output_type": "stream",
     "text": [
      "\\rProcessing... | Frame: 5705 | Recent: 0"
     ]
    },
    {
     "name": "stdout",
     "output_type": "stream",
     "text": [
      "\\rProcessing... | Frame: 5707 | Recent: 0"
     ]
    },
    {
     "name": "stdout",
     "output_type": "stream",
     "text": [
      "\\rProcessing... | Frame: 5709 | Recent: 0"
     ]
    },
    {
     "name": "stdout",
     "output_type": "stream",
     "text": [
      "\\rProcessing... | Frame: 5711 | Recent: 0"
     ]
    },
    {
     "name": "stdout",
     "output_type": "stream",
     "text": [
      "\\rProcessing... | Frame: 5713 | Recent: 0"
     ]
    },
    {
     "name": "stdout",
     "output_type": "stream",
     "text": [
      "\\rProcessing... | Frame: 5715 | Recent: 0"
     ]
    },
    {
     "name": "stdout",
     "output_type": "stream",
     "text": [
      "\\rProcessing... | Frame: 5717 | Recent: 0"
     ]
    },
    {
     "name": "stdout",
     "output_type": "stream",
     "text": [
      "\\rProcessing... | Frame: 5719 | Recent: 0"
     ]
    },
    {
     "name": "stdout",
     "output_type": "stream",
     "text": [
      "\\rProcessing... | Frame: 5721 | Recent: 0"
     ]
    },
    {
     "name": "stdout",
     "output_type": "stream",
     "text": [
      "\\rProcessing... | Frame: 5723 | Recent: 0"
     ]
    },
    {
     "name": "stdout",
     "output_type": "stream",
     "text": [
      "\\rProcessing... | Frame: 5725 | Recent: 0"
     ]
    },
    {
     "name": "stdout",
     "output_type": "stream",
     "text": [
      "\\rProcessing... | Frame: 5727 | Recent: 0"
     ]
    },
    {
     "name": "stdout",
     "output_type": "stream",
     "text": [
      "\\rProcessing... | Frame: 5729 | Recent: 0"
     ]
    },
    {
     "name": "stdout",
     "output_type": "stream",
     "text": [
      "\\rProcessing... | Frame: 5731 | Recent: 0"
     ]
    },
    {
     "name": "stdout",
     "output_type": "stream",
     "text": [
      "\\rProcessing... | Frame: 5733 | Recent: 0"
     ]
    },
    {
     "name": "stdout",
     "output_type": "stream",
     "text": [
      "\\rProcessing... | Frame: 5735 | Recent: 0"
     ]
    },
    {
     "name": "stdout",
     "output_type": "stream",
     "text": [
      "\\rProcessing... | Frame: 5737 | Recent: 0"
     ]
    },
    {
     "name": "stdout",
     "output_type": "stream",
     "text": [
      "\\rProcessing... | Frame: 5739 | Recent: 0"
     ]
    },
    {
     "name": "stdout",
     "output_type": "stream",
     "text": [
      "\\rProcessing... | Frame: 5741 | Recent: 0"
     ]
    },
    {
     "name": "stdout",
     "output_type": "stream",
     "text": [
      "\\rProcessing... | Frame: 5743 | Recent: 0"
     ]
    },
    {
     "name": "stdout",
     "output_type": "stream",
     "text": [
      "\\rProcessing... | Frame: 5745 | Recent: 0"
     ]
    },
    {
     "name": "stdout",
     "output_type": "stream",
     "text": [
      "\\rProcessing... | Frame: 5749 | Recent: 0"
     ]
    },
    {
     "name": "stdout",
     "output_type": "stream",
     "text": [
      "\\rProcessing... | Frame: 5751 | Recent: 0"
     ]
    },
    {
     "name": "stdout",
     "output_type": "stream",
     "text": [
      "\\rProcessing... | Frame: 5753 | Recent: 0"
     ]
    },
    {
     "name": "stdout",
     "output_type": "stream",
     "text": [
      "\\rProcessing... | Frame: 5755 | Recent: 0"
     ]
    },
    {
     "name": "stdout",
     "output_type": "stream",
     "text": [
      "\\rProcessing... | Frame: 5757 | Recent: 0"
     ]
    },
    {
     "name": "stdout",
     "output_type": "stream",
     "text": [
      "\\rProcessing... | Frame: 5759 | Recent: 0"
     ]
    },
    {
     "name": "stdout",
     "output_type": "stream",
     "text": [
      "\\rProcessing... | Frame: 5761 | Recent: 0"
     ]
    },
    {
     "name": "stdout",
     "output_type": "stream",
     "text": [
      "\\rProcessing... | Frame: 5763 | Recent: 0"
     ]
    },
    {
     "name": "stdout",
     "output_type": "stream",
     "text": [
      "\\rProcessing... | Frame: 5765 | Recent: 0"
     ]
    },
    {
     "name": "stdout",
     "output_type": "stream",
     "text": [
      "\\rProcessing... | Frame: 5767 | Recent: 0"
     ]
    },
    {
     "name": "stdout",
     "output_type": "stream",
     "text": [
      "\\rProcessing... | Frame: 5769 | Recent: 0"
     ]
    },
    {
     "name": "stdout",
     "output_type": "stream",
     "text": [
      "\\rProcessing... | Frame: 5771 | Recent: 0"
     ]
    },
    {
     "name": "stdout",
     "output_type": "stream",
     "text": [
      "\\rProcessing... | Frame: 5773 | Recent: 0"
     ]
    },
    {
     "name": "stdout",
     "output_type": "stream",
     "text": [
      "\\rProcessing... | Frame: 5775 | Recent: 0"
     ]
    },
    {
     "name": "stdout",
     "output_type": "stream",
     "text": [
      "\\rProcessing... | Frame: 5777 | Recent: 0"
     ]
    },
    {
     "name": "stdout",
     "output_type": "stream",
     "text": [
      "\\rProcessing... | Frame: 5779 | Recent: 0"
     ]
    },
    {
     "name": "stdout",
     "output_type": "stream",
     "text": [
      "\\rProcessing... | Frame: 5781 | Recent: 0"
     ]
    },
    {
     "name": "stdout",
     "output_type": "stream",
     "text": [
      "\\rProcessing... | Frame: 5783 | Recent: 0"
     ]
    },
    {
     "name": "stdout",
     "output_type": "stream",
     "text": [
      "\\rProcessing... | Frame: 5785 | Recent: 0"
     ]
    },
    {
     "name": "stdout",
     "output_type": "stream",
     "text": [
      "\\rProcessing... | Frame: 5787 | Recent: 0"
     ]
    },
    {
     "name": "stdout",
     "output_type": "stream",
     "text": [
      "\\rProcessing... | Frame: 5789 | Recent: 0"
     ]
    },
    {
     "name": "stdout",
     "output_type": "stream",
     "text": [
      "\\rProcessing... | Frame: 5791 | Recent: 0"
     ]
    },
    {
     "name": "stdout",
     "output_type": "stream",
     "text": [
      "\\rProcessing... | Frame: 5793 | Recent: 0"
     ]
    },
    {
     "name": "stdout",
     "output_type": "stream",
     "text": [
      "\\rProcessing... | Frame: 5795 | Recent: 0"
     ]
    },
    {
     "name": "stdout",
     "output_type": "stream",
     "text": [
      "\\rProcessing... | Frame: 5797 | Recent: 0"
     ]
    },
    {
     "name": "stdout",
     "output_type": "stream",
     "text": [
      "\\rProcessing... | Frame: 5799 | Recent: 0"
     ]
    },
    {
     "name": "stdout",
     "output_type": "stream",
     "text": [
      "\\rProcessing... | Frame: 5801 | Recent: 0"
     ]
    },
    {
     "name": "stdout",
     "output_type": "stream",
     "text": [
      "\\rProcessing... | Frame: 5803 | Recent: 0"
     ]
    },
    {
     "name": "stdout",
     "output_type": "stream",
     "text": [
      "\\rProcessing... | Frame: 5805 | Recent: 0"
     ]
    },
    {
     "name": "stdout",
     "output_type": "stream",
     "text": [
      "\\rProcessing... | Frame: 5807 | Recent: 0"
     ]
    },
    {
     "name": "stdout",
     "output_type": "stream",
     "text": [
      "\\rProcessing... | Frame: 5809 | Recent: 0"
     ]
    },
    {
     "name": "stdout",
     "output_type": "stream",
     "text": [
      "\\rProcessing... | Frame: 5811 | Recent: 0"
     ]
    },
    {
     "name": "stdout",
     "output_type": "stream",
     "text": [
      "\\rProcessing... | Frame: 5814 | Recent: 0"
     ]
    },
    {
     "name": "stdout",
     "output_type": "stream",
     "text": [
      "\\rProcessing... | Frame: 5815 | Recent: 0"
     ]
    },
    {
     "name": "stdout",
     "output_type": "stream",
     "text": [
      "\\rProcessing... | Frame: 5817 | Recent: 0"
     ]
    },
    {
     "name": "stdout",
     "output_type": "stream",
     "text": [
      "\\rProcessing... | Frame: 5819 | Recent: 0"
     ]
    },
    {
     "name": "stdout",
     "output_type": "stream",
     "text": [
      "\\rProcessing... | Frame: 5821 | Recent: 0"
     ]
    },
    {
     "name": "stdout",
     "output_type": "stream",
     "text": [
      "\\rProcessing... | Frame: 5823 | Recent: 0"
     ]
    },
    {
     "name": "stdout",
     "output_type": "stream",
     "text": [
      "\\rProcessing... | Frame: 5825 | Recent: 0"
     ]
    },
    {
     "name": "stdout",
     "output_type": "stream",
     "text": [
      "\\rProcessing... | Frame: 5827 | Recent: 0"
     ]
    },
    {
     "name": "stdout",
     "output_type": "stream",
     "text": [
      "\\rProcessing... | Frame: 5829 | Recent: 0"
     ]
    },
    {
     "name": "stdout",
     "output_type": "stream",
     "text": [
      "\\rProcessing... | Frame: 5831 | Recent: 0"
     ]
    },
    {
     "name": "stdout",
     "output_type": "stream",
     "text": [
      "\\rProcessing... | Frame: 5833 | Recent: 0"
     ]
    },
    {
     "name": "stdout",
     "output_type": "stream",
     "text": [
      "\\rProcessing... | Frame: 5835 | Recent: 0"
     ]
    },
    {
     "name": "stdout",
     "output_type": "stream",
     "text": [
      "\\rProcessing... | Frame: 5837 | Recent: 0"
     ]
    },
    {
     "name": "stdout",
     "output_type": "stream",
     "text": [
      "\\rProcessing... | Frame: 5839 | Recent: 0"
     ]
    },
    {
     "name": "stdout",
     "output_type": "stream",
     "text": [
      "\\rProcessing... | Frame: 5841 | Recent: 0"
     ]
    },
    {
     "name": "stdout",
     "output_type": "stream",
     "text": [
      "\\rProcessing... | Frame: 5843 | Recent: 0"
     ]
    },
    {
     "name": "stdout",
     "output_type": "stream",
     "text": [
      "\\rProcessing... | Frame: 5845 | Recent: 0"
     ]
    },
    {
     "name": "stdout",
     "output_type": "stream",
     "text": [
      "\\rProcessing... | Frame: 5847 | Recent: 0"
     ]
    },
    {
     "name": "stdout",
     "output_type": "stream",
     "text": [
      "\\rProcessing... | Frame: 5849 | Recent: 0"
     ]
    },
    {
     "name": "stdout",
     "output_type": "stream",
     "text": [
      "\\rProcessing... | Frame: 5851 | Recent: 0"
     ]
    },
    {
     "name": "stdout",
     "output_type": "stream",
     "text": [
      "\\rProcessing... | Frame: 5853 | Recent: 0"
     ]
    },
    {
     "name": "stdout",
     "output_type": "stream",
     "text": [
      "\\rProcessing... | Frame: 5855 | Recent: 0"
     ]
    },
    {
     "name": "stdout",
     "output_type": "stream",
     "text": [
      "\\rProcessing... | Frame: 5857 | Recent: 0"
     ]
    },
    {
     "name": "stdout",
     "output_type": "stream",
     "text": [
      "\\rProcessing... | Frame: 5859 | Recent: 0"
     ]
    },
    {
     "name": "stdout",
     "output_type": "stream",
     "text": [
      "\\rProcessing... | Frame: 5861 | Recent: 0"
     ]
    },
    {
     "name": "stdout",
     "output_type": "stream",
     "text": [
      "\\rProcessing... | Frame: 5863 | Recent: 0"
     ]
    },
    {
     "name": "stdout",
     "output_type": "stream",
     "text": [
      "\\rProcessing... | Frame: 5865 | Recent: 0"
     ]
    },
    {
     "name": "stdout",
     "output_type": "stream",
     "text": [
      "\\rProcessing... | Frame: 5867 | Recent: 0"
     ]
    },
    {
     "name": "stdout",
     "output_type": "stream",
     "text": [
      "\\rProcessing... | Frame: 5869 | Recent: 0"
     ]
    },
    {
     "name": "stdout",
     "output_type": "stream",
     "text": [
      "\\rProcessing... | Frame: 5871 | Recent: 0"
     ]
    },
    {
     "name": "stdout",
     "output_type": "stream",
     "text": [
      "\\rProcessing... | Frame: 5873 | Recent: 0"
     ]
    },
    {
     "name": "stdout",
     "output_type": "stream",
     "text": [
      "\\rProcessing... | Frame: 5875 | Recent: 0"
     ]
    },
    {
     "name": "stdout",
     "output_type": "stream",
     "text": [
      "\\rProcessing... | Frame: 5877 | Recent: 0"
     ]
    },
    {
     "name": "stdout",
     "output_type": "stream",
     "text": [
      "\\rProcessing... | Frame: 5879 | Recent: 0"
     ]
    },
    {
     "name": "stdout",
     "output_type": "stream",
     "text": [
      "\\rProcessing... | Frame: 5881 | Recent: 0"
     ]
    },
    {
     "name": "stdout",
     "output_type": "stream",
     "text": [
      "\\rProcessing... | Frame: 5883 | Recent: 0"
     ]
    },
    {
     "name": "stdout",
     "output_type": "stream",
     "text": [
      "\\rProcessing... | Frame: 5885 | Recent: 0"
     ]
    },
    {
     "name": "stdout",
     "output_type": "stream",
     "text": [
      "\\rProcessing... | Frame: 5887 | Recent: 0"
     ]
    },
    {
     "name": "stdout",
     "output_type": "stream",
     "text": [
      "\\rProcessing... | Frame: 5889 | Recent: 0"
     ]
    },
    {
     "name": "stdout",
     "output_type": "stream",
     "text": [
      "\\rProcessing... | Frame: 5891 | Recent: 0"
     ]
    },
    {
     "name": "stdout",
     "output_type": "stream",
     "text": [
      "\\rProcessing... | Frame: 5893 | Recent: 0"
     ]
    },
    {
     "name": "stdout",
     "output_type": "stream",
     "text": [
      "\\rProcessing... | Frame: 5895 | Recent: 0"
     ]
    },
    {
     "name": "stdout",
     "output_type": "stream",
     "text": [
      "\\rProcessing... | Frame: 5897 | Recent: 0"
     ]
    },
    {
     "name": "stdout",
     "output_type": "stream",
     "text": [
      "\\rProcessing... | Frame: 5899 | Recent: 0"
     ]
    },
    {
     "name": "stdout",
     "output_type": "stream",
     "text": [
      "\\rProcessing... | Frame: 5901 | Recent: 0"
     ]
    },
    {
     "name": "stdout",
     "output_type": "stream",
     "text": [
      "\\rProcessing... | Frame: 5903 | Recent: 0"
     ]
    },
    {
     "name": "stdout",
     "output_type": "stream",
     "text": [
      "\\rProcessing... | Frame: 5905 | Recent: 0"
     ]
    },
    {
     "name": "stdout",
     "output_type": "stream",
     "text": [
      "\\rProcessing... | Frame: 5907 | Recent: 0"
     ]
    },
    {
     "name": "stdout",
     "output_type": "stream",
     "text": [
      "\\rProcessing... | Frame: 5909 | Recent: 0"
     ]
    },
    {
     "name": "stdout",
     "output_type": "stream",
     "text": [
      "\\rProcessing... | Frame: 5911 | Recent: 0"
     ]
    },
    {
     "name": "stdout",
     "output_type": "stream",
     "text": [
      "\\rProcessing... | Frame: 5913 | Recent: 0"
     ]
    },
    {
     "name": "stdout",
     "output_type": "stream",
     "text": [
      "\\rProcessing... | Frame: 5915 | Recent: 0"
     ]
    },
    {
     "name": "stdout",
     "output_type": "stream",
     "text": [
      "\\rProcessing... | Frame: 5917 | Recent: 0"
     ]
    },
    {
     "name": "stdout",
     "output_type": "stream",
     "text": [
      "\\rProcessing... | Frame: 5919 | Recent: 0"
     ]
    },
    {
     "name": "stdout",
     "output_type": "stream",
     "text": [
      "\\rProcessing... | Frame: 5921 | Recent: 0"
     ]
    },
    {
     "name": "stdout",
     "output_type": "stream",
     "text": [
      "\\rProcessing... | Frame: 5923 | Recent: 0"
     ]
    },
    {
     "name": "stdout",
     "output_type": "stream",
     "text": [
      "\\rProcessing... | Frame: 5925 | Recent: 0"
     ]
    },
    {
     "name": "stdout",
     "output_type": "stream",
     "text": [
      "\\rProcessing... | Frame: 5927 | Recent: 0"
     ]
    },
    {
     "name": "stdout",
     "output_type": "stream",
     "text": [
      "\\rProcessing... | Frame: 5929 | Recent: 0"
     ]
    },
    {
     "name": "stdout",
     "output_type": "stream",
     "text": [
      "\\rProcessing... | Frame: 5931 | Recent: 0"
     ]
    },
    {
     "name": "stdout",
     "output_type": "stream",
     "text": [
      "\\rProcessing... | Frame: 5933 | Recent: 0"
     ]
    },
    {
     "name": "stdout",
     "output_type": "stream",
     "text": [
      "\\rProcessing... | Frame: 5935 | Recent: 0"
     ]
    },
    {
     "name": "stdout",
     "output_type": "stream",
     "text": [
      "\\rProcessing... | Frame: 5937 | Recent: 0"
     ]
    },
    {
     "name": "stdout",
     "output_type": "stream",
     "text": [
      "\\rProcessing... | Frame: 5939 | Recent: 0"
     ]
    },
    {
     "name": "stdout",
     "output_type": "stream",
     "text": [
      "\\rProcessing... | Frame: 5941 | Recent: 0"
     ]
    },
    {
     "name": "stdout",
     "output_type": "stream",
     "text": [
      "\\rProcessing... | Frame: 5943 | Recent: 0"
     ]
    },
    {
     "name": "stdout",
     "output_type": "stream",
     "text": [
      "\\rProcessing... | Frame: 5945 | Recent: 0"
     ]
    },
    {
     "name": "stdout",
     "output_type": "stream",
     "text": [
      "\\rProcessing... | Frame: 5947 | Recent: 0"
     ]
    },
    {
     "name": "stdout",
     "output_type": "stream",
     "text": [
      "\\rProcessing... | Frame: 5949 | Recent: 0"
     ]
    },
    {
     "name": "stdout",
     "output_type": "stream",
     "text": [
      "\\rProcessing... | Frame: 5951 | Recent: 0"
     ]
    },
    {
     "name": "stdout",
     "output_type": "stream",
     "text": [
      "\\rProcessing... | Frame: 5953 | Recent: 0"
     ]
    },
    {
     "name": "stdout",
     "output_type": "stream",
     "text": [
      "\\rProcessing... | Frame: 5955 | Recent: 0"
     ]
    },
    {
     "name": "stdout",
     "output_type": "stream",
     "text": [
      "\\rProcessing... | Frame: 5957 | Recent: 0"
     ]
    },
    {
     "name": "stdout",
     "output_type": "stream",
     "text": [
      "\\rProcessing... | Frame: 5959 | Recent: 0"
     ]
    },
    {
     "name": "stdout",
     "output_type": "stream",
     "text": [
      "\\rProcessing... | Frame: 5961 | Recent: 0"
     ]
    },
    {
     "name": "stdout",
     "output_type": "stream",
     "text": [
      "\\rProcessing... | Frame: 5963 | Recent: 0"
     ]
    },
    {
     "name": "stdout",
     "output_type": "stream",
     "text": [
      "\\rProcessing... | Frame: 5965 | Recent: 0"
     ]
    },
    {
     "name": "stdout",
     "output_type": "stream",
     "text": [
      "\\rProcessing... | Frame: 5967 | Recent: 0"
     ]
    },
    {
     "name": "stdout",
     "output_type": "stream",
     "text": [
      "\\rProcessing... | Frame: 5969 | Recent: 0"
     ]
    },
    {
     "name": "stdout",
     "output_type": "stream",
     "text": [
      "\\rProcessing... | Frame: 5971 | Recent: 0"
     ]
    },
    {
     "name": "stdout",
     "output_type": "stream",
     "text": [
      "\\rProcessing... | Frame: 5973 | Recent: 0"
     ]
    },
    {
     "name": "stdout",
     "output_type": "stream",
     "text": [
      "\\rProcessing... | Frame: 5975 | Recent: 0"
     ]
    },
    {
     "name": "stdout",
     "output_type": "stream",
     "text": [
      "\\rProcessing... | Frame: 5977 | Recent: 0"
     ]
    },
    {
     "name": "stdout",
     "output_type": "stream",
     "text": [
      "\\rProcessing... | Frame: 5979 | Recent: 0"
     ]
    },
    {
     "name": "stdout",
     "output_type": "stream",
     "text": [
      "\\rProcessing... | Frame: 5981 | Recent: 0"
     ]
    },
    {
     "name": "stdout",
     "output_type": "stream",
     "text": [
      "\\rProcessing... | Frame: 5983 | Recent: 0"
     ]
    },
    {
     "name": "stdout",
     "output_type": "stream",
     "text": [
      "\\rProcessing... | Frame: 5985 | Recent: 0"
     ]
    },
    {
     "name": "stdout",
     "output_type": "stream",
     "text": [
      "\\rProcessing... | Frame: 5987 | Recent: 0"
     ]
    },
    {
     "name": "stdout",
     "output_type": "stream",
     "text": [
      "\\rProcessing... | Frame: 5989 | Recent: 0"
     ]
    },
    {
     "name": "stdout",
     "output_type": "stream",
     "text": [
      "\\rProcessing... | Frame: 5991 | Recent: 0"
     ]
    },
    {
     "name": "stdout",
     "output_type": "stream",
     "text": [
      "\\rProcessing... | Frame: 5993 | Recent: 0"
     ]
    },
    {
     "name": "stdout",
     "output_type": "stream",
     "text": [
      "\\rProcessing... | Frame: 5995 | Recent: 0"
     ]
    },
    {
     "name": "stdout",
     "output_type": "stream",
     "text": [
      "\\rProcessing... | Frame: 5997 | Recent: 0"
     ]
    },
    {
     "name": "stdout",
     "output_type": "stream",
     "text": [
      "\\rProcessing... | Frame: 5999 | Recent: 0"
     ]
    },
    {
     "name": "stdout",
     "output_type": "stream",
     "text": [
      "\\rProcessing... | Frame: 6001 | Recent: 0"
     ]
    },
    {
     "name": "stdout",
     "output_type": "stream",
     "text": [
      "\\rProcessing... | Frame: 6003 | Recent: 0"
     ]
    },
    {
     "name": "stdout",
     "output_type": "stream",
     "text": [
      "\\rProcessing... | Frame: 6005 | Recent: 0"
     ]
    },
    {
     "name": "stdout",
     "output_type": "stream",
     "text": [
      "\\rProcessing... | Frame: 6007 | Recent: 0"
     ]
    },
    {
     "name": "stdout",
     "output_type": "stream",
     "text": [
      "\\rProcessing... | Frame: 6009 | Recent: 0"
     ]
    },
    {
     "name": "stdout",
     "output_type": "stream",
     "text": [
      "\\rProcessing... | Frame: 6011 | Recent: 0"
     ]
    },
    {
     "name": "stdout",
     "output_type": "stream",
     "text": [
      "\\rProcessing... | Frame: 6013 | Recent: 0"
     ]
    },
    {
     "name": "stdout",
     "output_type": "stream",
     "text": [
      "\\rProcessing... | Frame: 6015 | Recent: 0"
     ]
    },
    {
     "name": "stdout",
     "output_type": "stream",
     "text": [
      "\\rProcessing... | Frame: 6017 | Recent: 0"
     ]
    },
    {
     "name": "stdout",
     "output_type": "stream",
     "text": [
      "\\rProcessing... | Frame: 6019 | Recent: 0"
     ]
    },
    {
     "name": "stdout",
     "output_type": "stream",
     "text": [
      "\\rProcessing... | Frame: 6023 | Recent: 0"
     ]
    },
    {
     "name": "stdout",
     "output_type": "stream",
     "text": [
      "\\rProcessing... | Frame: 6025 | Recent: 0"
     ]
    },
    {
     "name": "stdout",
     "output_type": "stream",
     "text": [
      "\\rProcessing... | Frame: 6027 | Recent: 0"
     ]
    },
    {
     "name": "stdout",
     "output_type": "stream",
     "text": [
      "\\rProcessing... | Frame: 6029 | Recent: 0"
     ]
    },
    {
     "name": "stdout",
     "output_type": "stream",
     "text": [
      "\\rProcessing... | Frame: 6031 | Recent: 0"
     ]
    },
    {
     "name": "stdout",
     "output_type": "stream",
     "text": [
      "\\rProcessing... | Frame: 6033 | Recent: 0"
     ]
    },
    {
     "name": "stdout",
     "output_type": "stream",
     "text": [
      "\\rProcessing... | Frame: 6035 | Recent: 0"
     ]
    },
    {
     "name": "stdout",
     "output_type": "stream",
     "text": [
      "\\rProcessing... | Frame: 6037 | Recent: 0"
     ]
    },
    {
     "name": "stdout",
     "output_type": "stream",
     "text": [
      "\\rProcessing... | Frame: 6039 | Recent: 0"
     ]
    },
    {
     "name": "stdout",
     "output_type": "stream",
     "text": [
      "\\rProcessing... | Frame: 6041 | Recent: 0"
     ]
    },
    {
     "name": "stdout",
     "output_type": "stream",
     "text": [
      "\\rProcessing... | Frame: 6043 | Recent: 0"
     ]
    },
    {
     "name": "stdout",
     "output_type": "stream",
     "text": [
      "\\rProcessing... | Frame: 6045 | Recent: 0"
     ]
    },
    {
     "name": "stdout",
     "output_type": "stream",
     "text": [
      "\\rProcessing... | Frame: 6047 | Recent: 0"
     ]
    },
    {
     "name": "stdout",
     "output_type": "stream",
     "text": [
      "\\rProcessing... | Frame: 6049 | Recent: 0"
     ]
    },
    {
     "name": "stdout",
     "output_type": "stream",
     "text": [
      "\\rProcessing... | Frame: 6051 | Recent: 0"
     ]
    },
    {
     "name": "stdout",
     "output_type": "stream",
     "text": [
      "\\rProcessing... | Frame: 6053 | Recent: 0"
     ]
    },
    {
     "name": "stdout",
     "output_type": "stream",
     "text": [
      "\\rProcessing... | Frame: 6055 | Recent: 0"
     ]
    },
    {
     "name": "stdout",
     "output_type": "stream",
     "text": [
      "\\rProcessing... | Frame: 6057 | Recent: 0"
     ]
    },
    {
     "name": "stdout",
     "output_type": "stream",
     "text": [
      "\\rProcessing... | Frame: 6059 | Recent: 0"
     ]
    },
    {
     "name": "stdout",
     "output_type": "stream",
     "text": [
      "\\rProcessing... | Frame: 6061 | Recent: 0"
     ]
    },
    {
     "name": "stdout",
     "output_type": "stream",
     "text": [
      "\\rProcessing... | Frame: 6063 | Recent: 0"
     ]
    },
    {
     "name": "stdout",
     "output_type": "stream",
     "text": [
      "\\rProcessing... | Frame: 6065 | Recent: 0"
     ]
    },
    {
     "name": "stdout",
     "output_type": "stream",
     "text": [
      "\\rProcessing... | Frame: 6067 | Recent: 0"
     ]
    },
    {
     "name": "stdout",
     "output_type": "stream",
     "text": [
      "\\rProcessing... | Frame: 6069 | Recent: 0"
     ]
    },
    {
     "name": "stdout",
     "output_type": "stream",
     "text": [
      "\\rProcessing... | Frame: 6071 | Recent: 0"
     ]
    },
    {
     "name": "stdout",
     "output_type": "stream",
     "text": [
      "\\rProcessing... | Frame: 6073 | Recent: 0"
     ]
    },
    {
     "name": "stdout",
     "output_type": "stream",
     "text": [
      "\\rProcessing... | Frame: 6075 | Recent: 0"
     ]
    },
    {
     "name": "stdout",
     "output_type": "stream",
     "text": [
      "\\rProcessing... | Frame: 6077 | Recent: 0"
     ]
    },
    {
     "name": "stdout",
     "output_type": "stream",
     "text": [
      "\\rProcessing... | Frame: 6079 | Recent: 0"
     ]
    },
    {
     "name": "stdout",
     "output_type": "stream",
     "text": [
      "\\rProcessing... | Frame: 6081 | Recent: 0"
     ]
    },
    {
     "name": "stdout",
     "output_type": "stream",
     "text": [
      "\\rProcessing... | Frame: 6083 | Recent: 0"
     ]
    },
    {
     "name": "stdout",
     "output_type": "stream",
     "text": [
      "\\rProcessing... | Frame: 6085 | Recent: 0"
     ]
    },
    {
     "name": "stdout",
     "output_type": "stream",
     "text": [
      "\\rProcessing... | Frame: 6087 | Recent: 0"
     ]
    },
    {
     "name": "stdout",
     "output_type": "stream",
     "text": [
      "\\rProcessing... | Frame: 6089 | Recent: 0"
     ]
    },
    {
     "name": "stdout",
     "output_type": "stream",
     "text": [
      "\\rProcessing... | Frame: 6091 | Recent: 0"
     ]
    },
    {
     "name": "stdout",
     "output_type": "stream",
     "text": [
      "\\rProcessing... | Frame: 6093 | Recent: 0"
     ]
    },
    {
     "name": "stdout",
     "output_type": "stream",
     "text": [
      "\\rProcessing... | Frame: 6095 | Recent: 0"
     ]
    },
    {
     "name": "stdout",
     "output_type": "stream",
     "text": [
      "\\rProcessing... | Frame: 6097 | Recent: 0"
     ]
    },
    {
     "name": "stdout",
     "output_type": "stream",
     "text": [
      "\\rProcessing... | Frame: 6099 | Recent: 0"
     ]
    },
    {
     "name": "stdout",
     "output_type": "stream",
     "text": [
      "\\rProcessing... | Frame: 6101 | Recent: 0"
     ]
    },
    {
     "name": "stdout",
     "output_type": "stream",
     "text": [
      "\\rProcessing... | Frame: 6103 | Recent: 0"
     ]
    },
    {
     "name": "stdout",
     "output_type": "stream",
     "text": [
      "\\rProcessing... | Frame: 6105 | Recent: 0"
     ]
    },
    {
     "name": "stdout",
     "output_type": "stream",
     "text": [
      "\\rProcessing... | Frame: 6107 | Recent: 0"
     ]
    },
    {
     "name": "stdout",
     "output_type": "stream",
     "text": [
      "\\rProcessing... | Frame: 6109 | Recent: 0"
     ]
    },
    {
     "name": "stdout",
     "output_type": "stream",
     "text": [
      "\\rProcessing... | Frame: 6111 | Recent: 0"
     ]
    },
    {
     "name": "stdout",
     "output_type": "stream",
     "text": [
      "\\rProcessing... | Frame: 6113 | Recent: 0"
     ]
    },
    {
     "name": "stdout",
     "output_type": "stream",
     "text": [
      "\\rProcessing... | Frame: 6115 | Recent: 0"
     ]
    },
    {
     "name": "stdout",
     "output_type": "stream",
     "text": [
      "\\rProcessing... | Frame: 6117 | Recent: 0"
     ]
    },
    {
     "name": "stdout",
     "output_type": "stream",
     "text": [
      "\\rProcessing... | Frame: 6119 | Recent: 0"
     ]
    },
    {
     "name": "stdout",
     "output_type": "stream",
     "text": [
      "\\rProcessing... | Frame: 6121 | Recent: 0"
     ]
    },
    {
     "name": "stdout",
     "output_type": "stream",
     "text": [
      "\\rProcessing... | Frame: 6123 | Recent: 0"
     ]
    },
    {
     "name": "stdout",
     "output_type": "stream",
     "text": [
      "\\rProcessing... | Frame: 6125 | Recent: 0"
     ]
    },
    {
     "name": "stdout",
     "output_type": "stream",
     "text": [
      "\\rProcessing... | Frame: 6127 | Recent: 0"
     ]
    },
    {
     "name": "stdout",
     "output_type": "stream",
     "text": [
      "\\rProcessing... | Frame: 6129 | Recent: 0"
     ]
    },
    {
     "name": "stdout",
     "output_type": "stream",
     "text": [
      "\\rProcessing... | Frame: 6131 | Recent: 0"
     ]
    },
    {
     "name": "stdout",
     "output_type": "stream",
     "text": [
      "\\rProcessing... | Frame: 6133 | Recent: 0"
     ]
    },
    {
     "name": "stdout",
     "output_type": "stream",
     "text": [
      "\\rProcessing... | Frame: 6135 | Recent: 0"
     ]
    },
    {
     "name": "stdout",
     "output_type": "stream",
     "text": [
      "\\rProcessing... | Frame: 6137 | Recent: 0"
     ]
    },
    {
     "name": "stdout",
     "output_type": "stream",
     "text": [
      "\\rProcessing... | Frame: 6139 | Recent: 0"
     ]
    },
    {
     "name": "stdout",
     "output_type": "stream",
     "text": [
      "\\rProcessing... | Frame: 6141 | Recent: 0"
     ]
    },
    {
     "name": "stdout",
     "output_type": "stream",
     "text": [
      "\\rProcessing... | Frame: 6143 | Recent: 0"
     ]
    },
    {
     "name": "stdout",
     "output_type": "stream",
     "text": [
      "\\rProcessing... | Frame: 6145 | Recent: 0"
     ]
    },
    {
     "name": "stdout",
     "output_type": "stream",
     "text": [
      "\\rProcessing... | Frame: 6147 | Recent: 0"
     ]
    },
    {
     "name": "stdout",
     "output_type": "stream",
     "text": [
      "\\rProcessing... | Frame: 6149 | Recent: 0"
     ]
    },
    {
     "name": "stdout",
     "output_type": "stream",
     "text": [
      "\\rProcessing... | Frame: 6151 | Recent: 0"
     ]
    },
    {
     "name": "stdout",
     "output_type": "stream",
     "text": [
      "\\rProcessing... | Frame: 6153 | Recent: 0"
     ]
    },
    {
     "name": "stdout",
     "output_type": "stream",
     "text": [
      "\\rProcessing... | Frame: 6155 | Recent: 0"
     ]
    },
    {
     "name": "stdout",
     "output_type": "stream",
     "text": [
      "\\rProcessing... | Frame: 6157 | Recent: 0"
     ]
    },
    {
     "name": "stdout",
     "output_type": "stream",
     "text": [
      "\\rProcessing... | Frame: 6159 | Recent: 0"
     ]
    },
    {
     "name": "stdout",
     "output_type": "stream",
     "text": [
      "\\rProcessing... | Frame: 6161 | Recent: 0"
     ]
    },
    {
     "name": "stdout",
     "output_type": "stream",
     "text": [
      "\\rProcessing... | Frame: 6163 | Recent: 0"
     ]
    },
    {
     "name": "stdout",
     "output_type": "stream",
     "text": [
      "\\rProcessing... | Frame: 6165 | Recent: 0"
     ]
    },
    {
     "name": "stdout",
     "output_type": "stream",
     "text": [
      "\\rProcessing... | Frame: 6167 | Recent: 0"
     ]
    },
    {
     "name": "stdout",
     "output_type": "stream",
     "text": [
      "\\rProcessing... | Frame: 6169 | Recent: 0"
     ]
    },
    {
     "name": "stdout",
     "output_type": "stream",
     "text": [
      "\\rProcessing... | Frame: 6171 | Recent: 0"
     ]
    },
    {
     "name": "stdout",
     "output_type": "stream",
     "text": [
      "\\rProcessing... | Frame: 6173 | Recent: 0"
     ]
    },
    {
     "name": "stdout",
     "output_type": "stream",
     "text": [
      "\\rProcessing... | Frame: 6175 | Recent: 0"
     ]
    },
    {
     "name": "stdout",
     "output_type": "stream",
     "text": [
      "\\rProcessing... | Frame: 6177 | Recent: 0"
     ]
    },
    {
     "name": "stdout",
     "output_type": "stream",
     "text": [
      "\\rProcessing... | Frame: 6179 | Recent: 0"
     ]
    },
    {
     "name": "stdout",
     "output_type": "stream",
     "text": [
      "\\rProcessing... | Frame: 6181 | Recent: 0"
     ]
    },
    {
     "name": "stdout",
     "output_type": "stream",
     "text": [
      "\\rProcessing... | Frame: 6183 | Recent: 0"
     ]
    },
    {
     "name": "stdout",
     "output_type": "stream",
     "text": [
      "\\rProcessing... | Frame: 6185 | Recent: 0"
     ]
    },
    {
     "name": "stdout",
     "output_type": "stream",
     "text": [
      "\\rProcessing... | Frame: 6187 | Recent: 0"
     ]
    },
    {
     "name": "stdout",
     "output_type": "stream",
     "text": [
      "\\rProcessing... | Frame: 6189 | Recent: 0"
     ]
    },
    {
     "name": "stdout",
     "output_type": "stream",
     "text": [
      "\\rProcessing... | Frame: 6191 | Recent: 0"
     ]
    },
    {
     "name": "stdout",
     "output_type": "stream",
     "text": [
      "\\rProcessing... | Frame: 6193 | Recent: 0"
     ]
    },
    {
     "name": "stdout",
     "output_type": "stream",
     "text": [
      "\\rProcessing... | Frame: 6195 | Recent: 0"
     ]
    },
    {
     "name": "stdout",
     "output_type": "stream",
     "text": [
      "\\rProcessing... | Frame: 6197 | Recent: 0"
     ]
    },
    {
     "name": "stdout",
     "output_type": "stream",
     "text": [
      "\\rProcessing... | Frame: 6199 | Recent: 0"
     ]
    },
    {
     "name": "stdout",
     "output_type": "stream",
     "text": [
      "\\rProcessing... | Frame: 6201 | Recent: 0"
     ]
    },
    {
     "name": "stdout",
     "output_type": "stream",
     "text": [
      "\\rProcessing... | Frame: 6203 | Recent: 0"
     ]
    },
    {
     "name": "stdout",
     "output_type": "stream",
     "text": [
      "\\rProcessing... | Frame: 6205 | Recent: 0"
     ]
    },
    {
     "name": "stdout",
     "output_type": "stream",
     "text": [
      "\\rProcessing... | Frame: 6207 | Recent: 0"
     ]
    },
    {
     "name": "stdout",
     "output_type": "stream",
     "text": [
      "\\rProcessing... | Frame: 6209 | Recent: 0"
     ]
    },
    {
     "name": "stdout",
     "output_type": "stream",
     "text": [
      "\\rProcessing... | Frame: 6211 | Recent: 0"
     ]
    },
    {
     "name": "stdout",
     "output_type": "stream",
     "text": [
      "\\rProcessing... | Frame: 6213 | Recent: 0"
     ]
    },
    {
     "name": "stdout",
     "output_type": "stream",
     "text": [
      "\\rProcessing... | Frame: 6215 | Recent: 0"
     ]
    },
    {
     "name": "stdout",
     "output_type": "stream",
     "text": [
      "\\rProcessing... | Frame: 6217 | Recent: 0"
     ]
    },
    {
     "name": "stdout",
     "output_type": "stream",
     "text": [
      "\\rProcessing... | Frame: 6219 | Recent: 0"
     ]
    },
    {
     "name": "stdout",
     "output_type": "stream",
     "text": [
      "\\rProcessing... | Frame: 6221 | Recent: 0"
     ]
    },
    {
     "name": "stdout",
     "output_type": "stream",
     "text": [
      "\\rProcessing... | Frame: 6223 | Recent: 0"
     ]
    },
    {
     "name": "stdout",
     "output_type": "stream",
     "text": [
      "\\rProcessing... | Frame: 6225 | Recent: 0"
     ]
    },
    {
     "name": "stdout",
     "output_type": "stream",
     "text": [
      "\\rProcessing... | Frame: 6227 | Recent: 0"
     ]
    },
    {
     "name": "stdout",
     "output_type": "stream",
     "text": [
      "\\rProcessing... | Frame: 6229 | Recent: 0"
     ]
    },
    {
     "name": "stdout",
     "output_type": "stream",
     "text": [
      "\\rProcessing... | Frame: 6231 | Recent: 0"
     ]
    },
    {
     "name": "stdout",
     "output_type": "stream",
     "text": [
      "\\rProcessing... | Frame: 6233 | Recent: 0"
     ]
    },
    {
     "name": "stdout",
     "output_type": "stream",
     "text": [
      "\\rProcessing... | Frame: 6235 | Recent: 0"
     ]
    },
    {
     "name": "stdout",
     "output_type": "stream",
     "text": [
      "\\rProcessing... | Frame: 6237 | Recent: 0"
     ]
    },
    {
     "name": "stdout",
     "output_type": "stream",
     "text": [
      "\\rProcessing... | Frame: 6239 | Recent: 0"
     ]
    },
    {
     "name": "stdout",
     "output_type": "stream",
     "text": [
      "\\rProcessing... | Frame: 6241 | Recent: 0"
     ]
    },
    {
     "name": "stdout",
     "output_type": "stream",
     "text": [
      "\\rProcessing... | Frame: 6243 | Recent: 0"
     ]
    },
    {
     "name": "stdout",
     "output_type": "stream",
     "text": [
      "\\rProcessing... | Frame: 6245 | Recent: 0"
     ]
    },
    {
     "name": "stdout",
     "output_type": "stream",
     "text": [
      "\\rProcessing... | Frame: 6247 | Recent: 0"
     ]
    },
    {
     "name": "stdout",
     "output_type": "stream",
     "text": [
      "\\rProcessing... | Frame: 6249 | Recent: 0"
     ]
    },
    {
     "name": "stdout",
     "output_type": "stream",
     "text": [
      "\\rProcessing... | Frame: 6251 | Recent: 0"
     ]
    },
    {
     "name": "stdout",
     "output_type": "stream",
     "text": [
      "\\rProcessing... | Frame: 6253 | Recent: 0"
     ]
    },
    {
     "name": "stdout",
     "output_type": "stream",
     "text": [
      "\\rProcessing... | Frame: 6255 | Recent: 0"
     ]
    },
    {
     "name": "stdout",
     "output_type": "stream",
     "text": [
      "\\rProcessing... | Frame: 6257 | Recent: 0"
     ]
    },
    {
     "name": "stdout",
     "output_type": "stream",
     "text": [
      "\\rProcessing... | Frame: 6261 | Recent: 0"
     ]
    },
    {
     "name": "stdout",
     "output_type": "stream",
     "text": [
      "\\rProcessing... | Frame: 6263 | Recent: 0"
     ]
    },
    {
     "name": "stdout",
     "output_type": "stream",
     "text": [
      "\\rProcessing... | Frame: 6265 | Recent: 0"
     ]
    },
    {
     "name": "stdout",
     "output_type": "stream",
     "text": [
      "\\rProcessing... | Frame: 6267 | Recent: 0"
     ]
    },
    {
     "name": "stdout",
     "output_type": "stream",
     "text": [
      "\\rProcessing... | Frame: 6269 | Recent: 0"
     ]
    },
    {
     "name": "stdout",
     "output_type": "stream",
     "text": [
      "\\rProcessing... | Frame: 6271 | Recent: 0"
     ]
    },
    {
     "name": "stdout",
     "output_type": "stream",
     "text": [
      "\\rProcessing... | Frame: 6273 | Recent: 0"
     ]
    },
    {
     "name": "stdout",
     "output_type": "stream",
     "text": [
      "\\rProcessing... | Frame: 6275 | Recent: 0"
     ]
    },
    {
     "name": "stdout",
     "output_type": "stream",
     "text": [
      "\\rProcessing... | Frame: 6277 | Recent: 0"
     ]
    },
    {
     "name": "stdout",
     "output_type": "stream",
     "text": [
      "\\rProcessing... | Frame: 6279 | Recent: 0"
     ]
    },
    {
     "name": "stdout",
     "output_type": "stream",
     "text": [
      "\\rProcessing... | Frame: 6281 | Recent: 0"
     ]
    },
    {
     "name": "stdout",
     "output_type": "stream",
     "text": [
      "\\rProcessing... | Frame: 6283 | Recent: 0"
     ]
    },
    {
     "name": "stdout",
     "output_type": "stream",
     "text": [
      "\\rProcessing... | Frame: 6285 | Recent: 0"
     ]
    },
    {
     "name": "stdout",
     "output_type": "stream",
     "text": [
      "\\rProcessing... | Frame: 6287 | Recent: 0"
     ]
    },
    {
     "name": "stdout",
     "output_type": "stream",
     "text": [
      "\\rProcessing... | Frame: 6289 | Recent: 0"
     ]
    },
    {
     "name": "stdout",
     "output_type": "stream",
     "text": [
      "\\rProcessing... | Frame: 6291 | Recent: 0"
     ]
    },
    {
     "name": "stdout",
     "output_type": "stream",
     "text": [
      "\\rProcessing... | Frame: 6293 | Recent: 0"
     ]
    },
    {
     "name": "stdout",
     "output_type": "stream",
     "text": [
      "\\rProcessing... | Frame: 6295 | Recent: 0"
     ]
    },
    {
     "name": "stdout",
     "output_type": "stream",
     "text": [
      "\\rProcessing... | Frame: 6297 | Recent: 0"
     ]
    },
    {
     "name": "stdout",
     "output_type": "stream",
     "text": [
      "\\rProcessing... | Frame: 6299 | Recent: 0"
     ]
    },
    {
     "name": "stdout",
     "output_type": "stream",
     "text": [
      "\\rProcessing... | Frame: 6301 | Recent: 0"
     ]
    },
    {
     "name": "stdout",
     "output_type": "stream",
     "text": [
      "\\rProcessing... | Frame: 6303 | Recent: 0"
     ]
    },
    {
     "name": "stdout",
     "output_type": "stream",
     "text": [
      "\\rProcessing... | Frame: 6305 | Recent: 0"
     ]
    },
    {
     "name": "stdout",
     "output_type": "stream",
     "text": [
      "\\rProcessing... | Frame: 6309 | Recent: 0"
     ]
    },
    {
     "name": "stdout",
     "output_type": "stream",
     "text": [
      "\\rProcessing... | Frame: 6312 | Recent: 0"
     ]
    },
    {
     "name": "stdout",
     "output_type": "stream",
     "text": [
      "\\rProcessing... | Frame: 6313 | Recent: 0"
     ]
    },
    {
     "name": "stdout",
     "output_type": "stream",
     "text": [
      "\\rProcessing... | Frame: 6315 | Recent: 0"
     ]
    },
    {
     "name": "stdout",
     "output_type": "stream",
     "text": [
      "\\rProcessing... | Frame: 6317 | Recent: 0"
     ]
    },
    {
     "name": "stdout",
     "output_type": "stream",
     "text": [
      "\\rProcessing... | Frame: 6319 | Recent: 0"
     ]
    },
    {
     "name": "stdout",
     "output_type": "stream",
     "text": [
      "\\rProcessing... | Frame: 6321 | Recent: 0"
     ]
    },
    {
     "name": "stdout",
     "output_type": "stream",
     "text": [
      "\\rProcessing... | Frame: 6323 | Recent: 0"
     ]
    },
    {
     "name": "stdout",
     "output_type": "stream",
     "text": [
      "\\rProcessing... | Frame: 6327 | Recent: 0"
     ]
    },
    {
     "name": "stdout",
     "output_type": "stream",
     "text": [
      "\\rProcessing... | Frame: 6330 | Recent: 0"
     ]
    },
    {
     "name": "stdout",
     "output_type": "stream",
     "text": [
      "\\rProcessing... | Frame: 6331 | Recent: 0"
     ]
    },
    {
     "name": "stdout",
     "output_type": "stream",
     "text": [
      "\\rProcessing... | Frame: 6333 | Recent: 0"
     ]
    },
    {
     "name": "stdout",
     "output_type": "stream",
     "text": [
      "\\rProcessing... | Frame: 6335 | Recent: 0"
     ]
    },
    {
     "name": "stdout",
     "output_type": "stream",
     "text": [
      "\\rProcessing... | Frame: 6337 | Recent: 0"
     ]
    },
    {
     "name": "stdout",
     "output_type": "stream",
     "text": [
      "\\rProcessing... | Frame: 6339 | Recent: 0"
     ]
    },
    {
     "name": "stdout",
     "output_type": "stream",
     "text": [
      "\\rProcessing... | Frame: 6341 | Recent: 0"
     ]
    },
    {
     "name": "stdout",
     "output_type": "stream",
     "text": [
      "\\rProcessing... | Frame: 6343 | Recent: 0"
     ]
    },
    {
     "name": "stdout",
     "output_type": "stream",
     "text": [
      "\\rProcessing... | Frame: 6345 | Recent: 0"
     ]
    },
    {
     "name": "stdout",
     "output_type": "stream",
     "text": [
      "\\rProcessing... | Frame: 6347 | Recent: 0"
     ]
    },
    {
     "name": "stdout",
     "output_type": "stream",
     "text": [
      "\\rProcessing... | Frame: 6349 | Recent: 0"
     ]
    },
    {
     "name": "stdout",
     "output_type": "stream",
     "text": [
      "\\rProcessing... | Frame: 6351 | Recent: 0"
     ]
    },
    {
     "name": "stdout",
     "output_type": "stream",
     "text": [
      "\\rProcessing... | Frame: 6353 | Recent: 0"
     ]
    },
    {
     "name": "stdout",
     "output_type": "stream",
     "text": [
      "\\rProcessing... | Frame: 6355 | Recent: 0"
     ]
    },
    {
     "name": "stdout",
     "output_type": "stream",
     "text": [
      "\\rProcessing... | Frame: 6357 | Recent: 0"
     ]
    },
    {
     "name": "stdout",
     "output_type": "stream",
     "text": [
      "\\rProcessing... | Frame: 6359 | Recent: 0"
     ]
    },
    {
     "name": "stdout",
     "output_type": "stream",
     "text": [
      "\\rProcessing... | Frame: 6361 | Recent: 0"
     ]
    },
    {
     "name": "stdout",
     "output_type": "stream",
     "text": [
      "\\rProcessing... | Frame: 6363 | Recent: 0"
     ]
    },
    {
     "name": "stdout",
     "output_type": "stream",
     "text": [
      "\\rProcessing... | Frame: 6365 | Recent: 0"
     ]
    },
    {
     "name": "stdout",
     "output_type": "stream",
     "text": [
      "\\rProcessing... | Frame: 6367 | Recent: 0"
     ]
    },
    {
     "name": "stdout",
     "output_type": "stream",
     "text": [
      "\\rProcessing... | Frame: 6369 | Recent: 0"
     ]
    },
    {
     "name": "stdout",
     "output_type": "stream",
     "text": [
      "\\rProcessing... | Frame: 6371 | Recent: 0"
     ]
    },
    {
     "name": "stdout",
     "output_type": "stream",
     "text": [
      "\\rProcessing... | Frame: 6373 | Recent: 0"
     ]
    },
    {
     "name": "stdout",
     "output_type": "stream",
     "text": [
      "\\rProcessing... | Frame: 6375 | Recent: 0"
     ]
    },
    {
     "name": "stdout",
     "output_type": "stream",
     "text": [
      "\\rProcessing... | Frame: 6377 | Recent: 0"
     ]
    },
    {
     "name": "stdout",
     "output_type": "stream",
     "text": [
      "\\rProcessing... | Frame: 6379 | Recent: 0"
     ]
    },
    {
     "name": "stdout",
     "output_type": "stream",
     "text": [
      "\\rProcessing... | Frame: 6381 | Recent: 0"
     ]
    },
    {
     "name": "stdout",
     "output_type": "stream",
     "text": [
      "\\rProcessing... | Frame: 6383 | Recent: 0"
     ]
    },
    {
     "name": "stdout",
     "output_type": "stream",
     "text": [
      "\\rProcessing... | Frame: 6386 | Recent: 0"
     ]
    },
    {
     "name": "stdout",
     "output_type": "stream",
     "text": [
      "\\rProcessing... | Frame: 6389 | Recent: 0"
     ]
    },
    {
     "name": "stdout",
     "output_type": "stream",
     "text": [
      "\\rProcessing... | Frame: 6401 | Recent: 0"
     ]
    },
    {
     "name": "stdout",
     "output_type": "stream",
     "text": [
      "\\rProcessing... | Frame: 6410 | Recent: 0"
     ]
    },
    {
     "name": "stdout",
     "output_type": "stream",
     "text": [
      "\\rProcessing... | Frame: 6417 | Recent: 0"
     ]
    },
    {
     "name": "stdout",
     "output_type": "stream",
     "text": [
      "\\rProcessing... | Frame: 6429 | Recent: 0"
     ]
    },
    {
     "name": "stdout",
     "output_type": "stream",
     "text": [
      "\\rProcessing... | Frame: 6439 | Recent: 0"
     ]
    },
    {
     "name": "stdout",
     "output_type": "stream",
     "text": [
      "\\rProcessing... | Frame: 6451 | Recent: 0"
     ]
    },
    {
     "name": "stdout",
     "output_type": "stream",
     "text": [
      "\\rProcessing... | Frame: 6463 | Recent: 0"
     ]
    },
    {
     "name": "stdout",
     "output_type": "stream",
     "text": [
      "\\rProcessing... | Frame: 6475 | Recent: 0"
     ]
    },
    {
     "name": "stdout",
     "output_type": "stream",
     "text": [
      "\\rProcessing... | Frame: 6487 | Recent: 0"
     ]
    },
    {
     "name": "stdout",
     "output_type": "stream",
     "text": [
      "\\rProcessing... | Frame: 6499 | Recent: 0"
     ]
    },
    {
     "name": "stdout",
     "output_type": "stream",
     "text": [
      "\\rProcessing... | Frame: 6511 | Recent: 0"
     ]
    },
    {
     "name": "stdout",
     "output_type": "stream",
     "text": [
      "\\rProcessing... | Frame: 6523 | Recent: 0"
     ]
    },
    {
     "name": "stdout",
     "output_type": "stream",
     "text": [
      "\\rProcessing... | Frame: 6531 | Recent: 0"
     ]
    },
    {
     "name": "stdout",
     "output_type": "stream",
     "text": [
      "\\rProcessing... | Frame: 6541 | Recent: 0"
     ]
    },
    {
     "name": "stdout",
     "output_type": "stream",
     "text": [
      "\\rProcessing... | Frame: 6553 | Recent: 0"
     ]
    },
    {
     "name": "stdout",
     "output_type": "stream",
     "text": [
      "\\rProcessing... | Frame: 6565 | Recent: 0"
     ]
    },
    {
     "name": "stdout",
     "output_type": "stream",
     "text": [
      "\\rProcessing... | Frame: 6577 | Recent: 0"
     ]
    },
    {
     "name": "stdout",
     "output_type": "stream",
     "text": [
      "\\rProcessing... | Frame: 6589 | Recent: 0"
     ]
    },
    {
     "name": "stdout",
     "output_type": "stream",
     "text": [
      "\\rProcessing... | Frame: 6601 | Recent: 0"
     ]
    },
    {
     "name": "stdout",
     "output_type": "stream",
     "text": [
      "\\rProcessing... | Frame: 6614 | Recent: 0"
     ]
    },
    {
     "name": "stdout",
     "output_type": "stream",
     "text": [
      "\\rProcessing... | Frame: 6625 | Recent: 0"
     ]
    },
    {
     "name": "stdout",
     "output_type": "stream",
     "text": [
      "\\rProcessing... | Frame: 6637 | Recent: 0"
     ]
    },
    {
     "name": "stdout",
     "output_type": "stream",
     "text": [
      "\\rProcessing... | Frame: 6645 | Recent: 0"
     ]
    },
    {
     "name": "stdout",
     "output_type": "stream",
     "text": [
      "\\rProcessing... | Frame: 6655 | Recent: 0"
     ]
    },
    {
     "name": "stdout",
     "output_type": "stream",
     "text": [
      "\\rProcessing... | Frame: 6667 | Recent: 0"
     ]
    },
    {
     "name": "stdout",
     "output_type": "stream",
     "text": [
      "\\rProcessing... | Frame: 6679 | Recent: 0"
     ]
    },
    {
     "name": "stdout",
     "output_type": "stream",
     "text": [
      "\\rProcessing... | Frame: 6691 | Recent: 0"
     ]
    },
    {
     "name": "stdout",
     "output_type": "stream",
     "text": [
      "\\rProcessing... | Frame: 6703 | Recent: 0"
     ]
    },
    {
     "name": "stdout",
     "output_type": "stream",
     "text": [
      "\\rProcessing... | Frame: 6714 | Recent: 0"
     ]
    },
    {
     "name": "stdout",
     "output_type": "stream",
     "text": [
      "\\rProcessing... | Frame: 6725 | Recent: 0"
     ]
    },
    {
     "name": "stdout",
     "output_type": "stream",
     "text": [
      "\\rProcessing... | Frame: 6737 | Recent: 0"
     ]
    },
    {
     "name": "stdout",
     "output_type": "stream",
     "text": [
      "\\rProcessing... | Frame: 6749 | Recent: 0"
     ]
    },
    {
     "name": "stdout",
     "output_type": "stream",
     "text": [
      "\\rProcessing... | Frame: 6763 | Recent: 0"
     ]
    },
    {
     "name": "stdout",
     "output_type": "stream",
     "text": [
      "\\rProcessing... | Frame: 6771 | Recent: 0"
     ]
    },
    {
     "name": "stdout",
     "output_type": "stream",
     "text": [
      "\\rProcessing... | Frame: 6783 | Recent: 0"
     ]
    },
    {
     "name": "stdout",
     "output_type": "stream",
     "text": [
      "\\rProcessing... | Frame: 6795 | Recent: 0"
     ]
    },
    {
     "name": "stdout",
     "output_type": "stream",
     "text": [
      "\\rProcessing... | Frame: 6805 | Recent: 0"
     ]
    },
    {
     "name": "stdout",
     "output_type": "stream",
     "text": [
      "\\rProcessing... | Frame: 6817 | Recent: 0"
     ]
    },
    {
     "name": "stdout",
     "output_type": "stream",
     "text": [
      "\\rProcessing... | Frame: 6829 | Recent: 0"
     ]
    },
    {
     "name": "stdout",
     "output_type": "stream",
     "text": [
      "\\rProcessing... | Frame: 6841 | Recent: 0"
     ]
    },
    {
     "name": "stdout",
     "output_type": "stream",
     "text": [
      "\\rProcessing... | Frame: 6853 | Recent: 0"
     ]
    },
    {
     "name": "stdout",
     "output_type": "stream",
     "text": [
      "\\rProcessing... | Frame: 6865 | Recent: 0"
     ]
    },
    {
     "name": "stdout",
     "output_type": "stream",
     "text": [
      "\\rProcessing... | Frame: 6877 | Recent: 0"
     ]
    },
    {
     "name": "stdout",
     "output_type": "stream",
     "text": [
      "\\rProcessing... | Frame: 6889 | Recent: 0"
     ]
    },
    {
     "name": "stdout",
     "output_type": "stream",
     "text": [
      "\\rProcessing... | Frame: 6895 | Recent: 0"
     ]
    },
    {
     "name": "stdout",
     "output_type": "stream",
     "text": [
      "\\rProcessing... | Frame: 6907 | Recent: 0"
     ]
    },
    {
     "name": "stdout",
     "output_type": "stream",
     "text": [
      "\\rProcessing... | Frame: 6920 | Recent: 0"
     ]
    },
    {
     "name": "stdout",
     "output_type": "stream",
     "text": [
      "\\rProcessing... | Frame: 6933 | Recent: 0"
     ]
    },
    {
     "name": "stdout",
     "output_type": "stream",
     "text": [
      "\\rProcessing... | Frame: 6945 | Recent: 0"
     ]
    },
    {
     "name": "stdout",
     "output_type": "stream",
     "text": [
      "\\rProcessing... | Frame: 6957 | Recent: 0"
     ]
    },
    {
     "name": "stdout",
     "output_type": "stream",
     "text": [
      "\\rProcessing... | Frame: 6970 | Recent: 0"
     ]
    },
    {
     "name": "stdout",
     "output_type": "stream",
     "text": [
      "\\rProcessing... | Frame: 6981 | Recent: 0"
     ]
    },
    {
     "name": "stdout",
     "output_type": "stream",
     "text": [
      "\\rProcessing... | Frame: 6993 | Recent: 0"
     ]
    },
    {
     "name": "stdout",
     "output_type": "stream",
     "text": [
      "\\rProcessing... | Frame: 7005 | Recent: 0"
     ]
    },
    {
     "name": "stdout",
     "output_type": "stream",
     "text": [
      "\\rProcessing... | Frame: 7019 | Recent: 0"
     ]
    },
    {
     "name": "stdout",
     "output_type": "stream",
     "text": [
      "\\rProcessing... | Frame: 7027 | Recent: 0"
     ]
    },
    {
     "name": "stdout",
     "output_type": "stream",
     "text": [
      "\\rProcessing... | Frame: 7039 | Recent: 0"
     ]
    },
    {
     "name": "stdout",
     "output_type": "stream",
     "text": [
      "\\rProcessing... | Frame: 7051 | Recent: 0"
     ]
    },
    {
     "name": "stdout",
     "output_type": "stream",
     "text": [
      "\\rProcessing... | Frame: 7063 | Recent: 0"
     ]
    },
    {
     "name": "stdout",
     "output_type": "stream",
     "text": [
      "\\rProcessing... | Frame: 7075 | Recent: 0"
     ]
    },
    {
     "name": "stdout",
     "output_type": "stream",
     "text": [
      "\\rProcessing... | Frame: 7087 | Recent: 0"
     ]
    },
    {
     "name": "stdout",
     "output_type": "stream",
     "text": [
      "\\rProcessing... | Frame: 7099 | Recent: 0"
     ]
    },
    {
     "name": "stdout",
     "output_type": "stream",
     "text": [
      "\\rProcessing... | Frame: 7109 | Recent: 0"
     ]
    },
    {
     "name": "stdout",
     "output_type": "stream",
     "text": [
      "\\rProcessing... | Frame: 7121 | Recent: 0"
     ]
    },
    {
     "name": "stdout",
     "output_type": "stream",
     "text": [
      "\\rProcessing... | Frame: 7131 | Recent: 0"
     ]
    },
    {
     "name": "stdout",
     "output_type": "stream",
     "text": [
      "\\rProcessing... | Frame: 7137 | Recent: 0"
     ]
    },
    {
     "name": "stdout",
     "output_type": "stream",
     "text": [
      "\\rProcessing... | Frame: 7149 | Recent: 0"
     ]
    },
    {
     "name": "stdout",
     "output_type": "stream",
     "text": [
      "\\rProcessing... | Frame: 7161 | Recent: 0"
     ]
    },
    {
     "name": "stdout",
     "output_type": "stream",
     "text": [
      "\\rProcessing... | Frame: 7173 | Recent: 0"
     ]
    },
    {
     "name": "stdout",
     "output_type": "stream",
     "text": [
      "\\rProcessing... | Frame: 7185 | Recent: 0"
     ]
    },
    {
     "name": "stdout",
     "output_type": "stream",
     "text": [
      "\\rProcessing... | Frame: 7197 | Recent: 0"
     ]
    },
    {
     "name": "stdout",
     "output_type": "stream",
     "text": [
      "\\rProcessing... | Frame: 7210 | Recent: 0"
     ]
    },
    {
     "name": "stdout",
     "output_type": "stream",
     "text": [
      "\\rProcessing... | Frame: 7221 | Recent: 0"
     ]
    },
    {
     "name": "stdout",
     "output_type": "stream",
     "text": [
      "\\rProcessing... | Frame: 7231 | Recent: 0"
     ]
    },
    {
     "name": "stdout",
     "output_type": "stream",
     "text": [
      "\\rProcessing... | Frame: 7233 | Recent: 0"
     ]
    },
    {
     "name": "stdout",
     "output_type": "stream",
     "text": [
      "\\rProcessing... | Frame: 7235 | Recent: 0"
     ]
    },
    {
     "name": "stdout",
     "output_type": "stream",
     "text": [
      "\\rProcessing... | Frame: 7237 | Recent: 0"
     ]
    },
    {
     "name": "stdout",
     "output_type": "stream",
     "text": [
      "\\rProcessing... | Frame: 7239 | Recent: 0"
     ]
    },
    {
     "name": "stdout",
     "output_type": "stream",
     "text": [
      "\\rProcessing... | Frame: 7241 | Recent: 0"
     ]
    },
    {
     "name": "stdout",
     "output_type": "stream",
     "text": [
      "\\rProcessing... | Frame: 7243 | Recent: 0"
     ]
    },
    {
     "name": "stdout",
     "output_type": "stream",
     "text": [
      "\\rProcessing... | Frame: 7253 | Recent: 0"
     ]
    },
    {
     "name": "stdout",
     "output_type": "stream",
     "text": [
      "\\rProcessing... | Frame: 7265 | Recent: 0"
     ]
    },
    {
     "name": "stdout",
     "output_type": "stream",
     "text": [
      "\\rProcessing... | Frame: 7277 | Recent: 0"
     ]
    },
    {
     "name": "stdout",
     "output_type": "stream",
     "text": [
      "\\rProcessing... | Frame: 7290 | Recent: 0"
     ]
    },
    {
     "name": "stdout",
     "output_type": "stream",
     "text": [
      "\\rProcessing... | Frame: 7303 | Recent: 0"
     ]
    },
    {
     "name": "stdout",
     "output_type": "stream",
     "text": [
      "\\rProcessing... | Frame: 7315 | Recent: 0"
     ]
    },
    {
     "name": "stdout",
     "output_type": "stream",
     "text": [
      "\\rProcessing... | Frame: 7327 | Recent: 0"
     ]
    },
    {
     "name": "stdout",
     "output_type": "stream",
     "text": [
      "\\rProcessing... | Frame: 7333 | Recent: 0"
     ]
    },
    {
     "name": "stdout",
     "output_type": "stream",
     "text": [
      "\\rProcessing... | Frame: 7343 | Recent: 0"
     ]
    },
    {
     "name": "stdout",
     "output_type": "stream",
     "text": [
      "\\rProcessing... | Frame: 7355 | Recent: 0"
     ]
    },
    {
     "name": "stdout",
     "output_type": "stream",
     "text": [
      "\\rProcessing... | Frame: 7367 | Recent: 0"
     ]
    },
    {
     "name": "stdout",
     "output_type": "stream",
     "text": [
      "\\rProcessing... | Frame: 7379 | Recent: 0"
     ]
    },
    {
     "name": "stdout",
     "output_type": "stream",
     "text": [
      "\\rProcessing... | Frame: 7391 | Recent: 0"
     ]
    },
    {
     "name": "stdout",
     "output_type": "stream",
     "text": [
      "\\rProcessing... | Frame: 7403 | Recent: 0"
     ]
    },
    {
     "name": "stdout",
     "output_type": "stream",
     "text": [
      "\\rProcessing... | Frame: 7415 | Recent: 0"
     ]
    },
    {
     "name": "stdout",
     "output_type": "stream",
     "text": [
      "\\rProcessing... | Frame: 7428 | Recent: 0"
     ]
    },
    {
     "name": "stdout",
     "output_type": "stream",
     "text": [
      "\\rProcessing... | Frame: 7440 | Recent: 0"
     ]
    },
    {
     "name": "stdout",
     "output_type": "stream",
     "text": [
      "\\rProcessing... | Frame: 7451 | Recent: 0"
     ]
    },
    {
     "name": "stdout",
     "output_type": "stream",
     "text": [
      "\\rProcessing... | Frame: 7457 | Recent: 0"
     ]
    },
    {
     "name": "stdout",
     "output_type": "stream",
     "text": [
      "\\rProcessing... | Frame: 7465 | Recent: 0"
     ]
    },
    {
     "name": "stdout",
     "output_type": "stream",
     "text": [
      "\\rProcessing... | Frame: 7477 | Recent: 0"
     ]
    },
    {
     "name": "stdout",
     "output_type": "stream",
     "text": [
      "\\rProcessing... | Frame: 7489 | Recent: 0"
     ]
    },
    {
     "name": "stdout",
     "output_type": "stream",
     "text": [
      "\\rProcessing... | Frame: 7501 | Recent: 0"
     ]
    },
    {
     "name": "stdout",
     "output_type": "stream",
     "text": [
      "\\rProcessing... | Frame: 7513 | Recent: 0"
     ]
    },
    {
     "name": "stdout",
     "output_type": "stream",
     "text": [
      "\\rProcessing... | Frame: 7527 | Recent: 0"
     ]
    },
    {
     "name": "stdout",
     "output_type": "stream",
     "text": [
      "\\rProcessing... | Frame: 7531 | Recent: 0"
     ]
    },
    {
     "name": "stdout",
     "output_type": "stream",
     "text": [
      "\\rProcessing... | Frame: 7533 | Recent: 0"
     ]
    },
    {
     "name": "stdout",
     "output_type": "stream",
     "text": [
      "\\rProcessing... | Frame: 7535 | Recent: 0"
     ]
    },
    {
     "name": "stdout",
     "output_type": "stream",
     "text": [
      "\\rProcessing... | Frame: 7537 | Recent: 0"
     ]
    },
    {
     "name": "stdout",
     "output_type": "stream",
     "text": [
      "\\rProcessing... | Frame: 7539 | Recent: 0"
     ]
    },
    {
     "name": "stdout",
     "output_type": "stream",
     "text": [
      "\\rProcessing... | Frame: 7541 | Recent: 0"
     ]
    },
    {
     "name": "stdout",
     "output_type": "stream",
     "text": [
      "\\rProcessing... | Frame: 7543 | Recent: 0"
     ]
    },
    {
     "name": "stdout",
     "output_type": "stream",
     "text": [
      "\\rProcessing... | Frame: 7545 | Recent: 0"
     ]
    },
    {
     "name": "stdout",
     "output_type": "stream",
     "text": [
      "\\rProcessing... | Frame: 7547 | Recent: 0"
     ]
    },
    {
     "name": "stdout",
     "output_type": "stream",
     "text": [
      "\\rProcessing... | Frame: 7551 | Recent: 0"
     ]
    },
    {
     "name": "stdout",
     "output_type": "stream",
     "text": [
      "\\rProcessing... | Frame: 7553 | Recent: 0"
     ]
    },
    {
     "name": "stdout",
     "output_type": "stream",
     "text": [
      "\\rProcessing... | Frame: 7555 | Recent: 0"
     ]
    },
    {
     "name": "stdout",
     "output_type": "stream",
     "text": [
      "\\rProcessing... | Frame: 7557 | Recent: 0"
     ]
    },
    {
     "name": "stdout",
     "output_type": "stream",
     "text": [
      "\\rProcessing... | Frame: 7559 | Recent: 0"
     ]
    },
    {
     "name": "stdout",
     "output_type": "stream",
     "text": [
      "\\rProcessing... | Frame: 7561 | Recent: 0"
     ]
    },
    {
     "name": "stdout",
     "output_type": "stream",
     "text": [
      "\\rProcessing... | Frame: 7563 | Recent: 0"
     ]
    },
    {
     "name": "stdout",
     "output_type": "stream",
     "text": [
      "\\rProcessing... | Frame: 7565 | Recent: 0"
     ]
    },
    {
     "name": "stdout",
     "output_type": "stream",
     "text": [
      "\\rProcessing... | Frame: 7567 | Recent: 0"
     ]
    },
    {
     "name": "stdout",
     "output_type": "stream",
     "text": [
      "\\rProcessing... | Frame: 7569 | Recent: 0"
     ]
    },
    {
     "name": "stdout",
     "output_type": "stream",
     "text": [
      "\\rProcessing... | Frame: 7571 | Recent: 0"
     ]
    },
    {
     "name": "stdout",
     "output_type": "stream",
     "text": [
      "\\rProcessing... | Frame: 7573 | Recent: 0"
     ]
    },
    {
     "name": "stdout",
     "output_type": "stream",
     "text": [
      "\\rProcessing... | Frame: 7575 | Recent: 0"
     ]
    },
    {
     "name": "stdout",
     "output_type": "stream",
     "text": [
      "\\rProcessing... | Frame: 7577 | Recent: 0"
     ]
    },
    {
     "name": "stdout",
     "output_type": "stream",
     "text": [
      "\\rProcessing... | Frame: 7579 | Recent: 0"
     ]
    },
    {
     "name": "stdout",
     "output_type": "stream",
     "text": [
      "\\rProcessing... | Frame: 7581 | Recent: 0"
     ]
    },
    {
     "name": "stdout",
     "output_type": "stream",
     "text": [
      "\\rProcessing... | Frame: 7583 | Recent: 0"
     ]
    },
    {
     "name": "stdout",
     "output_type": "stream",
     "text": [
      "\\rProcessing... | Frame: 7585 | Recent: 0"
     ]
    },
    {
     "name": "stdout",
     "output_type": "stream",
     "text": [
      "\\rProcessing... | Frame: 7587 | Recent: 0"
     ]
    },
    {
     "name": "stdout",
     "output_type": "stream",
     "text": [
      "\\rProcessing... | Frame: 7589 | Recent: 0"
     ]
    },
    {
     "name": "stdout",
     "output_type": "stream",
     "text": [
      "\\rProcessing... | Frame: 7591 | Recent: 0"
     ]
    },
    {
     "name": "stdout",
     "output_type": "stream",
     "text": [
      "\\rProcessing... | Frame: 7593 | Recent: 0"
     ]
    },
    {
     "name": "stdout",
     "output_type": "stream",
     "text": [
      "\\rProcessing... | Frame: 7595 | Recent: 0"
     ]
    },
    {
     "name": "stdout",
     "output_type": "stream",
     "text": [
      "\\rProcessing... | Frame: 7597 | Recent: 0"
     ]
    },
    {
     "name": "stdout",
     "output_type": "stream",
     "text": [
      "\\rProcessing... | Frame: 7599 | Recent: 0"
     ]
    },
    {
     "name": "stdout",
     "output_type": "stream",
     "text": [
      "\\rProcessing... | Frame: 7601 | Recent: 0"
     ]
    },
    {
     "name": "stdout",
     "output_type": "stream",
     "text": [
      "\\rProcessing... | Frame: 7603 | Recent: 0"
     ]
    },
    {
     "name": "stdout",
     "output_type": "stream",
     "text": [
      "\\rProcessing... | Frame: 7605 | Recent: 0"
     ]
    },
    {
     "name": "stdout",
     "output_type": "stream",
     "text": [
      "\\rProcessing... | Frame: 7607 | Recent: 0"
     ]
    },
    {
     "name": "stdout",
     "output_type": "stream",
     "text": [
      "\\rProcessing... | Frame: 7609 | Recent: 0"
     ]
    },
    {
     "name": "stdout",
     "output_type": "stream",
     "text": [
      "\\rProcessing... | Frame: 7611 | Recent: 0"
     ]
    },
    {
     "name": "stdout",
     "output_type": "stream",
     "text": [
      "\\rProcessing... | Frame: 7615 | Recent: 0"
     ]
    },
    {
     "name": "stdout",
     "output_type": "stream",
     "text": [
      "\\rProcessing... | Frame: 7617 | Recent: 0"
     ]
    },
    {
     "name": "stdout",
     "output_type": "stream",
     "text": [
      "\\rProcessing... | Frame: 7619 | Recent: 0"
     ]
    },
    {
     "name": "stdout",
     "output_type": "stream",
     "text": [
      "\\rProcessing... | Frame: 7621 | Recent: 0"
     ]
    },
    {
     "name": "stdout",
     "output_type": "stream",
     "text": [
      "\\rProcessing... | Frame: 7623 | Recent: 0"
     ]
    },
    {
     "name": "stdout",
     "output_type": "stream",
     "text": [
      "\\rProcessing... | Frame: 7625 | Recent: 0"
     ]
    },
    {
     "name": "stdout",
     "output_type": "stream",
     "text": [
      "\\rProcessing... | Frame: 7627 | Recent: 0"
     ]
    },
    {
     "name": "stdout",
     "output_type": "stream",
     "text": [
      "\\rProcessing... | Frame: 7629 | Recent: 0"
     ]
    },
    {
     "name": "stdout",
     "output_type": "stream",
     "text": [
      "\\rProcessing... | Frame: 7631 | Recent: 0"
     ]
    },
    {
     "name": "stdout",
     "output_type": "stream",
     "text": [
      "\\rProcessing... | Frame: 7633 | Recent: 0"
     ]
    },
    {
     "name": "stdout",
     "output_type": "stream",
     "text": [
      "\\rProcessing... | Frame: 7635 | Recent: 0"
     ]
    },
    {
     "name": "stdout",
     "output_type": "stream",
     "text": [
      "\\rProcessing... | Frame: 7637 | Recent: 0"
     ]
    },
    {
     "name": "stdout",
     "output_type": "stream",
     "text": [
      "\\rProcessing... | Frame: 7639 | Recent: 0"
     ]
    },
    {
     "name": "stdout",
     "output_type": "stream",
     "text": [
      "\\rProcessing... | Frame: 7641 | Recent: 0"
     ]
    },
    {
     "name": "stdout",
     "output_type": "stream",
     "text": [
      "\\rProcessing... | Frame: 7643 | Recent: 0"
     ]
    },
    {
     "name": "stdout",
     "output_type": "stream",
     "text": [
      "\\rProcessing... | Frame: 7645 | Recent: 0"
     ]
    },
    {
     "name": "stdout",
     "output_type": "stream",
     "text": [
      "\\rProcessing... | Frame: 7647 | Recent: 0"
     ]
    },
    {
     "name": "stdout",
     "output_type": "stream",
     "text": [
      "\\rProcessing... | Frame: 7649 | Recent: 0"
     ]
    },
    {
     "name": "stdout",
     "output_type": "stream",
     "text": [
      "\\rProcessing... | Frame: 7651 | Recent: 0"
     ]
    },
    {
     "name": "stdout",
     "output_type": "stream",
     "text": [
      "\\rProcessing... | Frame: 7653 | Recent: 0"
     ]
    },
    {
     "name": "stdout",
     "output_type": "stream",
     "text": [
      "\\rProcessing... | Frame: 7655 | Recent: 0"
     ]
    },
    {
     "name": "stdout",
     "output_type": "stream",
     "text": [
      "\\rProcessing... | Frame: 7657 | Recent: 0"
     ]
    },
    {
     "name": "stdout",
     "output_type": "stream",
     "text": [
      "\\rProcessing... | Frame: 7659 | Recent: 0"
     ]
    },
    {
     "name": "stdout",
     "output_type": "stream",
     "text": [
      "\\rProcessing... | Frame: 7661 | Recent: 0"
     ]
    },
    {
     "name": "stdout",
     "output_type": "stream",
     "text": [
      "\\rProcessing... | Frame: 7663 | Recent: 0"
     ]
    },
    {
     "name": "stdout",
     "output_type": "stream",
     "text": [
      "\\rProcessing... | Frame: 7665 | Recent: 0"
     ]
    },
    {
     "name": "stdout",
     "output_type": "stream",
     "text": [
      "\\rProcessing... | Frame: 7667 | Recent: 0"
     ]
    },
    {
     "name": "stdout",
     "output_type": "stream",
     "text": [
      "\\rProcessing... | Frame: 7669 | Recent: 0"
     ]
    },
    {
     "name": "stdout",
     "output_type": "stream",
     "text": [
      "\\rProcessing... | Frame: 7671 | Recent: 0"
     ]
    },
    {
     "name": "stdout",
     "output_type": "stream",
     "text": [
      "\\rProcessing... | Frame: 7673 | Recent: 0"
     ]
    },
    {
     "name": "stdout",
     "output_type": "stream",
     "text": [
      "\\rProcessing... | Frame: 7675 | Recent: 0"
     ]
    },
    {
     "name": "stdout",
     "output_type": "stream",
     "text": [
      "\\rProcessing... | Frame: 7677 | Recent: 0"
     ]
    },
    {
     "name": "stdout",
     "output_type": "stream",
     "text": [
      "\\rProcessing... | Frame: 7679 | Recent: 0"
     ]
    },
    {
     "name": "stdout",
     "output_type": "stream",
     "text": [
      "\\rProcessing... | Frame: 7681 | Recent: 0"
     ]
    },
    {
     "name": "stdout",
     "output_type": "stream",
     "text": [
      "\\rProcessing... | Frame: 7683 | Recent: 0"
     ]
    },
    {
     "name": "stdout",
     "output_type": "stream",
     "text": [
      "\\rProcessing... | Frame: 7685 | Recent: 0"
     ]
    },
    {
     "name": "stdout",
     "output_type": "stream",
     "text": [
      "\\rProcessing... | Frame: 7687 | Recent: 0"
     ]
    },
    {
     "name": "stdout",
     "output_type": "stream",
     "text": [
      "\\rProcessing... | Frame: 7689 | Recent: 0"
     ]
    },
    {
     "name": "stdout",
     "output_type": "stream",
     "text": [
      "\\rProcessing... | Frame: 7691 | Recent: 0"
     ]
    },
    {
     "name": "stdout",
     "output_type": "stream",
     "text": [
      "\\rProcessing... | Frame: 7694 | Recent: 0"
     ]
    },
    {
     "name": "stdout",
     "output_type": "stream",
     "text": [
      "\\rProcessing... | Frame: 7695 | Recent: 0"
     ]
    },
    {
     "name": "stdout",
     "output_type": "stream",
     "text": [
      "\\rProcessing... | Frame: 7697 | Recent: 0"
     ]
    },
    {
     "name": "stdout",
     "output_type": "stream",
     "text": [
      "\\rProcessing... | Frame: 7699 | Recent: 0"
     ]
    },
    {
     "name": "stdout",
     "output_type": "stream",
     "text": [
      "\\rProcessing... | Frame: 7701 | Recent: 0"
     ]
    },
    {
     "name": "stdout",
     "output_type": "stream",
     "text": [
      "\\rProcessing... | Frame: 7703 | Recent: 0"
     ]
    },
    {
     "name": "stdout",
     "output_type": "stream",
     "text": [
      "\\rProcessing... | Frame: 7705 | Recent: 0"
     ]
    },
    {
     "name": "stdout",
     "output_type": "stream",
     "text": [
      "\\rProcessing... | Frame: 7707 | Recent: 0"
     ]
    },
    {
     "name": "stdout",
     "output_type": "stream",
     "text": [
      "\\rProcessing... | Frame: 7709 | Recent: 0"
     ]
    },
    {
     "name": "stdout",
     "output_type": "stream",
     "text": [
      "\\rProcessing... | Frame: 7711 | Recent: 0"
     ]
    },
    {
     "name": "stdout",
     "output_type": "stream",
     "text": [
      "\\rProcessing... | Frame: 7713 | Recent: 0"
     ]
    },
    {
     "name": "stdout",
     "output_type": "stream",
     "text": [
      "\\rProcessing... | Frame: 7715 | Recent: 0"
     ]
    },
    {
     "name": "stdout",
     "output_type": "stream",
     "text": [
      "\\rProcessing... | Frame: 7717 | Recent: 0"
     ]
    },
    {
     "name": "stdout",
     "output_type": "stream",
     "text": [
      "\\rProcessing... | Frame: 7719 | Recent: 0"
     ]
    },
    {
     "name": "stdout",
     "output_type": "stream",
     "text": [
      "\\rProcessing... | Frame: 7721 | Recent: 0"
     ]
    },
    {
     "name": "stdout",
     "output_type": "stream",
     "text": [
      "\\rProcessing... | Frame: 7723 | Recent: 0"
     ]
    },
    {
     "name": "stdout",
     "output_type": "stream",
     "text": [
      "\\rProcessing... | Frame: 7725 | Recent: 0"
     ]
    },
    {
     "name": "stdout",
     "output_type": "stream",
     "text": [
      "\\rProcessing... | Frame: 7727 | Recent: 0"
     ]
    },
    {
     "name": "stdout",
     "output_type": "stream",
     "text": [
      "\\rProcessing... | Frame: 7729 | Recent: 0"
     ]
    },
    {
     "name": "stdout",
     "output_type": "stream",
     "text": [
      "\\rProcessing... | Frame: 7731 | Recent: 0"
     ]
    },
    {
     "name": "stdout",
     "output_type": "stream",
     "text": [
      "\\rProcessing... | Frame: 7733 | Recent: 0"
     ]
    },
    {
     "name": "stdout",
     "output_type": "stream",
     "text": [
      "\\rProcessing... | Frame: 7735 | Recent: 0"
     ]
    },
    {
     "name": "stdout",
     "output_type": "stream",
     "text": [
      "\\rProcessing... | Frame: 7737 | Recent: 0"
     ]
    },
    {
     "name": "stdout",
     "output_type": "stream",
     "text": [
      "\\rProcessing... | Frame: 7739 | Recent: 0"
     ]
    },
    {
     "name": "stdout",
     "output_type": "stream",
     "text": [
      "\\rProcessing... | Frame: 7741 | Recent: 0"
     ]
    },
    {
     "name": "stdout",
     "output_type": "stream",
     "text": [
      "\\rProcessing... | Frame: 7743 | Recent: 0"
     ]
    },
    {
     "name": "stdout",
     "output_type": "stream",
     "text": [
      "\\rProcessing... | Frame: 7745 | Recent: 0"
     ]
    },
    {
     "name": "stdout",
     "output_type": "stream",
     "text": [
      "\\rProcessing... | Frame: 7747 | Recent: 0"
     ]
    },
    {
     "name": "stdout",
     "output_type": "stream",
     "text": [
      "\\rProcessing... | Frame: 7749 | Recent: 0"
     ]
    },
    {
     "name": "stdout",
     "output_type": "stream",
     "text": [
      "\\rProcessing... | Frame: 7751 | Recent: 0"
     ]
    },
    {
     "name": "stdout",
     "output_type": "stream",
     "text": [
      "\\rProcessing... | Frame: 7753 | Recent: 0"
     ]
    },
    {
     "name": "stdout",
     "output_type": "stream",
     "text": [
      "\\rProcessing... | Frame: 7755 | Recent: 0"
     ]
    },
    {
     "name": "stdout",
     "output_type": "stream",
     "text": [
      "\\rProcessing... | Frame: 7757 | Recent: 0"
     ]
    },
    {
     "name": "stdout",
     "output_type": "stream",
     "text": [
      "\\rProcessing... | Frame: 7759 | Recent: 0"
     ]
    },
    {
     "name": "stdout",
     "output_type": "stream",
     "text": [
      "\\rProcessing... | Frame: 7761 | Recent: 0"
     ]
    },
    {
     "name": "stdout",
     "output_type": "stream",
     "text": [
      "\\rProcessing... | Frame: 7763 | Recent: 0"
     ]
    },
    {
     "name": "stdout",
     "output_type": "stream",
     "text": [
      "\\rProcessing... | Frame: 7765 | Recent: 0"
     ]
    },
    {
     "name": "stdout",
     "output_type": "stream",
     "text": [
      "\\rProcessing... | Frame: 7767 | Recent: 0"
     ]
    },
    {
     "name": "stdout",
     "output_type": "stream",
     "text": [
      "\\rProcessing... | Frame: 7771 | Recent: 0"
     ]
    },
    {
     "name": "stdout",
     "output_type": "stream",
     "text": [
      "\\rProcessing... | Frame: 7773 | Recent: 0"
     ]
    },
    {
     "name": "stdout",
     "output_type": "stream",
     "text": [
      "\\rProcessing... | Frame: 7775 | Recent: 0"
     ]
    },
    {
     "name": "stdout",
     "output_type": "stream",
     "text": [
      "\\rProcessing... | Frame: 7777 | Recent: 0"
     ]
    },
    {
     "name": "stdout",
     "output_type": "stream",
     "text": [
      "\\rProcessing... | Frame: 7779 | Recent: 0"
     ]
    },
    {
     "name": "stdout",
     "output_type": "stream",
     "text": [
      "\\rProcessing... | Frame: 7781 | Recent: 0"
     ]
    },
    {
     "name": "stdout",
     "output_type": "stream",
     "text": [
      "\\rProcessing... | Frame: 7783 | Recent: 0"
     ]
    },
    {
     "name": "stdout",
     "output_type": "stream",
     "text": [
      "\\rProcessing... | Frame: 7785 | Recent: 0"
     ]
    },
    {
     "name": "stdout",
     "output_type": "stream",
     "text": [
      "\\rProcessing... | Frame: 7787 | Recent: 0"
     ]
    },
    {
     "name": "stdout",
     "output_type": "stream",
     "text": [
      "\\rProcessing... | Frame: 7789 | Recent: 0"
     ]
    },
    {
     "name": "stdout",
     "output_type": "stream",
     "text": [
      "\\rProcessing... | Frame: 7791 | Recent: 0"
     ]
    },
    {
     "name": "stdout",
     "output_type": "stream",
     "text": [
      "\\rProcessing... | Frame: 7793 | Recent: 0"
     ]
    },
    {
     "name": "stdout",
     "output_type": "stream",
     "text": [
      "\\rProcessing... | Frame: 7795 | Recent: 0"
     ]
    },
    {
     "name": "stdout",
     "output_type": "stream",
     "text": [
      "\\rProcessing... | Frame: 7797 | Recent: 0"
     ]
    },
    {
     "name": "stdout",
     "output_type": "stream",
     "text": [
      "\\rProcessing... | Frame: 7799 | Recent: 0"
     ]
    },
    {
     "name": "stdout",
     "output_type": "stream",
     "text": [
      "\\rProcessing... | Frame: 7801 | Recent: 0"
     ]
    },
    {
     "name": "stdout",
     "output_type": "stream",
     "text": [
      "\\rProcessing... | Frame: 7803 | Recent: 0"
     ]
    },
    {
     "name": "stdout",
     "output_type": "stream",
     "text": [
      "\\rProcessing... | Frame: 7805 | Recent: 0"
     ]
    },
    {
     "name": "stdout",
     "output_type": "stream",
     "text": [
      "\\rProcessing... | Frame: 7807 | Recent: 0"
     ]
    },
    {
     "name": "stdout",
     "output_type": "stream",
     "text": [
      "\\rProcessing... | Frame: 7809 | Recent: 0"
     ]
    },
    {
     "name": "stdout",
     "output_type": "stream",
     "text": [
      "\\rProcessing... | Frame: 7811 | Recent: 0"
     ]
    },
    {
     "name": "stdout",
     "output_type": "stream",
     "text": [
      "\\rProcessing... | Frame: 7813 | Recent: 0"
     ]
    },
    {
     "name": "stdout",
     "output_type": "stream",
     "text": [
      "\\rProcessing... | Frame: 7815 | Recent: 0"
     ]
    },
    {
     "name": "stdout",
     "output_type": "stream",
     "text": [
      "\\rProcessing... | Frame: 7817 | Recent: 0"
     ]
    },
    {
     "name": "stdout",
     "output_type": "stream",
     "text": [
      "\\rProcessing... | Frame: 7819 | Recent: 0"
     ]
    },
    {
     "name": "stdout",
     "output_type": "stream",
     "text": [
      "\\rProcessing... | Frame: 7821 | Recent: 0"
     ]
    },
    {
     "name": "stdout",
     "output_type": "stream",
     "text": [
      "\\rProcessing... | Frame: 7823 | Recent: 0"
     ]
    },
    {
     "name": "stdout",
     "output_type": "stream",
     "text": [
      "\\rProcessing... | Frame: 7825 | Recent: 0"
     ]
    },
    {
     "name": "stdout",
     "output_type": "stream",
     "text": [
      "\\rProcessing... | Frame: 7827 | Recent: 0"
     ]
    },
    {
     "name": "stdout",
     "output_type": "stream",
     "text": [
      "\\rProcessing... | Frame: 7829 | Recent: 0"
     ]
    },
    {
     "name": "stdout",
     "output_type": "stream",
     "text": [
      "\\rProcessing... | Frame: 7831 | Recent: 0"
     ]
    },
    {
     "name": "stdout",
     "output_type": "stream",
     "text": [
      "\\rProcessing... | Frame: 7833 | Recent: 0"
     ]
    },
    {
     "name": "stdout",
     "output_type": "stream",
     "text": [
      "\\rProcessing... | Frame: 7835 | Recent: 0"
     ]
    },
    {
     "name": "stdout",
     "output_type": "stream",
     "text": [
      "\\rProcessing... | Frame: 7837 | Recent: 0"
     ]
    },
    {
     "name": "stdout",
     "output_type": "stream",
     "text": [
      "\\rProcessing... | Frame: 7839 | Recent: 0"
     ]
    },
    {
     "name": "stdout",
     "output_type": "stream",
     "text": [
      "\\rProcessing... | Frame: 7841 | Recent: 0"
     ]
    },
    {
     "name": "stdout",
     "output_type": "stream",
     "text": [
      "\\rProcessing... | Frame: 7843 | Recent: 0"
     ]
    },
    {
     "name": "stdout",
     "output_type": "stream",
     "text": [
      "\\rProcessing... | Frame: 7845 | Recent: 0"
     ]
    },
    {
     "name": "stdout",
     "output_type": "stream",
     "text": [
      "\\rProcessing... | Frame: 7847 | Recent: 0"
     ]
    },
    {
     "name": "stdout",
     "output_type": "stream",
     "text": [
      "\\rProcessing... | Frame: 7849 | Recent: 0"
     ]
    },
    {
     "name": "stdout",
     "output_type": "stream",
     "text": [
      "\\rProcessing... | Frame: 7851 | Recent: 0"
     ]
    },
    {
     "name": "stdout",
     "output_type": "stream",
     "text": [
      "\\rProcessing... | Frame: 7853 | Recent: 0"
     ]
    },
    {
     "name": "stdout",
     "output_type": "stream",
     "text": [
      "\\rProcessing... | Frame: 7855 | Recent: 0"
     ]
    },
    {
     "name": "stdout",
     "output_type": "stream",
     "text": [
      "\\rProcessing... | Frame: 7857 | Recent: 0"
     ]
    },
    {
     "name": "stdout",
     "output_type": "stream",
     "text": [
      "\\rProcessing... | Frame: 7859 | Recent: 0"
     ]
    },
    {
     "name": "stdout",
     "output_type": "stream",
     "text": [
      "\\rProcessing... | Frame: 7861 | Recent: 0"
     ]
    },
    {
     "name": "stdout",
     "output_type": "stream",
     "text": [
      "\\rProcessing... | Frame: 7863 | Recent: 0"
     ]
    },
    {
     "name": "stdout",
     "output_type": "stream",
     "text": [
      "\\rProcessing... | Frame: 7865 | Recent: 0"
     ]
    },
    {
     "name": "stdout",
     "output_type": "stream",
     "text": [
      "\\rProcessing... | Frame: 7869 | Recent: 0"
     ]
    },
    {
     "name": "stdout",
     "output_type": "stream",
     "text": [
      "\\rProcessing... | Frame: 7871 | Recent: 0"
     ]
    },
    {
     "name": "stdout",
     "output_type": "stream",
     "text": [
      "\\rProcessing... | Frame: 7873 | Recent: 0"
     ]
    },
    {
     "name": "stdout",
     "output_type": "stream",
     "text": [
      "\\rProcessing... | Frame: 7875 | Recent: 0"
     ]
    },
    {
     "name": "stdout",
     "output_type": "stream",
     "text": [
      "\\rProcessing... | Frame: 7877 | Recent: 0"
     ]
    },
    {
     "name": "stdout",
     "output_type": "stream",
     "text": [
      "\\rProcessing... | Frame: 7879 | Recent: 0"
     ]
    },
    {
     "name": "stdout",
     "output_type": "stream",
     "text": [
      "\\rProcessing... | Frame: 7881 | Recent: 0"
     ]
    },
    {
     "name": "stdout",
     "output_type": "stream",
     "text": [
      "\\rProcessing... | Frame: 7883 | Recent: 0"
     ]
    },
    {
     "name": "stdout",
     "output_type": "stream",
     "text": [
      "\\rProcessing... | Frame: 7885 | Recent: 0"
     ]
    },
    {
     "name": "stdout",
     "output_type": "stream",
     "text": [
      "\\rProcessing... | Frame: 7887 | Recent: 0"
     ]
    },
    {
     "name": "stdout",
     "output_type": "stream",
     "text": [
      "\\rProcessing... | Frame: 7889 | Recent: 0"
     ]
    },
    {
     "name": "stdout",
     "output_type": "stream",
     "text": [
      "\\rProcessing... | Frame: 7891 | Recent: 0"
     ]
    },
    {
     "name": "stdout",
     "output_type": "stream",
     "text": [
      "\\rProcessing... | Frame: 7893 | Recent: 0"
     ]
    },
    {
     "name": "stdout",
     "output_type": "stream",
     "text": [
      "\\rProcessing... | Frame: 7897 | Recent: 0"
     ]
    },
    {
     "name": "stdout",
     "output_type": "stream",
     "text": [
      "\\rProcessing... | Frame: 7899 | Recent: 0"
     ]
    },
    {
     "name": "stdout",
     "output_type": "stream",
     "text": [
      "\\rProcessing... | Frame: 7901 | Recent: 0"
     ]
    },
    {
     "name": "stdout",
     "output_type": "stream",
     "text": [
      "\\rProcessing... | Frame: 7903 | Recent: 0"
     ]
    },
    {
     "name": "stdout",
     "output_type": "stream",
     "text": [
      "\\rProcessing... | Frame: 7905 | Recent: 0"
     ]
    },
    {
     "name": "stdout",
     "output_type": "stream",
     "text": [
      "\\rProcessing... | Frame: 7907 | Recent: 0"
     ]
    },
    {
     "name": "stdout",
     "output_type": "stream",
     "text": [
      "\\rProcessing... | Frame: 7909 | Recent: 0"
     ]
    },
    {
     "name": "stdout",
     "output_type": "stream",
     "text": [
      "\\rProcessing... | Frame: 7911 | Recent: 0"
     ]
    },
    {
     "name": "stdout",
     "output_type": "stream",
     "text": [
      "\\rProcessing... | Frame: 7913 | Recent: 0"
     ]
    },
    {
     "name": "stdout",
     "output_type": "stream",
     "text": [
      "\\rProcessing... | Frame: 7915 | Recent: 0"
     ]
    },
    {
     "name": "stdout",
     "output_type": "stream",
     "text": [
      "\\rProcessing... | Frame: 7917 | Recent: 0"
     ]
    },
    {
     "name": "stdout",
     "output_type": "stream",
     "text": [
      "\\rProcessing... | Frame: 7919 | Recent: 0"
     ]
    },
    {
     "name": "stdout",
     "output_type": "stream",
     "text": [
      "\\rProcessing... | Frame: 7921 | Recent: 0"
     ]
    },
    {
     "name": "stdout",
     "output_type": "stream",
     "text": [
      "\\rProcessing... | Frame: 7923 | Recent: 0"
     ]
    },
    {
     "name": "stdout",
     "output_type": "stream",
     "text": [
      "\\rProcessing... | Frame: 7925 | Recent: 0"
     ]
    },
    {
     "name": "stdout",
     "output_type": "stream",
     "text": [
      "\\rProcessing... | Frame: 7927 | Recent: 0"
     ]
    },
    {
     "name": "stdout",
     "output_type": "stream",
     "text": [
      "\\rProcessing... | Frame: 7929 | Recent: 0"
     ]
    },
    {
     "name": "stdout",
     "output_type": "stream",
     "text": [
      "\\rProcessing... | Frame: 7931 | Recent: 0"
     ]
    },
    {
     "name": "stdout",
     "output_type": "stream",
     "text": [
      "\\rProcessing... | Frame: 7933 | Recent: 0"
     ]
    },
    {
     "name": "stdout",
     "output_type": "stream",
     "text": [
      "\\rProcessing... | Frame: 7935 | Recent: 0"
     ]
    },
    {
     "name": "stdout",
     "output_type": "stream",
     "text": [
      "\\rProcessing... | Frame: 7937 | Recent: 0"
     ]
    },
    {
     "name": "stdout",
     "output_type": "stream",
     "text": [
      "\\rProcessing... | Frame: 7940 | Recent: 0"
     ]
    },
    {
     "name": "stdout",
     "output_type": "stream",
     "text": [
      "\\rProcessing... | Frame: 7941 | Recent: 0"
     ]
    },
    {
     "name": "stdout",
     "output_type": "stream",
     "text": [
      "\\rProcessing... | Frame: 7943 | Recent: 0"
     ]
    },
    {
     "name": "stdout",
     "output_type": "stream",
     "text": [
      "\\rProcessing... | Frame: 7945 | Recent: 0"
     ]
    },
    {
     "name": "stdout",
     "output_type": "stream",
     "text": [
      "\\rProcessing... | Frame: 7948 | Recent: 0"
     ]
    },
    {
     "name": "stdout",
     "output_type": "stream",
     "text": [
      "\\rProcessing... | Frame: 7949 | Recent: 0"
     ]
    },
    {
     "name": "stdout",
     "output_type": "stream",
     "text": [
      "\\rProcessing... | Frame: 7951 | Recent: 0"
     ]
    },
    {
     "name": "stdout",
     "output_type": "stream",
     "text": [
      "\\rProcessing... | Frame: 7953 | Recent: 0"
     ]
    },
    {
     "name": "stdout",
     "output_type": "stream",
     "text": [
      "\\rProcessing... | Frame: 7955 | Recent: 0"
     ]
    },
    {
     "name": "stdout",
     "output_type": "stream",
     "text": [
      "\\rProcessing... | Frame: 7957 | Recent: 0"
     ]
    },
    {
     "name": "stdout",
     "output_type": "stream",
     "text": [
      "\\rProcessing... | Frame: 7959 | Recent: 0"
     ]
    },
    {
     "name": "stdout",
     "output_type": "stream",
     "text": [
      "\\rProcessing... | Frame: 7961 | Recent: 0"
     ]
    },
    {
     "name": "stdout",
     "output_type": "stream",
     "text": [
      "\\rProcessing... | Frame: 7963 | Recent: 0"
     ]
    },
    {
     "name": "stdout",
     "output_type": "stream",
     "text": [
      "\\rProcessing... | Frame: 7965 | Recent: 0"
     ]
    },
    {
     "name": "stdout",
     "output_type": "stream",
     "text": [
      "\\rProcessing... | Frame: 7967 | Recent: 0"
     ]
    },
    {
     "name": "stdout",
     "output_type": "stream",
     "text": [
      "\\rProcessing... | Frame: 7969 | Recent: 0"
     ]
    },
    {
     "name": "stdout",
     "output_type": "stream",
     "text": [
      "\\rProcessing... | Frame: 7971 | Recent: 0"
     ]
    },
    {
     "name": "stdout",
     "output_type": "stream",
     "text": [
      "\\rProcessing... | Frame: 7973 | Recent: 0"
     ]
    },
    {
     "name": "stdout",
     "output_type": "stream",
     "text": [
      "\\rProcessing... | Frame: 7975 | Recent: 0"
     ]
    },
    {
     "name": "stdout",
     "output_type": "stream",
     "text": [
      "\\rProcessing... | Frame: 7977 | Recent: 0"
     ]
    },
    {
     "name": "stdout",
     "output_type": "stream",
     "text": [
      "\\rProcessing... | Frame: 7979 | Recent: 0"
     ]
    },
    {
     "name": "stdout",
     "output_type": "stream",
     "text": [
      "\\rProcessing... | Frame: 7981 | Recent: 0"
     ]
    },
    {
     "name": "stdout",
     "output_type": "stream",
     "text": [
      "\\rProcessing... | Frame: 7983 | Recent: 0"
     ]
    },
    {
     "name": "stdout",
     "output_type": "stream",
     "text": [
      "\\rProcessing... | Frame: 7985 | Recent: 0"
     ]
    },
    {
     "name": "stdout",
     "output_type": "stream",
     "text": [
      "\\rProcessing... | Frame: 7987 | Recent: 0"
     ]
    },
    {
     "name": "stdout",
     "output_type": "stream",
     "text": [
      "\\rProcessing... | Frame: 7989 | Recent: 0"
     ]
    },
    {
     "name": "stdout",
     "output_type": "stream",
     "text": [
      "\\rProcessing... | Frame: 7991 | Recent: 0"
     ]
    },
    {
     "name": "stdout",
     "output_type": "stream",
     "text": [
      "\\rProcessing... | Frame: 7993 | Recent: 0"
     ]
    },
    {
     "name": "stdout",
     "output_type": "stream",
     "text": [
      "\\rProcessing... | Frame: 7995 | Recent: 0"
     ]
    },
    {
     "name": "stdout",
     "output_type": "stream",
     "text": [
      "\\rProcessing... | Frame: 7997 | Recent: 0"
     ]
    },
    {
     "name": "stdout",
     "output_type": "stream",
     "text": [
      "\\rProcessing... | Frame: 7999 | Recent: 0"
     ]
    },
    {
     "name": "stdout",
     "output_type": "stream",
     "text": [
      "\\rProcessing... | Frame: 8001 | Recent: 0"
     ]
    },
    {
     "name": "stdout",
     "output_type": "stream",
     "text": [
      "\\rProcessing... | Frame: 8003 | Recent: 0"
     ]
    },
    {
     "name": "stdout",
     "output_type": "stream",
     "text": [
      "\\rProcessing... | Frame: 8005 | Recent: 0"
     ]
    },
    {
     "name": "stdout",
     "output_type": "stream",
     "text": [
      "\\rProcessing... | Frame: 8007 | Recent: 0"
     ]
    },
    {
     "name": "stdout",
     "output_type": "stream",
     "text": [
      "\\rProcessing... | Frame: 8010 | Recent: 0"
     ]
    },
    {
     "name": "stdout",
     "output_type": "stream",
     "text": [
      "\\rProcessing... | Frame: 8011 | Recent: 0"
     ]
    },
    {
     "name": "stdout",
     "output_type": "stream",
     "text": [
      "\\rProcessing... | Frame: 8013 | Recent: 0"
     ]
    },
    {
     "name": "stdout",
     "output_type": "stream",
     "text": [
      "\\rProcessing... | Frame: 8015 | Recent: 0"
     ]
    },
    {
     "name": "stdout",
     "output_type": "stream",
     "text": [
      "\\rProcessing... | Frame: 8017 | Recent: 0"
     ]
    },
    {
     "name": "stdout",
     "output_type": "stream",
     "text": [
      "\\rProcessing... | Frame: 8019 | Recent: 0"
     ]
    },
    {
     "name": "stdout",
     "output_type": "stream",
     "text": [
      "\\rProcessing... | Frame: 8021 | Recent: 0"
     ]
    },
    {
     "name": "stdout",
     "output_type": "stream",
     "text": [
      "\\rProcessing... | Frame: 8023 | Recent: 0"
     ]
    },
    {
     "name": "stdout",
     "output_type": "stream",
     "text": [
      "\\rProcessing... | Frame: 8025 | Recent: 0"
     ]
    },
    {
     "name": "stdout",
     "output_type": "stream",
     "text": [
      "\\rProcessing... | Frame: 8027 | Recent: 0"
     ]
    },
    {
     "name": "stdout",
     "output_type": "stream",
     "text": [
      "\\rProcessing... | Frame: 8029 | Recent: 0"
     ]
    },
    {
     "name": "stdout",
     "output_type": "stream",
     "text": [
      "\\rProcessing... | Frame: 8031 | Recent: 0"
     ]
    },
    {
     "name": "stdout",
     "output_type": "stream",
     "text": [
      "\\rProcessing... | Frame: 8033 | Recent: 0"
     ]
    },
    {
     "name": "stdout",
     "output_type": "stream",
     "text": [
      "\\rProcessing... | Frame: 8035 | Recent: 0"
     ]
    },
    {
     "name": "stdout",
     "output_type": "stream",
     "text": [
      "\\rProcessing... | Frame: 8037 | Recent: 0"
     ]
    },
    {
     "name": "stdout",
     "output_type": "stream",
     "text": [
      "\\rProcessing... | Frame: 8039 | Recent: 0"
     ]
    },
    {
     "name": "stdout",
     "output_type": "stream",
     "text": [
      "\\rProcessing... | Frame: 8041 | Recent: 0"
     ]
    },
    {
     "name": "stdout",
     "output_type": "stream",
     "text": [
      "\\rProcessing... | Frame: 8043 | Recent: 0"
     ]
    },
    {
     "name": "stdout",
     "output_type": "stream",
     "text": [
      "\\rProcessing... | Frame: 8045 | Recent: 0"
     ]
    },
    {
     "name": "stdout",
     "output_type": "stream",
     "text": [
      "\\rProcessing... | Frame: 8047 | Recent: 0"
     ]
    },
    {
     "name": "stdout",
     "output_type": "stream",
     "text": [
      "\\rProcessing... | Frame: 8049 | Recent: 0"
     ]
    },
    {
     "name": "stdout",
     "output_type": "stream",
     "text": [
      "\\rProcessing... | Frame: 8051 | Recent: 0"
     ]
    },
    {
     "name": "stdout",
     "output_type": "stream",
     "text": [
      "\\rProcessing... | Frame: 8055 | Recent: 0"
     ]
    },
    {
     "name": "stdout",
     "output_type": "stream",
     "text": [
      "\\rProcessing... | Frame: 8057 | Recent: 0"
     ]
    },
    {
     "name": "stdout",
     "output_type": "stream",
     "text": [
      "\\rProcessing... | Frame: 8059 | Recent: 0"
     ]
    },
    {
     "name": "stdout",
     "output_type": "stream",
     "text": [
      "\\rProcessing... | Frame: 8061 | Recent: 0"
     ]
    },
    {
     "name": "stdout",
     "output_type": "stream",
     "text": [
      "\\rProcessing... | Frame: 8063 | Recent: 0"
     ]
    },
    {
     "name": "stdout",
     "output_type": "stream",
     "text": [
      "\\rProcessing... | Frame: 8065 | Recent: 0"
     ]
    },
    {
     "name": "stdout",
     "output_type": "stream",
     "text": [
      "\\rProcessing... | Frame: 8067 | Recent: 0"
     ]
    },
    {
     "name": "stdout",
     "output_type": "stream",
     "text": [
      "\\rProcessing... | Frame: 8069 | Recent: 0"
     ]
    },
    {
     "name": "stdout",
     "output_type": "stream",
     "text": [
      "\\rProcessing... | Frame: 8071 | Recent: 0"
     ]
    },
    {
     "name": "stdout",
     "output_type": "stream",
     "text": [
      "\\rProcessing... | Frame: 8073 | Recent: 0"
     ]
    },
    {
     "name": "stdout",
     "output_type": "stream",
     "text": [
      "\\rProcessing... | Frame: 8075 | Recent: 0"
     ]
    },
    {
     "name": "stdout",
     "output_type": "stream",
     "text": [
      "\\rProcessing... | Frame: 8077 | Recent: 0"
     ]
    },
    {
     "name": "stdout",
     "output_type": "stream",
     "text": [
      "\\rProcessing... | Frame: 8079 | Recent: 0"
     ]
    },
    {
     "name": "stdout",
     "output_type": "stream",
     "text": [
      "\\rProcessing... | Frame: 8081 | Recent: 0"
     ]
    },
    {
     "name": "stdout",
     "output_type": "stream",
     "text": [
      "\\rProcessing... | Frame: 8083 | Recent: 0"
     ]
    },
    {
     "name": "stdout",
     "output_type": "stream",
     "text": [
      "\\rProcessing... | Frame: 8085 | Recent: 0"
     ]
    },
    {
     "name": "stdout",
     "output_type": "stream",
     "text": [
      "\\rProcessing... | Frame: 8087 | Recent: 0"
     ]
    },
    {
     "name": "stdout",
     "output_type": "stream",
     "text": [
      "\\rProcessing... | Frame: 8089 | Recent: 0"
     ]
    },
    {
     "name": "stdout",
     "output_type": "stream",
     "text": [
      "\\rProcessing... | Frame: 8091 | Recent: 0"
     ]
    },
    {
     "name": "stdout",
     "output_type": "stream",
     "text": [
      "\\rProcessing... | Frame: 8093 | Recent: 0"
     ]
    },
    {
     "name": "stdout",
     "output_type": "stream",
     "text": [
      "\\rProcessing... | Frame: 8095 | Recent: 0"
     ]
    },
    {
     "name": "stdout",
     "output_type": "stream",
     "text": [
      "\\rProcessing... | Frame: 8097 | Recent: 0"
     ]
    },
    {
     "name": "stdout",
     "output_type": "stream",
     "text": [
      "\\rProcessing... | Frame: 8099 | Recent: 0"
     ]
    },
    {
     "name": "stdout",
     "output_type": "stream",
     "text": [
      "\\rProcessing... | Frame: 8101 | Recent: 0"
     ]
    },
    {
     "name": "stdout",
     "output_type": "stream",
     "text": [
      "\\rProcessing... | Frame: 8103 | Recent: 0"
     ]
    },
    {
     "name": "stdout",
     "output_type": "stream",
     "text": [
      "\\rProcessing... | Frame: 8105 | Recent: 0"
     ]
    },
    {
     "name": "stdout",
     "output_type": "stream",
     "text": [
      "\\rProcessing... | Frame: 8107 | Recent: 0"
     ]
    },
    {
     "name": "stdout",
     "output_type": "stream",
     "text": [
      "\\rProcessing... | Frame: 8109 | Recent: 0"
     ]
    },
    {
     "name": "stdout",
     "output_type": "stream",
     "text": [
      "\\rProcessing... | Frame: 8111 | Recent: 0"
     ]
    },
    {
     "name": "stdout",
     "output_type": "stream",
     "text": [
      "\\rProcessing... | Frame: 8113 | Recent: 0"
     ]
    },
    {
     "name": "stdout",
     "output_type": "stream",
     "text": [
      "\\rProcessing... | Frame: 8115 | Recent: 0"
     ]
    },
    {
     "name": "stdout",
     "output_type": "stream",
     "text": [
      "\\rProcessing... | Frame: 8117 | Recent: 0"
     ]
    },
    {
     "name": "stdout",
     "output_type": "stream",
     "text": [
      "\\rProcessing... | Frame: 8119 | Recent: 0"
     ]
    },
    {
     "name": "stdout",
     "output_type": "stream",
     "text": [
      "\\rProcessing... | Frame: 8121 | Recent: 0"
     ]
    },
    {
     "name": "stdout",
     "output_type": "stream",
     "text": [
      "\\rProcessing... | Frame: 8123 | Recent: 0"
     ]
    },
    {
     "name": "stdout",
     "output_type": "stream",
     "text": [
      "\\rProcessing... | Frame: 8125 | Recent: 0"
     ]
    },
    {
     "name": "stdout",
     "output_type": "stream",
     "text": [
      "\\rProcessing... | Frame: 8127 | Recent: 0"
     ]
    },
    {
     "name": "stdout",
     "output_type": "stream",
     "text": [
      "\\rProcessing... | Frame: 8129 | Recent: 0"
     ]
    },
    {
     "name": "stdout",
     "output_type": "stream",
     "text": [
      "\\rProcessing... | Frame: 8131 | Recent: 0"
     ]
    },
    {
     "name": "stdout",
     "output_type": "stream",
     "text": [
      "\\rProcessing... | Frame: 8135 | Recent: 0"
     ]
    },
    {
     "name": "stdout",
     "output_type": "stream",
     "text": [
      "\\rProcessing... | Frame: 8137 | Recent: 0"
     ]
    },
    {
     "name": "stdout",
     "output_type": "stream",
     "text": [
      "\\rProcessing... | Frame: 8139 | Recent: 0"
     ]
    },
    {
     "name": "stdout",
     "output_type": "stream",
     "text": [
      "\\rProcessing... | Frame: 8141 | Recent: 0"
     ]
    },
    {
     "name": "stdout",
     "output_type": "stream",
     "text": [
      "\\rProcessing... | Frame: 8143 | Recent: 0"
     ]
    },
    {
     "name": "stdout",
     "output_type": "stream",
     "text": [
      "\\rProcessing... | Frame: 8145 | Recent: 0"
     ]
    },
    {
     "name": "stdout",
     "output_type": "stream",
     "text": [
      "\\rProcessing... | Frame: 8147 | Recent: 0"
     ]
    },
    {
     "name": "stdout",
     "output_type": "stream",
     "text": [
      "\\rProcessing... | Frame: 8149 | Recent: 0"
     ]
    },
    {
     "name": "stdout",
     "output_type": "stream",
     "text": [
      "\\rProcessing... | Frame: 8151 | Recent: 0"
     ]
    },
    {
     "name": "stdout",
     "output_type": "stream",
     "text": [
      "\\rProcessing... | Frame: 8153 | Recent: 0"
     ]
    },
    {
     "name": "stdout",
     "output_type": "stream",
     "text": [
      "\\rProcessing... | Frame: 8155 | Recent: 0"
     ]
    },
    {
     "name": "stdout",
     "output_type": "stream",
     "text": [
      "\\rProcessing... | Frame: 8157 | Recent: 0"
     ]
    },
    {
     "name": "stdout",
     "output_type": "stream",
     "text": [
      "\\rProcessing... | Frame: 8159 | Recent: 0"
     ]
    },
    {
     "name": "stdout",
     "output_type": "stream",
     "text": [
      "\\rProcessing... | Frame: 8161 | Recent: 0"
     ]
    },
    {
     "name": "stdout",
     "output_type": "stream",
     "text": [
      "\\rProcessing... | Frame: 8163 | Recent: 0"
     ]
    },
    {
     "name": "stdout",
     "output_type": "stream",
     "text": [
      "\\rProcessing... | Frame: 8165 | Recent: 0"
     ]
    },
    {
     "name": "stdout",
     "output_type": "stream",
     "text": [
      "\\rProcessing... | Frame: 8167 | Recent: 0"
     ]
    },
    {
     "name": "stdout",
     "output_type": "stream",
     "text": [
      "\\rProcessing... | Frame: 8169 | Recent: 0"
     ]
    },
    {
     "name": "stdout",
     "output_type": "stream",
     "text": [
      "\\rProcessing... | Frame: 8171 | Recent: 0"
     ]
    },
    {
     "name": "stdout",
     "output_type": "stream",
     "text": [
      "\\rProcessing... | Frame: 8173 | Recent: 0"
     ]
    },
    {
     "name": "stdout",
     "output_type": "stream",
     "text": [
      "\\rProcessing... | Frame: 8175 | Recent: 0"
     ]
    },
    {
     "name": "stdout",
     "output_type": "stream",
     "text": [
      "\\rProcessing... | Frame: 8177 | Recent: 0"
     ]
    },
    {
     "name": "stdout",
     "output_type": "stream",
     "text": [
      "\\rProcessing... | Frame: 8179 | Recent: 0"
     ]
    },
    {
     "name": "stdout",
     "output_type": "stream",
     "text": [
      "\\rProcessing... | Frame: 8181 | Recent: 0"
     ]
    },
    {
     "name": "stdout",
     "output_type": "stream",
     "text": [
      "\\rProcessing... | Frame: 8183 | Recent: 0"
     ]
    },
    {
     "name": "stdout",
     "output_type": "stream",
     "text": [
      "\\rProcessing... | Frame: 8185 | Recent: 0"
     ]
    },
    {
     "name": "stdout",
     "output_type": "stream",
     "text": [
      "\\rProcessing... | Frame: 8187 | Recent: 0"
     ]
    },
    {
     "name": "stdout",
     "output_type": "stream",
     "text": [
      "\\rProcessing... | Frame: 8189 | Recent: 0"
     ]
    },
    {
     "name": "stdout",
     "output_type": "stream",
     "text": [
      "\\rProcessing... | Frame: 8191 | Recent: 0"
     ]
    },
    {
     "name": "stdout",
     "output_type": "stream",
     "text": [
      "\\rProcessing... | Frame: 8193 | Recent: 0"
     ]
    },
    {
     "name": "stdout",
     "output_type": "stream",
     "text": [
      "\\rProcessing... | Frame: 8195 | Recent: 0"
     ]
    },
    {
     "name": "stdout",
     "output_type": "stream",
     "text": [
      "\\rProcessing... | Frame: 8197 | Recent: 0"
     ]
    },
    {
     "name": "stdout",
     "output_type": "stream",
     "text": [
      "\\rProcessing... | Frame: 8199 | Recent: 0"
     ]
    },
    {
     "name": "stdout",
     "output_type": "stream",
     "text": [
      "\\rProcessing... | Frame: 8201 | Recent: 0"
     ]
    },
    {
     "name": "stdout",
     "output_type": "stream",
     "text": [
      "\\rProcessing... | Frame: 8203 | Recent: 0"
     ]
    },
    {
     "name": "stdout",
     "output_type": "stream",
     "text": [
      "\\rProcessing... | Frame: 8205 | Recent: 0"
     ]
    },
    {
     "name": "stdout",
     "output_type": "stream",
     "text": [
      "\\rProcessing... | Frame: 8207 | Recent: 0"
     ]
    },
    {
     "name": "stdout",
     "output_type": "stream",
     "text": [
      "\\rProcessing... | Frame: 8209 | Recent: 0"
     ]
    },
    {
     "name": "stdout",
     "output_type": "stream",
     "text": [
      "\\rProcessing... | Frame: 8211 | Recent: 0"
     ]
    },
    {
     "name": "stdout",
     "output_type": "stream",
     "text": [
      "\\rProcessing... | Frame: 8213 | Recent: 0"
     ]
    },
    {
     "name": "stdout",
     "output_type": "stream",
     "text": [
      "\\rProcessing... | Frame: 8215 | Recent: 0"
     ]
    },
    {
     "name": "stdout",
     "output_type": "stream",
     "text": [
      "\\rProcessing... | Frame: 8217 | Recent: 0"
     ]
    },
    {
     "name": "stdout",
     "output_type": "stream",
     "text": [
      "\\rProcessing... | Frame: 8219 | Recent: 0"
     ]
    },
    {
     "name": "stdout",
     "output_type": "stream",
     "text": [
      "\\rProcessing... | Frame: 8221 | Recent: 0"
     ]
    },
    {
     "name": "stdout",
     "output_type": "stream",
     "text": [
      "\\rProcessing... | Frame: 8223 | Recent: 0"
     ]
    },
    {
     "name": "stdout",
     "output_type": "stream",
     "text": [
      "\\rProcessing... | Frame: 8225 | Recent: 0"
     ]
    },
    {
     "name": "stdout",
     "output_type": "stream",
     "text": [
      "\\rProcessing... | Frame: 8227 | Recent: 0"
     ]
    },
    {
     "name": "stdout",
     "output_type": "stream",
     "text": [
      "\\rProcessing... | Frame: 8230 | Recent: 0"
     ]
    },
    {
     "name": "stdout",
     "output_type": "stream",
     "text": [
      "\\rProcessing... | Frame: 8233 | Recent: 0"
     ]
    },
    {
     "name": "stdout",
     "output_type": "stream",
     "text": [
      "\\rProcessing... | Frame: 8235 | Recent: 0"
     ]
    },
    {
     "name": "stdout",
     "output_type": "stream",
     "text": [
      "\\rProcessing... | Frame: 8237 | Recent: 0"
     ]
    },
    {
     "name": "stdout",
     "output_type": "stream",
     "text": [
      "\\rProcessing... | Frame: 8239 | Recent: 0"
     ]
    },
    {
     "name": "stdout",
     "output_type": "stream",
     "text": [
      "\\rProcessing... | Frame: 8241 | Recent: 0"
     ]
    },
    {
     "name": "stdout",
     "output_type": "stream",
     "text": [
      "\\rProcessing... | Frame: 8243 | Recent: 0"
     ]
    },
    {
     "name": "stdout",
     "output_type": "stream",
     "text": [
      "\\rProcessing... | Frame: 8245 | Recent: 0"
     ]
    },
    {
     "name": "stdout",
     "output_type": "stream",
     "text": [
      "\\rProcessing... | Frame: 8247 | Recent: 0"
     ]
    },
    {
     "name": "stdout",
     "output_type": "stream",
     "text": [
      "\\rProcessing... | Frame: 8249 | Recent: 0"
     ]
    },
    {
     "name": "stdout",
     "output_type": "stream",
     "text": [
      "\\rProcessing... | Frame: 8251 | Recent: 0"
     ]
    },
    {
     "name": "stdout",
     "output_type": "stream",
     "text": [
      "\\rProcessing... | Frame: 8253 | Recent: 0"
     ]
    },
    {
     "name": "stdout",
     "output_type": "stream",
     "text": [
      "\\rProcessing... | Frame: 8255 | Recent: 0"
     ]
    },
    {
     "name": "stdout",
     "output_type": "stream",
     "text": [
      "\\rProcessing... | Frame: 8257 | Recent: 0"
     ]
    },
    {
     "name": "stdout",
     "output_type": "stream",
     "text": [
      "\\rProcessing... | Frame: 8259 | Recent: 0"
     ]
    },
    {
     "name": "stdout",
     "output_type": "stream",
     "text": [
      "\\rProcessing... | Frame: 8261 | Recent: 0"
     ]
    },
    {
     "name": "stdout",
     "output_type": "stream",
     "text": [
      "\\rProcessing... | Frame: 8263 | Recent: 0"
     ]
    },
    {
     "name": "stdout",
     "output_type": "stream",
     "text": [
      "\\rProcessing... | Frame: 8265 | Recent: 0"
     ]
    },
    {
     "name": "stdout",
     "output_type": "stream",
     "text": [
      "\\rProcessing... | Frame: 8267 | Recent: 0"
     ]
    },
    {
     "name": "stdout",
     "output_type": "stream",
     "text": [
      "\\rProcessing... | Frame: 8269 | Recent: 0"
     ]
    },
    {
     "name": "stdout",
     "output_type": "stream",
     "text": [
      "\\rProcessing... | Frame: 8271 | Recent: 0"
     ]
    },
    {
     "name": "stdout",
     "output_type": "stream",
     "text": [
      "\\rProcessing... | Frame: 8273 | Recent: 0"
     ]
    },
    {
     "name": "stdout",
     "output_type": "stream",
     "text": [
      "\\rProcessing... | Frame: 8275 | Recent: 0"
     ]
    },
    {
     "name": "stdout",
     "output_type": "stream",
     "text": [
      "\\rProcessing... | Frame: 8277 | Recent: 0"
     ]
    },
    {
     "name": "stdout",
     "output_type": "stream",
     "text": [
      "\\rProcessing... | Frame: 8281 | Recent: 0"
     ]
    },
    {
     "name": "stdout",
     "output_type": "stream",
     "text": [
      "\\rProcessing... | Frame: 8283 | Recent: 0"
     ]
    },
    {
     "name": "stdout",
     "output_type": "stream",
     "text": [
      "\\rProcessing... | Frame: 8285 | Recent: 0"
     ]
    },
    {
     "name": "stdout",
     "output_type": "stream",
     "text": [
      "\\rProcessing... | Frame: 8287 | Recent: 0"
     ]
    },
    {
     "name": "stdout",
     "output_type": "stream",
     "text": [
      "\\rProcessing... | Frame: 8289 | Recent: 0"
     ]
    },
    {
     "name": "stdout",
     "output_type": "stream",
     "text": [
      "\\rProcessing... | Frame: 8291 | Recent: 0"
     ]
    },
    {
     "name": "stdout",
     "output_type": "stream",
     "text": [
      "\\rProcessing... | Frame: 8293 | Recent: 0"
     ]
    },
    {
     "name": "stdout",
     "output_type": "stream",
     "text": [
      "\\rProcessing... | Frame: 8295 | Recent: 0"
     ]
    },
    {
     "name": "stdout",
     "output_type": "stream",
     "text": [
      "\\rProcessing... | Frame: 8297 | Recent: 0"
     ]
    },
    {
     "name": "stdout",
     "output_type": "stream",
     "text": [
      "\\rProcessing... | Frame: 8299 | Recent: 0"
     ]
    },
    {
     "name": "stdout",
     "output_type": "stream",
     "text": [
      "\\rProcessing... | Frame: 8301 | Recent: 0"
     ]
    },
    {
     "name": "stdout",
     "output_type": "stream",
     "text": [
      "\\rProcessing... | Frame: 8305 | Recent: 0"
     ]
    },
    {
     "name": "stdout",
     "output_type": "stream",
     "text": [
      "\\rProcessing... | Frame: 8307 | Recent: 0"
     ]
    },
    {
     "name": "stdout",
     "output_type": "stream",
     "text": [
      "\\rProcessing... | Frame: 8309 | Recent: 0"
     ]
    },
    {
     "name": "stdout",
     "output_type": "stream",
     "text": [
      "\\rProcessing... | Frame: 8311 | Recent: 0"
     ]
    },
    {
     "name": "stdout",
     "output_type": "stream",
     "text": [
      "\\rProcessing... | Frame: 8313 | Recent: 0"
     ]
    },
    {
     "name": "stdout",
     "output_type": "stream",
     "text": [
      "\\rProcessing... | Frame: 8315 | Recent: 0"
     ]
    },
    {
     "name": "stdout",
     "output_type": "stream",
     "text": [
      "\\rProcessing... | Frame: 8317 | Recent: 0"
     ]
    },
    {
     "name": "stdout",
     "output_type": "stream",
     "text": [
      "\\rProcessing... | Frame: 8319 | Recent: 0"
     ]
    },
    {
     "name": "stdout",
     "output_type": "stream",
     "text": [
      "\\rProcessing... | Frame: 8321 | Recent: 0"
     ]
    },
    {
     "name": "stdout",
     "output_type": "stream",
     "text": [
      "\\rProcessing... | Frame: 8323 | Recent: 0"
     ]
    },
    {
     "name": "stdout",
     "output_type": "stream",
     "text": [
      "\\rProcessing... | Frame: 8325 | Recent: 0"
     ]
    },
    {
     "name": "stdout",
     "output_type": "stream",
     "text": [
      "\\rProcessing... | Frame: 8327 | Recent: 0"
     ]
    },
    {
     "name": "stdout",
     "output_type": "stream",
     "text": [
      "\\rProcessing... | Frame: 8329 | Recent: 0"
     ]
    },
    {
     "name": "stdout",
     "output_type": "stream",
     "text": [
      "\\rProcessing... | Frame: 8331 | Recent: 0"
     ]
    },
    {
     "name": "stdout",
     "output_type": "stream",
     "text": [
      "\\rProcessing... | Frame: 8333 | Recent: 0"
     ]
    },
    {
     "name": "stdout",
     "output_type": "stream",
     "text": [
      "\\rProcessing... | Frame: 8335 | Recent: 0"
     ]
    },
    {
     "name": "stdout",
     "output_type": "stream",
     "text": [
      "\\rProcessing... | Frame: 8337 | Recent: 0"
     ]
    },
    {
     "name": "stdout",
     "output_type": "stream",
     "text": [
      "\\rProcessing... | Frame: 8339 | Recent: 0"
     ]
    },
    {
     "name": "stdout",
     "output_type": "stream",
     "text": [
      "\\rProcessing... | Frame: 8341 | Recent: 0"
     ]
    },
    {
     "name": "stdout",
     "output_type": "stream",
     "text": [
      "\\rProcessing... | Frame: 8343 | Recent: 0"
     ]
    },
    {
     "name": "stdout",
     "output_type": "stream",
     "text": [
      "\\rProcessing... | Frame: 8345 | Recent: 0"
     ]
    },
    {
     "name": "stdout",
     "output_type": "stream",
     "text": [
      "\\rProcessing... | Frame: 8347 | Recent: 0"
     ]
    },
    {
     "name": "stdout",
     "output_type": "stream",
     "text": [
      "\\rProcessing... | Frame: 8349 | Recent: 0"
     ]
    },
    {
     "name": "stdout",
     "output_type": "stream",
     "text": [
      "\\rProcessing... | Frame: 8351 | Recent: 0"
     ]
    },
    {
     "name": "stdout",
     "output_type": "stream",
     "text": [
      "\\rProcessing... | Frame: 8353 | Recent: 0"
     ]
    },
    {
     "name": "stdout",
     "output_type": "stream",
     "text": [
      "\\rProcessing... | Frame: 8355 | Recent: 0"
     ]
    },
    {
     "name": "stdout",
     "output_type": "stream",
     "text": [
      "\\rProcessing... | Frame: 8357 | Recent: 0"
     ]
    },
    {
     "name": "stdout",
     "output_type": "stream",
     "text": [
      "\\rProcessing... | Frame: 8359 | Recent: 0"
     ]
    },
    {
     "name": "stdout",
     "output_type": "stream",
     "text": [
      "\\rProcessing... | Frame: 8361 | Recent: 0"
     ]
    },
    {
     "name": "stdout",
     "output_type": "stream",
     "text": [
      "\\rProcessing... | Frame: 8365 | Recent: 0"
     ]
    },
    {
     "name": "stdout",
     "output_type": "stream",
     "text": [
      "\\rProcessing... | Frame: 8367 | Recent: 0"
     ]
    },
    {
     "name": "stdout",
     "output_type": "stream",
     "text": [
      "\\rProcessing... | Frame: 8369 | Recent: 0"
     ]
    },
    {
     "name": "stdout",
     "output_type": "stream",
     "text": [
      "\\rProcessing... | Frame: 8371 | Recent: 0"
     ]
    },
    {
     "name": "stdout",
     "output_type": "stream",
     "text": [
      "\\rProcessing... | Frame: 8373 | Recent: 0"
     ]
    },
    {
     "name": "stdout",
     "output_type": "stream",
     "text": [
      "\\rProcessing... | Frame: 8375 | Recent: 0"
     ]
    },
    {
     "name": "stdout",
     "output_type": "stream",
     "text": [
      "\\rProcessing... | Frame: 8377 | Recent: 0"
     ]
    },
    {
     "name": "stdout",
     "output_type": "stream",
     "text": [
      "\\rProcessing... | Frame: 8379 | Recent: 0"
     ]
    },
    {
     "name": "stdout",
     "output_type": "stream",
     "text": [
      "\\rProcessing... | Frame: 8381 | Recent: 0"
     ]
    },
    {
     "name": "stdout",
     "output_type": "stream",
     "text": [
      "\\rProcessing... | Frame: 8383 | Recent: 0"
     ]
    },
    {
     "name": "stdout",
     "output_type": "stream",
     "text": [
      "\\rProcessing... | Frame: 8385 | Recent: 0"
     ]
    },
    {
     "name": "stdout",
     "output_type": "stream",
     "text": [
      "\\rProcessing... | Frame: 8387 | Recent: 0"
     ]
    },
    {
     "name": "stdout",
     "output_type": "stream",
     "text": [
      "\\rProcessing... | Frame: 8389 | Recent: 0"
     ]
    },
    {
     "name": "stdout",
     "output_type": "stream",
     "text": [
      "\\rProcessing... | Frame: 8391 | Recent: 0"
     ]
    },
    {
     "name": "stdout",
     "output_type": "stream",
     "text": [
      "\\rProcessing... | Frame: 8393 | Recent: 0"
     ]
    },
    {
     "name": "stdout",
     "output_type": "stream",
     "text": [
      "\\rProcessing... | Frame: 8395 | Recent: 0"
     ]
    },
    {
     "name": "stdout",
     "output_type": "stream",
     "text": [
      "\\rProcessing... | Frame: 8397 | Recent: 0"
     ]
    },
    {
     "name": "stdout",
     "output_type": "stream",
     "text": [
      "\\rProcessing... | Frame: 8399 | Recent: 0"
     ]
    },
    {
     "name": "stdout",
     "output_type": "stream",
     "text": [
      "\\rProcessing... | Frame: 8401 | Recent: 0"
     ]
    },
    {
     "name": "stdout",
     "output_type": "stream",
     "text": [
      "\\rProcessing... | Frame: 8403 | Recent: 0"
     ]
    },
    {
     "name": "stdout",
     "output_type": "stream",
     "text": [
      "\\rProcessing... | Frame: 8405 | Recent: 0"
     ]
    },
    {
     "name": "stdout",
     "output_type": "stream",
     "text": [
      "\\rProcessing... | Frame: 8407 | Recent: 0"
     ]
    },
    {
     "name": "stdout",
     "output_type": "stream",
     "text": [
      "\\rProcessing... | Frame: 8409 | Recent: 0"
     ]
    },
    {
     "name": "stdout",
     "output_type": "stream",
     "text": [
      "\\rProcessing... | Frame: 8411 | Recent: 0"
     ]
    },
    {
     "name": "stdout",
     "output_type": "stream",
     "text": [
      "\\rProcessing... | Frame: 8413 | Recent: 0"
     ]
    },
    {
     "name": "stdout",
     "output_type": "stream",
     "text": [
      "\\rProcessing... | Frame: 8415 | Recent: 0"
     ]
    },
    {
     "name": "stdout",
     "output_type": "stream",
     "text": [
      "\\rProcessing... | Frame: 8417 | Recent: 0"
     ]
    },
    {
     "name": "stdout",
     "output_type": "stream",
     "text": [
      "\\rProcessing... | Frame: 8419 | Recent: 0"
     ]
    },
    {
     "name": "stdout",
     "output_type": "stream",
     "text": [
      "\\rProcessing... | Frame: 8421 | Recent: 0"
     ]
    },
    {
     "name": "stdout",
     "output_type": "stream",
     "text": [
      "\\rProcessing... | Frame: 8423 | Recent: 0"
     ]
    },
    {
     "name": "stdout",
     "output_type": "stream",
     "text": [
      "\\rProcessing... | Frame: 8425 | Recent: 0"
     ]
    },
    {
     "name": "stdout",
     "output_type": "stream",
     "text": [
      "\\rProcessing... | Frame: 8427 | Recent: 0"
     ]
    },
    {
     "name": "stdout",
     "output_type": "stream",
     "text": [
      "\\rProcessing... | Frame: 8429 | Recent: 0"
     ]
    },
    {
     "name": "stdout",
     "output_type": "stream",
     "text": [
      "\\rProcessing... | Frame: 8431 | Recent: 0"
     ]
    },
    {
     "name": "stdout",
     "output_type": "stream",
     "text": [
      "\\rProcessing... | Frame: 8433 | Recent: 0"
     ]
    },
    {
     "name": "stdout",
     "output_type": "stream",
     "text": [
      "\\rProcessing... | Frame: 8435 | Recent: 0"
     ]
    },
    {
     "name": "stdout",
     "output_type": "stream",
     "text": [
      "\\rProcessing... | Frame: 8437 | Recent: 0"
     ]
    },
    {
     "name": "stdout",
     "output_type": "stream",
     "text": [
      "\\rProcessing... | Frame: 8439 | Recent: 0"
     ]
    },
    {
     "name": "stdout",
     "output_type": "stream",
     "text": [
      "\\rProcessing... | Frame: 8441 | Recent: 0"
     ]
    },
    {
     "name": "stdout",
     "output_type": "stream",
     "text": [
      "\\rProcessing... | Frame: 8443 | Recent: 0"
     ]
    },
    {
     "name": "stdout",
     "output_type": "stream",
     "text": [
      "\\rProcessing... | Frame: 8445 | Recent: 0"
     ]
    },
    {
     "name": "stdout",
     "output_type": "stream",
     "text": [
      "\\rProcessing... | Frame: 8447 | Recent: 0"
     ]
    },
    {
     "name": "stdout",
     "output_type": "stream",
     "text": [
      "\\rProcessing... | Frame: 8449 | Recent: 0"
     ]
    },
    {
     "name": "stdout",
     "output_type": "stream",
     "text": [
      "\\rProcessing... | Frame: 8451 | Recent: 0"
     ]
    },
    {
     "name": "stdout",
     "output_type": "stream",
     "text": [
      "\\rProcessing... | Frame: 8453 | Recent: 0"
     ]
    },
    {
     "name": "stdout",
     "output_type": "stream",
     "text": [
      "\\rProcessing... | Frame: 8455 | Recent: 0"
     ]
    },
    {
     "name": "stdout",
     "output_type": "stream",
     "text": [
      "\\rProcessing... | Frame: 8457 | Recent: 0"
     ]
    },
    {
     "name": "stdout",
     "output_type": "stream",
     "text": [
      "\\rProcessing... | Frame: 8459 | Recent: 0"
     ]
    },
    {
     "name": "stdout",
     "output_type": "stream",
     "text": [
      "\\rProcessing... | Frame: 8461 | Recent: 0"
     ]
    },
    {
     "name": "stdout",
     "output_type": "stream",
     "text": [
      "\\rProcessing... | Frame: 8463 | Recent: 0"
     ]
    },
    {
     "name": "stdout",
     "output_type": "stream",
     "text": [
      "\\rProcessing... | Frame: 8465 | Recent: 0"
     ]
    },
    {
     "name": "stdout",
     "output_type": "stream",
     "text": [
      "\\rProcessing... | Frame: 8467 | Recent: 0"
     ]
    },
    {
     "name": "stdout",
     "output_type": "stream",
     "text": [
      "\\rProcessing... | Frame: 8469 | Recent: 0"
     ]
    },
    {
     "name": "stdout",
     "output_type": "stream",
     "text": [
      "\\rProcessing... | Frame: 8471 | Recent: 0"
     ]
    },
    {
     "name": "stdout",
     "output_type": "stream",
     "text": [
      "\\rProcessing... | Frame: 8473 | Recent: 0"
     ]
    },
    {
     "name": "stdout",
     "output_type": "stream",
     "text": [
      "\\rProcessing... | Frame: 8475 | Recent: 0"
     ]
    },
    {
     "name": "stdout",
     "output_type": "stream",
     "text": [
      "\\rProcessing... | Frame: 8477 | Recent: 0"
     ]
    },
    {
     "name": "stdout",
     "output_type": "stream",
     "text": [
      "\\rProcessing... | Frame: 8479 | Recent: 0"
     ]
    },
    {
     "name": "stdout",
     "output_type": "stream",
     "text": [
      "\\rProcessing... | Frame: 8481 | Recent: 0"
     ]
    },
    {
     "name": "stdout",
     "output_type": "stream",
     "text": [
      "\\rProcessing... | Frame: 8483 | Recent: 0"
     ]
    },
    {
     "name": "stdout",
     "output_type": "stream",
     "text": [
      "\\rProcessing... | Frame: 8485 | Recent: 0"
     ]
    },
    {
     "name": "stdout",
     "output_type": "stream",
     "text": [
      "\\rProcessing... | Frame: 8487 | Recent: 0"
     ]
    },
    {
     "name": "stdout",
     "output_type": "stream",
     "text": [
      "\\rProcessing... | Frame: 8489 | Recent: 0"
     ]
    },
    {
     "name": "stdout",
     "output_type": "stream",
     "text": [
      "\\rProcessing... | Frame: 8491 | Recent: 0"
     ]
    },
    {
     "name": "stdout",
     "output_type": "stream",
     "text": [
      "\\rProcessing... | Frame: 8493 | Recent: 0"
     ]
    },
    {
     "name": "stdout",
     "output_type": "stream",
     "text": [
      "\\rProcessing... | Frame: 8495 | Recent: 0"
     ]
    },
    {
     "name": "stdout",
     "output_type": "stream",
     "text": [
      "\\rProcessing... | Frame: 8497 | Recent: 0"
     ]
    },
    {
     "name": "stdout",
     "output_type": "stream",
     "text": [
      "\\rProcessing... | Frame: 8499 | Recent: 0"
     ]
    },
    {
     "name": "stdout",
     "output_type": "stream",
     "text": [
      "\\rProcessing... | Frame: 8501 | Recent: 0"
     ]
    },
    {
     "name": "stdout",
     "output_type": "stream",
     "text": [
      "\\rProcessing... | Frame: 8503 | Recent: 0"
     ]
    },
    {
     "name": "stdout",
     "output_type": "stream",
     "text": [
      "\\rProcessing... | Frame: 8505 | Recent: 0"
     ]
    },
    {
     "name": "stdout",
     "output_type": "stream",
     "text": [
      "\\rProcessing... | Frame: 8507 | Recent: 0"
     ]
    },
    {
     "name": "stdout",
     "output_type": "stream",
     "text": [
      "\\rProcessing... | Frame: 8509 | Recent: 0"
     ]
    },
    {
     "name": "stdout",
     "output_type": "stream",
     "text": [
      "\\rProcessing... | Frame: 8511 | Recent: 0"
     ]
    },
    {
     "name": "stdout",
     "output_type": "stream",
     "text": [
      "\\rProcessing... | Frame: 8513 | Recent: 0"
     ]
    },
    {
     "name": "stdout",
     "output_type": "stream",
     "text": [
      "\\rProcessing... | Frame: 8515 | Recent: 0"
     ]
    },
    {
     "name": "stdout",
     "output_type": "stream",
     "text": [
      "\\rProcessing... | Frame: 8517 | Recent: 0"
     ]
    },
    {
     "name": "stdout",
     "output_type": "stream",
     "text": [
      "\\rProcessing... | Frame: 8519 | Recent: 0"
     ]
    },
    {
     "name": "stdout",
     "output_type": "stream",
     "text": [
      "\\rProcessing... | Frame: 8521 | Recent: 0"
     ]
    },
    {
     "name": "stdout",
     "output_type": "stream",
     "text": [
      "\\rProcessing... | Frame: 8525 | Recent: 0"
     ]
    },
    {
     "name": "stdout",
     "output_type": "stream",
     "text": [
      "\\rProcessing... | Frame: 8527 | Recent: 0"
     ]
    },
    {
     "name": "stdout",
     "output_type": "stream",
     "text": [
      "\\rProcessing... | Frame: 8529 | Recent: 0"
     ]
    },
    {
     "name": "stdout",
     "output_type": "stream",
     "text": [
      "\\rProcessing... | Frame: 8531 | Recent: 0"
     ]
    },
    {
     "name": "stdout",
     "output_type": "stream",
     "text": [
      "\\rProcessing... | Frame: 8533 | Recent: 0"
     ]
    },
    {
     "name": "stdout",
     "output_type": "stream",
     "text": [
      "\\rProcessing... | Frame: 8535 | Recent: 0"
     ]
    },
    {
     "name": "stdout",
     "output_type": "stream",
     "text": [
      "\\rProcessing... | Frame: 8537 | Recent: 0"
     ]
    },
    {
     "name": "stdout",
     "output_type": "stream",
     "text": [
      "\\rProcessing... | Frame: 8539 | Recent: 0"
     ]
    },
    {
     "name": "stdout",
     "output_type": "stream",
     "text": [
      "\\rProcessing... | Frame: 8541 | Recent: 0"
     ]
    },
    {
     "name": "stdout",
     "output_type": "stream",
     "text": [
      "\\rProcessing... | Frame: 8543 | Recent: 0"
     ]
    },
    {
     "name": "stdout",
     "output_type": "stream",
     "text": [
      "\\rProcessing... | Frame: 8545 | Recent: 0"
     ]
    },
    {
     "name": "stdout",
     "output_type": "stream",
     "text": [
      "\\rProcessing... | Frame: 8547 | Recent: 0"
     ]
    },
    {
     "name": "stdout",
     "output_type": "stream",
     "text": [
      "\\rProcessing... | Frame: 8549 | Recent: 0"
     ]
    },
    {
     "name": "stdout",
     "output_type": "stream",
     "text": [
      "\\rProcessing... | Frame: 8551 | Recent: 0"
     ]
    },
    {
     "name": "stdout",
     "output_type": "stream",
     "text": [
      "\\rProcessing... | Frame: 8553 | Recent: 0"
     ]
    },
    {
     "name": "stdout",
     "output_type": "stream",
     "text": [
      "\\rProcessing... | Frame: 8555 | Recent: 0"
     ]
    },
    {
     "name": "stdout",
     "output_type": "stream",
     "text": [
      "\\rProcessing... | Frame: 8557 | Recent: 0"
     ]
    },
    {
     "name": "stdout",
     "output_type": "stream",
     "text": [
      "\\rProcessing... | Frame: 8559 | Recent: 0"
     ]
    },
    {
     "name": "stdout",
     "output_type": "stream",
     "text": [
      "\\rProcessing... | Frame: 8561 | Recent: 0"
     ]
    },
    {
     "name": "stdout",
     "output_type": "stream",
     "text": [
      "\\rProcessing... | Frame: 8571 | Recent: 0"
     ]
    },
    {
     "name": "stdout",
     "output_type": "stream",
     "text": [
      "\\rProcessing... | Frame: 8579 | Recent: 0"
     ]
    },
    {
     "name": "stdout",
     "output_type": "stream",
     "text": [
      "\\rProcessing... | Frame: 8581 | Recent: 0"
     ]
    },
    {
     "name": "stdout",
     "output_type": "stream",
     "text": [
      "\\rProcessing... | Frame: 8583 | Recent: 0"
     ]
    },
    {
     "name": "stdout",
     "output_type": "stream",
     "text": [
      "\\rProcessing... | Frame: 8585 | Recent: 0"
     ]
    },
    {
     "name": "stdout",
     "output_type": "stream",
     "text": [
      "\\rProcessing... | Frame: 8587 | Recent: 0"
     ]
    },
    {
     "name": "stdout",
     "output_type": "stream",
     "text": [
      "\\rProcessing... | Frame: 8589 | Recent: 0"
     ]
    },
    {
     "name": "stdout",
     "output_type": "stream",
     "text": [
      "\\rProcessing... | Frame: 8591 | Recent: 0"
     ]
    },
    {
     "name": "stdout",
     "output_type": "stream",
     "text": [
      "\\rProcessing... | Frame: 8593 | Recent: 0"
     ]
    },
    {
     "name": "stdout",
     "output_type": "stream",
     "text": [
      "\\rProcessing... | Frame: 8595 | Recent: 0"
     ]
    },
    {
     "name": "stdout",
     "output_type": "stream",
     "text": [
      "\\rProcessing... | Frame: 8597 | Recent: 0"
     ]
    },
    {
     "name": "stdout",
     "output_type": "stream",
     "text": [
      "\\rProcessing... | Frame: 8599 | Recent: 0"
     ]
    },
    {
     "name": "stdout",
     "output_type": "stream",
     "text": [
      "\\rProcessing... | Frame: 8601 | Recent: 0"
     ]
    },
    {
     "name": "stdout",
     "output_type": "stream",
     "text": [
      "\\rProcessing... | Frame: 8603 | Recent: 0"
     ]
    },
    {
     "name": "stdout",
     "output_type": "stream",
     "text": [
      "\\rProcessing... | Frame: 8605 | Recent: 0"
     ]
    },
    {
     "name": "stdout",
     "output_type": "stream",
     "text": [
      "\\rProcessing... | Frame: 8607 | Recent: 0"
     ]
    },
    {
     "name": "stdout",
     "output_type": "stream",
     "text": [
      "\\rProcessing... | Frame: 8609 | Recent: 0"
     ]
    },
    {
     "name": "stdout",
     "output_type": "stream",
     "text": [
      "\\rProcessing... | Frame: 8611 | Recent: 0"
     ]
    },
    {
     "name": "stdout",
     "output_type": "stream",
     "text": [
      "\\rProcessing... | Frame: 8613 | Recent: 0"
     ]
    },
    {
     "name": "stdout",
     "output_type": "stream",
     "text": [
      "\\rProcessing... | Frame: 8615 | Recent: 0"
     ]
    },
    {
     "name": "stdout",
     "output_type": "stream",
     "text": [
      "\\rProcessing... | Frame: 8617 | Recent: 0"
     ]
    },
    {
     "name": "stdout",
     "output_type": "stream",
     "text": [
      "\\rProcessing... | Frame: 8619 | Recent: 0"
     ]
    },
    {
     "name": "stdout",
     "output_type": "stream",
     "text": [
      "\\rProcessing... | Frame: 8621 | Recent: 0"
     ]
    },
    {
     "name": "stdout",
     "output_type": "stream",
     "text": [
      "\\rProcessing... | Frame: 8623 | Recent: 0"
     ]
    },
    {
     "name": "stdout",
     "output_type": "stream",
     "text": [
      "\\rProcessing... | Frame: 8625 | Recent: 0"
     ]
    },
    {
     "name": "stdout",
     "output_type": "stream",
     "text": [
      "\\rProcessing... | Frame: 8627 | Recent: 0"
     ]
    },
    {
     "name": "stdout",
     "output_type": "stream",
     "text": [
      "\\rProcessing... | Frame: 8629 | Recent: 0"
     ]
    },
    {
     "name": "stdout",
     "output_type": "stream",
     "text": [
      "\\rProcessing... | Frame: 8631 | Recent: 0"
     ]
    },
    {
     "name": "stdout",
     "output_type": "stream",
     "text": [
      "\\rProcessing... | Frame: 8633 | Recent: 0"
     ]
    },
    {
     "name": "stdout",
     "output_type": "stream",
     "text": [
      "\\rProcessing... | Frame: 8635 | Recent: 0"
     ]
    },
    {
     "name": "stdout",
     "output_type": "stream",
     "text": [
      "\\rProcessing... | Frame: 8637 | Recent: 0"
     ]
    },
    {
     "name": "stdout",
     "output_type": "stream",
     "text": [
      "\\rProcessing... | Frame: 8639 | Recent: 0"
     ]
    },
    {
     "name": "stdout",
     "output_type": "stream",
     "text": [
      "\\rProcessing... | Frame: 8641 | Recent: 0"
     ]
    },
    {
     "name": "stdout",
     "output_type": "stream",
     "text": [
      "\\rProcessing... | Frame: 8643 | Recent: 0"
     ]
    },
    {
     "name": "stdout",
     "output_type": "stream",
     "text": [
      "\\rProcessing... | Frame: 8645 | Recent: 0"
     ]
    },
    {
     "name": "stdout",
     "output_type": "stream",
     "text": [
      "\\rProcessing... | Frame: 8647 | Recent: 0"
     ]
    },
    {
     "name": "stdout",
     "output_type": "stream",
     "text": [
      "\\rProcessing... | Frame: 8649 | Recent: 0"
     ]
    },
    {
     "name": "stdout",
     "output_type": "stream",
     "text": [
      "\\rProcessing... | Frame: 8651 | Recent: 0"
     ]
    },
    {
     "name": "stdout",
     "output_type": "stream",
     "text": [
      "\\rProcessing... | Frame: 8653 | Recent: 0"
     ]
    },
    {
     "name": "stdout",
     "output_type": "stream",
     "text": [
      "\\rProcessing... | Frame: 8655 | Recent: 0"
     ]
    },
    {
     "name": "stdout",
     "output_type": "stream",
     "text": [
      "\\rProcessing... | Frame: 8657 | Recent: 0"
     ]
    },
    {
     "name": "stdout",
     "output_type": "stream",
     "text": [
      "\\rProcessing... | Frame: 8659 | Recent: 0"
     ]
    },
    {
     "name": "stdout",
     "output_type": "stream",
     "text": [
      "\\rProcessing... | Frame: 8661 | Recent: 0"
     ]
    },
    {
     "name": "stdout",
     "output_type": "stream",
     "text": [
      "\\rProcessing... | Frame: 8663 | Recent: 0"
     ]
    },
    {
     "name": "stdout",
     "output_type": "stream",
     "text": [
      "\\rProcessing... | Frame: 8665 | Recent: 0"
     ]
    },
    {
     "name": "stdout",
     "output_type": "stream",
     "text": [
      "\\rProcessing... | Frame: 8669 | Recent: 0"
     ]
    },
    {
     "name": "stdout",
     "output_type": "stream",
     "text": [
      "\\rProcessing... | Frame: 8671 | Recent: 0"
     ]
    },
    {
     "name": "stdout",
     "output_type": "stream",
     "text": [
      "\\rProcessing... | Frame: 8673 | Recent: 0"
     ]
    },
    {
     "name": "stdout",
     "output_type": "stream",
     "text": [
      "\\rProcessing... | Frame: 8675 | Recent: 0"
     ]
    },
    {
     "name": "stdout",
     "output_type": "stream",
     "text": [
      "\\rProcessing... | Frame: 8677 | Recent: 0"
     ]
    },
    {
     "name": "stdout",
     "output_type": "stream",
     "text": [
      "\\rProcessing... | Frame: 8679 | Recent: 0"
     ]
    },
    {
     "name": "stdout",
     "output_type": "stream",
     "text": [
      "\\rProcessing... | Frame: 8681 | Recent: 0"
     ]
    },
    {
     "name": "stdout",
     "output_type": "stream",
     "text": [
      "\\rProcessing... | Frame: 8683 | Recent: 0"
     ]
    },
    {
     "name": "stdout",
     "output_type": "stream",
     "text": [
      "\\rProcessing... | Frame: 8685 | Recent: 0"
     ]
    },
    {
     "name": "stdout",
     "output_type": "stream",
     "text": [
      "\\rProcessing... | Frame: 8687 | Recent: 0"
     ]
    },
    {
     "name": "stdout",
     "output_type": "stream",
     "text": [
      "\\rProcessing... | Frame: 8689 | Recent: 0"
     ]
    },
    {
     "name": "stdout",
     "output_type": "stream",
     "text": [
      "\\rProcessing... | Frame: 8701 | Recent: 0"
     ]
    },
    {
     "name": "stdout",
     "output_type": "stream",
     "text": [
      "\\rProcessing... | Frame: 8703 | Recent: 0"
     ]
    },
    {
     "name": "stdout",
     "output_type": "stream",
     "text": [
      "\\rProcessing... | Frame: 8705 | Recent: 0"
     ]
    },
    {
     "name": "stdout",
     "output_type": "stream",
     "text": [
      "\\rProcessing... | Frame: 8707 | Recent: 0"
     ]
    },
    {
     "name": "stdout",
     "output_type": "stream",
     "text": [
      "\\rProcessing... | Frame: 8709 | Recent: 0"
     ]
    },
    {
     "name": "stdout",
     "output_type": "stream",
     "text": [
      "\\rProcessing... | Frame: 8711 | Recent: 0"
     ]
    },
    {
     "name": "stdout",
     "output_type": "stream",
     "text": [
      "\\rProcessing... | Frame: 8713 | Recent: 0"
     ]
    },
    {
     "name": "stdout",
     "output_type": "stream",
     "text": [
      "\\rProcessing... | Frame: 8715 | Recent: 0"
     ]
    },
    {
     "name": "stdout",
     "output_type": "stream",
     "text": [
      "\\rProcessing... | Frame: 8717 | Recent: 0"
     ]
    },
    {
     "name": "stdout",
     "output_type": "stream",
     "text": [
      "\\rProcessing... | Frame: 8719 | Recent: 0"
     ]
    },
    {
     "name": "stdout",
     "output_type": "stream",
     "text": [
      "\\rProcessing... | Frame: 8721 | Recent: 0"
     ]
    },
    {
     "name": "stdout",
     "output_type": "stream",
     "text": [
      "\\rProcessing... | Frame: 8723 | Recent: 0"
     ]
    },
    {
     "name": "stdout",
     "output_type": "stream",
     "text": [
      "\\rProcessing... | Frame: 8725 | Recent: 0"
     ]
    },
    {
     "name": "stdout",
     "output_type": "stream",
     "text": [
      "\\rProcessing... | Frame: 8727 | Recent: 0"
     ]
    },
    {
     "name": "stdout",
     "output_type": "stream",
     "text": [
      "\\rProcessing... | Frame: 8729 | Recent: 0"
     ]
    },
    {
     "name": "stdout",
     "output_type": "stream",
     "text": [
      "\\rProcessing... | Frame: 8731 | Recent: 0"
     ]
    },
    {
     "name": "stdout",
     "output_type": "stream",
     "text": [
      "\\rProcessing... | Frame: 8733 | Recent: 0"
     ]
    },
    {
     "name": "stdout",
     "output_type": "stream",
     "text": [
      "\\rProcessing... | Frame: 8735 | Recent: 0"
     ]
    },
    {
     "name": "stdout",
     "output_type": "stream",
     "text": [
      "\\rProcessing... | Frame: 8737 | Recent: 0"
     ]
    },
    {
     "name": "stdout",
     "output_type": "stream",
     "text": [
      "\\rProcessing... | Frame: 8739 | Recent: 0"
     ]
    },
    {
     "name": "stdout",
     "output_type": "stream",
     "text": [
      "\\rProcessing... | Frame: 8741 | Recent: 0"
     ]
    },
    {
     "name": "stdout",
     "output_type": "stream",
     "text": [
      "\\rProcessing... | Frame: 8743 | Recent: 0"
     ]
    },
    {
     "name": "stdout",
     "output_type": "stream",
     "text": [
      "\\rProcessing... | Frame: 8745 | Recent: 0"
     ]
    },
    {
     "name": "stdout",
     "output_type": "stream",
     "text": [
      "\\rProcessing... | Frame: 8747 | Recent: 0"
     ]
    },
    {
     "name": "stdout",
     "output_type": "stream",
     "text": [
      "\\rProcessing... | Frame: 8749 | Recent: 0"
     ]
    },
    {
     "name": "stdout",
     "output_type": "stream",
     "text": [
      "\\rProcessing... | Frame: 8751 | Recent: 0"
     ]
    },
    {
     "name": "stdout",
     "output_type": "stream",
     "text": [
      "\\rProcessing... | Frame: 8753 | Recent: 0"
     ]
    },
    {
     "name": "stdout",
     "output_type": "stream",
     "text": [
      "\\rProcessing... | Frame: 8755 | Recent: 0"
     ]
    },
    {
     "name": "stdout",
     "output_type": "stream",
     "text": [
      "\\rProcessing... | Frame: 8757 | Recent: 0"
     ]
    },
    {
     "name": "stdout",
     "output_type": "stream",
     "text": [
      "\\rProcessing... | Frame: 8759 | Recent: 0"
     ]
    },
    {
     "name": "stdout",
     "output_type": "stream",
     "text": [
      "\\rProcessing... | Frame: 8761 | Recent: 0"
     ]
    },
    {
     "name": "stdout",
     "output_type": "stream",
     "text": [
      "\\rProcessing... | Frame: 8763 | Recent: 0"
     ]
    },
    {
     "name": "stdout",
     "output_type": "stream",
     "text": [
      "\\rProcessing... | Frame: 8765 | Recent: 0"
     ]
    },
    {
     "name": "stdout",
     "output_type": "stream",
     "text": [
      "\\rProcessing... | Frame: 8767 | Recent: 0"
     ]
    },
    {
     "name": "stdout",
     "output_type": "stream",
     "text": [
      "\\rProcessing... | Frame: 8769 | Recent: 0"
     ]
    },
    {
     "name": "stdout",
     "output_type": "stream",
     "text": [
      "\\rProcessing... | Frame: 8771 | Recent: 0"
     ]
    },
    {
     "name": "stdout",
     "output_type": "stream",
     "text": [
      "\\rProcessing... | Frame: 8773 | Recent: 0"
     ]
    },
    {
     "name": "stdout",
     "output_type": "stream",
     "text": [
      "\\rProcessing... | Frame: 8775 | Recent: 0"
     ]
    },
    {
     "name": "stdout",
     "output_type": "stream",
     "text": [
      "\\rProcessing... | Frame: 8777 | Recent: 0"
     ]
    },
    {
     "name": "stdout",
     "output_type": "stream",
     "text": [
      "\\rProcessing... | Frame: 8779 | Recent: 0"
     ]
    },
    {
     "name": "stdout",
     "output_type": "stream",
     "text": [
      "\\rProcessing... | Frame: 8782 | Recent: 0"
     ]
    },
    {
     "name": "stdout",
     "output_type": "stream",
     "text": [
      "\\rProcessing... | Frame: 8783 | Recent: 0"
     ]
    },
    {
     "name": "stdout",
     "output_type": "stream",
     "text": [
      "\\rProcessing... | Frame: 8785 | Recent: 0"
     ]
    },
    {
     "name": "stdout",
     "output_type": "stream",
     "text": [
      "\\rProcessing... | Frame: 8787 | Recent: 0"
     ]
    },
    {
     "name": "stdout",
     "output_type": "stream",
     "text": [
      "\\rProcessing... | Frame: 8789 | Recent: 0"
     ]
    },
    {
     "name": "stdout",
     "output_type": "stream",
     "text": [
      "\\rProcessing... | Frame: 8791 | Recent: 0"
     ]
    },
    {
     "name": "stdout",
     "output_type": "stream",
     "text": [
      "\\rProcessing... | Frame: 8793 | Recent: 0"
     ]
    },
    {
     "name": "stdout",
     "output_type": "stream",
     "text": [
      "\\rProcessing... | Frame: 8795 | Recent: 0"
     ]
    },
    {
     "name": "stdout",
     "output_type": "stream",
     "text": [
      "\\rProcessing... | Frame: 8797 | Recent: 0"
     ]
    },
    {
     "name": "stdout",
     "output_type": "stream",
     "text": [
      "\\rProcessing... | Frame: 8799 | Recent: 0"
     ]
    },
    {
     "name": "stdout",
     "output_type": "stream",
     "text": [
      "\\rProcessing... | Frame: 8801 | Recent: 0"
     ]
    },
    {
     "name": "stdout",
     "output_type": "stream",
     "text": [
      "\\rProcessing... | Frame: 8803 | Recent: 0"
     ]
    },
    {
     "name": "stdout",
     "output_type": "stream",
     "text": [
      "\\rProcessing... | Frame: 8805 | Recent: 0"
     ]
    },
    {
     "name": "stdout",
     "output_type": "stream",
     "text": [
      "\\rProcessing... | Frame: 8807 | Recent: 0"
     ]
    },
    {
     "name": "stdout",
     "output_type": "stream",
     "text": [
      "\\rProcessing... | Frame: 8809 | Recent: 0"
     ]
    },
    {
     "name": "stdout",
     "output_type": "stream",
     "text": [
      "\\rProcessing... | Frame: 8811 | Recent: 0"
     ]
    },
    {
     "name": "stdout",
     "output_type": "stream",
     "text": [
      "\\rProcessing... | Frame: 8813 | Recent: 0"
     ]
    },
    {
     "name": "stdout",
     "output_type": "stream",
     "text": [
      "\\rProcessing... | Frame: 8815 | Recent: 0"
     ]
    },
    {
     "name": "stdout",
     "output_type": "stream",
     "text": [
      "\\rProcessing... | Frame: 8817 | Recent: 0"
     ]
    },
    {
     "name": "stdout",
     "output_type": "stream",
     "text": [
      "\\rProcessing... | Frame: 8819 | Recent: 0"
     ]
    },
    {
     "name": "stdout",
     "output_type": "stream",
     "text": [
      "\\rProcessing... | Frame: 8821 | Recent: 0"
     ]
    },
    {
     "name": "stdout",
     "output_type": "stream",
     "text": [
      "\\rProcessing... | Frame: 8823 | Recent: 0"
     ]
    },
    {
     "name": "stdout",
     "output_type": "stream",
     "text": [
      "\\rProcessing... | Frame: 8825 | Recent: 0"
     ]
    },
    {
     "name": "stdout",
     "output_type": "stream",
     "text": [
      "\\rProcessing... | Frame: 8827 | Recent: 0"
     ]
    },
    {
     "name": "stdout",
     "output_type": "stream",
     "text": [
      "\\rProcessing... | Frame: 8829 | Recent: 0"
     ]
    },
    {
     "name": "stdout",
     "output_type": "stream",
     "text": [
      "\\rProcessing... | Frame: 8831 | Recent: 0"
     ]
    },
    {
     "name": "stdout",
     "output_type": "stream",
     "text": [
      "\\rProcessing... | Frame: 8833 | Recent: 0"
     ]
    },
    {
     "name": "stdout",
     "output_type": "stream",
     "text": [
      "\\rProcessing... | Frame: 8835 | Recent: 0"
     ]
    },
    {
     "name": "stdout",
     "output_type": "stream",
     "text": [
      "\\rProcessing... | Frame: 8837 | Recent: 0"
     ]
    },
    {
     "name": "stdout",
     "output_type": "stream",
     "text": [
      "\\rProcessing... | Frame: 8839 | Recent: 0"
     ]
    },
    {
     "name": "stdout",
     "output_type": "stream",
     "text": [
      "\\rProcessing... | Frame: 8841 | Recent: 0"
     ]
    },
    {
     "name": "stdout",
     "output_type": "stream",
     "text": [
      "\\rProcessing... | Frame: 8843 | Recent: 0"
     ]
    },
    {
     "name": "stdout",
     "output_type": "stream",
     "text": [
      "\\rProcessing... | Frame: 8845 | Recent: 0"
     ]
    },
    {
     "name": "stdout",
     "output_type": "stream",
     "text": [
      "\\rProcessing... | Frame: 8847 | Recent: 0"
     ]
    },
    {
     "name": "stdout",
     "output_type": "stream",
     "text": [
      "\\rProcessing... | Frame: 8849 | Recent: 0"
     ]
    },
    {
     "name": "stdout",
     "output_type": "stream",
     "text": [
      "\\rProcessing... | Frame: 8851 | Recent: 0"
     ]
    },
    {
     "name": "stdout",
     "output_type": "stream",
     "text": [
      "\\rProcessing... | Frame: 8853 | Recent: 0"
     ]
    },
    {
     "name": "stdout",
     "output_type": "stream",
     "text": [
      "\\rProcessing... | Frame: 8855 | Recent: 0"
     ]
    },
    {
     "name": "stdout",
     "output_type": "stream",
     "text": [
      "\\rProcessing... | Frame: 8857 | Recent: 0"
     ]
    },
    {
     "name": "stdout",
     "output_type": "stream",
     "text": [
      "\\rProcessing... | Frame: 8859 | Recent: 0"
     ]
    },
    {
     "name": "stdout",
     "output_type": "stream",
     "text": [
      "\\rProcessing... | Frame: 8861 | Recent: 0"
     ]
    },
    {
     "name": "stdout",
     "output_type": "stream",
     "text": [
      "\\rProcessing... | Frame: 8863 | Recent: 0"
     ]
    },
    {
     "name": "stdout",
     "output_type": "stream",
     "text": [
      "\\rProcessing... | Frame: 8865 | Recent: 0"
     ]
    },
    {
     "name": "stdout",
     "output_type": "stream",
     "text": [
      "\\rProcessing... | Frame: 8867 | Recent: 0"
     ]
    },
    {
     "name": "stdout",
     "output_type": "stream",
     "text": [
      "\\rProcessing... | Frame: 8869 | Recent: 0"
     ]
    },
    {
     "name": "stdout",
     "output_type": "stream",
     "text": [
      "\\rProcessing... | Frame: 8871 | Recent: 0"
     ]
    },
    {
     "name": "stdout",
     "output_type": "stream",
     "text": [
      "\\rProcessing... | Frame: 8873 | Recent: 0"
     ]
    },
    {
     "name": "stdout",
     "output_type": "stream",
     "text": [
      "\\rProcessing... | Frame: 8875 | Recent: 0"
     ]
    },
    {
     "name": "stdout",
     "output_type": "stream",
     "text": [
      "\\rProcessing... | Frame: 8877 | Recent: 0"
     ]
    },
    {
     "name": "stdout",
     "output_type": "stream",
     "text": [
      "\\rProcessing... | Frame: 8879 | Recent: 0"
     ]
    },
    {
     "name": "stdout",
     "output_type": "stream",
     "text": [
      "\\rProcessing... | Frame: 8881 | Recent: 0"
     ]
    },
    {
     "name": "stdout",
     "output_type": "stream",
     "text": [
      "\\rProcessing... | Frame: 8883 | Recent: 0"
     ]
    },
    {
     "name": "stdout",
     "output_type": "stream",
     "text": [
      "\\rProcessing... | Frame: 8885 | Recent: 0"
     ]
    },
    {
     "name": "stdout",
     "output_type": "stream",
     "text": [
      "\\rProcessing... | Frame: 8887 | Recent: 0"
     ]
    },
    {
     "name": "stdout",
     "output_type": "stream",
     "text": [
      "\\rProcessing... | Frame: 8889 | Recent: 0🛑 Visualization stopped\n"
     ]
    }
   ],
   "source": [
    "# Bước 1: Đăng ký nhân viên Hoang trước\n",
    "employee_manager.scan_employee_folders()\n",
    "\n",
    "# Bước 2: Start live visualization\n",
    "visualizer.start_visualization(duration_minutes=3)"
   ]
  },
  {
   "cell_type": "code",
   "execution_count": null,
   "metadata": {},
   "outputs": [],
   "source": []
  }
 ],
 "metadata": {
  "kernelspec": {
   "display_name": "venv",
   "language": "python",
   "name": "python3"
  },
  "language_info": {
   "codemirror_mode": {
    "name": "ipython",
    "version": 3
   },
   "file_extension": ".py",
   "mimetype": "text/x-python",
   "name": "python",
   "nbconvert_exporter": "python",
   "pygments_lexer": "ipython3",
   "version": "3.12.8"
  }
 },
 "nbformat": 4,
 "nbformat_minor": 2
}
